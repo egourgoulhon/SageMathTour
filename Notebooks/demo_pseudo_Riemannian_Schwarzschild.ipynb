{
 "cells": [
  {
   "cell_type": "markdown",
   "metadata": {},
   "source": [
    "# Pseudo-Riemannian manifolds in SageMath\n",
    "## The Schwarzschild spacetime example"
   ]
  },
  {
   "cell_type": "markdown",
   "metadata": {},
   "source": [
    "This notebook demonstrates some SageMath tools for pseudo-Riemannian geometry, developed through the [SageManifolds project](https://sagemanifolds.obspm.fr/), by these [authors](https://sagemanifolds.obspm.fr/authors.html). "
   ]
  },
  {
   "cell_type": "markdown",
   "metadata": {},
   "source": [
    "This notebook requires a version of SageMath at least equal to 9.0:"
   ]
  },
  {
   "cell_type": "code",
   "execution_count": 1,
   "metadata": {},
   "outputs": [
    {
     "data": {
      "text/plain": [
       "'SageMath version 9.2, Release Date: 2020-10-24'"
      ]
     },
     "execution_count": 1,
     "metadata": {},
     "output_type": "execute_result"
    }
   ],
   "source": [
    "version()"
   ]
  },
  {
   "cell_type": "markdown",
   "metadata": {},
   "source": [
    "First we set up the notebook to display outputs via LaTeX rendering:"
   ]
  },
  {
   "cell_type": "code",
   "execution_count": 2,
   "metadata": {},
   "outputs": [],
   "source": [
    "%display latex "
   ]
  },
  {
   "cell_type": "markdown",
   "metadata": {},
   "source": [
    "Since some computations are quite heavy, we ask for running them in parallel on 8 \n",
    "threads:"
   ]
  },
  {
   "cell_type": "code",
   "execution_count": 3,
   "metadata": {},
   "outputs": [],
   "source": [
    "Parallelism().set(nproc=8)"
   ]
  },
  {
   "cell_type": "markdown",
   "metadata": {},
   "source": [
    "We introduce the **Schwarzschild spacetime**, which is the spacetime of a **static black hole** in general relativity, as a **4-dimensional Lorentzian manifold** $M$:"
   ]
  },
  {
   "cell_type": "code",
   "execution_count": 4,
   "metadata": {},
   "outputs": [
    {
     "data": {
      "text/html": [
       "<html><script type=\"math/tex; mode=display\">\\newcommand{\\Bold}[1]{\\mathbf{#1}}M</script></html>"
      ],
      "text/latex": [
       "\\begin{math}\n",
       "\\newcommand{\\Bold}[1]{\\mathbf{#1}}M\n",
       "\\end{math}"
      ],
      "text/plain": [
       "4-dimensional Lorentzian manifold M"
      ]
     },
     "execution_count": 4,
     "metadata": {},
     "output_type": "execute_result"
    }
   ],
   "source": [
    "M = Manifold(4, 'M', structure='Lorentzian')\n",
    "M"
   ]
  },
  {
   "cell_type": "code",
   "execution_count": 5,
   "metadata": {},
   "outputs": [
    {
     "name": "stdout",
     "output_type": "stream",
     "text": [
      "4-dimensional Lorentzian manifold M\n"
     ]
    }
   ],
   "source": [
    "print(M)"
   ]
  },
  {
   "cell_type": "markdown",
   "metadata": {},
   "source": [
    "$M$ is in the category of smooth manifolds over the real field:"
   ]
  },
  {
   "cell_type": "code",
   "execution_count": 6,
   "metadata": {},
   "outputs": [
    {
     "data": {
      "text/html": [
       "<html><script type=\"math/tex; mode=display\">\\newcommand{\\Bold}[1]{\\mathbf{#1}}\\mathbf{Smooth}_{\\Bold{R}}</script></html>"
      ],
      "text/latex": [
       "\\begin{math}\n",
       "\\newcommand{\\Bold}[1]{\\mathbf{#1}}\\mathbf{Smooth}_{\\Bold{R}}\n",
       "\\end{math}"
      ],
      "text/plain": [
       "Category of smooth manifolds over Real Field with 53 bits of precision"
      ]
     },
     "execution_count": 6,
     "metadata": {},
     "output_type": "execute_result"
    }
   ],
   "source": [
    "M.category()"
   ]
  },
  {
   "cell_type": "code",
   "execution_count": 7,
   "metadata": {},
   "outputs": [
    {
     "data": {
      "text/html": [
       "<html><script type=\"math/tex; mode=display\">\\newcommand{\\Bold}[1]{\\mathbf{#1}}\\Bold{R}</script></html>"
      ],
      "text/latex": [
       "\\begin{math}\n",
       "\\newcommand{\\Bold}[1]{\\mathbf{#1}}\\Bold{R}\n",
       "\\end{math}"
      ],
      "text/plain": [
       "Real Field with 53 bits of precision"
      ]
     },
     "execution_count": 7,
     "metadata": {},
     "output_type": "execute_result"
    }
   ],
   "source": [
    "M.base_field()"
   ]
  },
  {
   "cell_type": "markdown",
   "metadata": {},
   "source": [
    "At the moment, the real field is modeled by 53-bit floating-point approximations, but this plays no role in the manifold implementation:"
   ]
  },
  {
   "cell_type": "code",
   "execution_count": 8,
   "metadata": {},
   "outputs": [
    {
     "name": "stdout",
     "output_type": "stream",
     "text": [
      "Real Field with 53 bits of precision\n"
     ]
    }
   ],
   "source": [
    "print(M.base_field())"
   ]
  },
  {
   "cell_type": "markdown",
   "metadata": {},
   "source": [
    "## Coordinate charts"
   ]
  },
  {
   "cell_type": "markdown",
   "metadata": {},
   "source": [
    "The function `Manifold` generates a manifold with no-predefined coordinate chart, so that the manifold (user) atlas is empty:"
   ]
  },
  {
   "cell_type": "code",
   "execution_count": 9,
   "metadata": {},
   "outputs": [
    {
     "data": {
      "text/html": [
       "<html><script type=\"math/tex; mode=display\">\\newcommand{\\Bold}[1]{\\mathbf{#1}}\\left[\\right]</script></html>"
      ],
      "text/latex": [
       "\\begin{math}\n",
       "\\newcommand{\\Bold}[1]{\\mathbf{#1}}\\left[\\right]\n",
       "\\end{math}"
      ],
      "text/plain": [
       "[]"
      ]
     },
     "execution_count": 9,
     "metadata": {},
     "output_type": "execute_result"
    }
   ],
   "source": [
    "M.atlas()"
   ]
  },
  {
   "cell_type": "markdown",
   "metadata": {},
   "source": [
    "We introduce the standard **Schwarzchild-Droste coordinates** $(t,r,\\theta,\\phi)$ on $M$, via the method `chart`:"
   ]
  },
  {
   "cell_type": "code",
   "execution_count": 10,
   "metadata": {},
   "outputs": [],
   "source": [
    "SD.<t, r, th, ph> = M.chart(r\"t r:(0,+oo) th:(0,pi):\\theta ph:(0,2*pi):\\phi:periodic\")"
   ]
  },
  {
   "cell_type": "markdown",
   "metadata": {},
   "source": [
    "Note that the argument of `chart()` is a raw string (hence the prefix `r` in front of it), which defines the range of each coordinate, if different from $(-\\infty, +\\infty)$, as well as its LaTeX symbol, if different from the Python symbol to denote the coordinate. The Python variables for each coordinate are declared within the `<...>` operator on the left-hand side, `SD` denoting the Python variable chosen for the coordinate chart."
   ]
  },
  {
   "cell_type": "code",
   "execution_count": 11,
   "metadata": {},
   "outputs": [
    {
     "data": {
      "text/html": [
       "<html><script type=\"math/tex; mode=display\">\\newcommand{\\Bold}[1]{\\mathbf{#1}}\\left(M,(t, r, {\\theta}, {\\phi})\\right)</script></html>"
      ],
      "text/latex": [
       "\\begin{math}\n",
       "\\newcommand{\\Bold}[1]{\\mathbf{#1}}\\left(M,(t, r, {\\theta}, {\\phi})\\right)\n",
       "\\end{math}"
      ],
      "text/plain": [
       "Chart (M, (t, r, th, ph))"
      ]
     },
     "execution_count": 11,
     "metadata": {},
     "output_type": "execute_result"
    }
   ],
   "source": [
    "SD"
   ]
  },
  {
   "cell_type": "code",
   "execution_count": 12,
   "metadata": {},
   "outputs": [
    {
     "name": "stdout",
     "output_type": "stream",
     "text": [
      "Chart (M, (t, r, th, ph))\n"
     ]
    }
   ],
   "source": [
    "print(SD)"
   ]
  },
  {
   "cell_type": "code",
   "execution_count": 13,
   "metadata": {},
   "outputs": [
    {
     "data": {
      "text/html": [
       "<html><script type=\"math/tex; mode=display\">\\newcommand{\\Bold}[1]{\\mathbf{#1}}t :\\ \\left( -\\infty, +\\infty \\right) ;\\quad r :\\ \\left( 0 , +\\infty \\right) ;\\quad {\\theta} :\\ \\left( 0 , \\pi \\right) ;\\quad {\\phi} :\\ \\left[ 0 , 2 \\, \\pi \\right] \\mbox{(periodic)}</script></html>"
      ],
      "text/latex": [
       "\\begin{math}\n",
       "\\newcommand{\\Bold}[1]{\\mathbf{#1}}t :\\ \\left( -\\infty, +\\infty \\right) ;\\quad r :\\ \\left( 0 , +\\infty \\right) ;\\quad {\\theta} :\\ \\left( 0 , \\pi \\right) ;\\quad {\\phi} :\\ \\left[ 0 , 2 \\, \\pi \\right] \\mbox{(periodic)}\n",
       "\\end{math}"
      ],
      "text/plain": [
       "t: (-oo, +oo); r: (0, +oo); th: (0, pi); ph: [0, 2*pi] (periodic)"
      ]
     },
     "execution_count": 13,
     "metadata": {},
     "output_type": "execute_result"
    }
   ],
   "source": [
    "SD.coord_range()"
   ]
  },
  {
   "cell_type": "markdown",
   "metadata": {},
   "source": [
    "Thanks to the SageMath operator `<...>` used in the chart declaration, the coordinates are immediately available:"
   ]
  },
  {
   "cell_type": "code",
   "execution_count": 14,
   "metadata": {},
   "outputs": [
    {
     "data": {
      "text/html": [
       "<html><script type=\"math/tex; mode=display\">\\newcommand{\\Bold}[1]{\\mathbf{#1}}{\\theta}</script></html>"
      ],
      "text/latex": [
       "\\begin{math}\n",
       "\\newcommand{\\Bold}[1]{\\mathbf{#1}}{\\theta}\n",
       "\\end{math}"
      ],
      "text/plain": [
       "th"
      ]
     },
     "execution_count": 14,
     "metadata": {},
     "output_type": "execute_result"
    }
   ],
   "source": [
    "th"
   ]
  },
  {
   "cell_type": "markdown",
   "metadata": {},
   "source": [
    "They are SageMath's symbolic expressions:"
   ]
  },
  {
   "cell_type": "code",
   "execution_count": 15,
   "metadata": {},
   "outputs": [
    {
     "data": {
      "text/html": [
       "<html><script type=\"math/tex; mode=display\">\\newcommand{\\Bold}[1]{\\mathbf{#1}}\\text{SR}</script></html>"
      ],
      "text/latex": [
       "\\begin{math}\n",
       "\\newcommand{\\Bold}[1]{\\mathbf{#1}}\\text{SR}\n",
       "\\end{math}"
      ],
      "text/plain": [
       "Symbolic Ring"
      ]
     },
     "execution_count": 15,
     "metadata": {},
     "output_type": "execute_result"
    }
   ],
   "source": [
    "th.parent()"
   ]
  },
  {
   "cell_type": "markdown",
   "metadata": {},
   "source": [
    "They are also accessible as items of the chart:"
   ]
  },
  {
   "cell_type": "code",
   "execution_count": 16,
   "metadata": {},
   "outputs": [
    {
     "data": {
      "text/html": [
       "<html><script type=\"math/tex; mode=display\">\\newcommand{\\Bold}[1]{\\mathbf{#1}}\\left(t, {\\phi}\\right)</script></html>"
      ],
      "text/latex": [
       "\\begin{math}\n",
       "\\newcommand{\\Bold}[1]{\\mathbf{#1}}\\left(t, {\\phi}\\right)\n",
       "\\end{math}"
      ],
      "text/plain": [
       "(t, ph)"
      ]
     },
     "execution_count": 16,
     "metadata": {},
     "output_type": "execute_result"
    }
   ],
   "source": [
    "SD[0], SD[3]"
   ]
  },
  {
   "cell_type": "code",
   "execution_count": 17,
   "metadata": {},
   "outputs": [
    {
     "data": {
      "text/html": [
       "<html><script type=\"math/tex; mode=display\">\\newcommand{\\Bold}[1]{\\mathbf{#1}}\\left(t, r, {\\theta}, {\\phi}\\right)</script></html>"
      ],
      "text/latex": [
       "\\begin{math}\n",
       "\\newcommand{\\Bold}[1]{\\mathbf{#1}}\\left(t, r, {\\theta}, {\\phi}\\right)\n",
       "\\end{math}"
      ],
      "text/plain": [
       "(t, r, th, ph)"
      ]
     },
     "execution_count": 17,
     "metadata": {},
     "output_type": "execute_result"
    }
   ],
   "source": [
    "SD[:]"
   ]
  },
  {
   "cell_type": "markdown",
   "metadata": {},
   "source": [
    "The manifold (user) atlas is no longer empty: "
   ]
  },
  {
   "cell_type": "code",
   "execution_count": 18,
   "metadata": {},
   "outputs": [
    {
     "data": {
      "text/html": [
       "<html><script type=\"math/tex; mode=display\">\\newcommand{\\Bold}[1]{\\mathbf{#1}}\\left[\\left(M,(t, r, {\\theta}, {\\phi})\\right)\\right]</script></html>"
      ],
      "text/latex": [
       "\\begin{math}\n",
       "\\newcommand{\\Bold}[1]{\\mathbf{#1}}\\left[\\left(M,(t, r, {\\theta}, {\\phi})\\right)\\right]\n",
       "\\end{math}"
      ],
      "text/plain": [
       "[Chart (M, (t, r, th, ph))]"
      ]
     },
     "execution_count": 18,
     "metadata": {},
     "output_type": "execute_result"
    }
   ],
   "source": [
    "M.atlas()"
   ]
  },
  {
   "cell_type": "markdown",
   "metadata": {},
   "source": [
    "Let us introduce a second chart on the manifold, that of **Eddington-Finkelstein coordinates**  $(T,r,\\theta,\\phi)$:"
   ]
  },
  {
   "cell_type": "code",
   "execution_count": 19,
   "metadata": {},
   "outputs": [
    {
     "data": {
      "text/html": [
       "<html><script type=\"math/tex; mode=display\">\\newcommand{\\Bold}[1]{\\mathbf{#1}}\\left(M,(T, r, {\\theta}, {\\phi})\\right)</script></html>"
      ],
      "text/latex": [
       "\\begin{math}\n",
       "\\newcommand{\\Bold}[1]{\\mathbf{#1}}\\left(M,(T, r, {\\theta}, {\\phi})\\right)\n",
       "\\end{math}"
      ],
      "text/plain": [
       "Chart (M, (T, r, th, ph))"
      ]
     },
     "execution_count": 19,
     "metadata": {},
     "output_type": "execute_result"
    }
   ],
   "source": [
    "EF.<T, r, th, ph> = M.chart(r\"T r:(0,+oo) th:(0,pi):\\theta ph:(0,2*pi):\\phi:periodic\")\n",
    "EF"
   ]
  },
  {
   "cell_type": "markdown",
   "metadata": {},
   "source": [
    "The transition map from Schwarzschild-Droste coordinates (chart `SD`) to Eddington-Finkelstein ones (chart `EF`) depends on a parameter $m$, the mass of the Schwarzschild black hole:"
   ]
  },
  {
   "cell_type": "code",
   "execution_count": 20,
   "metadata": {},
   "outputs": [],
   "source": [
    "m = var('m')\n",
    "assume(m > 0)"
   ]
  },
  {
   "cell_type": "markdown",
   "metadata": {},
   "source": [
    "We provide the explicit coordinate transformation via the method `transition_map`:"
   ]
  },
  {
   "cell_type": "code",
   "execution_count": 21,
   "metadata": {},
   "outputs": [
    {
     "data": {
      "text/html": [
       "<html><script type=\"math/tex; mode=display\">\\newcommand{\\Bold}[1]{\\mathbf{#1}}\\left\\{\\begin{array}{lcl} T & = & 2 \\, m \\log\\left({\\left| \\frac{r}{2 \\, m} - 1 \\right|}\\right) + t \\\\ r & = & r \\\\ {\\theta} & = & {\\theta} \\\\ {\\phi} & = & {\\phi} \\end{array}\\right.</script></html>"
      ],
      "text/latex": [
       "\\begin{math}\n",
       "\\newcommand{\\Bold}[1]{\\mathbf{#1}}\\left\\{\\begin{array}{lcl} T & = & 2 \\, m \\log\\left({\\left| \\frac{r}{2 \\, m} - 1 \\right|}\\right) + t \\\\ r & = & r \\\\ {\\theta} & = & {\\theta} \\\\ {\\phi} & = & {\\phi} \\end{array}\\right.\n",
       "\\end{math}"
      ],
      "text/plain": [
       "T = 2*m*log(abs(1/2*r/m - 1)) + t\n",
       "r = r\n",
       "th = th\n",
       "ph = ph"
      ]
     },
     "execution_count": 21,
     "metadata": {},
     "output_type": "execute_result"
    }
   ],
   "source": [
    "SD_to_EF = SD.transition_map(EF, [t +2*m*ln(abs(r/(2*m)-1)), r, th, ph])\n",
    "SD_to_EF.display()"
   ]
  },
  {
   "cell_type": "code",
   "execution_count": 22,
   "metadata": {},
   "outputs": [
    {
     "data": {
      "text/html": [
       "<html><script type=\"math/tex; mode=display\">\\newcommand{\\Bold}[1]{\\mathbf{#1}}\\left\\{\\begin{array}{lcl} t & = & 2 \\, m \\log\\left(2\\right) + 2 \\, m \\log\\left(m\\right) - 2 \\, m \\log\\left({\\left| -2 \\, m + r \\right|}\\right) + T \\\\ r & = & r \\\\ {\\theta} & = & {\\theta} \\\\ {\\phi} & = & {\\phi} \\end{array}\\right.</script></html>"
      ],
      "text/latex": [
       "\\begin{math}\n",
       "\\newcommand{\\Bold}[1]{\\mathbf{#1}}\\left\\{\\begin{array}{lcl} t & = & 2 \\, m \\log\\left(2\\right) + 2 \\, m \\log\\left(m\\right) - 2 \\, m \\log\\left({\\left| -2 \\, m + r \\right|}\\right) + T \\\\ r & = & r \\\\ {\\theta} & = & {\\theta} \\\\ {\\phi} & = & {\\phi} \\end{array}\\right.\n",
       "\\end{math}"
      ],
      "text/plain": [
       "t = 2*m*log(2) + 2*m*log(m) - 2*m*log(abs(-2*m + r)) + T\n",
       "r = r\n",
       "th = th\n",
       "ph = ph"
      ]
     },
     "execution_count": 22,
     "metadata": {},
     "output_type": "execute_result"
    }
   ],
   "source": [
    "SD_to_EF.inverse().display()"
   ]
  },
  {
   "cell_type": "markdown",
   "metadata": {},
   "source": [
    "There are now two charts in the manifold atlas:"
   ]
  },
  {
   "cell_type": "code",
   "execution_count": 23,
   "metadata": {},
   "outputs": [
    {
     "data": {
      "text/html": [
       "<html><script type=\"math/tex; mode=display\">\\newcommand{\\Bold}[1]{\\mathbf{#1}}\\left[\\left(M,(t, r, {\\theta}, {\\phi})\\right), \\left(M,(T, r, {\\theta}, {\\phi})\\right)\\right]</script></html>"
      ],
      "text/latex": [
       "\\begin{math}\n",
       "\\newcommand{\\Bold}[1]{\\mathbf{#1}}\\left[\\left(M,(t, r, {\\theta}, {\\phi})\\right), \\left(M,(T, r, {\\theta}, {\\phi})\\right)\\right]\n",
       "\\end{math}"
      ],
      "text/plain": [
       "[Chart (M, (t, r, th, ph)), Chart (M, (T, r, th, ph))]"
      ]
     },
     "execution_count": 23,
     "metadata": {},
     "output_type": "execute_result"
    }
   ],
   "source": [
    "M.atlas()"
   ]
  },
  {
   "cell_type": "markdown",
   "metadata": {},
   "source": [
    "One of them is the so-called *default chart*: it is the chart used by any function that requires a chart as argument and none is provided by the user. At this stage, the default chart is the first chart defined on the manifold, but this can be changed by the manifold method `set_default_chart`. "
   ]
  },
  {
   "cell_type": "code",
   "execution_count": 24,
   "metadata": {},
   "outputs": [
    {
     "data": {
      "text/html": [
       "<html><script type=\"math/tex; mode=display\">\\newcommand{\\Bold}[1]{\\mathbf{#1}}\\left(M,(t, r, {\\theta}, {\\phi})\\right)</script></html>"
      ],
      "text/latex": [
       "\\begin{math}\n",
       "\\newcommand{\\Bold}[1]{\\mathbf{#1}}\\left(M,(t, r, {\\theta}, {\\phi})\\right)\n",
       "\\end{math}"
      ],
      "text/plain": [
       "Chart (M, (t, r, th, ph))"
      ]
     },
     "execution_count": 24,
     "metadata": {},
     "output_type": "execute_result"
    }
   ],
   "source": [
    "M.default_chart()"
   ]
  },
  {
   "cell_type": "markdown",
   "metadata": {},
   "source": [
    "One can plot the `SD` chart in terms of `EF` one:"
   ]
  },
  {
   "cell_type": "code",
   "execution_count": 25,
   "metadata": {},
   "outputs": [
    {
     "data": {
      "image/png": "[encoded data removed]",
      "text/plain": [
       "Graphics object consisting of 30 graphics primitives"
      ]
     },
     "execution_count": 25,
     "metadata": {},
     "output_type": "execute_result"
    }
   ],
   "source": [
    "plot1 = SD.plot(EF, ranges={t:(0, 8), r:(2.1, 10)}, fixed_coords={th:pi/2, ph:0}, \n",
    "                ambient_coords=(r,T), style={t:'--', r:'-'}, parameters={m: 1}) \\\n",
    "        + SD.plot(EF, ranges={t:(0, 8), r:(0.1, 1.9)}, fixed_coords={th:pi/2, ph:0}, \n",
    "                  ambient_coords=(r,T), number_values={t: 9, r: 3},\n",
    "                  style={t:'--', r:'-'}, parameters={m: 1})\n",
    "plot1"
   ]
  },
  {
   "cell_type": "markdown",
   "metadata": {},
   "source": [
    "## Manifold points"
   ]
  },
  {
   "cell_type": "markdown",
   "metadata": {},
   "source": [
    "To create a point on $M$, we use SageMath's *parent/element* syntax, i.e. the call operator `M(...)` acting on the parent `M`, with the point's coordinates in some chart as argument: "
   ]
  },
  {
   "cell_type": "code",
   "execution_count": 26,
   "metadata": {},
   "outputs": [
    {
     "name": "stdout",
     "output_type": "stream",
     "text": [
      "Point p on the 4-dimensional Lorentzian manifold M\n"
     ]
    }
   ],
   "source": [
    "p = M((m, 8*m, pi/2, 0), name='p')\n",
    "print(p)"
   ]
  },
  {
   "cell_type": "markdown",
   "metadata": {},
   "source": [
    "Since the chart has not been specified, the default chart (i.e. `SD`) is meant:"
   ]
  },
  {
   "cell_type": "code",
   "execution_count": 27,
   "metadata": {},
   "outputs": [
    {
     "data": {
      "text/html": [
       "<html><script type=\"math/tex; mode=display\">\\newcommand{\\Bold}[1]{\\mathbf{#1}}\\left(m, 8 \\, m, \\frac{1}{2} \\, \\pi, 0\\right)</script></html>"
      ],
      "text/latex": [
       "\\begin{math}\n",
       "\\newcommand{\\Bold}[1]{\\mathbf{#1}}\\left(m, 8 \\, m, \\frac{1}{2} \\, \\pi, 0\\right)\n",
       "\\end{math}"
      ],
      "text/plain": [
       "(m, 8*m, 1/2*pi, 0)"
      ]
     },
     "execution_count": 27,
     "metadata": {},
     "output_type": "execute_result"
    }
   ],
   "source": [
    "SD(p)"
   ]
  },
  {
   "cell_type": "markdown",
   "metadata": {},
   "source": [
    "Thanks to the transition map declared above, the coordinates of $p$ in the Eddington-Finkelstein chart can computed:"
   ]
  },
  {
   "cell_type": "code",
   "execution_count": 28,
   "metadata": {},
   "outputs": [
    {
     "data": {
      "text/html": [
       "<html><script type=\"math/tex; mode=display\">\\newcommand{\\Bold}[1]{\\mathbf{#1}}\\left(m {\\left(2 \\, \\log\\left(3\\right) + 1\\right)}, 8 \\, m, \\frac{1}{2} \\, \\pi, 0\\right)</script></html>"
      ],
      "text/latex": [
       "\\begin{math}\n",
       "\\newcommand{\\Bold}[1]{\\mathbf{#1}}\\left(m {\\left(2 \\, \\log\\left(3\\right) + 1\\right)}, 8 \\, m, \\frac{1}{2} \\, \\pi, 0\\right)\n",
       "\\end{math}"
      ],
      "text/plain": [
       "(m*(2*log(3) + 1), 8*m, 1/2*pi, 0)"
      ]
     },
     "execution_count": 28,
     "metadata": {},
     "output_type": "execute_result"
    }
   ],
   "source": [
    "EF(p)"
   ]
  },
  {
   "cell_type": "markdown",
   "metadata": {},
   "source": [
    "Manifold points have a `plot` method:"
   ]
  },
  {
   "cell_type": "code",
   "execution_count": 29,
   "metadata": {},
   "outputs": [
    {
     "data": {
      "image/png": "[encoded data removed]",
      "text/plain": [
       "Graphics object consisting of 32 graphics primitives"
      ]
     },
     "execution_count": 29,
     "metadata": {},
     "output_type": "execute_result"
    }
   ],
   "source": [
    "plot1 += p.plot(EF, color='blue', ambient_coords=(r,T), \n",
    "                parameters={m: 1}, label_offset=0.4, fontsize=14)\n",
    "plot1"
   ]
  },
  {
   "cell_type": "markdown",
   "metadata": {},
   "source": [
    "## Vector fields"
   ]
  },
  {
   "cell_type": "markdown",
   "metadata": {},
   "source": [
    "When a chart is declared, the manifold is automatically endowed with some vector fields, those of the **coordinate vector frame**:"
   ]
  },
  {
   "cell_type": "code",
   "execution_count": 30,
   "metadata": {},
   "outputs": [
    {
     "data": {
      "text/html": [
       "<html><script type=\"math/tex; mode=display\">\\newcommand{\\Bold}[1]{\\mathbf{#1}}\\left(M, \\left(\\frac{\\partial}{\\partial t },\\frac{\\partial}{\\partial r },\\frac{\\partial}{\\partial {\\theta} },\\frac{\\partial}{\\partial {\\phi} }\\right)\\right)</script></html>"
      ],
      "text/latex": [
       "\\begin{math}\n",
       "\\newcommand{\\Bold}[1]{\\mathbf{#1}}\\left(M, \\left(\\frac{\\partial}{\\partial t },\\frac{\\partial}{\\partial r },\\frac{\\partial}{\\partial {\\theta} },\\frac{\\partial}{\\partial {\\phi} }\\right)\\right)\n",
       "\\end{math}"
      ],
      "text/plain": [
       "Coordinate frame (M, (d/dt,d/dr,d/dth,d/dph))"
      ]
     },
     "execution_count": 30,
     "metadata": {},
     "output_type": "execute_result"
    }
   ],
   "source": [
    "SD.frame()"
   ]
  },
  {
   "cell_type": "code",
   "execution_count": 31,
   "metadata": {},
   "outputs": [
    {
     "data": {
      "text/html": [
       "<html><script type=\"math/tex; mode=display\">\\newcommand{\\Bold}[1]{\\mathbf{#1}}\\left(M, \\left(\\frac{\\partial}{\\partial T },\\frac{\\partial}{\\partial r },\\frac{\\partial}{\\partial {\\theta} },\\frac{\\partial}{\\partial {\\phi} }\\right)\\right)</script></html>"
      ],
      "text/latex": [
       "\\begin{math}\n",
       "\\newcommand{\\Bold}[1]{\\mathbf{#1}}\\left(M, \\left(\\frac{\\partial}{\\partial T },\\frac{\\partial}{\\partial r },\\frac{\\partial}{\\partial {\\theta} },\\frac{\\partial}{\\partial {\\phi} }\\right)\\right)\n",
       "\\end{math}"
      ],
      "text/plain": [
       "Coordinate frame (M, (d/dT,d/dr,d/dth,d/dph))"
      ]
     },
     "execution_count": 31,
     "metadata": {},
     "output_type": "execute_result"
    }
   ],
   "source": [
    "EF.frame()"
   ]
  },
  {
   "cell_type": "code",
   "execution_count": 32,
   "metadata": {},
   "outputs": [
    {
     "data": {
      "text/html": [
       "<html><script type=\"math/tex; mode=display\">\\newcommand{\\Bold}[1]{\\mathbf{#1}}\\left[\\left(M, \\left(\\frac{\\partial}{\\partial t },\\frac{\\partial}{\\partial r },\\frac{\\partial}{\\partial {\\theta} },\\frac{\\partial}{\\partial {\\phi} }\\right)\\right), \\left(M, \\left(\\frac{\\partial}{\\partial T },\\frac{\\partial}{\\partial r },\\frac{\\partial}{\\partial {\\theta} },\\frac{\\partial}{\\partial {\\phi} }\\right)\\right)\\right]</script></html>"
      ],
      "text/latex": [
       "\\begin{math}\n",
       "\\newcommand{\\Bold}[1]{\\mathbf{#1}}\\left[\\left(M, \\left(\\frac{\\partial}{\\partial t },\\frac{\\partial}{\\partial r },\\frac{\\partial}{\\partial {\\theta} },\\frac{\\partial}{\\partial {\\phi} }\\right)\\right), \\left(M, \\left(\\frac{\\partial}{\\partial T },\\frac{\\partial}{\\partial r },\\frac{\\partial}{\\partial {\\theta} },\\frac{\\partial}{\\partial {\\phi} }\\right)\\right)\\right]\n",
       "\\end{math}"
      ],
      "text/plain": [
       "[Coordinate frame (M, (d/dt,d/dr,d/dth,d/dph)),\n",
       " Coordinate frame (M, (d/dT,d/dr,d/dth,d/dph))]"
      ]
     },
     "execution_count": 32,
     "metadata": {},
     "output_type": "execute_result"
    }
   ],
   "source": [
    "M.frames()"
   ]
  },
  {
   "cell_type": "markdown",
   "metadata": {},
   "source": [
    "As for charts, there is a *default frame*, i.e. a vector frame that is used by default in functions having a vector frame in their arguments. The default frame can be changed by the method `set_default_frame`."
   ]
  },
  {
   "cell_type": "code",
   "execution_count": 33,
   "metadata": {},
   "outputs": [
    {
     "data": {
      "text/html": [
       "<html><script type=\"math/tex; mode=display\">\\newcommand{\\Bold}[1]{\\mathbf{#1}}\\left(M, \\left(\\frac{\\partial}{\\partial t },\\frac{\\partial}{\\partial r },\\frac{\\partial}{\\partial {\\theta} },\\frac{\\partial}{\\partial {\\phi} }\\right)\\right)</script></html>"
      ],
      "text/latex": [
       "\\begin{math}\n",
       "\\newcommand{\\Bold}[1]{\\mathbf{#1}}\\left(M, \\left(\\frac{\\partial}{\\partial t },\\frac{\\partial}{\\partial r },\\frac{\\partial}{\\partial {\\theta} },\\frac{\\partial}{\\partial {\\phi} }\\right)\\right)\n",
       "\\end{math}"
      ],
      "text/plain": [
       "Coordinate frame (M, (d/dt,d/dr,d/dth,d/dph))"
      ]
     },
     "execution_count": 33,
     "metadata": {},
     "output_type": "execute_result"
    }
   ],
   "source": [
    "M.default_frame()"
   ]
  },
  {
   "cell_type": "markdown",
   "metadata": {},
   "source": [
    "The first vector of the Schwarzschild-Droste coordinate frame:"
   ]
  },
  {
   "cell_type": "code",
   "execution_count": 34,
   "metadata": {},
   "outputs": [
    {
     "data": {
      "text/html": [
       "<html><script type=\"math/tex; mode=display\">\\newcommand{\\Bold}[1]{\\mathbf{#1}}\\frac{\\partial}{\\partial t }</script></html>"
      ],
      "text/latex": [
       "\\begin{math}\n",
       "\\newcommand{\\Bold}[1]{\\mathbf{#1}}\\frac{\\partial}{\\partial t }\n",
       "\\end{math}"
      ],
      "text/plain": [
       "Vector field d/dt on the 4-dimensional Lorentzian manifold M"
      ]
     },
     "execution_count": 34,
     "metadata": {},
     "output_type": "execute_result"
    }
   ],
   "source": [
    "vt = SD.frame()[0]\n",
    "vt"
   ]
  },
  {
   "cell_type": "code",
   "execution_count": 35,
   "metadata": {},
   "outputs": [
    {
     "data": {
      "text/html": [
       "<html><script type=\"math/tex; mode=display\">\\newcommand{\\Bold}[1]{\\mathbf{#1}}\\frac{\\partial}{\\partial t } = \\frac{\\partial}{\\partial t }</script></html>"
      ],
      "text/latex": [
       "\\begin{math}\n",
       "\\newcommand{\\Bold}[1]{\\mathbf{#1}}\\frac{\\partial}{\\partial t } = \\frac{\\partial}{\\partial t }\n",
       "\\end{math}"
      ],
      "text/plain": [
       "d/dt = d/dt"
      ]
     },
     "execution_count": 35,
     "metadata": {},
     "output_type": "execute_result"
    }
   ],
   "source": [
    "vt.display()"
   ]
  },
  {
   "cell_type": "code",
   "execution_count": 36,
   "metadata": {},
   "outputs": [
    {
     "data": {
      "text/html": [
       "<html><script type=\"math/tex; mode=display\">\\newcommand{\\Bold}[1]{\\mathbf{#1}}\\frac{\\partial}{\\partial t } = \\frac{\\partial}{\\partial T }</script></html>"
      ],
      "text/latex": [
       "\\begin{math}\n",
       "\\newcommand{\\Bold}[1]{\\mathbf{#1}}\\frac{\\partial}{\\partial t } = \\frac{\\partial}{\\partial T }\n",
       "\\end{math}"
      ],
      "text/plain": [
       "d/dt = d/dT"
      ]
     },
     "execution_count": 36,
     "metadata": {},
     "output_type": "execute_result"
    }
   ],
   "source": [
    "vt.display(EF.frame())"
   ]
  },
  {
   "cell_type": "markdown",
   "metadata": {},
   "source": [
    "The second vector of the Schwarzschild-Droste coordinate frame:"
   ]
  },
  {
   "cell_type": "code",
   "execution_count": 37,
   "metadata": {},
   "outputs": [
    {
     "data": {
      "text/html": [
       "<html><script type=\"math/tex; mode=display\">\\newcommand{\\Bold}[1]{\\mathbf{#1}}\\frac{\\partial}{\\partial r }</script></html>"
      ],
      "text/latex": [
       "\\begin{math}\n",
       "\\newcommand{\\Bold}[1]{\\mathbf{#1}}\\frac{\\partial}{\\partial r }\n",
       "\\end{math}"
      ],
      "text/plain": [
       "Vector field d/dr on the 4-dimensional Lorentzian manifold M"
      ]
     },
     "execution_count": 37,
     "metadata": {},
     "output_type": "execute_result"
    }
   ],
   "source": [
    "vr = SD.frame()[1]\n",
    "vr"
   ]
  },
  {
   "cell_type": "code",
   "execution_count": 38,
   "metadata": {},
   "outputs": [
    {
     "data": {
      "text/html": [
       "<html><script type=\"math/tex; mode=display\">\\newcommand{\\Bold}[1]{\\mathbf{#1}}\\frac{\\partial}{\\partial r } = \\left( -\\frac{2 \\, m}{2 \\, m - r} \\right) \\frac{\\partial}{\\partial T } +\\frac{\\partial}{\\partial r }</script></html>"
      ],
      "text/latex": [
       "\\begin{math}\n",
       "\\newcommand{\\Bold}[1]{\\mathbf{#1}}\\frac{\\partial}{\\partial r } = \\left( -\\frac{2 \\, m}{2 \\, m - r} \\right) \\frac{\\partial}{\\partial T } +\\frac{\\partial}{\\partial r }\n",
       "\\end{math}"
      ],
      "text/plain": [
       "d/dr = -2*m/(2*m - r) d/dT + d/dr"
      ]
     },
     "execution_count": 38,
     "metadata": {},
     "output_type": "execute_result"
    }
   ],
   "source": [
    "vr.display(EF.frame())"
   ]
  },
  {
   "cell_type": "markdown",
   "metadata": {},
   "source": [
    "Creating a vector field from scratch, by providing its components with rest to a given vector frame:"
   ]
  },
  {
   "cell_type": "code",
   "execution_count": 39,
   "metadata": {},
   "outputs": [
    {
     "data": {
      "text/html": [
       "<html><script type=\"math/tex; mode=display\">\\newcommand{\\Bold}[1]{\\mathbf{#1}}k = \\left( -\\frac{r}{2 \\, m - r} \\right) \\frac{\\partial}{\\partial t } -\\frac{\\partial}{\\partial r }</script></html>"
      ],
      "text/latex": [
       "\\begin{math}\n",
       "\\newcommand{\\Bold}[1]{\\mathbf{#1}}k = \\left( -\\frac{r}{2 \\, m - r} \\right) \\frac{\\partial}{\\partial t } -\\frac{\\partial}{\\partial r }\n",
       "\\end{math}"
      ],
      "text/plain": [
       "k = -r/(2*m - r) d/dt - d/dr"
      ]
     },
     "execution_count": 39,
     "metadata": {},
     "output_type": "execute_result"
    }
   ],
   "source": [
    "k = M.vector_field(1, -1, 0, 0, frame=EF.frame(), name='k')\n",
    "k.display()"
   ]
  },
  {
   "cell_type": "code",
   "execution_count": 40,
   "metadata": {},
   "outputs": [
    {
     "data": {
      "text/html": [
       "<html><script type=\"math/tex; mode=display\">\\newcommand{\\Bold}[1]{\\mathbf{#1}}k = \\frac{\\partial}{\\partial T }-\\frac{\\partial}{\\partial r }</script></html>"
      ],
      "text/latex": [
       "\\begin{math}\n",
       "\\newcommand{\\Bold}[1]{\\mathbf{#1}}k = \\frac{\\partial}{\\partial T }-\\frac{\\partial}{\\partial r }\n",
       "\\end{math}"
      ],
      "text/plain": [
       "k = d/dT - d/dr"
      ]
     },
     "execution_count": 40,
     "metadata": {},
     "output_type": "execute_result"
    }
   ],
   "source": [
    "k.display(EF.frame())"
   ]
  },
  {
   "cell_type": "markdown",
   "metadata": {},
   "source": [
    "Plot with respect to Schwarzschild-Droste coordinates (default chart):"
   ]
  },
  {
   "cell_type": "code",
   "execution_count": 41,
   "metadata": {},
   "outputs": [
    {
     "data": {
      "image/png": "[encoded data removed]",
      "text/plain": [
       "Graphics object consisting of 81 graphics primitives"
      ]
     },
     "execution_count": 41,
     "metadata": {},
     "output_type": "execute_result"
    }
   ],
   "source": [
    "k.plot(ambient_coords=(r,t), fixed_coords={th: pi/2, ph: 0}, \n",
    "       ranges={t: (0, 6), r: (0.1, 6)}, number_values=9,\n",
    "       parameters={m: 1}, color='green', scale=0.3)"
   ]
  },
  {
   "cell_type": "markdown",
   "metadata": {},
   "source": [
    "Plot with respect to Eddington-Finkelstein coordinates:"
   ]
  },
  {
   "cell_type": "code",
   "execution_count": 42,
   "metadata": {},
   "outputs": [
    {
     "data": {
      "image/png": "[encoded data removed]",
      "text/plain": [
       "Graphics object consisting of 25 graphics primitives"
      ]
     },
     "execution_count": 42,
     "metadata": {},
     "output_type": "execute_result"
    }
   ],
   "source": [
    "k.plot(chart=EF, ambient_coords=(r,T), chart_domain=EF,\n",
    "       fixed_coords={th: pi/2, ph: 0}, ranges={T: (0, 8), r: (0.1, 10)}, \n",
    "       number_values=5, parameters={m: 1}, color='green')"
   ]
  },
  {
   "cell_type": "markdown",
   "metadata": {},
   "source": [
    "### Vector fields as sections of the tangent bundle"
   ]
  },
  {
   "cell_type": "code",
   "execution_count": 43,
   "metadata": {},
   "outputs": [
    {
     "name": "stdout",
     "output_type": "stream",
     "text": [
      "Tangent bundle TM over the 4-dimensional Lorentzian manifold M\n"
     ]
    }
   ],
   "source": [
    "TM = M.tangent_bundle()\n",
    "print(TM)"
   ]
  },
  {
   "cell_type": "code",
   "execution_count": 44,
   "metadata": {},
   "outputs": [
    {
     "name": "stdout",
     "output_type": "stream",
     "text": [
      "Vector field on the 4-dimensional Lorentzian manifold M\n"
     ]
    }
   ],
   "source": [
    "k1 = TM.section({EF.frame(): [1, -1, 0, 0]})\n",
    "print(k1)"
   ]
  },
  {
   "cell_type": "code",
   "execution_count": 45,
   "metadata": {},
   "outputs": [
    {
     "data": {
      "text/html": [
       "<html><script type=\"math/tex; mode=display\">\\newcommand{\\Bold}[1]{\\mathbf{#1}}\\mathrm{True}</script></html>"
      ],
      "text/latex": [
       "\\begin{math}\n",
       "\\newcommand{\\Bold}[1]{\\mathbf{#1}}\\mathrm{True}\n",
       "\\end{math}"
      ],
      "text/plain": [
       "True"
      ]
     },
     "execution_count": 45,
     "metadata": {},
     "output_type": "execute_result"
    }
   ],
   "source": [
    "k1 == k"
   ]
  },
  {
   "cell_type": "markdown",
   "metadata": {},
   "source": [
    "### The set of all vector fields on $M$ as a $C^\\infty(M)$-module:"
   ]
  },
  {
   "cell_type": "code",
   "execution_count": 46,
   "metadata": {},
   "outputs": [
    {
     "name": "stdout",
     "output_type": "stream",
     "text": [
      "Free module X(M) of vector fields on the 4-dimensional Lorentzian manifold M\n"
     ]
    },
    {
     "data": {
      "text/html": [
       "<html><script type=\"math/tex; mode=display\">\\newcommand{\\Bold}[1]{\\mathbf{#1}}\\mathfrak{X}\\left(M\\right)</script></html>"
      ],
      "text/latex": [
       "\\begin{math}\n",
       "\\newcommand{\\Bold}[1]{\\mathbf{#1}}\\mathfrak{X}\\left(M\\right)\n",
       "\\end{math}"
      ],
      "text/plain": [
       "Free module X(M) of vector fields on the 4-dimensional Lorentzian manifold M"
      ]
     },
     "execution_count": 46,
     "metadata": {},
     "output_type": "execute_result"
    }
   ],
   "source": [
    "XM = M.vector_field_module()\n",
    "print(XM)\n",
    "XM"
   ]
  },
  {
   "cell_type": "code",
   "execution_count": 47,
   "metadata": {},
   "outputs": [
    {
     "data": {
      "text/html": [
       "<html><script type=\"math/tex; mode=display\">\\newcommand{\\Bold}[1]{\\mathbf{#1}}C^{\\infty}\\left(M\\right)</script></html>"
      ],
      "text/latex": [
       "\\begin{math}\n",
       "\\newcommand{\\Bold}[1]{\\mathbf{#1}}C^{\\infty}\\left(M\\right)\n",
       "\\end{math}"
      ],
      "text/plain": [
       "Algebra of differentiable scalar fields on the 4-dimensional Lorentzian manifold M"
      ]
     },
     "execution_count": 47,
     "metadata": {},
     "output_type": "execute_result"
    }
   ],
   "source": [
    "XM.base_ring()"
   ]
  },
  {
   "cell_type": "code",
   "execution_count": 48,
   "metadata": {},
   "outputs": [
    {
     "name": "stdout",
     "output_type": "stream",
     "text": [
      "Algebra of differentiable scalar fields on the 4-dimensional Lorentzian manifold M\n"
     ]
    }
   ],
   "source": [
    "print(XM.base_ring())"
   ]
  },
  {
   "cell_type": "code",
   "execution_count": 49,
   "metadata": {},
   "outputs": [
    {
     "data": {
      "text/html": [
       "<html><script type=\"math/tex; mode=display\">\\newcommand{\\Bold}[1]{\\mathbf{#1}}\\begin{array}{llcl} & M & \\longrightarrow & \\mathbb{R} \\\\ & \\left(t, r, {\\theta}, {\\phi}\\right) & \\longmapsto & 2 \\\\ & \\left(T, r, {\\theta}, {\\phi}\\right) & \\longmapsto & 2 \\end{array}</script></html>"
      ],
      "text/latex": [
       "\\begin{math}\n",
       "\\newcommand{\\Bold}[1]{\\mathbf{#1}}\\begin{array}{llcl} & M & \\longrightarrow & \\mathbb{R} \\\\ & \\left(t, r, {\\theta}, {\\phi}\\right) & \\longmapsto & 2 \\\\ & \\left(T, r, {\\theta}, {\\phi}\\right) & \\longmapsto & 2 \\end{array}\n",
       "\\end{math}"
      ],
      "text/plain": [
       "M --> R\n",
       "(t, r, th, ph) |--> 2\n",
       "(T, r, th, ph) |--> 2"
      ]
     },
     "execution_count": 49,
     "metadata": {},
     "output_type": "execute_result"
    }
   ],
   "source": [
    "XM.base_ring().an_element().display()"
   ]
  },
  {
   "cell_type": "markdown",
   "metadata": {},
   "source": [
    "### Vectors at a point"
   ]
  },
  {
   "cell_type": "markdown",
   "metadata": {},
   "source": [
    "The value of a vector field, and more generally of any tensor field, at a point is obtained by the method `at`: "
   ]
  },
  {
   "cell_type": "code",
   "execution_count": 50,
   "metadata": {},
   "outputs": [
    {
     "name": "stdout",
     "output_type": "stream",
     "text": [
      "Tangent vector k at Point p on the 4-dimensional Lorentzian manifold M\n"
     ]
    }
   ],
   "source": [
    "kp = k.at(p)\n",
    "print(kp)"
   ]
  },
  {
   "cell_type": "code",
   "execution_count": 51,
   "metadata": {},
   "outputs": [
    {
     "data": {
      "text/html": [
       "<html><script type=\"math/tex; mode=display\">\\newcommand{\\Bold}[1]{\\mathbf{#1}}T_{p}\\,M</script></html>"
      ],
      "text/latex": [
       "\\begin{math}\n",
       "\\newcommand{\\Bold}[1]{\\mathbf{#1}}T_{p}\\,M\n",
       "\\end{math}"
      ],
      "text/plain": [
       "Tangent space at Point p on the 4-dimensional Lorentzian manifold M"
      ]
     },
     "execution_count": 51,
     "metadata": {},
     "output_type": "execute_result"
    }
   ],
   "source": [
    "kp.parent()"
   ]
  },
  {
   "cell_type": "code",
   "execution_count": 52,
   "metadata": {},
   "outputs": [
    {
     "name": "stdout",
     "output_type": "stream",
     "text": [
      "Tangent space at Point p on the 4-dimensional Lorentzian manifold M\n"
     ]
    }
   ],
   "source": [
    "print(kp.parent())"
   ]
  },
  {
   "cell_type": "code",
   "execution_count": 53,
   "metadata": {},
   "outputs": [
    {
     "data": {
      "text/html": [
       "<html><script type=\"math/tex; mode=display\">\\newcommand{\\Bold}[1]{\\mathbf{#1}}\\mathrm{True}</script></html>"
      ],
      "text/latex": [
       "\\begin{math}\n",
       "\\newcommand{\\Bold}[1]{\\mathbf{#1}}\\mathrm{True}\n",
       "\\end{math}"
      ],
      "text/plain": [
       "True"
      ]
     },
     "execution_count": 53,
     "metadata": {},
     "output_type": "execute_result"
    }
   ],
   "source": [
    "kp.parent() is TM.fiber(p)"
   ]
  },
  {
   "cell_type": "code",
   "execution_count": 54,
   "metadata": {},
   "outputs": [
    {
     "data": {
      "text/html": [
       "<html><script type=\"math/tex; mode=display\">\\newcommand{\\Bold}[1]{\\mathbf{#1}}k = \\frac{4}{3} \\frac{\\partial}{\\partial t } -\\frac{\\partial}{\\partial r }</script></html>"
      ],
      "text/latex": [
       "\\begin{math}\n",
       "\\newcommand{\\Bold}[1]{\\mathbf{#1}}k = \\frac{4}{3} \\frac{\\partial}{\\partial t } -\\frac{\\partial}{\\partial r }\n",
       "\\end{math}"
      ],
      "text/plain": [
       "k = 4/3 d/dt - d/dr"
      ]
     },
     "execution_count": 54,
     "metadata": {},
     "output_type": "execute_result"
    }
   ],
   "source": [
    "kp.display()"
   ]
  },
  {
   "cell_type": "markdown",
   "metadata": {},
   "source": [
    "Tangent vectors have a method `plot`:"
   ]
  },
  {
   "cell_type": "code",
   "execution_count": 55,
   "metadata": {},
   "outputs": [
    {
     "data": {
      "image/png": "[encoded data removed]",
      "text/plain": [
       "Graphics object consisting of 34 graphics primitives"
      ]
     },
     "execution_count": 55,
     "metadata": {},
     "output_type": "execute_result"
    }
   ],
   "source": [
    "plot1 += kp.plot(EF, color='green', ambient_coords=(r,T), \n",
    "                 parameters={m: 1}, scale=2, label_offset=0.5, \n",
    "                 fontsize=16)\n",
    "plot1"
   ]
  },
  {
   "cell_type": "markdown",
   "metadata": {},
   "source": [
    "### Vector field defined on an open subset"
   ]
  },
  {
   "cell_type": "markdown",
   "metadata": {},
   "source": [
    "Let us introduce the exterior $E$ of the black hole as an open subset of $M$:"
   ]
  },
  {
   "cell_type": "code",
   "execution_count": 56,
   "metadata": {},
   "outputs": [],
   "source": [
    "E = M.open_subset('E', coord_def = {SD: r>2*m})"
   ]
  },
  {
   "cell_type": "code",
   "execution_count": 57,
   "metadata": {},
   "outputs": [
    {
     "data": {
      "text/html": [
       "<html><script type=\"math/tex; mode=display\">\\newcommand{\\Bold}[1]{\\mathbf{#1}}t :\\ \\left( -\\infty, +\\infty \\right) ;\\quad r :\\ \\left( 2 \\, m , +\\infty \\right) ;\\quad {\\theta} :\\ \\left( 0 , \\pi \\right) ;\\quad {\\phi} :\\ \\left[ 0 , 2 \\, \\pi \\right] \\mbox{(periodic)}</script></html>"
      ],
      "text/latex": [
       "\\begin{math}\n",
       "\\newcommand{\\Bold}[1]{\\mathbf{#1}}t :\\ \\left( -\\infty, +\\infty \\right) ;\\quad r :\\ \\left( 2 \\, m , +\\infty \\right) ;\\quad {\\theta} :\\ \\left( 0 , \\pi \\right) ;\\quad {\\phi} :\\ \\left[ 0 , 2 \\, \\pi \\right] \\mbox{(periodic)}\n",
       "\\end{math}"
      ],
      "text/plain": [
       "t: (-oo, +oo); r: (2*m, +oo); th: (0, pi); ph: [0, 2*pi] (periodic)"
      ]
     },
     "execution_count": 57,
     "metadata": {},
     "output_type": "execute_result"
    }
   ],
   "source": [
    "SD.restrict(E).coord_range()"
   ]
  },
  {
   "cell_type": "code",
   "execution_count": 58,
   "metadata": {},
   "outputs": [
    {
     "data": {
      "text/html": [
       "<html><script type=\"math/tex; mode=display\">\\newcommand{\\Bold}[1]{\\mathbf{#1}}\\mathrm{True}</script></html>"
      ],
      "text/latex": [
       "\\begin{math}\n",
       "\\newcommand{\\Bold}[1]{\\mathbf{#1}}\\mathrm{True}\n",
       "\\end{math}"
      ],
      "text/plain": [
       "True"
      ]
     },
     "execution_count": 58,
     "metadata": {},
     "output_type": "execute_result"
    }
   ],
   "source": [
    "p in E"
   ]
  },
  {
   "cell_type": "code",
   "execution_count": 59,
   "metadata": {},
   "outputs": [
    {
     "data": {
      "text/html": [
       "<html><script type=\"math/tex; mode=display\">\\newcommand{\\Bold}[1]{\\mathbf{#1}}u = \\left( \\frac{1}{\\sqrt{-\\frac{2 \\, m}{r} + 1}} \\right) \\frac{\\partial}{\\partial t }</script></html>"
      ],
      "text/latex": [
       "\\begin{math}\n",
       "\\newcommand{\\Bold}[1]{\\mathbf{#1}}u = \\left( \\frac{1}{\\sqrt{-\\frac{2 \\, m}{r} + 1}} \\right) \\frac{\\partial}{\\partial t }\n",
       "\\end{math}"
      ],
      "text/plain": [
       "u = 1/sqrt(-2*m/r + 1) d/dt"
      ]
     },
     "execution_count": 59,
     "metadata": {},
     "output_type": "execute_result"
    }
   ],
   "source": [
    "u = E.vector_field(name='u')\n",
    "u[0] = 1/sqrt(1-2*m/r)\n",
    "u.display()"
   ]
  },
  {
   "cell_type": "code",
   "execution_count": 60,
   "metadata": {},
   "outputs": [
    {
     "data": {
      "text/html": [
       "<html><script type=\"math/tex; mode=display\">\\newcommand{\\Bold}[1]{\\mathbf{#1}}\\left(E,(t, r, {\\theta}, {\\phi})\\right) \\rightarrow \\left(E,(T, r, {\\theta}, {\\phi})\\right)</script></html>"
      ],
      "text/latex": [
       "\\begin{math}\n",
       "\\newcommand{\\Bold}[1]{\\mathbf{#1}}\\left(E,(t, r, {\\theta}, {\\phi})\\right) \\rightarrow \\left(E,(T, r, {\\theta}, {\\phi})\\right)\n",
       "\\end{math}"
      ],
      "text/plain": [
       "Change of coordinates from Chart (E, (t, r, th, ph)) to Chart (E, (T, r, th, ph))"
      ]
     },
     "execution_count": 60,
     "metadata": {},
     "output_type": "execute_result"
    }
   ],
   "source": [
    "SD_to_EF.restrict(E)"
   ]
  },
  {
   "cell_type": "code",
   "execution_count": 61,
   "metadata": {},
   "outputs": [
    {
     "data": {
      "text/html": [
       "<html><script type=\"math/tex; mode=display\">\\newcommand{\\Bold}[1]{\\mathbf{#1}}\\left[\\left(E,(t, r, {\\theta}, {\\phi})\\right), \\left(E,(T, r, {\\theta}, {\\phi})\\right)\\right]</script></html>"
      ],
      "text/latex": [
       "\\begin{math}\n",
       "\\newcommand{\\Bold}[1]{\\mathbf{#1}}\\left[\\left(E,(t, r, {\\theta}, {\\phi})\\right), \\left(E,(T, r, {\\theta}, {\\phi})\\right)\\right]\n",
       "\\end{math}"
      ],
      "text/plain": [
       "[Chart (E, (t, r, th, ph)), Chart (E, (T, r, th, ph))]"
      ]
     },
     "execution_count": 61,
     "metadata": {},
     "output_type": "execute_result"
    }
   ],
   "source": [
    "E.atlas()"
   ]
  },
  {
   "cell_type": "code",
   "execution_count": 62,
   "metadata": {},
   "outputs": [
    {
     "data": {
      "text/html": [
       "<html><script type=\"math/tex; mode=display\">\\newcommand{\\Bold}[1]{\\mathbf{#1}}u = \\left( \\frac{1}{\\sqrt{-\\frac{2 \\, m}{r} + 1}} \\right) \\frac{\\partial}{\\partial T }</script></html>"
      ],
      "text/latex": [
       "\\begin{math}\n",
       "\\newcommand{\\Bold}[1]{\\mathbf{#1}}u = \\left( \\frac{1}{\\sqrt{-\\frac{2 \\, m}{r} + 1}} \\right) \\frac{\\partial}{\\partial T }\n",
       "\\end{math}"
      ],
      "text/plain": [
       "u = 1/sqrt(-2*m/r + 1) d/dT"
      ]
     },
     "execution_count": 62,
     "metadata": {},
     "output_type": "execute_result"
    }
   ],
   "source": [
    "u.display(EF.frame().restrict(E))"
   ]
  },
  {
   "cell_type": "code",
   "execution_count": 63,
   "metadata": {},
   "outputs": [
    {
     "data": {
      "image/png": "[encoded data removed]",
      "text/plain": [
       "Graphics object consisting of 25 graphics primitives"
      ]
     },
     "execution_count": 63,
     "metadata": {},
     "output_type": "execute_result"
    }
   ],
   "source": [
    "u.plot(ambient_coords=(r, t), fixed_coords={th: pi/2, ph: 0}, \n",
    "       ranges={t: (0, 6), r: (2.1, 6)}, number_values=5, \n",
    "       parameters={m: 1}, scale=0.3)"
   ]
  },
  {
   "cell_type": "code",
   "execution_count": 64,
   "metadata": {},
   "outputs": [
    {
     "data": {
      "text/html": [
       "<html><script type=\"math/tex; mode=display\">\\newcommand{\\Bold}[1]{\\mathbf{#1}}u = \\frac{2}{3} \\, \\sqrt{3} \\frac{\\partial}{\\partial t }</script></html>"
      ],
      "text/latex": [
       "\\begin{math}\n",
       "\\newcommand{\\Bold}[1]{\\mathbf{#1}}u = \\frac{2}{3} \\, \\sqrt{3} \\frac{\\partial}{\\partial t }\n",
       "\\end{math}"
      ],
      "text/plain": [
       "u = 2/3*sqrt(3) d/dt"
      ]
     },
     "execution_count": 64,
     "metadata": {},
     "output_type": "execute_result"
    }
   ],
   "source": [
    "u.at(p).display()"
   ]
  },
  {
   "cell_type": "markdown",
   "metadata": {},
   "source": [
    "## Metric tensor\n",
    "\n",
    "We define next the **metric tensor** $g$ from its non-vanishing components in the manifold's default frame, namely the coordinate frame associated to Schwarzschild-Droste coordinate:"
   ]
  },
  {
   "cell_type": "code",
   "execution_count": 65,
   "metadata": {},
   "outputs": [],
   "source": [
    "g = M.metric()\n",
    "g[0, 0] = - (1 - 2*m/r)\n",
    "g[1, 1] = 1/(1 - 2*m/r)\n",
    "g[2, 2] = r^2\n",
    "g[3, 3] = r^2*sin(th)^2"
   ]
  },
  {
   "cell_type": "code",
   "execution_count": 66,
   "metadata": {},
   "outputs": [
    {
     "data": {
      "text/html": [
       "<html><script type=\"math/tex; mode=display\">\\newcommand{\\Bold}[1]{\\mathbf{#1}}g = \\left( \\frac{2 \\, m}{r} - 1 \\right) \\mathrm{d} t\\otimes \\mathrm{d} t + \\left( -\\frac{1}{\\frac{2 \\, m}{r} - 1} \\right) \\mathrm{d} r\\otimes \\mathrm{d} r + r^{2} \\mathrm{d} {\\theta}\\otimes \\mathrm{d} {\\theta} + r^{2} \\sin\\left({\\theta}\\right)^{2} \\mathrm{d} {\\phi}\\otimes \\mathrm{d} {\\phi}</script></html>"
      ],
      "text/latex": [
       "\\begin{math}\n",
       "\\newcommand{\\Bold}[1]{\\mathbf{#1}}g = \\left( \\frac{2 \\, m}{r} - 1 \\right) \\mathrm{d} t\\otimes \\mathrm{d} t + \\left( -\\frac{1}{\\frac{2 \\, m}{r} - 1} \\right) \\mathrm{d} r\\otimes \\mathrm{d} r + r^{2} \\mathrm{d} {\\theta}\\otimes \\mathrm{d} {\\theta} + r^{2} \\sin\\left({\\theta}\\right)^{2} \\mathrm{d} {\\phi}\\otimes \\mathrm{d} {\\phi}\n",
       "\\end{math}"
      ],
      "text/plain": [
       "g = (2*m/r - 1) dt*dt - 1/(2*m/r - 1) dr*dr + r^2 dth*dth + r^2*sin(th)^2 dph*dph"
      ]
     },
     "execution_count": 66,
     "metadata": {},
     "output_type": "execute_result"
    }
   ],
   "source": [
    "g.display()"
   ]
  },
  {
   "cell_type": "code",
   "execution_count": 67,
   "metadata": {},
   "outputs": [
    {
     "data": {
      "text/html": [
       "<html><script type=\"math/tex; mode=display\">\\newcommand{\\Bold}[1]{\\mathbf{#1}}\\left(M, \\left(\\mathrm{d} t,\\mathrm{d} r,\\mathrm{d} {\\theta},\\mathrm{d} {\\phi}\\right)\\right)</script></html>"
      ],
      "text/latex": [
       "\\begin{math}\n",
       "\\newcommand{\\Bold}[1]{\\mathbf{#1}}\\left(M, \\left(\\mathrm{d} t,\\mathrm{d} r,\\mathrm{d} {\\theta},\\mathrm{d} {\\phi}\\right)\\right)\n",
       "\\end{math}"
      ],
      "text/plain": [
       "Coordinate coframe (M, (dt,dr,dth,dph))"
      ]
     },
     "execution_count": 67,
     "metadata": {},
     "output_type": "execute_result"
    }
   ],
   "source": [
    "SD.coframe()"
   ]
  },
  {
   "cell_type": "code",
   "execution_count": 68,
   "metadata": {},
   "outputs": [
    {
     "data": {
      "text/html": [
       "<html><script type=\"math/tex; mode=display\">\\newcommand{\\Bold}[1]{\\mathbf{#1}}\\left(\\begin{array}{rrrr}\n",
       "\\frac{2 \\, m}{r} - 1 & 0 & 0 & 0 \\\\\n",
       "0 & -\\frac{1}{\\frac{2 \\, m}{r} - 1} & 0 & 0 \\\\\n",
       "0 & 0 & r^{2} & 0 \\\\\n",
       "0 & 0 & 0 & r^{2} \\sin\\left({\\theta}\\right)^{2}\n",
       "\\end{array}\\right)</script></html>"
      ],
      "text/latex": [
       "\\begin{math}\n",
       "\\newcommand{\\Bold}[1]{\\mathbf{#1}}\\left(\\begin{array}{rrrr}\n",
       "\\frac{2 \\, m}{r} - 1 & 0 & 0 & 0 \\\\\n",
       "0 & -\\frac{1}{\\frac{2 \\, m}{r} - 1} & 0 & 0 \\\\\n",
       "0 & 0 & r^{2} & 0 \\\\\n",
       "0 & 0 & 0 & r^{2} \\sin\\left({\\theta}\\right)^{2}\n",
       "\\end{array}\\right)\n",
       "\\end{math}"
      ],
      "text/plain": [
       "[     2*m/r - 1              0              0              0]\n",
       "[             0 -1/(2*m/r - 1)              0              0]\n",
       "[             0              0            r^2              0]\n",
       "[             0              0              0  r^2*sin(th)^2]"
      ]
     },
     "execution_count": 68,
     "metadata": {},
     "output_type": "execute_result"
    }
   ],
   "source": [
    "g[:]"
   ]
  },
  {
   "cell_type": "code",
   "execution_count": 69,
   "metadata": {},
   "outputs": [
    {
     "data": {
      "text/html": [
       "<html><script type=\"math/tex; mode=display\">\\newcommand{\\Bold}[1]{\\mathbf{#1}}-\\frac{1}{\\frac{2 \\, m}{r} - 1}</script></html>"
      ],
      "text/latex": [
       "\\begin{math}\n",
       "\\newcommand{\\Bold}[1]{\\mathbf{#1}}-\\frac{1}{\\frac{2 \\, m}{r} - 1}\n",
       "\\end{math}"
      ],
      "text/plain": [
       "-1/(2*m/r - 1)"
      ]
     },
     "execution_count": 69,
     "metadata": {},
     "output_type": "execute_result"
    }
   ],
   "source": [
    "g[1,1]"
   ]
  },
  {
   "cell_type": "markdown",
   "metadata": {},
   "source": [
    "$g_{rr}$ is diverging at $r=2m$: this is a singularity of the Schwarszchild-Droste coordinates."
   ]
  },
  {
   "cell_type": "code",
   "execution_count": 70,
   "metadata": {},
   "outputs": [
    {
     "data": {
      "text/html": [
       "<html><script type=\"math/tex; mode=display\">\\newcommand{\\Bold}[1]{\\mathbf{#1}}\\begin{array}{lcl} g_{ \\, t \\, t }^{ \\phantom{\\, t}\\phantom{\\, t} } & = & \\frac{2 \\, m}{r} - 1 \\\\ g_{ \\, r \\, r }^{ \\phantom{\\, r}\\phantom{\\, r} } & = & -\\frac{1}{\\frac{2 \\, m}{r} - 1} \\\\ g_{ \\, {\\theta} \\, {\\theta} }^{ \\phantom{\\, {\\theta}}\\phantom{\\, {\\theta}} } & = & r^{2} \\\\ g_{ \\, {\\phi} \\, {\\phi} }^{ \\phantom{\\, {\\phi}}\\phantom{\\, {\\phi}} } & = & r^{2} \\sin\\left({\\theta}\\right)^{2} \\end{array}</script></html>"
      ],
      "text/latex": [
       "\\begin{math}\n",
       "\\newcommand{\\Bold}[1]{\\mathbf{#1}}\\begin{array}{lcl} g_{ \\, t \\, t }^{ \\phantom{\\, t}\\phantom{\\, t} } & = & \\frac{2 \\, m}{r} - 1 \\\\ g_{ \\, r \\, r }^{ \\phantom{\\, r}\\phantom{\\, r} } & = & -\\frac{1}{\\frac{2 \\, m}{r} - 1} \\\\ g_{ \\, {\\theta} \\, {\\theta} }^{ \\phantom{\\, {\\theta}}\\phantom{\\, {\\theta}} } & = & r^{2} \\\\ g_{ \\, {\\phi} \\, {\\phi} }^{ \\phantom{\\, {\\phi}}\\phantom{\\, {\\phi}} } & = & r^{2} \\sin\\left({\\theta}\\right)^{2} \\end{array}\n",
       "\\end{math}"
      ],
      "text/plain": [
       "g_t,t = 2*m/r - 1 \n",
       "g_r,r = -1/(2*m/r - 1) \n",
       "g_th,th = r^2 \n",
       "g_ph,ph = r^2*sin(th)^2 "
      ]
     },
     "execution_count": 70,
     "metadata": {},
     "output_type": "execute_result"
    }
   ],
   "source": [
    "g.display_comp()"
   ]
  },
  {
   "cell_type": "markdown",
   "metadata": {},
   "source": [
    "The components of $g$ with respect to the Eddington-Finkelstein frame are evaluated via the methods `comp` or `display`:"
   ]
  },
  {
   "cell_type": "code",
   "execution_count": 71,
   "metadata": {},
   "outputs": [
    {
     "data": {
      "text/html": [
       "<html><script type=\"math/tex; mode=display\">\\newcommand{\\Bold}[1]{\\mathbf{#1}}g = \\left( \\frac{2 \\, m}{r} - 1 \\right) \\mathrm{d} T\\otimes \\mathrm{d} T + \\frac{2 \\, m}{r} \\mathrm{d} T\\otimes \\mathrm{d} r + \\frac{2 \\, m}{r} \\mathrm{d} r\\otimes \\mathrm{d} T + \\left( \\frac{2 \\, m + r}{r} \\right) \\mathrm{d} r\\otimes \\mathrm{d} r + r^{2} \\mathrm{d} {\\theta}\\otimes \\mathrm{d} {\\theta} + r^{2} \\sin\\left({\\theta}\\right)^{2} \\mathrm{d} {\\phi}\\otimes \\mathrm{d} {\\phi}</script></html>"
      ],
      "text/latex": [
       "\\begin{math}\n",
       "\\newcommand{\\Bold}[1]{\\mathbf{#1}}g = \\left( \\frac{2 \\, m}{r} - 1 \\right) \\mathrm{d} T\\otimes \\mathrm{d} T + \\frac{2 \\, m}{r} \\mathrm{d} T\\otimes \\mathrm{d} r + \\frac{2 \\, m}{r} \\mathrm{d} r\\otimes \\mathrm{d} T + \\left( \\frac{2 \\, m + r}{r} \\right) \\mathrm{d} r\\otimes \\mathrm{d} r + r^{2} \\mathrm{d} {\\theta}\\otimes \\mathrm{d} {\\theta} + r^{2} \\sin\\left({\\theta}\\right)^{2} \\mathrm{d} {\\phi}\\otimes \\mathrm{d} {\\phi}\n",
       "\\end{math}"
      ],
      "text/plain": [
       "g = (2*m/r - 1) dT*dT + 2*m/r dT*dr + 2*m/r dr*dT + (2*m + r)/r dr*dr + r^2 dth*dth + r^2*sin(th)^2 dph*dph"
      ]
     },
     "execution_count": 71,
     "metadata": {},
     "output_type": "execute_result"
    }
   ],
   "source": [
    "g.display(EF.frame())"
   ]
  },
  {
   "cell_type": "code",
   "execution_count": 72,
   "metadata": {},
   "outputs": [
    {
     "data": {
      "text/html": [
       "<html><script type=\"math/tex; mode=display\">\\newcommand{\\Bold}[1]{\\mathbf{#1}}\\left(\\begin{array}{rrrr}\n",
       "\\frac{2 \\, m}{r} - 1 & \\frac{2 \\, m}{r} & 0 & 0 \\\\\n",
       "\\frac{2 \\, m}{r} & \\frac{2 \\, m + r}{r} & 0 & 0 \\\\\n",
       "0 & 0 & r^{2} & 0 \\\\\n",
       "0 & 0 & 0 & r^{2} \\sin\\left({\\theta}\\right)^{2}\n",
       "\\end{array}\\right)</script></html>"
      ],
      "text/latex": [
       "\\begin{math}\n",
       "\\newcommand{\\Bold}[1]{\\mathbf{#1}}\\left(\\begin{array}{rrrr}\n",
       "\\frac{2 \\, m}{r} - 1 & \\frac{2 \\, m}{r} & 0 & 0 \\\\\n",
       "\\frac{2 \\, m}{r} & \\frac{2 \\, m + r}{r} & 0 & 0 \\\\\n",
       "0 & 0 & r^{2} & 0 \\\\\n",
       "0 & 0 & 0 & r^{2} \\sin\\left({\\theta}\\right)^{2}\n",
       "\\end{array}\\right)\n",
       "\\end{math}"
      ],
      "text/plain": [
       "[    2*m/r - 1         2*m/r             0             0]\n",
       "[        2*m/r   (2*m + r)/r             0             0]\n",
       "[            0             0           r^2             0]\n",
       "[            0             0             0 r^2*sin(th)^2]"
      ]
     },
     "execution_count": 72,
     "metadata": {},
     "output_type": "execute_result"
    }
   ],
   "source": [
    "g[EF.frame(),:]"
   ]
  },
  {
   "cell_type": "markdown",
   "metadata": {},
   "source": [
    "Note that these components are regular at $r=2m$, contrary to the components in Schwarzschild-Droste coordinates."
   ]
  },
  {
   "cell_type": "markdown",
   "metadata": {},
   "source": [
    "The metric tensor is a twice-covariant tensor (actually a field of symmetric bilinear forms):"
   ]
  },
  {
   "cell_type": "code",
   "execution_count": 73,
   "metadata": {},
   "outputs": [
    {
     "data": {
      "text/html": [
       "<html><script type=\"math/tex; mode=display\">\\newcommand{\\Bold}[1]{\\mathbf{#1}}\\left(0, 2\\right)</script></html>"
      ],
      "text/latex": [
       "\\begin{math}\n",
       "\\newcommand{\\Bold}[1]{\\mathbf{#1}}\\left(0, 2\\right)\n",
       "\\end{math}"
      ],
      "text/plain": [
       "(0, 2)"
      ]
     },
     "execution_count": 73,
     "metadata": {},
     "output_type": "execute_result"
    }
   ],
   "source": [
    "g.tensor_type()"
   ]
  },
  {
   "cell_type": "markdown",
   "metadata": {},
   "source": [
    "It can be thus be applied to a pair of vector fields, for instance $u$ and $k$:"
   ]
  },
  {
   "cell_type": "code",
   "execution_count": 74,
   "metadata": {},
   "outputs": [
    {
     "data": {
      "text/html": [
       "<html><script type=\"math/tex; mode=display\">\\newcommand{\\Bold}[1]{\\mathbf{#1}}g\\left(u,k\\right)</script></html>"
      ],
      "text/latex": [
       "\\begin{math}\n",
       "\\newcommand{\\Bold}[1]{\\mathbf{#1}}g\\left(u,k\\right)\n",
       "\\end{math}"
      ],
      "text/plain": [
       "Scalar field g(u,k) on the Open subset E of the 4-dimensional Lorentzian manifold M"
      ]
     },
     "execution_count": 74,
     "metadata": {},
     "output_type": "execute_result"
    }
   ],
   "source": [
    "s = g(u, k)\n",
    "s"
   ]
  },
  {
   "cell_type": "code",
   "execution_count": 75,
   "metadata": {},
   "outputs": [
    {
     "name": "stdout",
     "output_type": "stream",
     "text": [
      "Scalar field g(u,k) on the Open subset E of the 4-dimensional Lorentzian manifold M\n"
     ]
    }
   ],
   "source": [
    "print(s)"
   ]
  },
  {
   "cell_type": "code",
   "execution_count": 76,
   "metadata": {},
   "outputs": [
    {
     "data": {
      "text/html": [
       "<html><script type=\"math/tex; mode=display\">\\newcommand{\\Bold}[1]{\\mathbf{#1}}\\begin{array}{llcl} g\\left(u,k\\right):& E & \\longrightarrow & \\mathbb{R} \\\\ & \\left(t, r, {\\theta}, {\\phi}\\right) & \\longmapsto & -\\frac{\\sqrt{r}}{\\sqrt{-2 \\, m + r}} \\end{array}</script></html>"
      ],
      "text/latex": [
       "\\begin{math}\n",
       "\\newcommand{\\Bold}[1]{\\mathbf{#1}}\\begin{array}{llcl} g\\left(u,k\\right):& E & \\longrightarrow & \\mathbb{R} \\\\ & \\left(t, r, {\\theta}, {\\phi}\\right) & \\longmapsto & -\\frac{\\sqrt{r}}{\\sqrt{-2 \\, m + r}} \\end{array}\n",
       "\\end{math}"
      ],
      "text/plain": [
       "g(u,k): E --> R\n",
       "   (t, r, th, ph) |--> -sqrt(r)/sqrt(-2*m + r)"
      ]
     },
     "execution_count": 76,
     "metadata": {},
     "output_type": "execute_result"
    }
   ],
   "source": [
    "s.display()"
   ]
  },
  {
   "cell_type": "code",
   "execution_count": 77,
   "metadata": {},
   "outputs": [
    {
     "data": {
      "text/html": [
       "<html><script type=\"math/tex; mode=display\">\\newcommand{\\Bold}[1]{\\mathbf{#1}}-\\frac{\\sqrt{r}}{\\sqrt{-2 \\, m + r}}</script></html>"
      ],
      "text/latex": [
       "\\begin{math}\n",
       "\\newcommand{\\Bold}[1]{\\mathbf{#1}}-\\frac{\\sqrt{r}}{\\sqrt{-2 \\, m + r}}\n",
       "\\end{math}"
      ],
      "text/plain": [
       "-sqrt(r)/sqrt(-2*m + r)"
      ]
     },
     "execution_count": 77,
     "metadata": {},
     "output_type": "execute_result"
    }
   ],
   "source": [
    "s.expr()"
   ]
  },
  {
   "cell_type": "code",
   "execution_count": 78,
   "metadata": {},
   "outputs": [
    {
     "data": {
      "text/html": [
       "<html><script type=\"math/tex; mode=display\">\\newcommand{\\Bold}[1]{\\mathbf{#1}}\\begin{array}{llcl} g\\left(k,k\\right):& M & \\longrightarrow & \\mathbb{R} \\\\ & \\left(t, r, {\\theta}, {\\phi}\\right) & \\longmapsto & 0 \\\\ & \\left(T, r, {\\theta}, {\\phi}\\right) & \\longmapsto & 0 \\end{array}</script></html>"
      ],
      "text/latex": [
       "\\begin{math}\n",
       "\\newcommand{\\Bold}[1]{\\mathbf{#1}}\\begin{array}{llcl} g\\left(k,k\\right):& M & \\longrightarrow & \\mathbb{R} \\\\ & \\left(t, r, {\\theta}, {\\phi}\\right) & \\longmapsto & 0 \\\\ & \\left(T, r, {\\theta}, {\\phi}\\right) & \\longmapsto & 0 \\end{array}\n",
       "\\end{math}"
      ],
      "text/plain": [
       "g(k,k): M --> R\n",
       "   (t, r, th, ph) |--> 0\n",
       "   (T, r, th, ph) |--> 0"
      ]
     },
     "execution_count": 78,
     "metadata": {},
     "output_type": "execute_result"
    }
   ],
   "source": [
    "g(k, k).display()"
   ]
  },
  {
   "cell_type": "markdown",
   "metadata": {},
   "source": [
    "$u$ is a unit timelike vector:"
   ]
  },
  {
   "cell_type": "code",
   "execution_count": 79,
   "metadata": {},
   "outputs": [
    {
     "data": {
      "text/html": [
       "<html><script type=\"math/tex; mode=display\">\\newcommand{\\Bold}[1]{\\mathbf{#1}}\\begin{array}{llcl} g\\left(u,u\\right):& E & \\longrightarrow & \\mathbb{R} \\\\ & \\left(t, r, {\\theta}, {\\phi}\\right) & \\longmapsto & -1 \\end{array}</script></html>"
      ],
      "text/latex": [
       "\\begin{math}\n",
       "\\newcommand{\\Bold}[1]{\\mathbf{#1}}\\begin{array}{llcl} g\\left(u,u\\right):& E & \\longrightarrow & \\mathbb{R} \\\\ & \\left(t, r, {\\theta}, {\\phi}\\right) & \\longmapsto & -1 \\end{array}\n",
       "\\end{math}"
      ],
      "text/plain": [
       "g(u,u): E --> R\n",
       "   (t, r, th, ph) |--> -1"
      ]
     },
     "execution_count": 79,
     "metadata": {},
     "output_type": "execute_result"
    }
   ],
   "source": [
    "g(u, u).display()"
   ]
  },
  {
   "cell_type": "markdown",
   "metadata": {},
   "source": [
    "Scalar products returned by the method `dot` are actually those formed with $g$:"
   ]
  },
  {
   "cell_type": "code",
   "execution_count": 80,
   "metadata": {},
   "outputs": [
    {
     "data": {
      "text/html": [
       "<html><script type=\"math/tex; mode=display\">\\newcommand{\\Bold}[1]{\\mathbf{#1}}{u}\\cdot{u}</script></html>"
      ],
      "text/latex": [
       "\\begin{math}\n",
       "\\newcommand{\\Bold}[1]{\\mathbf{#1}}{u}\\cdot{u}\n",
       "\\end{math}"
      ],
      "text/plain": [
       "Scalar field u.u on the Open subset E of the 4-dimensional Lorentzian manifold M"
      ]
     },
     "execution_count": 80,
     "metadata": {},
     "output_type": "execute_result"
    }
   ],
   "source": [
    "u.dot(u)"
   ]
  },
  {
   "cell_type": "code",
   "execution_count": 81,
   "metadata": {},
   "outputs": [
    {
     "data": {
      "text/html": [
       "<html><script type=\"math/tex; mode=display\">\\newcommand{\\Bold}[1]{\\mathbf{#1}}\\begin{array}{llcl} {u}\\cdot{u}:& E & \\longrightarrow & \\mathbb{R} \\\\ & \\left(t, r, {\\theta}, {\\phi}\\right) & \\longmapsto & -1 \\end{array}</script></html>"
      ],
      "text/latex": [
       "\\begin{math}\n",
       "\\newcommand{\\Bold}[1]{\\mathbf{#1}}\\begin{array}{llcl} {u}\\cdot{u}:& E & \\longrightarrow & \\mathbb{R} \\\\ & \\left(t, r, {\\theta}, {\\phi}\\right) & \\longmapsto & -1 \\end{array}\n",
       "\\end{math}"
      ],
      "text/plain": [
       "u.u: E --> R\n",
       "   (t, r, th, ph) |--> -1"
      ]
     },
     "execution_count": 81,
     "metadata": {},
     "output_type": "execute_result"
    }
   ],
   "source": [
    "u.dot(u).display()"
   ]
  },
  {
   "cell_type": "markdown",
   "metadata": {},
   "source": [
    "## Levi-Civita connection"
   ]
  },
  {
   "cell_type": "code",
   "execution_count": 82,
   "metadata": {},
   "outputs": [
    {
     "name": "stdout",
     "output_type": "stream",
     "text": [
      "Levi-Civita connection nabla_g associated with the Lorentzian metric g on the 4-dimensional Lorentzian manifold M\n"
     ]
    }
   ],
   "source": [
    "nabla = g.connection()\n",
    "print(nabla)"
   ]
  },
  {
   "cell_type": "code",
   "execution_count": 83,
   "metadata": {},
   "outputs": [
    {
     "data": {
      "text/html": [
       "<html><script type=\"math/tex; mode=display\">\\newcommand{\\Bold}[1]{\\mathbf{#1}}\\begin{array}{lcl} \\Gamma_{ \\phantom{\\, t} \\, t \\, r }^{ \\, t \\phantom{\\, t} \\phantom{\\, r} } & = & -\\frac{m}{2 \\, m r - r^{2}} \\\\ \\Gamma_{ \\phantom{\\, t} \\, r \\, t }^{ \\, t \\phantom{\\, r} \\phantom{\\, t} } & = & -\\frac{m}{2 \\, m r - r^{2}} \\\\ \\Gamma_{ \\phantom{\\, r} \\, t \\, t }^{ \\, r \\phantom{\\, t} \\phantom{\\, t} } & = & -\\frac{2 \\, m^{2} - m r}{r^{3}} \\\\ \\Gamma_{ \\phantom{\\, r} \\, r \\, r }^{ \\, r \\phantom{\\, r} \\phantom{\\, r} } & = & \\frac{m}{2 \\, m r - r^{2}} \\\\ \\Gamma_{ \\phantom{\\, r} \\, {\\theta} \\, {\\theta} }^{ \\, r \\phantom{\\, {\\theta}} \\phantom{\\, {\\theta}} } & = & 2 \\, m - r \\\\ \\Gamma_{ \\phantom{\\, r} \\, {\\phi} \\, {\\phi} }^{ \\, r \\phantom{\\, {\\phi}} \\phantom{\\, {\\phi}} } & = & {\\left(2 \\, m - r\\right)} \\sin\\left({\\theta}\\right)^{2} \\\\ \\Gamma_{ \\phantom{\\, {\\theta}} \\, r \\, {\\theta} }^{ \\, {\\theta} \\phantom{\\, r} \\phantom{\\, {\\theta}} } & = & \\frac{1}{r} \\\\ \\Gamma_{ \\phantom{\\, {\\theta}} \\, {\\theta} \\, r }^{ \\, {\\theta} \\phantom{\\, {\\theta}} \\phantom{\\, r} } & = & \\frac{1}{r} \\\\ \\Gamma_{ \\phantom{\\, {\\theta}} \\, {\\phi} \\, {\\phi} }^{ \\, {\\theta} \\phantom{\\, {\\phi}} \\phantom{\\, {\\phi}} } & = & -\\cos\\left({\\theta}\\right) \\sin\\left({\\theta}\\right) \\\\ \\Gamma_{ \\phantom{\\, {\\phi}} \\, r \\, {\\phi} }^{ \\, {\\phi} \\phantom{\\, r} \\phantom{\\, {\\phi}} } & = & \\frac{1}{r} \\\\ \\Gamma_{ \\phantom{\\, {\\phi}} \\, {\\theta} \\, {\\phi} }^{ \\, {\\phi} \\phantom{\\, {\\theta}} \\phantom{\\, {\\phi}} } & = & \\frac{\\cos\\left({\\theta}\\right)}{\\sin\\left({\\theta}\\right)} \\\\ \\Gamma_{ \\phantom{\\, {\\phi}} \\, {\\phi} \\, r }^{ \\, {\\phi} \\phantom{\\, {\\phi}} \\phantom{\\, r} } & = & \\frac{1}{r} \\\\ \\Gamma_{ \\phantom{\\, {\\phi}} \\, {\\phi} \\, {\\theta} }^{ \\, {\\phi} \\phantom{\\, {\\phi}} \\phantom{\\, {\\theta}} } & = & \\frac{\\cos\\left({\\theta}\\right)}{\\sin\\left({\\theta}\\right)} \\end{array}</script></html>"
      ],
      "text/latex": [
       "\\begin{math}\n",
       "\\newcommand{\\Bold}[1]{\\mathbf{#1}}\\begin{array}{lcl} \\Gamma_{ \\phantom{\\, t} \\, t \\, r }^{ \\, t \\phantom{\\, t} \\phantom{\\, r} } & = & -\\frac{m}{2 \\, m r - r^{2}} \\\\ \\Gamma_{ \\phantom{\\, t} \\, r \\, t }^{ \\, t \\phantom{\\, r} \\phantom{\\, t} } & = & -\\frac{m}{2 \\, m r - r^{2}} \\\\ \\Gamma_{ \\phantom{\\, r} \\, t \\, t }^{ \\, r \\phantom{\\, t} \\phantom{\\, t} } & = & -\\frac{2 \\, m^{2} - m r}{r^{3}} \\\\ \\Gamma_{ \\phantom{\\, r} \\, r \\, r }^{ \\, r \\phantom{\\, r} \\phantom{\\, r} } & = & \\frac{m}{2 \\, m r - r^{2}} \\\\ \\Gamma_{ \\phantom{\\, r} \\, {\\theta} \\, {\\theta} }^{ \\, r \\phantom{\\, {\\theta}} \\phantom{\\, {\\theta}} } & = & 2 \\, m - r \\\\ \\Gamma_{ \\phantom{\\, r} \\, {\\phi} \\, {\\phi} }^{ \\, r \\phantom{\\, {\\phi}} \\phantom{\\, {\\phi}} } & = & {\\left(2 \\, m - r\\right)} \\sin\\left({\\theta}\\right)^{2} \\\\ \\Gamma_{ \\phantom{\\, {\\theta}} \\, r \\, {\\theta} }^{ \\, {\\theta} \\phantom{\\, r} \\phantom{\\, {\\theta}} } & = & \\frac{1}{r} \\\\ \\Gamma_{ \\phantom{\\, {\\theta}} \\, {\\theta} \\, r }^{ \\, {\\theta} \\phantom{\\, {\\theta}} \\phantom{\\, r} } & = & \\frac{1}{r} \\\\ \\Gamma_{ \\phantom{\\, {\\theta}} \\, {\\phi} \\, {\\phi} }^{ \\, {\\theta} \\phantom{\\, {\\phi}} \\phantom{\\, {\\phi}} } & = & -\\cos\\left({\\theta}\\right) \\sin\\left({\\theta}\\right) \\\\ \\Gamma_{ \\phantom{\\, {\\phi}} \\, r \\, {\\phi} }^{ \\, {\\phi} \\phantom{\\, r} \\phantom{\\, {\\phi}} } & = & \\frac{1}{r} \\\\ \\Gamma_{ \\phantom{\\, {\\phi}} \\, {\\theta} \\, {\\phi} }^{ \\, {\\phi} \\phantom{\\, {\\theta}} \\phantom{\\, {\\phi}} } & = & \\frac{\\cos\\left({\\theta}\\right)}{\\sin\\left({\\theta}\\right)} \\\\ \\Gamma_{ \\phantom{\\, {\\phi}} \\, {\\phi} \\, r }^{ \\, {\\phi} \\phantom{\\, {\\phi}} \\phantom{\\, r} } & = & \\frac{1}{r} \\\\ \\Gamma_{ \\phantom{\\, {\\phi}} \\, {\\phi} \\, {\\theta} }^{ \\, {\\phi} \\phantom{\\, {\\phi}} \\phantom{\\, {\\theta}} } & = & \\frac{\\cos\\left({\\theta}\\right)}{\\sin\\left({\\theta}\\right)} \\end{array}\n",
       "\\end{math}"
      ],
      "text/plain": [
       "Gam^t_t,r = -m/(2*m*r - r^2) \n",
       "Gam^t_r,t = -m/(2*m*r - r^2) \n",
       "Gam^r_t,t = -(2*m^2 - m*r)/r^3 \n",
       "Gam^r_r,r = m/(2*m*r - r^2) \n",
       "Gam^r_th,th = 2*m - r \n",
       "Gam^r_ph,ph = (2*m - r)*sin(th)^2 \n",
       "Gam^th_r,th = 1/r \n",
       "Gam^th_th,r = 1/r \n",
       "Gam^th_ph,ph = -cos(th)*sin(th) \n",
       "Gam^ph_r,ph = 1/r \n",
       "Gam^ph_th,ph = cos(th)/sin(th) \n",
       "Gam^ph_ph,r = 1/r \n",
       "Gam^ph_ph,th = cos(th)/sin(th) "
      ]
     },
     "execution_count": 83,
     "metadata": {},
     "output_type": "execute_result"
    }
   ],
   "source": [
    "nabla.display()"
   ]
  },
  {
   "cell_type": "code",
   "execution_count": 84,
   "metadata": {},
   "outputs": [],
   "source": [
    "Parallelism().set(nproc=1)"
   ]
  },
  {
   "cell_type": "code",
   "execution_count": 85,
   "metadata": {},
   "outputs": [
    {
     "data": {
      "text/html": [
       "<html><script type=\"math/tex; mode=display\">\\newcommand{\\Bold}[1]{\\mathbf{#1}}\\nabla_{g} k</script></html>"
      ],
      "text/latex": [
       "\\begin{math}\n",
       "\\newcommand{\\Bold}[1]{\\mathbf{#1}}\\nabla_{g} k\n",
       "\\end{math}"
      ],
      "text/plain": [
       "Tensor field nabla_g(k) of type (1,1) on the 4-dimensional Lorentzian manifold M"
      ]
     },
     "execution_count": 85,
     "metadata": {},
     "output_type": "execute_result"
    }
   ],
   "source": [
    "Dk = nabla(k)\n",
    "Dk"
   ]
  },
  {
   "cell_type": "code",
   "execution_count": 86,
   "metadata": {},
   "outputs": [
    {
     "name": "stdout",
     "output_type": "stream",
     "text": [
      "Tensor field nabla_g(k) of type (1,1) on the 4-dimensional Lorentzian manifold M\n"
     ]
    }
   ],
   "source": [
    "print(Dk)"
   ]
  },
  {
   "cell_type": "code",
   "execution_count": 87,
   "metadata": {},
   "outputs": [
    {
     "data": {
      "text/html": [
       "<html><script type=\"math/tex; mode=display\">\\newcommand{\\Bold}[1]{\\mathbf{#1}}\\nabla_{g} k = \\left( \\frac{m}{2 \\, m r - r^{2}} \\right) \\frac{\\partial}{\\partial t }\\otimes \\mathrm{d} t + \\left( -\\frac{m}{4 \\, m^{2} - 4 \\, m r + r^{2}} \\right) \\frac{\\partial}{\\partial t }\\otimes \\mathrm{d} r + \\frac{m}{r^{2}} \\frac{\\partial}{\\partial r }\\otimes \\mathrm{d} t + \\left( -\\frac{m}{2 \\, m r - r^{2}} \\right) \\frac{\\partial}{\\partial r }\\otimes \\mathrm{d} r -\\frac{1}{r} \\frac{\\partial}{\\partial {\\theta} }\\otimes \\mathrm{d} {\\theta} -\\frac{1}{r} \\frac{\\partial}{\\partial {\\phi} }\\otimes \\mathrm{d} {\\phi}</script></html>"
      ],
      "text/latex": [
       "\\begin{math}\n",
       "\\newcommand{\\Bold}[1]{\\mathbf{#1}}\\nabla_{g} k = \\left( \\frac{m}{2 \\, m r - r^{2}} \\right) \\frac{\\partial}{\\partial t }\\otimes \\mathrm{d} t + \\left( -\\frac{m}{4 \\, m^{2} - 4 \\, m r + r^{2}} \\right) \\frac{\\partial}{\\partial t }\\otimes \\mathrm{d} r + \\frac{m}{r^{2}} \\frac{\\partial}{\\partial r }\\otimes \\mathrm{d} t + \\left( -\\frac{m}{2 \\, m r - r^{2}} \\right) \\frac{\\partial}{\\partial r }\\otimes \\mathrm{d} r -\\frac{1}{r} \\frac{\\partial}{\\partial {\\theta} }\\otimes \\mathrm{d} {\\theta} -\\frac{1}{r} \\frac{\\partial}{\\partial {\\phi} }\\otimes \\mathrm{d} {\\phi}\n",
       "\\end{math}"
      ],
      "text/plain": [
       "nabla_g(k) = m/(2*m*r - r^2) d/dt*dt - m/(4*m^2 - 4*m*r + r^2) d/dt*dr + m/r^2 d/dr*dt - m/(2*m*r - r^2) d/dr*dr - 1/r d/dth*dth - 1/r d/dph*dph"
      ]
     },
     "execution_count": 87,
     "metadata": {},
     "output_type": "execute_result"
    }
   ],
   "source": [
    "Dk.display()"
   ]
  },
  {
   "cell_type": "code",
   "execution_count": 88,
   "metadata": {},
   "outputs": [
    {
     "data": {
      "text/html": [
       "<html><script type=\"math/tex; mode=display\">\\newcommand{\\Bold}[1]{\\mathbf{#1}}\\begin{array}{lcl} \\nabla_{g} k_{ \\phantom{\\, t} \\, t }^{ \\, t \\phantom{\\, t} } & = & \\frac{m}{2 \\, m r - r^{2}} \\\\ \\nabla_{g} k_{ \\phantom{\\, t} \\, r }^{ \\, t \\phantom{\\, r} } & = & -\\frac{m}{4 \\, m^{2} - 4 \\, m r + r^{2}} \\\\ \\nabla_{g} k_{ \\phantom{\\, r} \\, t }^{ \\, r \\phantom{\\, t} } & = & \\frac{m}{r^{2}} \\\\ \\nabla_{g} k_{ \\phantom{\\, r} \\, r }^{ \\, r \\phantom{\\, r} } & = & -\\frac{m}{2 \\, m r - r^{2}} \\\\ \\nabla_{g} k_{ \\phantom{\\, {\\theta}} \\, {\\theta} }^{ \\, {\\theta} \\phantom{\\, {\\theta}} } & = & -\\frac{1}{r} \\\\ \\nabla_{g} k_{ \\phantom{\\, {\\phi}} \\, {\\phi} }^{ \\, {\\phi} \\phantom{\\, {\\phi}} } & = & -\\frac{1}{r} \\end{array}</script></html>"
      ],
      "text/latex": [
       "\\begin{math}\n",
       "\\newcommand{\\Bold}[1]{\\mathbf{#1}}\\begin{array}{lcl} \\nabla_{g} k_{ \\phantom{\\, t} \\, t }^{ \\, t \\phantom{\\, t} } & = & \\frac{m}{2 \\, m r - r^{2}} \\\\ \\nabla_{g} k_{ \\phantom{\\, t} \\, r }^{ \\, t \\phantom{\\, r} } & = & -\\frac{m}{4 \\, m^{2} - 4 \\, m r + r^{2}} \\\\ \\nabla_{g} k_{ \\phantom{\\, r} \\, t }^{ \\, r \\phantom{\\, t} } & = & \\frac{m}{r^{2}} \\\\ \\nabla_{g} k_{ \\phantom{\\, r} \\, r }^{ \\, r \\phantom{\\, r} } & = & -\\frac{m}{2 \\, m r - r^{2}} \\\\ \\nabla_{g} k_{ \\phantom{\\, {\\theta}} \\, {\\theta} }^{ \\, {\\theta} \\phantom{\\, {\\theta}} } & = & -\\frac{1}{r} \\\\ \\nabla_{g} k_{ \\phantom{\\, {\\phi}} \\, {\\phi} }^{ \\, {\\phi} \\phantom{\\, {\\phi}} } & = & -\\frac{1}{r} \\end{array}\n",
       "\\end{math}"
      ],
      "text/plain": [
       "nabla_g(k)^t_t = m/(2*m*r - r^2) \n",
       "nabla_g(k)^t_r = -m/(4*m^2 - 4*m*r + r^2) \n",
       "nabla_g(k)^r_t = m/r^2 \n",
       "nabla_g(k)^r_r = -m/(2*m*r - r^2) \n",
       "nabla_g(k)^th_th = -1/r \n",
       "nabla_g(k)^ph_ph = -1/r "
      ]
     },
     "execution_count": 88,
     "metadata": {},
     "output_type": "execute_result"
    }
   ],
   "source": [
    "Dk.display_comp()"
   ]
  },
  {
   "cell_type": "markdown",
   "metadata": {},
   "source": [
    "The acceleration $\\nabla_k k$ of the vector field $k$:"
   ]
  },
  {
   "cell_type": "code",
   "execution_count": 89,
   "metadata": {},
   "outputs": [
    {
     "name": "stdout",
     "output_type": "stream",
     "text": [
      "Vector field on the 4-dimensional Lorentzian manifold M\n"
     ]
    }
   ],
   "source": [
    "Ak = Dk.contract(k)\n",
    "print(Ak)"
   ]
  },
  {
   "cell_type": "code",
   "execution_count": 90,
   "metadata": {},
   "outputs": [
    {
     "data": {
      "text/html": [
       "<html><script type=\"math/tex; mode=display\">\\newcommand{\\Bold}[1]{\\mathbf{#1}}0</script></html>"
      ],
      "text/latex": [
       "\\begin{math}\n",
       "\\newcommand{\\Bold}[1]{\\mathbf{#1}}0\n",
       "\\end{math}"
      ],
      "text/plain": [
       "0"
      ]
     },
     "execution_count": 90,
     "metadata": {},
     "output_type": "execute_result"
    }
   ],
   "source": [
    "Ak.display()"
   ]
  },
  {
   "cell_type": "markdown",
   "metadata": {},
   "source": [
    "$k$ is thus geodesic vector. The field lines of $k$ are actually the ingoing radial null geodesics of Schwarzschild spacetime."
   ]
  },
  {
   "cell_type": "markdown",
   "metadata": {},
   "source": [
    "Instead of the method contract, one can use index notations to compute $\\nabla_k k$ as $k^b \\nabla_b k^a$:"
   ]
  },
  {
   "cell_type": "code",
   "execution_count": 91,
   "metadata": {},
   "outputs": [
    {
     "data": {
      "text/html": [
       "<html><script type=\"math/tex; mode=display\">\\newcommand{\\Bold}[1]{\\mathbf{#1}}\\mathrm{True}</script></html>"
      ],
      "text/latex": [
       "\\begin{math}\n",
       "\\newcommand{\\Bold}[1]{\\mathbf{#1}}\\mathrm{True}\n",
       "\\end{math}"
      ],
      "text/plain": [
       "True"
      ]
     },
     "execution_count": 91,
     "metadata": {},
     "output_type": "execute_result"
    }
   ],
   "source": [
    "Ak == Dk['^a_b']*k['^b']"
   ]
  },
  {
   "cell_type": "code",
   "execution_count": 92,
   "metadata": {},
   "outputs": [],
   "source": [
    "Parallelism().set(nproc=8)"
   ]
  },
  {
   "cell_type": "markdown",
   "metadata": {},
   "source": [
    "The acceleration $\\nabla_u u$ of the vector field $u$:"
   ]
  },
  {
   "cell_type": "code",
   "execution_count": 93,
   "metadata": {},
   "outputs": [
    {
     "data": {
      "text/html": [
       "<html><script type=\"math/tex; mode=display\">\\newcommand{\\Bold}[1]{\\mathbf{#1}}\\frac{m}{r^{2}} \\frac{\\partial}{\\partial r }</script></html>"
      ],
      "text/latex": [
       "\\begin{math}\n",
       "\\newcommand{\\Bold}[1]{\\mathbf{#1}}\\frac{m}{r^{2}} \\frac{\\partial}{\\partial r }\n",
       "\\end{math}"
      ],
      "text/plain": [
       "m/r^2 d/dr"
      ]
     },
     "execution_count": 93,
     "metadata": {},
     "output_type": "execute_result"
    }
   ],
   "source": [
    "Au = nabla(u).contract(u)\n",
    "Au.display()"
   ]
  },
  {
   "cell_type": "markdown",
   "metadata": {},
   "source": [
    "$\\nabla g$ is identically zero, since the connection $\\nabla$ is compatible with $g$:"
   ]
  },
  {
   "cell_type": "code",
   "execution_count": 94,
   "metadata": {},
   "outputs": [
    {
     "name": "stdout",
     "output_type": "stream",
     "text": [
      "Tensor field nabla_g(g) of type (0,3) on the 4-dimensional Lorentzian manifold M\n"
     ]
    }
   ],
   "source": [
    "Dg = nabla(g)\n",
    "print(Dg)"
   ]
  },
  {
   "cell_type": "code",
   "execution_count": 95,
   "metadata": {},
   "outputs": [
    {
     "data": {
      "text/html": [
       "<html><script type=\"math/tex; mode=display\">\\newcommand{\\Bold}[1]{\\mathbf{#1}}\\nabla_{g} g = 0</script></html>"
      ],
      "text/latex": [
       "\\begin{math}\n",
       "\\newcommand{\\Bold}[1]{\\mathbf{#1}}\\nabla_{g} g = 0\n",
       "\\end{math}"
      ],
      "text/plain": [
       "nabla_g(g) = 0"
      ]
     },
     "execution_count": 95,
     "metadata": {},
     "output_type": "execute_result"
    }
   ],
   "source": [
    "Dg.display()"
   ]
  },
  {
   "cell_type": "markdown",
   "metadata": {},
   "source": [
    "## Curvature"
   ]
  },
  {
   "cell_type": "markdown",
   "metadata": {},
   "source": [
    "The **Riemann curvature tensor** is computed as"
   ]
  },
  {
   "cell_type": "code",
   "execution_count": 96,
   "metadata": {},
   "outputs": [
    {
     "name": "stdout",
     "output_type": "stream",
     "text": [
      "Tensor field Riem(g) of type (1,3) on the 4-dimensional Lorentzian manifold M\n"
     ]
    }
   ],
   "source": [
    "Riem = g.riemann()\n",
    "print(Riem)"
   ]
  },
  {
   "cell_type": "code",
   "execution_count": 97,
   "metadata": {},
   "outputs": [
    {
     "data": {
      "text/html": [
       "<html><script type=\"math/tex; mode=display\">\\newcommand{\\Bold}[1]{\\mathbf{#1}}\\begin{array}{lcl} \\mathrm{Riem}\\left(g\\right)_{ \\phantom{\\, t} \\, r \\, t \\, r }^{ \\, t \\phantom{\\, r} \\phantom{\\, t} \\phantom{\\, r} } & = & -\\frac{2 \\, m}{2 \\, m r^{2} - r^{3}} \\\\ \\mathrm{Riem}\\left(g\\right)_{ \\phantom{\\, t} \\, {\\theta} \\, t \\, {\\theta} }^{ \\, t \\phantom{\\, {\\theta}} \\phantom{\\, t} \\phantom{\\, {\\theta}} } & = & -\\frac{m}{r} \\\\ \\mathrm{Riem}\\left(g\\right)_{ \\phantom{\\, t} \\, {\\phi} \\, t \\, {\\phi} }^{ \\, t \\phantom{\\, {\\phi}} \\phantom{\\, t} \\phantom{\\, {\\phi}} } & = & -\\frac{m \\sin\\left({\\theta}\\right)^{2}}{r} \\\\ \\mathrm{Riem}\\left(g\\right)_{ \\phantom{\\, r} \\, t \\, t \\, r }^{ \\, r \\phantom{\\, t} \\phantom{\\, t} \\phantom{\\, r} } & = & -\\frac{2 \\, {\\left(2 \\, m^{2} - m r\\right)}}{r^{4}} \\\\ \\mathrm{Riem}\\left(g\\right)_{ \\phantom{\\, r} \\, {\\theta} \\, r \\, {\\theta} }^{ \\, r \\phantom{\\, {\\theta}} \\phantom{\\, r} \\phantom{\\, {\\theta}} } & = & -\\frac{m}{r} \\\\ \\mathrm{Riem}\\left(g\\right)_{ \\phantom{\\, r} \\, {\\phi} \\, r \\, {\\phi} }^{ \\, r \\phantom{\\, {\\phi}} \\phantom{\\, r} \\phantom{\\, {\\phi}} } & = & -\\frac{m \\sin\\left({\\theta}\\right)^{2}}{r} \\\\ \\mathrm{Riem}\\left(g\\right)_{ \\phantom{\\, {\\theta}} \\, t \\, t \\, {\\theta} }^{ \\, {\\theta} \\phantom{\\, t} \\phantom{\\, t} \\phantom{\\, {\\theta}} } & = & \\frac{2 \\, m^{2} - m r}{r^{4}} \\\\ \\mathrm{Riem}\\left(g\\right)_{ \\phantom{\\, {\\theta}} \\, r \\, r \\, {\\theta} }^{ \\, {\\theta} \\phantom{\\, r} \\phantom{\\, r} \\phantom{\\, {\\theta}} } & = & -\\frac{m}{2 \\, m r^{2} - r^{3}} \\\\ \\mathrm{Riem}\\left(g\\right)_{ \\phantom{\\, {\\theta}} \\, {\\phi} \\, {\\theta} \\, {\\phi} }^{ \\, {\\theta} \\phantom{\\, {\\phi}} \\phantom{\\, {\\theta}} \\phantom{\\, {\\phi}} } & = & \\frac{2 \\, m \\sin\\left({\\theta}\\right)^{2}}{r} \\\\ \\mathrm{Riem}\\left(g\\right)_{ \\phantom{\\, {\\phi}} \\, t \\, t \\, {\\phi} }^{ \\, {\\phi} \\phantom{\\, t} \\phantom{\\, t} \\phantom{\\, {\\phi}} } & = & \\frac{2 \\, m^{2} - m r}{r^{4}} \\\\ \\mathrm{Riem}\\left(g\\right)_{ \\phantom{\\, {\\phi}} \\, r \\, r \\, {\\phi} }^{ \\, {\\phi} \\phantom{\\, r} \\phantom{\\, r} \\phantom{\\, {\\phi}} } & = & -\\frac{m}{2 \\, m r^{2} - r^{3}} \\\\ \\mathrm{Riem}\\left(g\\right)_{ \\phantom{\\, {\\phi}} \\, {\\theta} \\, {\\theta} \\, {\\phi} }^{ \\, {\\phi} \\phantom{\\, {\\theta}} \\phantom{\\, {\\theta}} \\phantom{\\, {\\phi}} } & = & -\\frac{2 \\, m}{r} \\end{array}</script></html>"
      ],
      "text/latex": [
       "\\begin{math}\n",
       "\\newcommand{\\Bold}[1]{\\mathbf{#1}}\\begin{array}{lcl} \\mathrm{Riem}\\left(g\\right)_{ \\phantom{\\, t} \\, r \\, t \\, r }^{ \\, t \\phantom{\\, r} \\phantom{\\, t} \\phantom{\\, r} } & = & -\\frac{2 \\, m}{2 \\, m r^{2} - r^{3}} \\\\ \\mathrm{Riem}\\left(g\\right)_{ \\phantom{\\, t} \\, {\\theta} \\, t \\, {\\theta} }^{ \\, t \\phantom{\\, {\\theta}} \\phantom{\\, t} \\phantom{\\, {\\theta}} } & = & -\\frac{m}{r} \\\\ \\mathrm{Riem}\\left(g\\right)_{ \\phantom{\\, t} \\, {\\phi} \\, t \\, {\\phi} }^{ \\, t \\phantom{\\, {\\phi}} \\phantom{\\, t} \\phantom{\\, {\\phi}} } & = & -\\frac{m \\sin\\left({\\theta}\\right)^{2}}{r} \\\\ \\mathrm{Riem}\\left(g\\right)_{ \\phantom{\\, r} \\, t \\, t \\, r }^{ \\, r \\phantom{\\, t} \\phantom{\\, t} \\phantom{\\, r} } & = & -\\frac{2 \\, {\\left(2 \\, m^{2} - m r\\right)}}{r^{4}} \\\\ \\mathrm{Riem}\\left(g\\right)_{ \\phantom{\\, r} \\, {\\theta} \\, r \\, {\\theta} }^{ \\, r \\phantom{\\, {\\theta}} \\phantom{\\, r} \\phantom{\\, {\\theta}} } & = & -\\frac{m}{r} \\\\ \\mathrm{Riem}\\left(g\\right)_{ \\phantom{\\, r} \\, {\\phi} \\, r \\, {\\phi} }^{ \\, r \\phantom{\\, {\\phi}} \\phantom{\\, r} \\phantom{\\, {\\phi}} } & = & -\\frac{m \\sin\\left({\\theta}\\right)^{2}}{r} \\\\ \\mathrm{Riem}\\left(g\\right)_{ \\phantom{\\, {\\theta}} \\, t \\, t \\, {\\theta} }^{ \\, {\\theta} \\phantom{\\, t} \\phantom{\\, t} \\phantom{\\, {\\theta}} } & = & \\frac{2 \\, m^{2} - m r}{r^{4}} \\\\ \\mathrm{Riem}\\left(g\\right)_{ \\phantom{\\, {\\theta}} \\, r \\, r \\, {\\theta} }^{ \\, {\\theta} \\phantom{\\, r} \\phantom{\\, r} \\phantom{\\, {\\theta}} } & = & -\\frac{m}{2 \\, m r^{2} - r^{3}} \\\\ \\mathrm{Riem}\\left(g\\right)_{ \\phantom{\\, {\\theta}} \\, {\\phi} \\, {\\theta} \\, {\\phi} }^{ \\, {\\theta} \\phantom{\\, {\\phi}} \\phantom{\\, {\\theta}} \\phantom{\\, {\\phi}} } & = & \\frac{2 \\, m \\sin\\left({\\theta}\\right)^{2}}{r} \\\\ \\mathrm{Riem}\\left(g\\right)_{ \\phantom{\\, {\\phi}} \\, t \\, t \\, {\\phi} }^{ \\, {\\phi} \\phantom{\\, t} \\phantom{\\, t} \\phantom{\\, {\\phi}} } & = & \\frac{2 \\, m^{2} - m r}{r^{4}} \\\\ \\mathrm{Riem}\\left(g\\right)_{ \\phantom{\\, {\\phi}} \\, r \\, r \\, {\\phi} }^{ \\, {\\phi} \\phantom{\\, r} \\phantom{\\, r} \\phantom{\\, {\\phi}} } & = & -\\frac{m}{2 \\, m r^{2} - r^{3}} \\\\ \\mathrm{Riem}\\left(g\\right)_{ \\phantom{\\, {\\phi}} \\, {\\theta} \\, {\\theta} \\, {\\phi} }^{ \\, {\\phi} \\phantom{\\, {\\theta}} \\phantom{\\, {\\theta}} \\phantom{\\, {\\phi}} } & = & -\\frac{2 \\, m}{r} \\end{array}\n",
       "\\end{math}"
      ],
      "text/plain": [
       "Riem(g)^t_r,t,r = -2*m/(2*m*r^2 - r^3) \n",
       "Riem(g)^t_th,t,th = -m/r \n",
       "Riem(g)^t_ph,t,ph = -m*sin(th)^2/r \n",
       "Riem(g)^r_t,t,r = -2*(2*m^2 - m*r)/r^4 \n",
       "Riem(g)^r_th,r,th = -m/r \n",
       "Riem(g)^r_ph,r,ph = -m*sin(th)^2/r \n",
       "Riem(g)^th_t,t,th = (2*m^2 - m*r)/r^4 \n",
       "Riem(g)^th_r,r,th = -m/(2*m*r^2 - r^3) \n",
       "Riem(g)^th_ph,th,ph = 2*m*sin(th)^2/r \n",
       "Riem(g)^ph_t,t,ph = (2*m^2 - m*r)/r^4 \n",
       "Riem(g)^ph_r,r,ph = -m/(2*m*r^2 - r^3) \n",
       "Riem(g)^ph_th,th,ph = -2*m/r "
      ]
     },
     "execution_count": 97,
     "metadata": {},
     "output_type": "execute_result"
    }
   ],
   "source": [
    "Riem.display_comp(only_nonredundant=True)"
   ]
  },
  {
   "cell_type": "markdown",
   "metadata": {},
   "source": [
    "The component $\\mathrm{Riem}(g)^t_{\\ \\, rtr} = \\mathrm{Riem}(g)^0_{\\ \\, 101}$ is returned by "
   ]
  },
  {
   "cell_type": "code",
   "execution_count": 98,
   "metadata": {},
   "outputs": [
    {
     "data": {
      "text/html": [
       "<html><script type=\"math/tex; mode=display\">\\newcommand{\\Bold}[1]{\\mathbf{#1}}-\\frac{2 \\, m}{2 \\, m r^{2} - r^{3}}</script></html>"
      ],
      "text/latex": [
       "\\begin{math}\n",
       "\\newcommand{\\Bold}[1]{\\mathbf{#1}}-\\frac{2 \\, m}{2 \\, m r^{2} - r^{3}}\n",
       "\\end{math}"
      ],
      "text/plain": [
       "-2*m/(2*m*r^2 - r^3)"
      ]
     },
     "execution_count": 98,
     "metadata": {},
     "output_type": "execute_result"
    }
   ],
   "source": [
    "Riem[0,1,0,1]"
   ]
  },
  {
   "cell_type": "code",
   "execution_count": 99,
   "metadata": {},
   "outputs": [
    {
     "data": {
      "text/html": [
       "<html><script type=\"math/tex; mode=display\">\\newcommand{\\Bold}[1]{\\mathbf{#1}}\\begin{array}{lcl} \\mathrm{Riem}\\left(g\\right)_{ \\phantom{\\, T} \\, T \\, T \\, r }^{ \\, T \\phantom{\\, T} \\phantom{\\, T} \\phantom{\\, r} } & = & \\frac{4 \\, m^{2}}{r^{4}} \\\\ \\mathrm{Riem}\\left(g\\right)_{ \\phantom{\\, T} \\, r \\, T \\, r }^{ \\, T \\phantom{\\, r} \\phantom{\\, T} \\phantom{\\, r} } & = & \\frac{2 \\, {\\left(2 \\, m^{2} + m r\\right)}}{r^{4}} \\\\ \\mathrm{Riem}\\left(g\\right)_{ \\phantom{\\, T} \\, {\\theta} \\, T \\, {\\theta} }^{ \\, T \\phantom{\\, {\\theta}} \\phantom{\\, T} \\phantom{\\, {\\theta}} } & = & -\\frac{m}{r} \\\\ \\mathrm{Riem}\\left(g\\right)_{ \\phantom{\\, T} \\, {\\phi} \\, T \\, {\\phi} }^{ \\, T \\phantom{\\, {\\phi}} \\phantom{\\, T} \\phantom{\\, {\\phi}} } & = & -\\frac{m \\sin\\left({\\theta}\\right)^{2}}{r} \\\\ \\mathrm{Riem}\\left(g\\right)_{ \\phantom{\\, r} \\, T \\, T \\, r }^{ \\, r \\phantom{\\, T} \\phantom{\\, T} \\phantom{\\, r} } & = & -\\frac{2 \\, {\\left(2 \\, m^{2} - m r\\right)}}{r^{4}} \\\\ \\mathrm{Riem}\\left(g\\right)_{ \\phantom{\\, r} \\, r \\, T \\, r }^{ \\, r \\phantom{\\, r} \\phantom{\\, T} \\phantom{\\, r} } & = & -\\frac{4 \\, m^{2}}{r^{4}} \\\\ \\mathrm{Riem}\\left(g\\right)_{ \\phantom{\\, r} \\, {\\theta} \\, r \\, {\\theta} }^{ \\, r \\phantom{\\, {\\theta}} \\phantom{\\, r} \\phantom{\\, {\\theta}} } & = & -\\frac{m}{r} \\\\ \\mathrm{Riem}\\left(g\\right)_{ \\phantom{\\, r} \\, {\\phi} \\, r \\, {\\phi} }^{ \\, r \\phantom{\\, {\\phi}} \\phantom{\\, r} \\phantom{\\, {\\phi}} } & = & -\\frac{m \\sin\\left({\\theta}\\right)^{2}}{r} \\\\ \\mathrm{Riem}\\left(g\\right)_{ \\phantom{\\, {\\theta}} \\, T \\, T \\, {\\theta} }^{ \\, {\\theta} \\phantom{\\, T} \\phantom{\\, T} \\phantom{\\, {\\theta}} } & = & \\frac{2 \\, m^{2} - m r}{r^{4}} \\\\ \\mathrm{Riem}\\left(g\\right)_{ \\phantom{\\, {\\theta}} \\, T \\, r \\, {\\theta} }^{ \\, {\\theta} \\phantom{\\, T} \\phantom{\\, r} \\phantom{\\, {\\theta}} } & = & \\frac{2 \\, m^{2}}{r^{4}} \\\\ \\mathrm{Riem}\\left(g\\right)_{ \\phantom{\\, {\\theta}} \\, r \\, T \\, {\\theta} }^{ \\, {\\theta} \\phantom{\\, r} \\phantom{\\, T} \\phantom{\\, {\\theta}} } & = & \\frac{2 \\, m^{2}}{r^{4}} \\\\ \\mathrm{Riem}\\left(g\\right)_{ \\phantom{\\, {\\theta}} \\, r \\, r \\, {\\theta} }^{ \\, {\\theta} \\phantom{\\, r} \\phantom{\\, r} \\phantom{\\, {\\theta}} } & = & \\frac{2 \\, m^{2} + m r}{r^{4}} \\\\ \\mathrm{Riem}\\left(g\\right)_{ \\phantom{\\, {\\theta}} \\, {\\phi} \\, {\\theta} \\, {\\phi} }^{ \\, {\\theta} \\phantom{\\, {\\phi}} \\phantom{\\, {\\theta}} \\phantom{\\, {\\phi}} } & = & \\frac{2 \\, m \\sin\\left({\\theta}\\right)^{2}}{r} \\\\ \\mathrm{Riem}\\left(g\\right)_{ \\phantom{\\, {\\phi}} \\, T \\, T \\, {\\phi} }^{ \\, {\\phi} \\phantom{\\, T} \\phantom{\\, T} \\phantom{\\, {\\phi}} } & = & \\frac{2 \\, m^{2} - m r}{r^{4}} \\\\ \\mathrm{Riem}\\left(g\\right)_{ \\phantom{\\, {\\phi}} \\, T \\, r \\, {\\phi} }^{ \\, {\\phi} \\phantom{\\, T} \\phantom{\\, r} \\phantom{\\, {\\phi}} } & = & \\frac{2 \\, m^{2}}{r^{4}} \\\\ \\mathrm{Riem}\\left(g\\right)_{ \\phantom{\\, {\\phi}} \\, r \\, T \\, {\\phi} }^{ \\, {\\phi} \\phantom{\\, r} \\phantom{\\, T} \\phantom{\\, {\\phi}} } & = & \\frac{2 \\, m^{2}}{r^{4}} \\\\ \\mathrm{Riem}\\left(g\\right)_{ \\phantom{\\, {\\phi}} \\, r \\, r \\, {\\phi} }^{ \\, {\\phi} \\phantom{\\, r} \\phantom{\\, r} \\phantom{\\, {\\phi}} } & = & \\frac{2 \\, m^{2} + m r}{r^{4}} \\\\ \\mathrm{Riem}\\left(g\\right)_{ \\phantom{\\, {\\phi}} \\, {\\theta} \\, {\\theta} \\, {\\phi} }^{ \\, {\\phi} \\phantom{\\, {\\theta}} \\phantom{\\, {\\theta}} \\phantom{\\, {\\phi}} } & = & -\\frac{2 \\, m}{r} \\end{array}</script></html>"
      ],
      "text/latex": [
       "\\begin{math}\n",
       "\\newcommand{\\Bold}[1]{\\mathbf{#1}}\\begin{array}{lcl} \\mathrm{Riem}\\left(g\\right)_{ \\phantom{\\, T} \\, T \\, T \\, r }^{ \\, T \\phantom{\\, T} \\phantom{\\, T} \\phantom{\\, r} } & = & \\frac{4 \\, m^{2}}{r^{4}} \\\\ \\mathrm{Riem}\\left(g\\right)_{ \\phantom{\\, T} \\, r \\, T \\, r }^{ \\, T \\phantom{\\, r} \\phantom{\\, T} \\phantom{\\, r} } & = & \\frac{2 \\, {\\left(2 \\, m^{2} + m r\\right)}}{r^{4}} \\\\ \\mathrm{Riem}\\left(g\\right)_{ \\phantom{\\, T} \\, {\\theta} \\, T \\, {\\theta} }^{ \\, T \\phantom{\\, {\\theta}} \\phantom{\\, T} \\phantom{\\, {\\theta}} } & = & -\\frac{m}{r} \\\\ \\mathrm{Riem}\\left(g\\right)_{ \\phantom{\\, T} \\, {\\phi} \\, T \\, {\\phi} }^{ \\, T \\phantom{\\, {\\phi}} \\phantom{\\, T} \\phantom{\\, {\\phi}} } & = & -\\frac{m \\sin\\left({\\theta}\\right)^{2}}{r} \\\\ \\mathrm{Riem}\\left(g\\right)_{ \\phantom{\\, r} \\, T \\, T \\, r }^{ \\, r \\phantom{\\, T} \\phantom{\\, T} \\phantom{\\, r} } & = & -\\frac{2 \\, {\\left(2 \\, m^{2} - m r\\right)}}{r^{4}} \\\\ \\mathrm{Riem}\\left(g\\right)_{ \\phantom{\\, r} \\, r \\, T \\, r }^{ \\, r \\phantom{\\, r} \\phantom{\\, T} \\phantom{\\, r} } & = & -\\frac{4 \\, m^{2}}{r^{4}} \\\\ \\mathrm{Riem}\\left(g\\right)_{ \\phantom{\\, r} \\, {\\theta} \\, r \\, {\\theta} }^{ \\, r \\phantom{\\, {\\theta}} \\phantom{\\, r} \\phantom{\\, {\\theta}} } & = & -\\frac{m}{r} \\\\ \\mathrm{Riem}\\left(g\\right)_{ \\phantom{\\, r} \\, {\\phi} \\, r \\, {\\phi} }^{ \\, r \\phantom{\\, {\\phi}} \\phantom{\\, r} \\phantom{\\, {\\phi}} } & = & -\\frac{m \\sin\\left({\\theta}\\right)^{2}}{r} \\\\ \\mathrm{Riem}\\left(g\\right)_{ \\phantom{\\, {\\theta}} \\, T \\, T \\, {\\theta} }^{ \\, {\\theta} \\phantom{\\, T} \\phantom{\\, T} \\phantom{\\, {\\theta}} } & = & \\frac{2 \\, m^{2} - m r}{r^{4}} \\\\ \\mathrm{Riem}\\left(g\\right)_{ \\phantom{\\, {\\theta}} \\, T \\, r \\, {\\theta} }^{ \\, {\\theta} \\phantom{\\, T} \\phantom{\\, r} \\phantom{\\, {\\theta}} } & = & \\frac{2 \\, m^{2}}{r^{4}} \\\\ \\mathrm{Riem}\\left(g\\right)_{ \\phantom{\\, {\\theta}} \\, r \\, T \\, {\\theta} }^{ \\, {\\theta} \\phantom{\\, r} \\phantom{\\, T} \\phantom{\\, {\\theta}} } & = & \\frac{2 \\, m^{2}}{r^{4}} \\\\ \\mathrm{Riem}\\left(g\\right)_{ \\phantom{\\, {\\theta}} \\, r \\, r \\, {\\theta} }^{ \\, {\\theta} \\phantom{\\, r} \\phantom{\\, r} \\phantom{\\, {\\theta}} } & = & \\frac{2 \\, m^{2} + m r}{r^{4}} \\\\ \\mathrm{Riem}\\left(g\\right)_{ \\phantom{\\, {\\theta}} \\, {\\phi} \\, {\\theta} \\, {\\phi} }^{ \\, {\\theta} \\phantom{\\, {\\phi}} \\phantom{\\, {\\theta}} \\phantom{\\, {\\phi}} } & = & \\frac{2 \\, m \\sin\\left({\\theta}\\right)^{2}}{r} \\\\ \\mathrm{Riem}\\left(g\\right)_{ \\phantom{\\, {\\phi}} \\, T \\, T \\, {\\phi} }^{ \\, {\\phi} \\phantom{\\, T} \\phantom{\\, T} \\phantom{\\, {\\phi}} } & = & \\frac{2 \\, m^{2} - m r}{r^{4}} \\\\ \\mathrm{Riem}\\left(g\\right)_{ \\phantom{\\, {\\phi}} \\, T \\, r \\, {\\phi} }^{ \\, {\\phi} \\phantom{\\, T} \\phantom{\\, r} \\phantom{\\, {\\phi}} } & = & \\frac{2 \\, m^{2}}{r^{4}} \\\\ \\mathrm{Riem}\\left(g\\right)_{ \\phantom{\\, {\\phi}} \\, r \\, T \\, {\\phi} }^{ \\, {\\phi} \\phantom{\\, r} \\phantom{\\, T} \\phantom{\\, {\\phi}} } & = & \\frac{2 \\, m^{2}}{r^{4}} \\\\ \\mathrm{Riem}\\left(g\\right)_{ \\phantom{\\, {\\phi}} \\, r \\, r \\, {\\phi} }^{ \\, {\\phi} \\phantom{\\, r} \\phantom{\\, r} \\phantom{\\, {\\phi}} } & = & \\frac{2 \\, m^{2} + m r}{r^{4}} \\\\ \\mathrm{Riem}\\left(g\\right)_{ \\phantom{\\, {\\phi}} \\, {\\theta} \\, {\\theta} \\, {\\phi} }^{ \\, {\\phi} \\phantom{\\, {\\theta}} \\phantom{\\, {\\theta}} \\phantom{\\, {\\phi}} } & = & -\\frac{2 \\, m}{r} \\end{array}\n",
       "\\end{math}"
      ],
      "text/plain": [
       "Riem(g)^T_T,T,r = 4*m^2/r^4 \n",
       "Riem(g)^T_r,T,r = 2*(2*m^2 + m*r)/r^4 \n",
       "Riem(g)^T_th,T,th = -m/r \n",
       "Riem(g)^T_ph,T,ph = -m*sin(th)^2/r \n",
       "Riem(g)^r_T,T,r = -2*(2*m^2 - m*r)/r^4 \n",
       "Riem(g)^r_r,T,r = -4*m^2/r^4 \n",
       "Riem(g)^r_th,r,th = -m/r \n",
       "Riem(g)^r_ph,r,ph = -m*sin(th)^2/r \n",
       "Riem(g)^th_T,T,th = (2*m^2 - m*r)/r^4 \n",
       "Riem(g)^th_T,r,th = 2*m^2/r^4 \n",
       "Riem(g)^th_r,T,th = 2*m^2/r^4 \n",
       "Riem(g)^th_r,r,th = (2*m^2 + m*r)/r^4 \n",
       "Riem(g)^th_ph,th,ph = 2*m*sin(th)^2/r \n",
       "Riem(g)^ph_T,T,ph = (2*m^2 - m*r)/r^4 \n",
       "Riem(g)^ph_T,r,ph = 2*m^2/r^4 \n",
       "Riem(g)^ph_r,T,ph = 2*m^2/r^4 \n",
       "Riem(g)^ph_r,r,ph = (2*m^2 + m*r)/r^4 \n",
       "Riem(g)^ph_th,th,ph = -2*m/r "
      ]
     },
     "execution_count": 99,
     "metadata": {},
     "output_type": "execute_result"
    }
   ],
   "source": [
    "Riem.display_comp(EF.frame(), only_nonredundant=True)"
   ]
  },
  {
   "cell_type": "markdown",
   "metadata": {},
   "source": [
    "The **Kretschmann scalar** is the \"square\" of the Riemann tensor defined by \n",
    "$$K = R_{abcd} \\, R^{abcd}, \\qquad R := \\mathrm{Riem}(g)$$\n",
    "To compute it, we must first form the tensor fields whose components are $R_{abcd}$ and \n",
    "$R^{abcd}$. They are obtained by respectively lowering and raising the indices of the components $R^a_{\\ \\, bcd}$ of the Riemann tensor, via the metric $g$. These two operations are performed by the methods `down()` and `up()`. The contraction is performed by summation on repeated indices, using LaTeX notations:"
   ]
  },
  {
   "cell_type": "code",
   "execution_count": 100,
   "metadata": {},
   "outputs": [
    {
     "name": "stdout",
     "output_type": "stream",
     "text": [
      "Scalar field on the 4-dimensional Lorentzian manifold M\n"
     ]
    },
    {
     "data": {
      "text/html": [
       "<html><script type=\"math/tex; mode=display\">\\newcommand{\\Bold}[1]{\\mathbf{#1}}\\begin{array}{llcl} & M & \\longrightarrow & \\mathbb{R} \\\\ & \\left(t, r, {\\theta}, {\\phi}\\right) & \\longmapsto & \\frac{48 \\, m^{2}}{r^{6}} \\\\ & \\left(T, r, {\\theta}, {\\phi}\\right) & \\longmapsto & \\frac{48 \\, m^{2}}{r^{6}} \\end{array}</script></html>"
      ],
      "text/latex": [
       "\\begin{math}\n",
       "\\newcommand{\\Bold}[1]{\\mathbf{#1}}\\begin{array}{llcl} & M & \\longrightarrow & \\mathbb{R} \\\\ & \\left(t, r, {\\theta}, {\\phi}\\right) & \\longmapsto & \\frac{48 \\, m^{2}}{r^{6}} \\\\ & \\left(T, r, {\\theta}, {\\phi}\\right) & \\longmapsto & \\frac{48 \\, m^{2}}{r^{6}} \\end{array}\n",
       "\\end{math}"
      ],
      "text/plain": [
       "M --> R\n",
       "(t, r, th, ph) |--> 48*m^2/r^6\n",
       "(T, r, th, ph) |--> 48*m^2/r^6"
      ]
     },
     "execution_count": 100,
     "metadata": {},
     "output_type": "execute_result"
    }
   ],
   "source": [
    "K = Riem.down(g)['_{abcd}'] * Riem.up(g)['^{abcd}']\n",
    "print(K)\n",
    "K.display()"
   ]
  },
  {
   "cell_type": "code",
   "execution_count": 101,
   "metadata": {},
   "outputs": [
    {
     "data": {
      "text/html": [
       "<html><script type=\"math/tex; mode=display\">\\newcommand{\\Bold}[1]{\\mathbf{#1}}\\frac{48 \\, m^{2}}{r^{6}}</script></html>"
      ],
      "text/latex": [
       "\\begin{math}\n",
       "\\newcommand{\\Bold}[1]{\\mathbf{#1}}\\frac{48 \\, m^{2}}{r^{6}}\n",
       "\\end{math}"
      ],
      "text/plain": [
       "48*m^2/r^6"
      ]
     },
     "execution_count": 101,
     "metadata": {},
     "output_type": "execute_result"
    }
   ],
   "source": [
    "K.expr()"
   ]
  },
  {
   "cell_type": "markdown",
   "metadata": {},
   "source": [
    "Since $\\lim_{r\\to 0} K = +\\infty$, we may say that $r=0$ is a **curvature singularity** of Schwarzschild spacetime."
   ]
  },
  {
   "cell_type": "markdown",
   "metadata": {},
   "source": [
    "### Ricci tensor"
   ]
  },
  {
   "cell_type": "code",
   "execution_count": 102,
   "metadata": {},
   "outputs": [
    {
     "name": "stdout",
     "output_type": "stream",
     "text": [
      "Field of symmetric bilinear forms Ric(g) on the 4-dimensional Lorentzian manifold M\n"
     ]
    }
   ],
   "source": [
    "Ric = g.ricci()\n",
    "print(Ric)"
   ]
  },
  {
   "cell_type": "markdown",
   "metadata": {},
   "source": [
    "We check that the Schwarzschild metric is a solution of the vacuum **Einstein equation**:"
   ]
  },
  {
   "cell_type": "code",
   "execution_count": 103,
   "metadata": {},
   "outputs": [
    {
     "data": {
      "text/html": [
       "<html><script type=\"math/tex; mode=display\">\\newcommand{\\Bold}[1]{\\mathbf{#1}}\\mathrm{Ric}\\left(g\\right) = 0</script></html>"
      ],
      "text/latex": [
       "\\begin{math}\n",
       "\\newcommand{\\Bold}[1]{\\mathbf{#1}}\\mathrm{Ric}\\left(g\\right) = 0\n",
       "\\end{math}"
      ],
      "text/plain": [
       "Ric(g) = 0"
      ]
     },
     "execution_count": 103,
     "metadata": {},
     "output_type": "execute_result"
    }
   ],
   "source": [
    "Ric.display()"
   ]
  },
  {
   "cell_type": "markdown",
   "metadata": {},
   "source": [
    "## Geodesics"
   ]
  },
  {
   "cell_type": "markdown",
   "metadata": {},
   "source": [
    "First, for graphical purposes, we introduce the **Euclidean space** $\\mathbb{E}^3$ and some map $M\\to \\mathbb{E}^3$:"
   ]
  },
  {
   "cell_type": "code",
   "execution_count": 104,
   "metadata": {},
   "outputs": [
    {
     "data": {
      "text/html": [
       "<html><script type=\"math/tex; mode=display\">\\newcommand{\\Bold}[1]{\\mathbf{#1}}\\begin{array}{llcl} & M & \\longrightarrow & \\mathbb{E}^{3} \\\\ & \\left(t, r, {\\theta}, {\\phi}\\right) & \\longmapsto & \\left(x, y, z\\right) = \\left(r \\cos\\left({\\phi}\\right) \\sin\\left({\\theta}\\right), r \\sin\\left({\\phi}\\right) \\sin\\left({\\theta}\\right), r \\cos\\left({\\theta}\\right)\\right) \\\\ & \\left(T, r, {\\theta}, {\\phi}\\right) & \\longmapsto & \\left(x, y, z\\right) = \\left(r \\cos\\left({\\phi}\\right) \\sin\\left({\\theta}\\right), r \\sin\\left({\\phi}\\right) \\sin\\left({\\theta}\\right), r \\cos\\left({\\theta}\\right)\\right) \\end{array}</script></html>"
      ],
      "text/latex": [
       "\\begin{math}\n",
       "\\newcommand{\\Bold}[1]{\\mathbf{#1}}\\begin{array}{llcl} & M & \\longrightarrow & \\mathbb{E}^{3} \\\\ & \\left(t, r, {\\theta}, {\\phi}\\right) & \\longmapsto & \\left(x, y, z\\right) = \\left(r \\cos\\left({\\phi}\\right) \\sin\\left({\\theta}\\right), r \\sin\\left({\\phi}\\right) \\sin\\left({\\theta}\\right), r \\cos\\left({\\theta}\\right)\\right) \\\\ & \\left(T, r, {\\theta}, {\\phi}\\right) & \\longmapsto & \\left(x, y, z\\right) = \\left(r \\cos\\left({\\phi}\\right) \\sin\\left({\\theta}\\right), r \\sin\\left({\\phi}\\right) \\sin\\left({\\theta}\\right), r \\cos\\left({\\theta}\\right)\\right) \\end{array}\n",
       "\\end{math}"
      ],
      "text/plain": [
       "M --> E^3\n",
       "   (t, r, th, ph) |--> (x, y, z) = (r*cos(ph)*sin(th), r*sin(ph)*sin(th), r*cos(th))\n",
       "   (T, r, th, ph) |--> (x, y, z) = (r*cos(ph)*sin(th), r*sin(ph)*sin(th), r*cos(th))"
      ]
     },
     "execution_count": 104,
     "metadata": {},
     "output_type": "execute_result"
    }
   ],
   "source": [
    "E3.<x,y,z> = EuclideanSpace()\n",
    "X3 = E3.cartesian_coordinates()\n",
    "to_E3 = M.diff_map(E3, {(SD, X3): \n",
    "                        [r*sin(th)*cos(ph), r*sin(th)*sin(ph), r*cos(th)]})\n",
    "to_E3.display()"
   ]
  },
  {
   "cell_type": "markdown",
   "metadata": {},
   "source": [
    "## A timelike geodesic"
   ]
  },
  {
   "cell_type": "markdown",
   "metadata": {},
   "source": [
    "Let us consider the geodesic starting at point $p$ and having the following tangent vector at $p$: "
   ]
  },
  {
   "cell_type": "code",
   "execution_count": 105,
   "metadata": {},
   "outputs": [
    {
     "data": {
      "text/html": [
       "<html><script type=\"math/tex; mode=display\">\\newcommand{\\Bold}[1]{\\mathbf{#1}}v_0 = 1.30000000000000 \\frac{\\partial}{\\partial t } + \\frac{0.0640000000000000}{m} \\frac{\\partial}{\\partial {\\phi} }</script></html>"
      ],
      "text/latex": [
       "\\begin{math}\n",
       "\\newcommand{\\Bold}[1]{\\mathbf{#1}}v_0 = 1.30000000000000 \\frac{\\partial}{\\partial t } + \\frac{0.0640000000000000}{m} \\frac{\\partial}{\\partial {\\phi} }\n",
       "\\end{math}"
      ],
      "text/plain": [
       "v_0 = 1.30000000000000 d/dt + 0.0640000000000000/m d/dph"
      ]
     },
     "execution_count": 105,
     "metadata": {},
     "output_type": "execute_result"
    }
   ],
   "source": [
    "v0 = M.tangent_space(p)((1.3, 0, 0, 0.064/m), name='v_0')\n",
    "v0.display()"
   ]
  },
  {
   "cell_type": "markdown",
   "metadata": {},
   "source": [
    "We declare the geodesic with such initial conditions, denoting by $s$ the affine parameter (proper time), with $(s_{\\rm min}, s_{\\rm max})=(0, 1500\\,m)$:"
   ]
  },
  {
   "cell_type": "code",
   "execution_count": 106,
   "metadata": {},
   "outputs": [
    {
     "data": {
      "text/html": [
       "<html><script type=\"math/tex; mode=display\">\\newcommand{\\Bold}[1]{\\mathbf{#1}}\\mbox{Integrated geodesic in the 4-dimensional Lorentzian manifold M}</script></html>"
      ],
      "text/latex": [
       "\\begin{math}\n",
       "\\newcommand{\\Bold}[1]{\\mathbf{#1}}\\mbox{Integrated geodesic in the 4-dimensional Lorentzian manifold M}\n",
       "\\end{math}"
      ],
      "text/plain": [
       "Integrated geodesic in the 4-dimensional Lorentzian manifold M"
      ]
     },
     "execution_count": 106,
     "metadata": {},
     "output_type": "execute_result"
    }
   ],
   "source": [
    "s = var('s')\n",
    "geod = M.integrated_geodesic(g, (s, 0, 2000), v0)\n",
    "geod"
   ]
  },
  {
   "cell_type": "code",
   "execution_count": 107,
   "metadata": {},
   "outputs": [],
   "source": [
    "sol = geod.solve(parameters_values={m: 1})  # numerical integration\n",
    "interp = geod.interpolate()                 # interpolation of the solution for the plot"
   ]
  },
  {
   "cell_type": "code",
   "execution_count": 108,
   "metadata": {},
   "outputs": [
    {
     "data": {
      "text/html": [
       "\n",
       "<iframe srcdoc=\"<!DOCTYPE html>\n",
       "<html>\n",
       "<head>\n",
       "<title></title>\n",
       "<meta charset=&quot;utf-8&quot;>\n",
       "<meta name=viewport content=&quot;width=device-width, user-scalable=no, minimum-scale=1.0, maximum-scale=1.0&quot;>\n",
       "<style>\n",
       "\n",
       "    body { margin: 0px; overflow: hidden; }\n",
       "\n",
       "    #menu-container { position: absolute; bottom: 30px; right: 40px; cursor: default; }\n",
       "\n",
       "    #menu-message { position: absolute; bottom: 0px; right: 0px; white-space: nowrap;\n",
       "                    display: none; background-color: #F5F5F5; padding: 10px; }\n",
       "\n",
       "    #menu-content { position: absolute; bottom: 0px; right: 0px;\n",
       "                    display: none; background-color: #F5F5F5; border-bottom: 1px solid black;\n",
       "                    border-right: 1px solid black; border-left: 1px solid black; }\n",
       "\n",
       "    #menu-content div { border-top: 1px solid black; padding: 10px; white-space: nowrap; }\n",
       "\n",
       "    #menu-content div:hover { background-color: #FEFEFE;; }\n",
       "\n",
       "</style>\n",
       "\n",
       "</head>\n",
       "\n",
       "<body>\n",
       "\n",
       "<script src=&quot;/nbextensions/threejs/build/three.min.js&quot;></script>\n",
       "<script src=&quot;/nbextensions/threejs/examples/js/controls/OrbitControls.js&quot;></script>\n",
       "<script>\n",
       "  if ( !window.THREE ) document.write(' \\\n",
       "<script src=&quot;https://cdn.jsdelivr.net/gh/mrdoob/three.js@r117/build/three.min.js&quot;><\\/script> \\\n",
       "<script src=&quot;https://cdn.jsdelivr.net/gh/mrdoob/three.js@r117/examples/js/controls/OrbitControls.js&quot;><\\/script> \\\n",
       "            ');\n",
       "</script>\n",
       "        \n",
       "<script>\n",
       "\n",
       "    var scene = new THREE.Scene();\n",
       "\n",
       "    var renderer = new THREE.WebGLRenderer( { antialias: true, preserveDrawingBuffer: true } );\n",
       "    renderer.setPixelRatio( window.devicePixelRatio );\n",
       "    renderer.setSize( window.innerWidth, window.innerHeight );\n",
       "    renderer.setClearColor( 0xffffff, 1 );\n",
       "    document.body.appendChild( renderer.domElement );\n",
       "\n",
       "    var options = {&quot;animate&quot;: false, &quot;animationControls&quot;: true, &quot;aspectRatio&quot;: [1.0, 1.0, 1.0], &quot;autoPlay&quot;: true, &quot;axes&quot;: false, &quot;axesLabels&quot;: [&quot;x&quot;, &quot;y&quot;, &quot;z&quot;], &quot;decimals&quot;: 2, &quot;delay&quot;: 20, &quot;frame&quot;: true, &quot;loop&quot;: true, &quot;projection&quot;: &quot;perspective&quot;, &quot;viewpoint&quot;: false};\n",
       "    var animate = options.animate;\n",
       "\n",
       "    var b = [{&quot;x&quot;:-25.638792719549794, &quot;y&quot;:-25.357959207721393, &quot;z&quot;:-2.0}, {&quot;x&quot;:24.922953626553262, &quot;y&quot;:22.42575864300534, &quot;z&quot;:2.0}]; // bounds\n",
       "\n",
       "    if ( b[0].x === b[1].x ) {\n",
       "        b[0].x -= 1;\n",
       "        b[1].x += 1;\n",
       "    }\n",
       "    if ( b[0].y === b[1].y ) {\n",
       "        b[0].y -= 1;\n",
       "        b[1].y += 1;\n",
       "    }\n",
       "    if ( b[0].z === b[1].z ) {\n",
       "        b[0].z -= 1;\n",
       "        b[1].z += 1;\n",
       "    }\n",
       "\n",
       "    var rRange = Math.sqrt( Math.pow( b[1].x - b[0].x, 2 )\n",
       "                            + Math.pow( b[1].y - b[0].y, 2 ) );\n",
       "    var xRange = b[1].x - b[0].x;\n",
       "    var yRange = b[1].y - b[0].y;\n",
       "    var zRange = b[1].z - b[0].z;\n",
       "\n",
       "    var ar = options.aspectRatio;\n",
       "    var a = [ ar[0], ar[1], ar[2] ]; // aspect multipliers\n",
       "    var autoAspect = 2.5;\n",
       "    if ( zRange > autoAspect * rRange && a[2] === 1 ) a[2] = autoAspect * rRange / zRange;\n",
       "\n",
       "    // Distance from (xMid,yMid,zMid) to any corner of the bounding box, after applying aspectRatio\n",
       "    var midToCorner = Math.sqrt( a[0]*a[0]*xRange*xRange + a[1]*a[1]*yRange*yRange + a[2]*a[2]*zRange*zRange ) / 2;\n",
       "\n",
       "    var xMid = ( b[0].x + b[1].x ) / 2;\n",
       "    var yMid = ( b[0].y + b[1].y ) / 2;\n",
       "    var zMid = ( b[0].z + b[1].z ) / 2;\n",
       "\n",
       "    var box = new THREE.Geometry();\n",
       "    box.vertices.push( new THREE.Vector3( a[0]*b[0].x, a[1]*b[0].y, a[2]*b[0].z ) );\n",
       "    box.vertices.push( new THREE.Vector3( a[0]*b[1].x, a[1]*b[1].y, a[2]*b[1].z ) );\n",
       "    var boxMesh = new THREE.Line( box );\n",
       "    if ( options.frame ) scene.add( new THREE.BoxHelper( boxMesh, 'black' ) );\n",
       "\n",
       "    if ( options.axesLabels ) {\n",
       "\n",
       "        var d = options.decimals; // decimals\n",
       "        var offsetRatio = 0.1;\n",
       "        var al = options.axesLabels;\n",
       "\n",
       "        var offset = offsetRatio * a[1]*( b[1].y - b[0].y );\n",
       "        var xm = xMid.toFixed(d);\n",
       "        if ( /^-0.?0*$/.test(xm) ) xm = xm.substr(1);\n",
       "        addLabel( al[0] + '=' + xm, a[0]*xMid, a[1]*b[1].y+offset, a[2]*b[0].z );\n",
       "        addLabel( ( b[0].x ).toFixed(d), a[0]*b[0].x, a[1]*b[1].y+offset, a[2]*b[0].z );\n",
       "        addLabel( ( b[1].x ).toFixed(d), a[0]*b[1].x, a[1]*b[1].y+offset, a[2]*b[0].z );\n",
       "\n",
       "        var offset = offsetRatio * a[0]*( b[1].x - b[0].x );\n",
       "        var ym = yMid.toFixed(d);\n",
       "        if ( /^-0.?0*$/.test(ym) ) ym = ym.substr(1);\n",
       "        addLabel( al[1] + '=' + ym, a[0]*b[1].x+offset, a[1]*yMid, a[2]*b[0].z );\n",
       "        addLabel( ( b[0].y ).toFixed(d), a[0]*b[1].x+offset, a[1]*b[0].y, a[2]*b[0].z );\n",
       "        addLabel( ( b[1].y ).toFixed(d), a[0]*b[1].x+offset, a[1]*b[1].y, a[2]*b[0].z );\n",
       "\n",
       "        var offset = offsetRatio * a[1]*( b[1].y - b[0].y );\n",
       "        var zm = zMid.toFixed(d);\n",
       "        if ( /^-0.?0*$/.test(zm) ) zm = zm.substr(1);\n",
       "        addLabel( al[2] + '=' + zm, a[0]*b[1].x, a[1]*b[0].y-offset, a[2]*zMid );\n",
       "        addLabel( ( b[0].z ).toFixed(d), a[0]*b[1].x, a[1]*b[0].y-offset, a[2]*b[0].z );\n",
       "        addLabel( ( b[1].z ).toFixed(d), a[0]*b[1].x, a[1]*b[0].y-offset, a[2]*b[1].z );\n",
       "\n",
       "    }\n",
       "\n",
       "    function addLabel( text, x, y, z, color='black', fontSize=14, fontFamily='monospace',\n",
       "                       fontStyle='normal', fontWeight='normal', opacity=1 ) {\n",
       "\n",
       "        var canvas = document.createElement( 'canvas' );\n",
       "        var context = canvas.getContext( '2d' );\n",
       "        var pixelRatio = Math.round( window.devicePixelRatio );\n",
       "\n",
       "        var font = [fontStyle, fontWeight, fontSize + 'px', fontFamily].join(' ');\n",
       "\n",
       "        context.font = font;\n",
       "        var width = context.measureText( text ).width;\n",
       "        var height = fontSize;\n",
       "\n",
       "        // The dimensions of the canvas's underlying image data need to be powers\n",
       "        // of two in order for the resulting texture to support mipmapping.\n",
       "        canvas.width = THREE.MathUtils.ceilPowerOfTwo( width * pixelRatio );\n",
       "        canvas.height = THREE.MathUtils.ceilPowerOfTwo( height * pixelRatio );\n",
       "\n",
       "        // Re-compute the unscaled dimensions after the power of two conversion.\n",
       "        width = canvas.width / pixelRatio;\n",
       "        height = canvas.height / pixelRatio;\n",
       "\n",
       "        canvas.style.width = width + 'px';\n",
       "        canvas.style.height = height + 'px';\n",
       "\n",
       "        context.scale( pixelRatio, pixelRatio );\n",
       "        context.fillStyle = color;\n",
       "        context.font = font; // Must be set again after measureText.\n",
       "        context.textAlign = 'center';\n",
       "        context.textBaseline = 'middle';\n",
       "        context.fillText( text, width/2, height/2 );\n",
       "\n",
       "        var texture = new THREE.Texture( canvas );\n",
       "        texture.needsUpdate = true;\n",
       "\n",
       "        var materialOptions = { map: texture, sizeAttenuation: false };\n",
       "        if ( opacity < 1 ) {\n",
       "            // Setting opacity=1 would cause the texture's alpha component to be\n",
       "            // discarded, giving the text a black background instead of the\n",
       "            // background being transparent.\n",
       "            materialOptions.opacity = opacity;\n",
       "        }\n",
       "        var sprite = new THREE.Sprite( new THREE.SpriteMaterial( materialOptions ) );\n",
       "        sprite.position.set( x, y, z );\n",
       "\n",
       "        // Scaling factor, chosen somewhat arbitrarily so that the size of the text\n",
       "        // is consistent with previously generated plots.\n",
       "        var scale = 1/625;\n",
       "        if ( options.projection === 'orthographic' ) {\n",
       "            scale = midToCorner/256; // Needs to scale along with the plot itself.\n",
       "        }\n",
       "        sprite.scale.set( scale * width, scale * height, 1 );\n",
       "\n",
       "        scene.add( sprite );\n",
       "\n",
       "        return sprite;\n",
       "\n",
       "    }\n",
       "\n",
       "    if ( options.axes ) scene.add( new THREE.AxesHelper( Math.min( a[0]*b[1].x, a[1]*b[1].y, a[2]*b[1].z ) ) );\n",
       "\n",
       "    var camera = createCamera();\n",
       "    camera.up.set( 0, 0, 1 );\n",
       "    camera.position.set( a[0]*xMid, a[1]*yMid, a[2]*zMid );\n",
       "\n",
       "    var offset = new THREE.Vector3( a[0]*xRange, a[1]*yRange, a[2]*zRange );\n",
       "\n",
       "    if ( options.viewpoint ) {\n",
       "\n",
       "        var aa = options.viewpoint;\n",
       "        var axis = new THREE.Vector3( aa[0][0], aa[0][1], aa[0][2] ).normalize();\n",
       "        var angle = aa[1] * Math.PI / 180;\n",
       "        var q = new THREE.Quaternion().setFromAxisAngle( axis, angle ).inverse();\n",
       "\n",
       "        offset.set( 0, 0, offset.length() );\n",
       "        offset.applyQuaternion( q );\n",
       "\n",
       "    }\n",
       "\n",
       "    camera.position.add( offset );\n",
       "\n",
       "    function createCamera() {\n",
       "\n",
       "        var aspect = window.innerWidth / window.innerHeight;\n",
       "\n",
       "        if ( options.projection === 'orthographic' ) {\n",
       "            var camera = new THREE.OrthographicCamera( -1, 1, 1, -1, -1000, 1000 );\n",
       "            updateCameraAspect( camera, aspect );\n",
       "            return camera;\n",
       "        }\n",
       "\n",
       "        return new THREE.PerspectiveCamera( 45, aspect, 0.1, 1000 );\n",
       "\n",
       "    }\n",
       "\n",
       "    function updateCameraAspect( camera, aspect ) {\n",
       "\n",
       "        if ( camera.isPerspectiveCamera ) {\n",
       "            camera.aspect = aspect;\n",
       "        } else if ( camera.isOrthographicCamera ) {\n",
       "            // Fit the camera frustum to the bounding box's diagonal so that the entire plot fits\n",
       "            // within at the default zoom level and camera position.\n",
       "            if ( aspect > 1 ) { // Wide window\n",
       "                camera.top = midToCorner;\n",
       "                camera.right = midToCorner * aspect;\n",
       "            } else { // Tall or square window\n",
       "                camera.top = midToCorner / aspect;\n",
       "                camera.right = midToCorner;\n",
       "            }\n",
       "            camera.bottom = -camera.top;\n",
       "            camera.left = -camera.right;\n",
       "        }\n",
       "\n",
       "        camera.updateProjectionMatrix();\n",
       "\n",
       "    }\n",
       "\n",
       "    var lights = [{&quot;x&quot;:-5, &quot;y&quot;:3, &quot;z&quot;:0, &quot;color&quot;:&quot;#7f7f7f&quot;, &quot;parent&quot;:&quot;camera&quot;}];\n",
       "    for ( var i=0 ; i < lights.length ; i++ ) {\n",
       "        var light = new THREE.DirectionalLight( lights[i].color, 1 );\n",
       "        light.position.set( a[0]*lights[i].x, a[1]*lights[i].y, a[2]*lights[i].z );\n",
       "        if ( lights[i].parent === 'camera' ) {\n",
       "            light.target.position.set( a[0]*xMid, a[1]*yMid, a[2]*zMid );\n",
       "            scene.add( light.target );\n",
       "            camera.add( light );\n",
       "        } else scene.add( light );\n",
       "    }\n",
       "    scene.add( camera );\n",
       "\n",
       "    var ambient = {&quot;color&quot;:&quot;#7f7f7f&quot;};\n",
       "    scene.add( new THREE.AmbientLight( ambient.color, 1 ) );\n",
       "\n",
       "    var controls = new THREE.OrbitControls( camera, renderer.domElement );\n",
       "    controls.target.set( a[0]*xMid, a[1]*yMid, a[2]*zMid );\n",
       "    controls.addEventListener( 'change', function() { if ( !animate ) render(); } );\n",
       "\n",
       "    window.addEventListener( 'resize', function() {\n",
       "\n",
       "        renderer.setSize( window.innerWidth, window.innerHeight );\n",
       "        updateCameraAspect( camera, window.innerWidth / window.innerHeight );\n",
       "        if ( !animate ) render();\n",
       "\n",
       "    } );\n",
       "\n",
       "    var texts = [{&quot;text&quot;: &quot;p&quot;, &quot;x&quot;: 8.1, &quot;y&quot;: 0.1, &quot;z&quot;: 0.1, &quot;color&quot;: &quot;#000000&quot;, &quot;fontSize&quot;: 10.0, &quot;fontFamily&quot;: [&quot;monospace&quot;], &quot;fontStyle&quot;: &quot;normal&quot;, &quot;fontWeight&quot;: &quot;normal&quot;, &quot;opacity&quot;: 1.0}];\n",
       "    for ( var i=0 ; i < texts.length ; i++ ) addText( texts[i] );\n",
       "\n",
       "    function addText( json ) {\n",
       "        json.fontFamily = json.fontFamily.map( function( f ) {\n",
       "            // Need to put quotes around fonts that have whitespace in their names.\n",
       "            return /\\s/.test( f ) ? '&quot;' + f + '&quot;' : f;\n",
       "        }).join(', ');\n",
       "        var sprite = addLabel( json.text, a[0]*json.x, a[1]*json.y, a[2]*json.z, json.color,\n",
       "                               json.fontSize, json.fontFamily, json.fontStyle, json.fontWeight,\n",
       "                               json.opacity );\n",
       "        sprite.userData = json;\n",
       "    }\n",
       "\n",
       "    var points = [{&quot;point&quot;: [8.0, 0.0, 0.0], &quot;size&quot;: 4.0, &quot;color&quot;: &quot;#000000&quot;, &quot;opacity&quot;: 1.0}];\n",
       "    for ( var i=0 ; i < points.length ; i++ ) addPoint( points[i] );\n",
       "\n",
       "    function addPoint( json ) {\n",
       "\n",
       "        var geometry = new THREE.Geometry();\n",
       "        var v = json.point;\n",
       "        geometry.vertices.push( new THREE.Vector3( a[0]*v[0], a[1]*v[1], a[2]*v[2] ) );\n",
       "\n",
       "        var canvas = document.createElement( 'canvas' );\n",
       "        canvas.width = 128;\n",
       "        canvas.height = 128;\n",
       "\n",
       "        var context = canvas.getContext( '2d' );\n",
       "        context.arc( 64, 64, 64, 0, 2 * Math.PI );\n",
       "        context.fillStyle = json.color;\n",
       "        context.fill();\n",
       "\n",
       "        var texture = new THREE.Texture( canvas );\n",
       "        texture.needsUpdate = true;\n",
       "\n",
       "        var transparent = json.opacity < 1 ? true : false;\n",
       "        var size = camera.isOrthographicCamera ? json.size : json.size/100;\n",
       "        var material = new THREE.PointsMaterial( { size: size, map: texture,\n",
       "                                                   transparent: transparent, opacity: json.opacity,\n",
       "                                                   alphaTest: .1 } );\n",
       "\n",
       "        var c = new THREE.Vector3();\n",
       "        geometry.computeBoundingBox();\n",
       "        geometry.boundingBox.getCenter( c );\n",
       "        geometry.translate( -c.x, -c.y, -c.z );\n",
       "\n",
       "        var mesh = new THREE.Points( geometry, material );\n",
       "        mesh.position.set( c.x, c.y, c.z );\n",
       "        mesh.userData = json;\n",
       "        scene.add( mesh );\n",
       "\n",
       "    }\n",
       "\n",
       "    var lines = [{&quot;points&quot;: [[8.0, 0.0, 4.898587196589413e-16], [7.99484734729642, 1.0171981250186006, 4.934896441043423e-16], [7.86258897044383, 2.029945350831893, 4.9723142248038215e-16], [7.607655267243143, 3.019933808701305, 5.011949087176995e-16], [7.237661877890337, 3.970658176753925, 5.054909567469328e-16], [6.76288452395832, 4.867977086967712, 5.102304204987211e-16], [6.195650869519215, 5.700523593338284, 5.155241539037029e-16], [5.54969482953679, 6.459956976613196, 5.21483010892517e-16], [4.839516962356431, 7.141060900167182, 5.282178453958023e-16], [4.079789460573264, 7.741703741197965, 5.358395113441972e-16], [3.284836788402212, 8.26268496479053, 5.444588626328389e-16], [2.4671665694659843, 8.707172326350113, 5.541501759009073e-16], [1.63428940511013, 9.078706709431332, 5.648457423336719e-16], [0.7919926145155537, 9.380661336342166, 5.764434058891677e-16], [-0.05452435309858228, 9.616348909548204, 5.888410105254297e-16], [-0.9005526746108764, 9.789031036397288, 6.019364002004932e-16], [-1.741804279601374, 9.901929306756502, 6.156274188723931e-16], [-2.574362263959627, 9.958233408839735, 6.298119104991645e-16], [-3.39464541378852, 9.961104026877527, 6.443877190388424e-16], [-4.199381770681433, 9.91366992114722, 6.592526884494619e-16], [-4.985587308371174, 9.819019675136149, 6.743046628082135e-16], [-5.750650185021183, 9.680428071646118, 6.894572918014484e-16], [-6.492709166716176, 9.501950371548771, 7.04683767436977e-16], [-7.210497214098341, 9.287618082558179, 7.199713002387623e-16], [-7.903201968820784, 9.041178060979249, 7.353071007307676e-16], [-8.570393619293684, 8.766065067543174, 7.506783794369559e-16], [-9.211957523124541, 8.465384167806583, 7.660723468812909e-16], [-9.828032041063745, 8.141901294997782, 7.814762135877357e-16], [-10.418951765912343, 7.798040469441822, 7.968771900802533e-16], [-10.98519611581943, 7.435886353538901, 8.122624868828072e-16], [-11.527343095290599, 7.0571910095993, 8.27619314524424e-16], [-12.045956037902993, 6.663520742613392, 8.42935088438814e-16], [-12.54139128228821, 6.256673664918625, 8.581979732035765e-16], [-13.014029934012598, 5.838370310683264, 8.733963045547584e-16], [-13.464322400135078, 5.4101512538268075, 8.885184182284067e-16], [-13.892767552750131, 4.973380932800685, 9.035526499605686e-16], [-14.299893871143524, 4.529252790142507, 9.184873354872912e-16], [-14.686242472471111, 4.078795454022553, 9.333108105446213e-16], [-15.052351920363533, 3.6228797295497994, 9.480114108686066e-16], [-15.398744686450524, 3.162226205828294, 9.625774721952936e-16], [-15.725915131300805, 2.697413326326714, 9.769973303673238e-16], [-16.0343349194771, 2.228992450106256, 9.912611942981718e-16], [-16.324508152902208, 1.7577752425778055, 1.0053659193607757e-15], [-16.596956603986396, 1.2845567583605293, 1.0193098344843676e-15], [-16.852203924782145, 0.8100372784832054, 1.03309126859818e-15], [-17.09076837946352, 0.3348266679408179, 1.046708550631445e-15], [-17.313156368969764, -0.14055107615444848, 1.060160009513395e-15], [-17.519856691213644, -0.6156531521474916, 1.0734439741732622e-15], [-17.711335479400056, -1.090113212116561, 1.086558773540279e-15], [-17.888031761147822, -1.563636595503614, 1.0995027365436776e-15], [-18.05035358311162, -2.0359955673511516, 1.1122741921343435e-15], [-18.19868573954241, -2.5069680479501377, 1.1248716697040598e-15], [-18.33342484146702, -2.976192150800277, 1.1372943890040313e-15], [-18.45496387685335, -3.4433113909828013, 1.149541718302706e-15], [-18.563683628012694, -3.9080134853453923, 1.161613025868532e-15], [-18.6599504222493, -4.370027839640176, 1.1735076799699569e-15], [-18.744114150021474, -4.829123043663459, 1.1852250488754291e-15], [-18.816506530696827, -5.285104387007949, 1.1967645008533964e-15], [-18.87743960655347, -5.737811405569434, 1.2081254041723066e-15], [-18.927204446373256, -6.187115466717961, 1.219307127100608e-15], [-18.96607004327365, -6.632917393649259, 1.2303090379428445e-15], [-18.99429689836274, -7.0751154850478475, 1.2411307038904462e-15], [-19.012175316035478, -7.513533960954264, 1.2517723570755145e-15], [-19.019994069782108, -7.9479999362625, 1.2622343684294519e-15], [-19.018030394110877, -8.378362708159225, 1.2725171088836606e-15], [-19.006549243210703, -8.804492352722225, 1.2826209493695425e-15], [-18.985802652830976, -9.226278347057352, 1.2925462608185003e-15], [-18.956029197864225, -9.643628219609006, 1.3022934141619363e-15], [-18.917453538445155, -10.05646623064113, 1.311862780331253e-15], [-18.870286047722928, -10.464732084310329, 1.3212547302578523e-15], [-18.81472251758738, -10.868379668650109, 1.3304696348794468e-15], [-18.750954154294934, -11.267359533654169, 1.3395078876463378e-15], [-18.67919286708095, -11.661581584482953, 1.348369955077198e-15], [-18.5996483895022, -12.050957042153303, 1.357056318488925e-15], [-18.512521754055047, -12.435408436760252, 1.3655674591984156e-15], [-18.418005074656495, -12.814868825273527, 1.3739038585225675e-15], [-18.31628137194124, -13.189281028031406, 1.3820659977782777e-15], [-18.207524438453998, -13.558596884405485, 1.3900543582824435e-15], [-18.091898740961277, -13.922776527932486, 1.3978694213519621e-15], [-17.96955935725221, -14.281787681049734, 1.405511668303731e-15], [-17.840651947956907, -14.635604965769598, 1.412981580455174e-15], [-17.70532032927551, -14.984200320988386, 1.4202796404169745e-15], [-17.563724035886246, -15.327523679120922, 1.4274063348751225e-15], [-17.416020975359075, -15.665525762975527, 1.4343621513163354e-15], [-17.262362903138847, -15.998163226360232, 1.4411475772273302e-15], [-17.10289539047961, -16.325398200915593, 1.447763100094824e-15], [-16.93775781189971, -16.647197855142654, 1.4542092074055343e-15], [-16.767083350923286, -16.963533965651575, 1.4604863866461778e-15], [-16.590999022938053, -17.274382500603107, 1.4665951253034723e-15], [-16.409625714062944, -17.579723215267524, 1.4725359108641348e-15], [-16.223078237854672, -17.879539256714672, 1.4783092308029692e-15], [-16.031470583248947, -18.17381175453806, 1.4839155514793233e-15], [-15.834927303267378, -18.462509478693548, 1.4893552746438051e-15], [-15.633571661747377, -18.745601550751076, 1.494628789732313e-15], [-15.427522745879898, -19.023060162601663, 1.4997364861807461e-15], [-15.216895504248907, -19.294860306855522, 1.5046787534250036e-15], [-15.001800794485607, -19.560979515274678, 1.5094559809009835e-15], [-14.782345439978608, -19.8213976051922, 1.514068558044585e-15], [-14.558632295111249, -20.076096433854495, 1.5185168742917073e-15], [-14.33076031852578, -20.32505966060971, 1.5228013190782485e-15], [-14.098824656469077, -20.56827251472634, 1.526922281820124e-15], [-13.862920125921118, -20.805718790996877, 1.5308801254141312e-15], [-13.623148322486383, -21.037375416719904, 1.5346751339591227e-15], [-13.379609922999311, -21.263219392931177, 1.538307576985422e-15], [-13.132402932037822, -21.483229197806548, 1.5417777240233543e-15], [-12.88162274894189, -21.697384624868302, 1.5450858446032434e-15], [-12.627362239898602, -21.905666626899283, 1.548232208255414e-15], [-12.369711814819947, -22.108057165526066, 1.55121708451019e-15], [-12.108759508754183, -22.30453906642917, 1.5540407428978963e-15], [-11.844591067585576, -22.49509588013566, 1.5567034529488571e-15], [-11.577290039642168, -22.679711746867508, 1.5592054841642103e-15], [-11.306939785552183, -22.858369776889056, 1.5615470761722809e-15], [-11.03362734160468, -23.031049269358967, 1.563728382393387e-15], [-10.757439175708027, -23.1977293599608, 1.5657495407892123e-15], [-10.47846029809318, -23.3583897194437, 1.56761068932144e-15], [-10.196774344269489, -23.51301046107046, 1.5693119659517527e-15], [-9.912463660771122, -23.66157205265597, 1.5708535086418342e-15], [-9.625609393544524, -23.804055233184222, 1.5722354553533674e-15], [-9.336291578833436, -23.94044093399348, 1.5734579440480355e-15], [-9.044589236424402, -24.07071020452068, 1.5745211126875215e-15], [-8.75058046582809, -24.19484414167351, 1.5754250991949769e-15], [-8.454343124746226, -24.31282308440052, 1.5761700103196107e-15], [-8.155956041203462, -24.424625265256307, 1.5767558654268362e-15], [-7.855497852874628, -24.53022854096438, 1.5771826686861268e-15], [-7.553046828886194, -24.629610714837423, 1.5774504242669547e-15], [-7.248680967293007, -24.722749495451712, 1.5775591363387933e-15], [-6.94247809406179, -24.809622459684782, 1.577508809071115e-15], [-6.63451596345863, -24.89020702013971, 1.5772994466333926e-15], [-6.324872359738581, -24.964480396982587, 1.5769310531950988e-15], [-6.013625200037167, -25.0324195942234, 1.5764036329257069e-15], [-5.700852637115735, -25.094001379935918, 1.5757171899456284e-15], [-5.3866323556031785, -25.14920191063841, 1.5748716963505168e-15], [-5.071040315714886, -25.197996030490042, 1.5738670370301014e-15], [-4.754152743514897, -25.240357992832667, 1.572703082169232e-15], [-4.43604662314602, -25.276261617706798, 1.5713797019527583e-15], [-4.116799813500278, -25.305680297691527, 1.5698967665655309e-15], [-3.796491165477296, -25.328587008730477, 1.5682541461923992e-15], [-3.4752006397238184, -25.344954326017376, 1.5664517110182135e-15], [-3.1530094247446283, -25.354754445019456, 1.5644893312278232e-15], [-2.830000055271174, -25.357959207721393, 1.5623668770060786e-15], [-2.5062565261282432, -25.35454013364909, 1.5600842184777007e-15], [-2.181861935930074, -25.34446814235845, 1.5576411935429705e-15], [-1.8568945799771437, -25.32771286694529, 1.5550375548470602e-15], [-1.5314336429044453, -25.304243120045317, 1.552273041097297e-15], [-1.205560422839294, -25.274027058148818, 1.5493473910010082e-15], [-0.8793584765580991, -25.237032243847448, 1.5462603432655212e-15], [-0.552913764222912, -25.193225714811117, 1.5430116365981633e-15], [-0.22631479353003103, -25.14257405965273, 1.539601009706262e-15], [0.10034723690859614, -25.085043500844147, 1.5360282012971447e-15], [0.4269782951427505, -25.02059998485208, 1.5322929500781386e-15], [0.7534813852936295, -24.949209278220913, 1.5283949946877667e-15], [1.0797611400935496, -24.87083636530011, 1.5243340430344396e-15], [1.4057309820344277, -24.78544404041777, 1.520109724026301e-15], [1.7313025006688472, -24.692994034750026, 1.5157216540516306e-15], [2.056383313387116, -24.593447390762904, 1.5111694494987088e-15], [2.3808768775749387, -24.486764608945137, 1.5064527267558146e-15], [2.7046823049194737, -24.372905804904843, 1.501571102211228e-15], [3.0276941782050537, -24.251830877145544, 1.496524192253229e-15], [3.3498023709675304, -24.123499685842575, 1.4913116132700971e-15], [3.6708918704084668, -23.98787224294463, 1.4859329816501121e-15], [3.99084262556982, -23.844908909239116, 1.4803879137163894e-15], [4.309537431730795, -23.69456873493164, 1.474676001219921e-15], [4.6268734770501005, -23.536806171653964, 1.4687967745226294e-15], [4.94274455892023, -23.371574399088054, 1.4627497545569246e-15], [5.2570376868877755, -23.19882623875155, 1.456534462255216e-15], [5.569632832918599, -23.018514448201838, 1.450150418549913e-15], [5.880402687687416, -22.83059203290501, 1.4435971443734259e-15], [6.189212423682933, -22.63501257639966, 1.4368741606581639e-15], [6.495919465991723, -22.431730589383648, 1.4299809883365365e-15], [6.800373271699533, -22.220701878346212, 1.4229171483409537e-15], [7.102415160770292, -22.001883920554256, 1.4156821615865588e-15], [7.401891404848741, -21.7752316571726, 1.4082755434288294e-15], [7.698671146940138, -21.54069014697491, 1.4006967957231879e-15], [7.9926174098507765, -21.29820316579959, 1.3929454183155602e-15], [8.283581831068055, -21.047715294208636, 1.3850209110518725e-15], [8.571404330527477, -20.789172496950865, 1.3769227737780513e-15], [8.85591279438171, -20.522522735166874, 1.3686505063400222e-15], [9.13692277679223, -20.247716612611086, 1.3602036085837117e-15], [9.414237221954485, -19.964708057125286, 1.3515815803550459e-15], [9.687646208765695, -19.673455038544105, 1.342783921499951e-15], [9.956926800011086, -19.373920286374624, 1.3338101320258384e-15], [10.22186443572914, -19.06606132535185, 1.3246597567890393e-15], [10.482280075637506, -18.74981473584797, 1.3153324465057954e-15], [10.73798342751915, -18.42511661797866, 1.3058278671594964e-15], [10.988764896733896, -18.09190717207923, 1.2961456847335308e-15], [11.234395178633862, -17.75013187531309, 1.2862855652112882e-15], [11.474624895403558, -17.399742723403346, 1.2762471745761574e-15], [11.709184282998223, -17.040699540017922, 1.2660301788115274e-15], [11.937782934394576, -16.67297135610576, 1.2556342439007873e-15], [12.160109605928607, -16.296537861196658, 1.2450590358273265e-15], [12.37583224517051, -15.911390826781597, 1.2343042213463513e-15], [12.58463349025227, -15.517510762334071, 1.2233696537504406e-15], [12.786251730620302, -15.11483316004731, 1.2122556143794849e-15], [12.980404148674932, -14.70329635616075, 1.2009624443744434e-15], [13.166774313423657, -14.282851630311518, 1.1894904848762749e-15], [13.345011851862054, -13.8534657308001, 1.1778400770259392e-15], [13.514732253752399, -13.415123537119458, 1.1660115619643955e-15], [13.675516827455482, -12.967830864087752, 1.1540052808326029e-15], [13.826912826138189, -12.511617410710862, 1.1418215747715208e-15], [13.968433765382779, -12.046539855457214, 1.1294607849221085e-15], [14.099560225387522, -11.572684835187122, 1.1169232550182371e-15], [14.219795685406007, -11.090116180987886, 1.1042098784911231e-15], [14.328723262074856, -10.598804923650038, 1.0913227752193608e-15], [14.425884868328254, -10.098737827643236, 1.0782642310279133e-15], [14.510763616659405, -9.58993942382019, 1.0650365317417434e-15], [14.582784496997872, -9.072477730719, 1.0516419631858139e-15], [14.641315495589387, -8.54647026243088, 1.0380828111850878e-15], [14.685669214936741, -8.012090322702013, 1.0243613615645276e-15], [14.715105059993531, -7.469573578312426, 1.010479900149097e-15], [14.728832060782187, -6.91922489702816, 9.964407127637576e-16], [14.726012864350443, -6.361424731671608, 9.822460941095485e-16], [14.705848210645106, -5.79650634304545, 9.679000013108971e-16], [14.667644749923094, -5.224607389273407, 9.534099982619793e-16], [14.61063103777722, -4.645923372686084, 9.387841214032554e-16], [14.533936268372853, -4.060757374376423, 9.240304071751868e-16], [14.43659618171306, -3.469533530327408, 9.091568920182345e-16], [14.31756054131712, -2.8728109874298644, 8.941716123728593e-16], [14.175702395965958, -2.2712982700356847, 8.790826046795222e-16], [14.009829351582777, -1.6658679503279366, 8.638979053786843e-16], [13.818697088646983, -1.0575714728196466, 8.486255509108065e-16], [13.601025837125965, -0.44765254294882784, 8.33273603764687e-16], [13.355586424820212, 0.16266767112049063, 8.178544643677395e-16], [13.081232712595009, 0.7724240775882403, 8.023896861338591e-16], [12.776726004313725, 1.3804524568631347, 7.869019833795106e-16], [12.440735831499753, 1.985301130320682, 7.714140704211582e-16], [12.07186913665948, 2.5852049841970564, 7.559486615752667e-16], [11.668704633758859, 3.178060076760323, 7.405284711583004e-16], [11.229832898256005, 3.7613993927134795, 7.251762134867236e-16], [10.75390272025987, 4.332370467038199, 7.09914602877001e-16], [10.239674212809065, 4.887715774142064, 6.947663536455969e-16], [9.686079708361673, 5.423758221409742, 6.797542502754162e-16], [9.092370033721183, 5.936579928225196, 6.649115281043983e-16], [8.458199854967008, 6.422237560214692, 6.502928703277046e-16], [7.783473939140835, 6.876434073677255, 6.359555929419715e-16], [7.068388613822987, 7.294464432267403, 6.219570119438362e-16], [6.31350588959739, 7.671211459987681, 6.083544433299355e-16], [5.519835516901414, 8.0011463643298, 5.95205203096906e-16], [4.688926180024039, 8.278334831949524, 5.825666072413848e-16], [3.822967393755879, 8.496450003043336, 5.704959717600087e-16], [2.9249040726987405, 8.648794250288214, 5.590506126494144e-16], [1.99857741102856, 8.728329834271383, 5.482878347341884e-16], [1.0503724679370403, 8.727529396504906, 5.382634466634333e-16], [0.09081497581802658, 8.639242661591325, 5.290302702178645e-16], [-0.8682751668443346, 8.458259855679998, 5.206407724138724e-16], [-1.8144864075156335, 8.181541788153542, 5.131474202678469e-16], [-2.735186896448176, 7.808247020833012, 5.066026807961783e-16], [-3.6178967019144967, 7.339681063616799, 5.010590210152566e-16], [-4.450640439902736, 6.779172497695785, 4.965689079414718e-16], [-5.222263070255927, 6.131885963306076, 4.931848085912141e-16], [-5.922696112057899, 5.404585688676335, 4.909591899808737e-16], [-6.543162482825504, 4.60536435831729, 4.899442696478238e-16], [-7.075798138916017, 3.7433104023660695, 4.901620781684175e-16], [-7.513232888525371, 2.8285770322291386, 4.915760185500829e-16], [-7.849690965719097, 1.8726091715659234, 4.941427578667979e-16], [-8.081373914884383, 0.8878660339129304, 4.9781896319254e-16], [-8.206677120864116, -0.11255301059333414, 5.025613016012869e-16], [-8.22633692972068, -1.1153277376263326, 5.083264401670164e-16], [-8.143495980593102, -2.1073648566686227, 5.150710459637058e-16], [-7.963679151179583, -3.0762532822184476, 5.227517860653332e-16], [-7.694678674385815, -4.010703055938957, 5.313253275458761e-16], [-7.346344356950611, -4.900955932821357, 5.407482838508714e-16], [-6.92910433179818, -5.740412483955658, 5.509713793298271e-16], [-6.451687552661955, -6.526451052019423, 5.619342101012714e-16], [-5.922104563711977, -7.257615246259738, 5.735751358515949e-16], [-5.347837875304274, -7.933172048674854, 5.858325162671884e-16], [-4.735851858081812, -8.553000146768609, 5.986447110344424e-16], [-4.092604704284817, -9.117493538605702, 6.119500798397473e-16], [-3.4240615786462, -9.627476828183017, 6.25686982369494e-16], [-2.7357087404606024, -10.08412955984129, 6.397937783100727e-16], [-2.0325687572140683, -10.488917732128765, 6.542088273478741e-16], [-1.3192170826743155, -10.843533194630096, 6.688706067638405e-16], [-0.599789121178585, -11.150027394188303, 6.837293613655159e-16], [0.12208378252739109, -11.410914319376143, 6.987569732205228e-16], [0.8433006883315047, -11.628786006285484, 7.139276485482735e-16], [1.561251923892682, -11.806211924960706, 7.292155935681793e-16], [2.273775164753336, -11.945686384895275, 7.445950144996529e-16], [2.9791111836275572, -12.049584962809982, 7.600401175621055e-16], [3.675860114578732, -12.120128976876265, 7.755251089749497e-16], [4.362938856125748, -12.159357064371749, 7.910241949575969e-16], [5.039540044117705, -12.169102970863907, 8.065115817294593e-16], [5.705090378237711, -12.150980983129614, 8.219615361992672e-16], [6.358993604421747, -12.106591347250681, 8.373538803831666e-16], [7.0004482855530155, -12.037755400357844, 8.526783764291514e-16], [7.6288051082995345, -11.946222602313798, 8.679258183805663e-16], [8.24358719284878, -11.833622393979887, 8.830870002807566e-16], [8.844468367321701, -11.701454952762496, 8.981527161730672e-16], [9.4312525190755, -11.551084451987306, 9.131137601008431e-16], [10.003854111415643, -11.38373448994511, 9.279609261074294e-16], [10.562279906442283, -11.200485382673856, 9.42685008236171e-16], [11.106611895064846, -11.002273044318779, 9.57276800530413e-16], [11.636990181863098, -10.789891160230965, 9.717271234365079e-16], [12.153500493850173, -10.564160074144313, 9.860290157481874e-16], [12.656107546748112, -10.32608413463091, 1.0001793795131797e-15], [13.14481920406039, -10.076615536103462, 1.014175504245975e-15], [13.619695771360679, -9.816625737956679, 1.0280146794610639e-15], [14.080841365781119, -9.546905253281704, 1.0416941946729361e-15], [14.528395862339453, -9.268164036693413, 1.0552113393960822e-15], [14.962527404062923, -8.98103238342545, 1.0685634031449925e-15], [15.383425455846188, -8.686062261259885, 1.0817476754341574e-15], [15.791294376405908, -8.383729005939559, 1.0947614457780667e-15], [16.186347001780735, -8.074434640770875, 1.1076020136940338e-15], [16.568764887613177, -7.758613143622809, 1.1202674526214613e-15], [16.93868068775073, -7.436816328390586, 1.1327571478514137e-15], [17.29623835375101, -7.109566136093623, 1.1450706117478499e-15], [17.64159586322304, -6.777338968147717, 1.1572073566747288e-15], [17.97492181884787, -6.440566635489931, 1.1691668949960091e-15], [18.296392290230372, -6.099637451854735, 1.18094873907565e-15], [18.606187887730997, -5.754897448409826, 1.1925524012776105e-15], [18.90449105652256, -5.406651689543892, 1.2039773939658495e-15], [19.191483578464215, -5.0551656720375036, 1.2152232295043256e-15], [19.467344132287373, -4.7006676261509375, 1.226289424109126e-15], [19.732237698814895, -4.343409551102206, 1.2371757692774147e-15], [19.986314190769278, -3.983711799218187, 1.247882510725754e-15], [20.229725498376858, -3.6218775055149464, 1.2584099366485882e-15], [20.46262563507682, -3.2581842735556856, 1.2687583352403624e-15], [20.685169317589445, -2.8928849863306128, 1.2789279946955208e-15], [20.89751065033729, -2.526208652222257, 1.2889192032085083e-15], [21.099801909043382, -2.158361279553817, 1.2987322489737696e-15], [21.292192418263067, -1.789526773971452, 1.308367420185749e-15], [21.474827517588956, -1.419867853616945, 1.3178250050388915e-15], [21.647847603834045, -1.0495275094087382, 1.327105292847926e-15], [21.811387411781162, -0.6786648639267372, 1.3362086470785985e-15], [21.9655786622104, -0.30747888655807304, 1.3451355503056495e-15], [22.110552253748704, 0.0638415174597049, 1.3538864958537378e-15], [22.24643774929595, 0.4351220215824144, 1.362461977047521e-15], [22.373362753681253, 0.8062023183287096, 1.3708624872116576e-15], [22.49145233911873, 1.1769355522156681, 1.3790885196708055e-15], [22.600828516142105, 1.5471877473071967, 1.3871405677496234e-15], [22.701609747726273, 1.9168372311808344, 1.3950191247727687e-15], [22.793910504343984, 2.2857740568964533, 1.4027246840649002e-15], [22.87784089673668, 2.653899083082451, 1.4102577389138211e-15], [22.953509021893275, 3.021102687041518, 1.41761878034204e-15], [23.021024036775497, 3.387251975129594, 1.424808295829443e-15], [23.080493604150767, 3.752220067843164, 1.4318267725474723e-15], [23.13202330979834, 4.115888571802781, 1.4386746976675711e-15], [23.175716384786384, 4.4781472052580735, 1.4453525583611817e-15], [23.211673451443247, 4.83889342339553, 1.4518608417997468e-15], [23.239992291952618, 5.198032044154585, 1.4582000351547093e-15], [23.260767638529522, 5.555474875174713, 1.4643706255975115e-15], [23.274090984163987, 5.911140342417605, 1.4703731002995967e-15], [23.280050462405818, 6.264952900220554, 1.476207945844504e-15], [23.278733680711106, 6.616830249187307, 1.4818756151772659e-15], [23.270230213895744, 6.96667635339947, 1.4873765100226042e-15], [23.25462817323018, 7.314398754841615, 1.4927110278049205e-15], [23.232013739824588, 7.659909931697567, 1.497879565948617e-15], [23.202471048524874, 8.003127044890793, 1.5028825218780952e-15], [23.166082084552244, 8.343971686269946, 1.5077202930177577e-15], [23.122926592370806, 8.682369628706697, 1.512393276792006e-15], [23.073081996285357, 9.018250578341448, 1.5169018706252422e-15], [23.016623332289402, 9.351547929184607, 1.5212464719418687e-15], [22.95362323444678, 9.682198380426849, 1.5254274773066483e-15], [22.884154293789944, 10.010134385003536, 1.5294452373926781e-15], [22.808290778646505, 10.335280396621132, 1.5333000348312848e-15], [22.72610576211089, 10.657562892853441, 1.5369921467475969e-15], [22.637670814819405, 10.976911094269877, 1.5405218502667432e-15], [22.543055972828203, 11.293256788657889, 1.5438894225138518e-15], [22.442329712982563, 11.606534157360484, 1.547095140614052e-15], [22.335558935517874, 11.916679603845065, 1.5501392816924718e-15], [22.222808953643547, 12.223631584608764, 1.55302212287424e-15], [22.10414348987176, 12.52733044251525, 1.5557439412844854e-15], [21.97962470749866, 12.827718160616538, 1.558305013030789e-15], [21.84931467988865, 13.124734201731664, 1.5607055634298914e-15], [21.71327636133772, 13.418313613492131, 1.5629457444667108e-15], [21.571571872900584, 13.708392385973882, 1.5650257024089153e-15], [21.424262361703455, 13.994907787044243, 1.5669455835241733e-15], [21.271408019937226, 14.277798237774258, 1.5687055340801539e-15], [21.113068108741786, 14.557003190227265, 1.5703057003445244e-15], [20.949300986845035, 14.832463007694688, 1.5717462285849536e-15], [20.780164143826692, 15.104118847446829, 1.57302726506911e-15], [20.605714237883205, 15.37191254606458, 1.574148956064662e-15], [20.426007142851017, 15.63578647069403, 1.5751114467095054e-15], [20.241098241305398, 15.895681731705954, 1.5759148293087783e-15], [20.051042693211137, 16.151537394714907, 1.576559121882326e-15], [19.855895259218443, 16.40329262544233, 1.5770443368729071e-15], [19.655710333841423, 16.650886780045372, 1.5773704867232812e-15], [19.450542004113938, 16.89425931673688, 1.5775375838762065e-15], [19.240444111886134, 17.133349710256496, 1.5775456407744429e-15], [19.025470319685017, 17.368097369267133, 1.5773946698607488e-15], [18.805674180066863, 17.598441556751993, 1.5770846835778835e-15], [18.58110920839082, 17.82432131349081, 1.5766156943686057e-15], [18.35182892800894, 18.04567538761174, 1.5759877134501082e-15], [18.11788562139174, 18.262442270806012, 1.5752006982438589e-15], [17.87932990643289, 18.474560079585302, 1.5742545325056682e-15], [17.636212550045553, 18.681966275115283, 1.5731490946682912e-15], [17.388584698782402, 18.884597586646183, 1.5718842631644822e-15], [17.136497978437482, 19.082389953027548, 1.570459916426996e-15], [16.880004596815017, 19.275278468060062, 1.5688759328885875e-15], [16.61915744961462, 19.46319732980016, 1.5671321909820114e-15], [16.354010229380975, 19.64607979394011, 1.5652285691400224e-15], [16.084617537466094, 19.823858131391013, 1.5631649457953748e-15], [15.811034912033346, 19.996463631806535, 1.5609411980781507e-15], [15.533315427000906, 20.163828191704233, 1.5585571493516523e-15], [15.25150852595637, 20.32588457734983, 1.5560125512703892e-15], [14.965664566870172, 20.482564114569, 1.5533071505042591e-15], [14.675835302529698, 20.633796493315458, 1.5504406937231597e-15], [14.38207403329498, 20.77950974152053, 1.547412927596989e-15], [14.084435763076176, 20.91963020473434, 1.5442235987956449e-15], [13.782977358476431, 21.054082531774895, 1.5408724539890257e-15], [13.47775771103686, 21.182789666612447, 1.5373592398470286e-15], [13.168837902512585, 21.30567284672739, 1.5336837030395523e-15], [12.856281194009112, 21.422651690632133, 1.5298455889220289e-15], [12.540146387067551, 21.533647219928717, 1.525844591750056e-15], [12.220485790026647, 21.638582260606277, 1.5216803393987364e-15], [11.89735380367123, 21.73737727445642, 1.5173524553068535e-15], [11.570807751609456, 21.829950084459497, 1.5128605629131905e-15], [11.240908112276196, 21.916215896435805, 1.5082042856565304e-15], [10.907718754614297, 21.996087330366475, 1.5033832469756564e-15], [10.57130717731665, 22.069474461818427, 1.4983970703093516e-15], [10.231744751492187, 22.136284873926634, 1.493245379096399e-15], [9.8891069665945, 22.196423720406766, 1.487927796775582e-15], [9.543473342295263, 22.249793924680255, 1.4824439456594463e-15], [9.194915635421314, 22.296300496730044, 1.4767934067580736e-15], [8.843494744082305, 22.33585076805426, 1.4709757088203893e-15], [8.489275634641823, 22.36834853034902, 1.4649903772392208e-15], [8.132328699565553, 22.393693742871715, 1.4588369374073964e-15], [7.772730116843974, 22.4117826434265, 1.4525149147177441e-15], [7.410562213695753, 22.422507877005454, 1.4460238345630914e-15], [7.045913834228739, 22.42575864300534, 1.4393632223362668e-15], [6.67888071067766, 22.421420861974706, 1.432532603430098e-15], [6.30956583777149, 22.40937736288106, 1.4255315032374128e-15], [5.938079226236544, 22.389508251442166, 1.4183594468057162e-15], [5.564517336583259, 22.36169610710487, 1.4110159472180469e-15], [5.1889586413879885, 22.32582554400599, 1.4035005028107046e-15], [4.811489220762163, 22.281776094513372, 1.3958126110105728e-15], [4.432204976054521, 22.229422030816693, 1.3879517692445352e-15], [4.051212204702518, 22.168632666994956, 1.3799174749394754e-15], [3.668628179019608, 22.099272696212097, 1.3717092255222769e-15], [3.2845817279261293, 22.021202565108347, 1.363326518419824e-15], [2.899213820458219, 21.93427888751891, 1.3547688510589997e-15], [2.512678149702367, 21.838354899709028, 1.3460357208666884e-15], [2.1251405709596565, 21.733281103575404, 1.3371266272372887e-15], [1.7367435075722275, 21.618909642046695, 1.3280411340588674e-15], [1.3476000571783775, 21.495092210077583, 1.3187788826541132e-15], [0.9578377212103827, 21.361673581575708, 1.3093395189285835e-15], [0.5676020262095084, 21.21849190537448, 1.2997226887878362e-15], [0.17705746760796084, 21.065379455942537, 1.2899280381374282e-15], [-0.21361154899423226, 20.90216346019144, 1.2799552128829173e-15], [-0.6041997723660428, 20.7286670053, 1.2698038589298608e-15], [-0.9944801798563631, 20.54471003255994, 1.2594736221838163e-15], [-1.3842030657284303, 20.35011042230234, 1.2489641485503412e-15], [-1.7730973339398128, 20.144685128934135, 1.2382750928582353e-15], [-2.1609345889133458, 19.928248603228035, 1.2274063870328096e-15], [-2.5475362282224028, 19.70060696990929, 1.21635828709878e-15], [-2.932695487397965, 19.461557844085323, 1.2051310674770894e-15], [-3.3161712914320414, 19.210892059094416, 1.19372500258868e-15], [-3.697686678185076, 18.948395554385964, 1.1821403668544947e-15], [-4.076927259116682, 18.673851443838927, 1.1703774346954754e-15], [-4.453539729372945, 18.387042276930803, 1.1584364805325653e-15], [-4.8271304411995315, 18.087752505041955, 1.1463177787867064e-15], [-5.197264056730834, 17.775771164890365, 1.1340216038788416e-15], [-5.563466312863387, 17.450893984755027, 1.1215482578810715e-15], [-5.9253349643624, 17.112900797870527, 1.1088988573419292e-15], [-6.282544797495135, 16.761542704240664, 1.0960754468495728e-15], [-6.634713165629368, 16.396565649682046, 1.0830801214773345e-15], [-6.98138999179022, 16.017716302516487, 1.0699149762985465e-15], [-7.322055381198326, 15.624747039434764, 1.0565821063865397e-15], [-7.656117442966288, 15.217421388909612, 1.043083606814647e-15], [-7.982910369242737, 14.79551996172454, 1.0294215726562e-15], [-8.301692827420801, 14.358846895503861, 1.0155980989845304e-15], [-8.611646728788896, 13.90723683649713, 1.0016152808729702e-15], [-8.91188422542886, 13.440559035533424, 9.874753010273605e-16], [-9.201650506600572, 12.958626979617996, 9.731827935085881e-16], [-9.480315834674158, 12.46117130839068, 9.587451134796656e-16], [-9.747129338072602, 11.947940720791713, 9.441697578699148e-16], [-10.001203032512393, 11.41872009212876, 9.294642236086576e-16], [-10.241509597518975, 10.8733444462133, 9.14636007625215e-16], [-10.46688116875007, 10.311714129692467, 8.996926068489093e-16], [-10.676009352968174, 9.733811241376344, 8.846415182090616e-16], [-10.867446701243692, 9.139717346054223, 8.69490238634994e-16], [-11.039609905110263, 8.529632473029407, 8.542462650560276e-16], [-11.190795732644881, 7.903886951545084, 8.389173335797372e-16], [-11.319447326492355, 7.2627393630737265, 8.235175413936749e-16], [-11.424114564024, 6.606346146098891, 8.080678647272868e-16], [-11.503134044820436, 5.935005325537571, 7.925896227796957e-16], [-11.554619395060595, 5.249201886022313, 7.771041347500244e-16], [-11.576471477617202, 4.549643732269615, 7.61632719837396e-16], [-11.566393077065564, 3.8372998286227213, 7.461966972409331e-16], [-11.521908787554706, 3.1134403324824547, 7.308173861597587e-16], [-11.44039089388565, 2.3796783995580832, 7.155161057929959e-16], [-11.319092087456339, 1.6380131784246081, 7.003141753397672e-16], [-11.15519682276883, 0.8908636914679976, 6.852335340898467e-16], [-10.946116399216148, 0.14086366915475734, 6.703118177364646e-16], [-10.689469196447511, -0.6091698518053472, 6.556031991589431e-16], [-10.382811425195209, -1.3559720542995422, 6.411626396273219e-16], [-10.02367325933638, -2.095769622017562, 6.270451004116415e-16], [-9.609618630668395, -2.8242307552061408, 6.13305542781942e-16], [-9.138315263653062, -3.5364144867620304, 5.999989280082635e-16], [-8.60761657658358, -4.2267195986536965, 5.871802173606461e-16], [-8.015657547352793, -4.888833634760968, 5.749043721091303e-16], [-7.360967244148982, -5.515682849149963, 5.632263535237558e-16], [-6.642664876557771, -6.099316068273382, 5.522011492026374e-16], [-5.86223643997458, -6.629507877267046, 5.418843817007613e-16], [-5.024340887237255, -7.094750890932664, 5.323323253125137e-16], [-4.135501814657977, -7.484531773159257, 5.236012840175766e-16], [-3.203835345151279, -7.789669204849134, 5.15747561795632e-16], [-2.238789007870008, -8.00251951837593, 5.08827462626362e-16], [-1.2508429640385124, -8.117124488714241, 5.028972904894485e-16], [-0.2511913744264116, -8.129295288203322, 4.980133493645738e-16], [0.7485782105165971, -8.036632010776573, 4.942319432314199e-16], [1.7367911301982315, -7.838483284558383, 4.916093760696689e-16], [2.7019279777001097, -7.53583365383709, 4.901999850687669e-16], [3.632003500042067, -7.130837026324917, 4.900128712427374e-16], [4.5145650068238234, -6.6272455178125, 4.9101189943018005e-16], [5.337778924302251, -6.031034347653821, 4.931589676794591e-16], [6.090905807382365, -5.3503031462950705, 4.964159740389384e-16], [6.764724688110019, -4.595067150286, 5.007448165569823e-16], [7.351919439079779, -3.776966065472946, 5.061073932819548e-16], [7.847406419606959, -2.9088991947549445, 5.124656022622199e-16], [8.248584668193086, -2.0046018964385794, 5.197813415461417e-16], [8.555493891885636, -1.078184368023818, 5.280165091820843e-16], [8.770864050637519, -0.14353583378901102, 5.371324410551526e-16], [8.899582071129117, 0.7887230920277266, 5.47078130780269e-16], [8.947176945780306, 1.7115467810794094, 5.577905475201437e-16], [8.919289704940955, 2.618959900260353, 5.692061618513824e-16], [8.821605157941471, 3.5058538409439843, 5.812614443505912e-16], [8.659800363793593, 4.3679040152958315, 5.93892865594376e-16], [8.439500615830646, 5.201497867148389, 6.070368961593424e-16], [8.166240551523114, 6.003670700971841, 6.206300066220965e-16], [7.845429115581379, 6.772046930351822, 6.346086675592443e-16], [7.482317852477205, 7.504784916430664, 6.489093495473914e-16], [7.081975393364749, 8.200539815320056, 6.634693678143964e-16], [6.64929049848966, 8.858732510265419, 6.782437548882202e-16], [6.188824621700838, 9.47949982281235, 6.932043598150026e-16], [5.704697298681159, 10.063325191830714, 7.083236959819692e-16], [5.200585396169336, 10.610947317098494, 7.235742767763452e-16], [4.679732468880018, 11.123289017235027, 7.389286155853564e-16], [4.1449634177734085, 11.601393954659985, 7.543592257962278e-16], [3.598703160565749, 12.046370803303134, 7.698386207961851e-16], [3.0429982447961175, 12.459344346756222, 7.853393139724538e-16], [2.479540536557807, 12.841412937475514, 8.00833818712259e-16], [1.9097159275299083, 13.1936155227625, 8.162950862941429e-16], [1.335086096818755, 13.516997185738452, 8.317048509092939e-16], [0.7573977567153325, 13.812674959264239, 8.470529683464485e-16], [0.178184236864891, 14.08178381072679, 8.623295997685124e-16], [-0.401237864908541, 14.325451301544202, 8.775249063383913e-16], [-0.9797549368120769, 14.54477722752737, 8.926290492189907e-16], [-1.5564421307755005, 14.740816069976185, 9.076321895732163e-16], [-2.1305489316362762, 14.914562012181197, 9.225244885639738e-16], [-2.701484726998666, 15.066936273731875, 9.372961073541688e-16], [-3.268804534473635, 15.198776518841507, 9.519372071067068e-16], [-3.8321812599159064, 15.310834586798004, 9.664381298674159e-16], [-4.391142211157181, 15.403898982782549, 9.807926895994565e-16], [-4.94508384151538, 15.478822493017095, 9.949978280067644e-16], [-5.493492461986454, 15.536425763351634, 1.0090505986056262e-15], [-6.035945107950431, 15.57748763736549, 1.0229480549123289e-15], [-6.5721020443696565, 15.602740135278065, 1.0366872504431588e-15], [-7.1016994459781415, 15.612864290472967, 1.0502652387144033e-15], [-7.624542290127671, 15.608486756999657, 1.0636790732423492e-15], [-8.140497488163506, 15.590177105972849, 1.0769258075432831e-15], [-8.649487270922892, 15.558445733882758, 1.0900024951334917e-15], [-9.151475596806234, 15.513747831685055, 1.10290625548524e-15], [-9.646337397373404, 15.456583512831473, 1.1156354205012256e-15], [-10.13387406125423, 15.387504842681512, 1.1281893861507956e-15], [-10.613923965406478, 15.307036269222348, 1.1405675845279456e-15], [-11.08636283583603, 15.215670371008184, 1.1527694477266712e-15], [-11.551100245435936, 15.113866789428075, 1.1647944078409685e-15], [-12.008076244553047, 15.002051424034857, 1.1766418969648332e-15], [-12.457258127425298, 14.880615864528307, 1.188311347192261e-15], [-12.89863733534553, 14.749917034793915, 1.1998021906172477e-15], [-13.332226495436963, 14.61027702621622, 1.2111138593337888e-15], [-13.758053146137755, 14.461986925326269, 1.2222458097325924e-15], [-14.17610076767481, 14.305372746994315, 1.2331979262568205e-15], [-14.5863190136331, 14.140794204002376, 1.243970459323284e-15], [-14.988673473951353, 13.968591961918447, 1.2545636711341155e-15], [-15.383145606361385, 13.789085655525728, 1.2649778238914476e-15], [-15.769731047273522, 13.602573808973416, 1.275213179797413e-15], [-16.148437994682823, 13.40933384488005, 1.2852700010541437e-15], [-16.51928566212078, 13.209622173716895, 1.2951485498637732e-15], [-16.882302802192413, 13.003674355434379, 1.3048490884284333e-15], [-17.23752629782356, 12.791705325918747, 1.3143718789502568e-15], [-17.584998097275935, 12.573912285760121, 1.3237171906266337e-15], [-17.924737262151787, 12.350517426300717, 1.3328854108506038e-15], [-18.25674630904707, 12.12176459371367, 1.3418770254578732e-15], [-18.581034719897307, 11.88788526875288, 1.350692523287351e-15], [-18.89761880674359, 11.64909757510808, 1.359332393177946e-15], [-19.206520861693203, 11.405606421348342, 1.367797123968567e-15], [-19.507768344466122, 11.157603675875372, 1.3760872044981223e-15], [-19.801393106615244, 10.905268371789516, 1.3842031236055208e-15], [-20.087430651399668, 10.64876693880032, 1.3921453701296712e-15], [-20.365919428199792, 10.38825345953511, 1.3999144329094822e-15], [-20.636899313312693, 10.123871676663718, 1.4075108008469176e-15], [-20.90039853661841, 9.855782042323142, 1.4149349638664185e-15], [-21.156437373606753, 9.58415834295437, 1.422187412721992e-15], [-21.405039080383542, 9.309166382952023, 1.4292686381915885e-15], [-21.64622975550156, 9.030963493228846, 1.4361791310531583e-15], [-21.880037892770904, 8.749698702223341, 1.442919382084652e-15], [-22.106493954553436, 8.46551292017636, 1.44948988206402e-15], [-22.325629964990704, 8.178539135464764, 1.455891121769213e-15], [-22.53747912259277, 7.8889026218668405, 1.4621235919781805e-15], [-22.742075431597154, 7.596721155722343, 1.468187783468874e-15], [-22.939452935146846, 7.302106390377274, 1.4740841840548278e-15], [-23.12963960602048, 7.0051810255585085, 1.4798132353876828e-15], [-23.312659459945262, 6.706076002479576, 1.4853753426369196e-15], [-23.48853765034725, 6.404917176536454, 1.490770909977221e-15], [-23.65730036073092, 6.1018250838276105, 1.4960003415832703e-15], [-23.818974564626124, 5.796915095617347, 1.5010640416297502e-15], [-23.97358779746172, 5.490297578402342, 1.5059624142913442e-15], [-24.12116794006188, 5.182078059064001, 1.510695863742735e-15], [-24.26174301345947, 4.872357394625179, 1.5152647941586057e-15], [-24.395340984720242, 4.561231946167451, 1.5196696097136395e-15], [-24.52198938461713, 4.248794493742521, 1.5239107102917192e-15], [-24.641712536772303, 3.9351447982518626, 1.527988431573644e-15], [-24.754532724106635, 3.6203875391643443, 1.5319030598165525e-15], [-24.860472503693632, 3.3046242857102013, 1.5356548800062345e-15], [-24.95955463585618, 2.987953410240389, 1.53924417712848e-15], [-25.05180195932822, 2.6704702211753446, 1.5426712361690797e-15], [-25.13723727401657, 2.3522670982584977, 1.5459363421138233e-15], [-25.21588323120057, 2.033433629869865, 1.5490397799485009e-15], [-25.28776223101009, 1.714056752172538, 1.5519818346589027e-15], [-25.352896327026436, 1.394220889877785, 1.5547627912308192e-15], [-25.41130703897256, 1.0740085286600238, 1.557382929713078e-15], [-25.463014047354157, 0.753506152605264, 1.5598424591311913e-15], [-25.508035827426315, 0.43280295407322117, 1.5621415352578604e-15], [-25.546390746537494, 0.11198646656044196, 1.5642803125755648e-15], [-25.578097032790073, -0.20885743168157914, 1.5662589455667849e-15], [-25.603172721994962, -0.5296444013208094, 1.5680775887140004e-15], [-25.621635610093346, -0.8502915249603562, 1.5697363964996916e-15], [-25.63350321096539, -1.1707171896302908, 1.5712355234063384e-15], [-25.638792719549794, -1.4908409688855286, 1.5725751239164208e-15], [-25.637520980202318, -1.8105835046326189, 1.573755352512419e-15], [-25.6297043876206, -2.1298662148692533, 1.5747763583642697e-15], [-25.61535797200732, -2.4486089247311775, 1.5756382171217426e-15], [-25.594495788387725, -2.7667303405081562, 1.5763409507451278e-15], [-25.56713166958618, -3.0841496386772977, 1.5768845799715697e-15], [-25.53327923901928, -3.4007863990460776, 1.5772691255382128e-15], [-25.49295191092135, -3.716560498399033, 1.577494608182202e-15], [-25.44616289518547, -4.031392004563124, 1.5775610486406816e-15], [-25.392925206793624, -4.345201070996416, 1.5774684676507961e-15], [-25.333251679813234, -4.657907832001259, 1.5772168859496903e-15], [-25.26715498594093, -4.9694322986665, 1.5768063242745084e-15], [-25.194647549461582, -5.279694326732802, 1.576236797775719e-15], [-25.115740227935273, -5.588614366133879, 1.5755082471907635e-15], [-25.030442710749835, -5.896113003174716, 1.5746205603334784e-15], [-24.938764545230708, -6.202110169906651, 1.5735736238859856e-15], [-24.84071520426224, -6.506525025608879, 1.5723673245304067e-15], [-24.736304136872093, -6.809275854322346, 1.5710015489488632e-15], [-24.62554082351631, -7.110279963878059, 1.569476183823477e-15], [-24.50843483608206, -7.409453586543892, 1.56779111583637e-15], [-24.384995902628194, -7.706711781418274, 1.5659462316696636e-15], [-24.25523397688642, -8.001968338703875, 1.5639414180054795e-15], [-24.119159095075965, -8.295136028689164, 1.561776555757982e-15], [-23.97677881392867, -8.586130507025784, 1.55945145185911e-15], [-23.8280989243887, -8.8748686806199, 1.5569658619994826e-15], [-23.67312536888268, -9.161265557395998, 1.5543195408431474e-15], [-23.51186438547471, -9.445234078768772, 1.5515122430541508e-15], [-23.3443226197323, -9.726685016567096, 1.5485437232965401e-15], [-23.1705072423322, -10.005526873040814, 1.545413736234362e-15], [-22.990426072471408, -10.281665784158038, 1.5421220365316637e-15], [-22.8040877071484, -10.555005426413567, 1.5386683788524917e-15], [-22.611501656379396, -10.825446927381321, 1.5350525178608933e-15], [-22.41267804136936, -11.092889466303163, 1.531274202541353e-15], [-22.20762257866598, -11.357237857894596, 1.5273331116942667e-15], [-21.996338092547074, -11.618399286212462, 1.5232288767834492e-15], [-21.778828184335985, -11.876277450849175, 1.5189611283860108e-15], [-21.555097494681117, -12.13077234836157, 1.514529497079062e-15], [-21.32515190592131, -12.381780167627728, 1.509933613439713e-15], [-21.088998752566933, -12.62919319123916, 1.5051731080450739e-15], [-20.846647040025054, -12.872899703344231, 1.5002476114722554e-15], [-20.598107671689757, -13.112783904385191, 1.4951567542983676e-15], [-20.343393684510353, -13.348725833198571, 1.4899001671005208e-15], [-20.08251961639966, -13.58060245311734, 1.4844774756416244e-15], [-19.81549198651455, -13.808299936416553, 1.478888248343527e-15], [-19.542312492275798, -14.03170799435885, 1.4731320159698197e-15], [-19.262984861599545, -14.250710610540056, 1.4672083086259368e-15], [-18.977515312072615, -14.465185772021051, 1.4611166564173124e-15], [-18.68591290458719, -14.675005372179031, 1.4548565894493814e-15], [-18.388189909717045, -14.880035125823625, 1.4484276378275778e-15], [-18.0843621870437, -15.080134497494145, 1.4418293316573361e-15], [-17.77444957761117, -15.275156643913363, 1.4350612010440908e-15], [-17.458476309654134, -15.464948371632623, 1.4281227760932765e-15], [-17.136469690670392, -15.64935196025591, 1.4210135851818793e-15], [-16.808442133738083, -15.828223985841163, 1.4137331368348118e-15], [-16.474397851434777, -16.0014258583281, 1.406280926882773e-15], [-16.134345617814837, -16.168809833365824, 1.3986564509499368e-15], [-15.788299580509115, -16.33021871034844, 1.3908592046604775e-15], [-15.436279889991411, -16.485485780308107, 1.3828886836385686e-15], [-15.078313350344342, -16.634434800516342, 1.3747443835083839e-15], [-14.714434091772231, -16.77687999798224, 1.3664257998940972e-15], [-14.344684265003394, -16.912626104174084, 1.3579324284198827e-15], [-13.96911475760346, -17.04146842343188, 1.349263764709914e-15], [-13.587782553474923, -17.163195756479553, 1.3404193113023677e-15], [-13.200717066353556, -17.27761780287386, 1.3313986473425123e-15], [-12.807933987100782, -17.3845498858926, 1.3222013996671776e-15], [-12.409458947985785, -17.483792760239233, 1.312827195833723e-15], [-12.005328996500317, -17.575132376515615, 1.3032756633995092e-15], [-11.595593756979913, -17.658340005344996, 1.2935464299218958e-15], [-11.180316629586692, -17.733172424838337, 1.283639122958243e-15], [-10.759576026465915, -17.799372177060825, 1.2735533700659108e-15], [-10.33346664449456, -17.856667899500145, 1.2632887988022598e-15], [-9.90210077359447, -17.904774737880807, 1.2528450367246493e-15], [-9.465602694060538, -17.943399101282388, 1.2422217433763771e-15], [-9.024042425278214, -17.97227796664003, 1.2314189203289213e-15], [-8.577465667811278, -17.991153782129146, 1.2204367764410031e-15], [-8.12593996489041, -17.99974548304421, 1.2092755234720046e-15], [-7.669557528536333, -17.997748661860552, 1.1979353731813076e-15], [-7.208437503072073, -17.984836290143686, 1.1864165373282935e-15], [-6.742728291608207, -17.960659606254072, 1.1747192276723444e-15], [-6.27260994207369, -17.92484918492427, 1.162843655972842e-15], [-5.7982965877629935, -17.87701620565723, 1.1507900339891677e-15], [-5.320038935568408, -17.816753937711646, 1.1385585734807036e-15], [-4.83811309981597, -17.74364484436195, 1.126149583709729e-15], [-4.352695929630899, -17.657307368780796, 1.1135643805209179e-15], [-3.863927441376716, -17.55735897013545, 1.100804873588545e-15], [-3.3719976642670635, -17.44338114705902, 1.0878729802620412e-15], [-2.877152134553867, -17.314921369820325, 1.0747706178908372e-15], [-2.379696393562559, -17.17149589656927, 1.0614997038243636e-15], [-1.8800005515292404, -17.01259306627711, 1.0480621554120514e-15], [-1.3785038932709, -16.83767711610046, 1.0344598900033306e-15], [-0.8757194946087498, -16.646192572418634, 1.0206948249476322e-15], [-0.37223881055033203, -16.437569265786156, 1.0067688775943866e-15], [0.1312938001409344, -16.211232715498003, 9.926842676461586e-16], [0.634441567661087, -15.966639628885908, 9.784462294304198e-16], [1.1368298914885013, -15.703226400280402, 9.640617283244953e-16], [1.6379646230339473, -15.42037934801994, 9.495377503088505e-16], [2.137220869457326, -15.117443133571793, 9.34881281363951e-16], [2.6338339460464635, -14.79373091112867, 9.200993074702621e-16], [3.1268905237000264, -14.448535971871259, 9.051988146082491e-16], [3.6153201107935833, -14.081145030035112, 8.901867887583775e-16], [4.0978870432006165, -13.69085329398641, 8.750702159011127e-16], [4.573183194044211, -13.276981457104156, 8.598560820169201e-16], [5.039668204814752, -12.838890675711742, 8.445521835005086e-16], [5.496053086053002, -12.375945492961371, 8.291741233758375e-16], [5.941056580702224, -11.887487124982577, 8.137418674524611e-16], [6.373134234282239, -11.372863358618497, 7.982754292031855e-16], [6.79046342560235, -10.83145918263457, 7.827948221008173e-16], [7.190933108539981, -10.262731059170163, 7.673200596181624e-16], [7.5721360442245, -9.666245242629081, 7.518711552280273e-16], [7.931364205967145, -9.041720357458551, 7.364681224032181e-16], [8.265608156833721, -8.3890743670748, 7.211309746165413e-16], [8.571561319931808, -7.7084759623436145, 7.058797253408031e-16], [8.845685748879994, -7.0003855290922194, 6.907364961695514e-16], [9.084669144561701, -6.265455279874992, 6.7574303476248735e-16], [9.285142299924775, -5.504548441332377, 6.609517625085508e-16], [9.443392422433236, -4.718850748567706, 6.464152074607623e-16], [9.555372977462572, -3.909942882679367, 6.32185897672142e-16], [9.616723810828823, -3.079878566494065, 6.183163611957102e-16], [9.622799999351026, -2.2312694251357907, 6.048591260844876e-16], [9.568711126891296, -1.367377156589962, 5.918667203914942e-16], [9.449373169996962, -0.49221358141905225, 5.793916721697505e-16], [9.259575828568495, 0.3893508909577123, 5.674865094722767e-16], [8.994118700569297, 1.2711742613632566, 5.562042395968261e-16], [8.648692341775975, 2.1435095861827675, 5.456021831762024e-16], [8.220821604402383, 2.994711084807003, 5.35739943474149e-16], [7.709949257680514, 3.812988443507857, 5.266771445409495e-16], [7.117409111473083, 4.586707222314229, 5.184734104268884e-16], [6.4463387490838215, 5.304666805123395, 5.111883651822496e-16], [5.701537688138098, 5.95635339243284, 5.048816328573172e-16], [4.889281471171672, 6.532155196227738, 4.996128375023756e-16], [4.017104952101976, 7.023530968709209, 4.954416031677086e-16], [3.0935694500708886, 7.423127642654418, 4.924275539036003e-16], [2.128130526916413, 7.724709813905717, 4.906238373243324e-16], [1.1319117449137264, 7.922298633483766, 4.900272320641609e-16], [0.11757470137591264, 8.01133301027369, 4.906054927293287e-16], [-0.9013927621721188, 7.989608864823453, 4.923261340580786e-16], [-1.9111514464996051, 7.857438510825631, 4.951566707886535e-16], [-2.898015930379648, 7.617716618633273, 4.99064617659296e-16], [-3.848972499119284, 7.275889104203937, 5.040174894082489e-16], [-4.752186112234952, 6.8398214686908805, 5.099828007737551e-16], [-5.597471067920886, 6.319569964380266, 5.1692806649405715e-16], [-6.3767004118122435, 5.727066377029699, 5.24820801307398e-16], [-7.084337593891931, 5.075379978497568, 5.336261278794362e-16], [-7.718754988817053, 4.375334687280735, 5.432890292916932e-16], [-8.280248049119125, 3.6358426951506297, 5.537444003499004e-16], [-8.769788555826947, 2.8651577516816755, 5.649270605299043e-16], [-9.18892663521952, 2.0709179080735987, 5.767718293075518e-16], [-9.53971441411063, 1.2601713738810196, 5.892135261586894e-16], [-9.82463867800775, 0.4393967662653956, 6.021869705591638e-16], [-10.04655898288262, -0.3854805827282249, 6.156269819848218e-16], [-10.208648975853507, -1.209074420920403, 6.294683799115099e-16], [-10.314339708083288, -2.026523749777362, 6.43645983815075e-16], [-10.367294306428496, -2.833538008167236, 6.580973443954711e-16], [-10.371511480832378, -3.6268455356265528, 6.72782262000125e-16], [-10.330996620109639, -4.404000494147395, 6.876713785182504e-16], [-10.249554295627826, -5.163100889142112, 7.027354086285495e-16], [-10.130745157067087, -5.902715487584317, 7.179450670097249e-16], [-9.977854355147485, -6.621815772131113, 7.332710683404791e-16], [-9.79386903824108, -7.319711966344014, 7.486841272995144e-16], [-9.581463534278678, -7.995993439444455, 7.641549585655333e-16], [-9.342990982791434, -8.650473603377234, 7.796542768172382e-16], [-9.080480335460763, -9.283139255612388, 7.951527967333315e-16], [-8.795710885727729, -9.894071672366534, 8.106227182705953e-16], [-8.4907507774732, -10.483209802644529, 8.260479518691447e-16], [-8.167735451708623, -11.05052570961866, 8.414179580000006e-16], [-7.828611946038063, -11.596133519527083, 8.567222304608603e-16], [-7.475135355472379, -12.120262442394454, 8.719502630494212e-16], [-7.108869316594522, -12.623231223288572, 8.870915495633802e-16], [-6.731188506633495, -13.105424789892872, 9.02135583800435e-16], [-6.343282781380036, -13.56727303166237, 9.170718595582827e-16], [-5.946162626987905, -14.009231610059071, 9.318898706346205e-16], [-5.540665649647271, -14.431764672695005, 9.465791108271462e-16], [-5.1275120369746485, -14.83532305306912, 9.611296743343755e-16], [-4.707641943962764, -15.220304716734457, 9.755362379905914e-16], [-4.282049300354914, -15.587109475035007, 9.897955908472187e-16], [-3.8516227660677944, -15.936160084268865, 1.0039045332333134e-15], [-3.417148218718518, -16.26789284715801, 1.0178598654779317e-15], [-2.979312553669752, -16.58274898445202, 1.0316583879101294e-15], [-2.5387078118647617, -16.881166867315997, 1.0452969008589626e-15], [-2.095835552721063, -17.163575053448785, 1.0587722046534872e-15], [-1.6511114027227098, -17.430386067275556, 1.0720810996227589e-15], [-1.2048697226318688, -17.68199086332722, 1.0852203860958345e-15], [-0.7573977231789599, -17.91875622204398, 1.098187081696427e-15], [-0.30913108210993456, -18.141043522285496, 1.110979809991579e-15], [0.13945411055665757, -18.349216557572657, 1.1235979143368856e-15], [0.5879338215742739, -18.54363525964993, 1.1360407414831726e-15], [1.0359341148605512, -18.72465245865304, 1.148307638181264e-15], [1.4831286856247756, -18.892610995651474, 1.1603979511819847e-15], [1.9292363636341334, -19.04784114109294, 1.1723110272361593e-15], [2.374018603260505, -19.1906582973815, 1.1840462130946125e-15], [2.8172769748657913, -19.32136096414253, 1.1956028555081692e-15], [3.2588506692716424, -19.44022894524034, 1.206980301227654e-15], [3.6985984882824, -19.547526023079556, 1.2181779755893895e-15], [4.136300154965541, -19.643528618417612, 1.2291958664332051e-15], [4.5717155673792425, -19.728517015171672, 1.2400342067305397e-15], [5.0046312126264025, -19.802763106662617, 1.2506932304670891e-15], [5.434858927460946, -19.866529211926327, 1.2611731716285483e-15], [5.862234467930742, -19.920067069041146, 1.2714742642006137e-15], [6.286616092649067, -19.963616946668257, 1.2815967421689805e-15], [6.707883163666033, -19.99740686554351, 1.2915408395193448e-15], [7.1259347681194996, -20.021651921953886, 1.3013067902374022e-15], [7.540688363117068, -20.036553705558216, 1.3108948283088483e-15], [7.952069613164397, -20.042303711663617, 1.320305210655927e-15], [8.359958757979555, -20.039108081434993, 1.329538353239174e-15], [8.764224987524022, -20.02717638309239, 1.338594739397751e-15], [9.164751462438147, -20.00671079661619, 1.3474748527134274e-15], [9.561434577204745, -19.977905674520393, 1.3561791767679732e-15], [9.954183143168025, -19.940947195079367, 1.3647081951431575e-15], [10.342917586035963, -19.896013065219805, 1.3730623914207494e-15], [10.727569158783535, -19.843272269834344, 1.3812422491825191e-15], [11.108079170646729, -19.782884864416502, 1.3892482520102357e-15], [11.484398232693003, -19.71500180806303, 1.3970808834856685e-15], [11.856480542124336, -19.639767858388463, 1.4047406281894568e-15], [12.224254922723764, -19.557339770115753, 1.4122279774127755e-15], [12.587644406324028, -19.46787663415128, 1.419543425210368e-15], [12.94657956347937, -19.371531914801718, 1.426687465645561e-15], [13.300998054493828, -19.268453301604822, 1.4336605927816807e-15], [13.650844147714018, -19.15878261063177, 1.4404633006820542e-15], [13.996068248292726, -19.04265570864736, 1.4470960834100074e-15], [14.336626437609342, -18.92020245875774, 1.4535594350288668e-15], [14.672480023466413, -18.791546686238735, 1.4598538496019589e-15], [15.003595101115257, -18.656806163306392, 1.4659798211926102e-15], [15.329939235123755, -18.51609482998375, 1.4719378356402504e-15], [15.651465335313482, -18.369535561653013, 1.4777283252441733e-15], [15.968123081846782, -18.21725274976484, 1.4833517008732337e-15], [16.27986623087417, -18.059366779188185, 1.4888083733394528e-15], [16.586652335138115, -17.89599400187049, 1.4940987534548518e-15], [16.88844245165067, -17.72724673755146, 1.4992232520314523e-15], [17.185200856596474, -17.55323328589939, 1.5041822798812755e-15], [17.476894767482076, -17.37405794944813, 1.5089762478163433e-15], [17.763494072527134, -17.189821066746944, 1.5136055666486765e-15], [18.04497106727592, -17.00061905516393, 1.5180706471902967e-15], [18.321298541000562, -16.806545977777077, 1.5223718881747356e-15], [18.592440893282912, -16.60770191982427, 1.5265096121203275e-15], [18.85836068395153, -16.404187826984348, 1.5304841118986517e-15], [19.119022576885385, -16.196101959921247, 1.5342956803149082e-15], [19.37439316327921, -15.98353992459279, 1.5379446101742975e-15], [19.624440780980777, -15.766594717216153, 1.5414311942820199e-15], [19.86913533909254, -15.54535677539575, 1.5447557254432758e-15], [20.10844814783086, -15.319914035110541, 1.5479184964632652e-15], [20.342351753627288, -15.090351993276526, 1.5509198001471886e-15], [20.570819779453714, -14.856753775612336, 1.5537599293002463e-15], [20.79382585517369, -14.619201119599337, 1.5564391629343928e-15], [21.01133889112665, -14.377779242483491, 1.5589576956909578e-15], [21.22332666421008, -14.132573755087812, 1.5613156903211448e-15], [21.429757858418427, -13.88366868657364, 1.5635133095166527e-15], [21.63060195489565, -13.631146546231387, 1.5655507159691801e-15], [21.825829122287388, -13.375088392866761, 1.567428072370426e-15], [22.01541011138916, -13.11557390774581, 1.5691455414120887e-15], [22.19931615409364, -12.852681470938798, 1.5707032857858672e-15], [22.377518866640987, -12.586488240909176, 1.57210146818346e-15], [22.54999015717593, -12.31707023720239, 1.5733402512965663e-15], [22.716701688177142, -12.044502762258857, 1.5744197831451126e-15], [22.877622617099227, -11.768862205003924, 1.5753401247394476e-15], [23.032721296842226, -11.490224995577742, 1.5761013051372636e-15], [23.1819662034106, -11.20866698489391, 1.5767033533473038e-15], [23.32532587471612, -10.924263530441088, 1.5771462983783097e-15], [23.462768851954838, -10.637089585451022, 1.5774301692390248e-15], [23.594263625098925, -10.347219790227145, 1.577554994938191e-15], [23.719778582535934, -10.054728565529256, 1.577520804484551e-15], [23.839281964888723, -9.759690207916096, 1.5773276268868476e-15], [23.952741823054843, -9.462178986945439, 1.5769754911538231e-15], [24.06012582139964, -9.162268963566424, 1.5764644110756528e-15], [24.161400414502253, -8.860032778113455, 1.575794312928605e-15], [24.256531332699428, -8.555542836877676, 1.5749650917685886e-15], [24.345483870524095, -8.248872004531888, 1.5739766426129233e-15], [24.428222868566657, -7.940093715746493, 1.5728288604789287e-15], [24.504712699589742, -7.629282087463765, 1.5715216403839243e-15], [24.574917259364668, -7.31651203245367, 1.5700548773452299e-15], [24.63879996230757, -7.001859374057918, 1.568428466380165e-15], [24.696323741998707, -6.685400962023717, 1.5666423025060493e-15], [24.747451056672563, -6.36721478932876, 1.5646962807402026e-15], [24.792143890856995, -6.047379072540136, 1.5625902805170671e-15], [24.83036360189151, -5.725967638140334, 1.5603240943702233e-15], [24.86207069653403, -5.403053864773353, 1.557897484720349e-15], [24.88722482120945, -5.078712833847523, 1.5553102139587008e-15], [24.905784792868197, -4.753021475515817, 1.5525620444765367e-15], [24.91770863608633, -4.426058713320941, 1.5496527386651132e-15], [24.922953626553262, -4.097905609336637, 1.5465820589156874e-15], [24.92147634110825, -3.7686455096665417, 1.5433497676195167e-15], [24.913232714493244, -3.4383641901528086, 1.5399556271678579e-15], [24.898178102995907, -3.107150002137451, 1.536399399951968e-15], [24.876267342577073, -2.7750919207100746, 1.5326808333585908e-15], [24.84745450760039, -2.4422704957456784, 1.5287995936183683e-15], [24.81169248399027, -2.1087656544102913, 1.5247553196491999e-15], [24.768932982534476, -1.7746607270820332, 1.5205476503484026e-15], [24.719126640557977, -1.4400426437708742, 1.5161762246132937e-15], [24.662223133172684, -1.1050021272032406, 1.51164068134119e-15], [24.598171294392777, -0.7696338852033346, 1.5069406594294085e-15], [24.526919248435387, -0.43403680209448225, 1.5020757977752662e-15], [24.448414551534245, -0.09831412882282987, 1.4970457352760803e-15], [24.36260434460112, 0.23742632852443699, 1.4918501108291677e-15], [24.269435209505588, 0.5730756685008311, 1.4864885497745383e-15], [24.16885157256372, 0.9085390256487158, 1.4809606063242103e-15], [24.060796015391816, 1.2437221240604357, 1.4752658114441195e-15], [23.945209836774346, 1.5785247019208997, 1.469403696087088e-15], [23.822033276575034, 1.912840240206337, 1.4633737912059372e-15], [23.691205755638368, 2.2465556977660563, 1.4571756277534882e-15], [23.552666132560905, 2.5795512498236866, 1.4508087366825622e-15], [23.40635297797185, 2.9117000305415117, 1.444272648945981e-15], [23.252204866968803, 3.242867880350036, 1.4375668954965658e-15], [23.09016069035738, 3.5729130988149005, 1.4306910072871381e-15], [22.920158862639237, 3.901692530801699, 1.4236445125134088e-15], [22.742132260214838, 4.2290867536376675, 1.4164269253387653e-15], [22.556010836240752, 4.554976875440013, 1.409037755473568e-15], [22.36172356905015, 4.879233780528485, 1.4014765126263646e-15], [22.15919892149353, 5.201717743423493, 1.3937427065057029e-15], [21.948365329790967, 5.522278056198849, 1.3858358468201305e-15], [21.729151723904128, 5.840752666486784, 1.3777554432781957e-15], [21.501488080752612, 6.156967827784657, 1.3695010055884457e-15], [21.265306011584713, 6.4707377638783905, 1.3610720434594283e-15], [21.0205393847875, 6.7818643493737865, 1.3524680665996916e-15], [20.767121664612052, 7.090146833331598, 1.3436885906180816e-15], [20.504972214826765, 7.3954199193890044, 1.3347331602570222e-15], [20.234005795266096, 7.6975169037153925, 1.325601329235081e-15], [19.95413805476991, 7.996253520071863, 1.3162926512733419e-15], [19.665286487685115, 8.29142741165115, 1.3068066800928884e-15], [19.367371449401606, 8.582817635461698, 1.2971429694148047e-15], [19.060317235063177, 8.87018419916625, 1.287301072960174e-15], [18.744053224135456, 9.153267635059292, 1.2772805444500804e-15], [18.418515093366963, 9.43178861634515, 1.2670809376056073e-15], [18.083646100495514, 9.705447621371027, 1.2567018061478391e-15], [17.739389792533245, 9.973943780954393, 1.2461428162539237e-15], [17.385656117616737, 10.237044253260121, 1.235404172840115e-15], [17.02234714861006, 10.494513829363132, 1.2244862419620692e-15], [16.649370588829598, 10.746085843496115, 1.2133893897046886e-15], [16.266641861043514, 10.991461469534938, 1.2021139821528756e-15], [15.8740863251499, 11.230309110498647, 1.1906603853915316e-15], [15.471641632970323, 11.462263889135931, 1.1790289655055588e-15], [15.059260225767675, 11.6869272541815, 1.1672200885798597e-15], [14.636911979272105, 11.903866718389958, 1.155234120699336e-15], [14.204586999998075, 12.112615746023152, 1.1430714279488895e-15], [13.762278767922853, 12.312698014334714, 1.1307324607534056e-15], [13.309911987508466, 12.503709563373175, 1.1182180615791297e-15], [12.847405888520898, 12.68522657316399, 1.1055291867186997e-15], [12.374704498226366, 12.856770278650076, 1.092666792477049e-15], [11.891781455408712, 13.01780674687528, 1.079631835159112e-15], [11.398645109844576, 13.167746970126789, 1.0664252710698225e-15], [10.895343916938344, 13.305947317613963, 1.0530480565141142e-15], [10.381972130210531, 13.431710396452257, 1.0395011477969212e-15], [9.858675789360914, 13.544286377311536, 1.0257855012231772e-15], [9.325658995771406, 13.642874844641979, 1.0119020730978165e-15], [8.78313045377191, 13.726689974539738, 9.978530752628286e-16], [8.231091973208686, 13.79516242957167, 9.836463826462871e-16], [7.66952714154075, 13.847697820831375, 9.692914661178995e-16], [7.0984864535370304, 13.883591638190868, 9.547977966381961e-16], [6.518099271110933, 13.902031035564299, 9.401748451677079e-16], [5.9285864091756375, 13.902097688920014, 9.254320826669647e-16], [5.3302733570032395, 13.882771887735577, 9.105789800964973e-16], [4.723604117360048, 13.842938041716748, 8.956250084168359e-16], [4.10915561846609, 13.781391800114461, 8.80579638588511e-16], [3.487652621921052, 13.69684899499817, 8.654523415720531e-16], [2.8599200382547005, 13.587965424069019, 8.502523209519787e-16], [2.2266924965890715, 13.45335529374333, 8.349876100339832e-16], [1.588846371435422, 13.291533261981895, 8.19665922030899e-16], [0.9475011171427601, 13.10091516309516, 8.042949701476496e-16], [0.30404412766967437, 12.879840235794976, 7.888824675891576e-16], [-0.33984440855127107, 12.62659790181627, 7.734361275603463e-16], [-0.9821671730585187, 12.33945960893543, 7.579636632661384e-16], [-1.6205865594582962, 12.01671623864277, 7.42472787911457e-16], [-2.252403509260609, 11.65672154247241, 7.269712147012252e-16], [-2.8745393296250863, 11.257942006713018, 7.114666568403658e-16], [-3.483834358236586, 10.819137975135702, 6.959799541999651e-16], [-4.078071197076595, 10.339681710146769, 6.805877009240902e-16], [-4.655006349777128, 9.81894916221951, 6.65381291222144e-16], [-5.211978568035751, 9.256176657107346, 6.50452119415104e-16], [-5.745860631052858, 8.650501928858127, 6.358915798239475e-16], [-6.253006986418521, 8.00101152131139, 6.217910667696522e-16], [-6.729195401652275, 7.306796666633412, 6.082419745731954e-16], [-7.169560732669666, 6.567020776382478, 5.953356975555549e-16], [-7.568519086355558, 5.78100304597675, 5.831636300377077e-16], [-7.919681200443794, 4.9483244242055875, 5.718171663406318e-16], [-8.214847317145423, 4.0697063051612306, 5.613580618036162e-16], [-8.441778867525132, 3.1500948677030087, 5.517259050603427e-16], [-8.588378188668942, 2.1975390454088446, -1.4256115473787077e-15], [-8.644258979474651, 1.2224618519552382, -1.4039346030993129e-15], [-8.601201129682451, 0.2374279114072896, -1.3837055141278218e-15], [-8.453579068630535, -0.7432178129445646, -3.2489950369908844e-15], [-8.198727900955998, -1.7038325368741125, -3.2060047609759716e-15], [-7.837212844084186, -2.628062416355318, -3.1647379895437278e-15], [-7.372971812302246, -3.4995070826272765, -4.936798915371976e-15], [-6.813308388883539, -4.302427081887574, -4.874321832374563e-15]], &quot;color&quot;: &quot;#ff0000&quot;, &quot;opacity&quot;: 1.0, &quot;linewidth&quot;: 2.0}];\n",
       "    for ( var i=0 ; i < lines.length ; i++ ) addLine( lines[i] );\n",
       "\n",
       "    function addLine( json ) {\n",
       "\n",
       "        var geometry = new THREE.Geometry();\n",
       "        for ( var i=0 ; i < json.points.length ; i++ ) {\n",
       "            var v = json.points[i];\n",
       "            geometry.vertices.push( new THREE.Vector3( a[0]*v[0], a[1]*v[1], a[2]*v[2] ) );\n",
       "        }\n",
       "\n",
       "        var transparent = json.opacity < 1 ? true : false;\n",
       "        var material = new THREE.LineBasicMaterial( { color: json.color, linewidth: json.linewidth,\n",
       "                                                      transparent: transparent, opacity: json.opacity } );\n",
       "\n",
       "        var c = new THREE.Vector3();\n",
       "        geometry.computeBoundingBox();\n",
       "        geometry.boundingBox.getCenter( c );\n",
       "        geometry.translate( -c.x, -c.y, -c.z );\n",
       "\n",
       "        var mesh = new THREE.Line( geometry, material );\n",
       "        mesh.position.set( c.x, c.y, c.z );\n",
       "        mesh.userData = json;\n",
       "        scene.add( mesh );\n",
       "\n",
       "    }\n",
       "\n",
       "    var surfaces = [{&quot;vertices&quot;: [{&quot;x&quot;: 0.0, &quot;y&quot;: 0.0, &quot;z&quot;: -2.0}, {&quot;x&quot;: 0.30811574801987324, &quot;y&quot;: 0.054329119557074444, &quot;z&quot;: -1.9753766811902755}, {&quot;x&quot;: 0.31286893008046185, &quot;y&quot;: 0.0, &quot;z&quot;: -1.9753766811902755}, {&quot;x&quot;: 0.29400062486979234, &quot;y&quot;: 0.10700747630826818, &quot;z&quot;: -1.9753766811902755}, {&quot;x&quot;: 0.2709524415045373, &quot;y&quot;: 0.1564344650402309, &quot;z&quot;: -1.9753766811902755}, {&quot;x&quot;: 0.23967150531271786, &quot;y&quot;: 0.20110827171160506, &quot;z&quot;: -1.9753766811902755}, {&quot;x&quot;: 0.20110827171160509, &quot;y&quot;: 0.23967150531271786, &quot;z&quot;: -1.9753766811902755}, {&quot;x&quot;: 0.15643446504023095, &quot;y&quot;: 0.27095244150453723, &quot;z&quot;: -1.9753766811902755}, {&quot;x&quot;: 0.10700747630826822, &quot;y&quot;: 0.2940006248697923, &quot;z&quot;: -1.9753766811902755}, {&quot;x&quot;: 0.05432911955707447, &quot;y&quot;: 0.30811574801987324, &quot;z&quot;: -1.9753766811902755}, {&quot;x&quot;: 1.9157696688784732e-17, &quot;y&quot;: 0.31286893008046185, &quot;z&quot;: -1.9753766811902755}, {&quot;x&quot;: -0.05432911955707444, &quot;y&quot;: 0.30811574801987324, &quot;z&quot;: -1.9753766811902755}, {&quot;x&quot;: -0.10700747630826811, &quot;y&quot;: 0.29400062486979234, &quot;z&quot;: -1.9753766811902755}, {&quot;x&quot;: -0.15643446504023084, &quot;y&quot;: 0.2709524415045373, &quot;z&quot;: -1.9753766811902755}, {&quot;x&quot;: -0.20110827171160509, &quot;y&quot;: 0.23967150531271786, &quot;z&quot;: -1.9753766811902755}, {&quot;x&quot;: -0.23967150531271783, &quot;y&quot;: 0.2011082717116051, &quot;z&quot;: -1.9753766811902755}, {&quot;x&quot;: -0.27095244150453723, &quot;y&quot;: 0.15643446504023104, &quot;z&quot;: -1.9753766811902755}, {&quot;x&quot;: -0.2940006248697923, &quot;y&quot;: 0.10700747630826823, &quot;z&quot;: -1.9753766811902755}, {&quot;x&quot;: -0.30811574801987324, &quot;y&quot;: 0.05432911955707442, &quot;z&quot;: -1.9753766811902755}, {&quot;x&quot;: -0.31286893008046185, &quot;y&quot;: 3.8315393377569464e-17, &quot;z&quot;: -1.9753766811902755}, {&quot;x&quot;: -0.3081157480198733, &quot;y&quot;: -0.05432911955707435, &quot;z&quot;: -1.9753766811902755}, {&quot;x&quot;: -0.29400062486979234, &quot;y&quot;: -0.10700747630826817, &quot;z&quot;: -1.9753766811902755}, {&quot;x&quot;: -0.27095244150453723, &quot;y&quot;: -0.15643446504023095, &quot;z&quot;: -1.9753766811902755}, {&quot;x&quot;: -0.23967150531271797, &quot;y&quot;: -0.20110827171160495, &quot;z&quot;: -1.9753766811902755}, {&quot;x&quot;: -0.2011082717116051, &quot;y&quot;: -0.23967150531271783, &quot;z&quot;: -1.9753766811902755}, {&quot;x&quot;: -0.15643446504023106, &quot;y&quot;: -0.2709524415045372, &quot;z&quot;: -1.9753766811902755}, {&quot;x&quot;: -0.10700747630826814, &quot;y&quot;: -0.29400062486979234, &quot;z&quot;: -1.9753766811902755}, {&quot;x&quot;: -0.054329119557074444, &quot;y&quot;: -0.30811574801987324, &quot;z&quot;: -1.9753766811902755}, {&quot;x&quot;: -5.74730900663542e-17, &quot;y&quot;: -0.31286893008046185, &quot;z&quot;: -1.9753766811902755}, {&quot;x&quot;: 0.054329119557074326, &quot;y&quot;: -0.3081157480198733, &quot;z&quot;: -1.9753766811902755}, {&quot;x&quot;: 0.10700747630826828, &quot;y&quot;: -0.2940006248697923, &quot;z&quot;: -1.9753766811902755}, {&quot;x&quot;: 0.1564344650402307, &quot;y&quot;: -0.2709524415045374, &quot;z&quot;: -1.9753766811902755}, {&quot;x&quot;: 0.20110827171160506, &quot;y&quot;: -0.23967150531271791, &quot;z&quot;: -1.9753766811902755}, {&quot;x&quot;: 0.2396715053127178, &quot;y&quot;: -0.20110827171160514, &quot;z&quot;: -1.9753766811902755}, {&quot;x&quot;: 0.27095244150453734, &quot;y&quot;: -0.1564344650402308, &quot;z&quot;: -1.9753766811902755}, {&quot;x&quot;: 0.29400062486979234, &quot;y&quot;: -0.10700747630826815, &quot;z&quot;: -1.9753766811902755}, {&quot;x&quot;: 0.30811574801987324, &quot;y&quot;: -0.05432911955707446, &quot;z&quot;: -1.9753766811902755}, {&quot;x&quot;: 0.6086446637459563, &quot;y&quot;: 0.10732047588264337, &quot;z&quot;: -1.902113032590307}, {&quot;x&quot;: 0.6180339887498949, &quot;y&quot;: 0.0, &quot;z&quot;: -1.902113032590307}, {&quot;x&quot;: 0.5807619786231574, &quot;y&quot;: 0.21138007341237378, &quot;z&quot;: -1.902113032590307}, {&quot;x&quot;: 0.535233134659635, &quot;y&quot;: 0.3090169943749474, &quot;z&quot;: -1.902113032590307}, {&quot;x&quot;: 0.47344150274051394, &quot;y&quot;: 0.3972645903335824, &quot;z&quot;: -1.902113032590307}, {&quot;x&quot;: 0.3972645903335825, &quot;y&quot;: 0.47344150274051394, &quot;z&quot;: -1.902113032590307}, {&quot;x&quot;: 0.3090169943749475, &quot;y&quot;: 0.535233134659635, &quot;z&quot;: -1.902113032590307}, {&quot;x&quot;: 0.21138007341237386, &quot;y&quot;: 0.5807619786231574, &quot;z&quot;: -1.902113032590307}, {&quot;x&quot;: 0.10732047588264343, &quot;y&quot;: 0.6086446637459563, &quot;z&quot;: -1.902113032590307}, {&quot;x&quot;: 3.7843667304341506e-17, &quot;y&quot;: 0.6180339887498949, &quot;z&quot;: -1.902113032590307}, {&quot;x&quot;: -0.10732047588264336, &quot;y&quot;: 0.6086446637459563, &quot;z&quot;: -1.902113032590307}, {&quot;x&quot;: -0.21138007341237364, &quot;y&quot;: 0.5807619786231574, &quot;z&quot;: -1.902113032590307}, {&quot;x&quot;: -0.30901699437494734, &quot;y&quot;: 0.535233134659635, &quot;z&quot;: -1.902113032590307}, {&quot;x&quot;: -0.3972645903335825, &quot;y&quot;: 0.47344150274051394, &quot;z&quot;: -1.902113032590307}, {&quot;x&quot;: -0.4734415027405139, &quot;y&quot;: 0.3972645903335826, &quot;z&quot;: -1.902113032590307}, {&quot;x&quot;: -0.5352331346596348, &quot;y&quot;: 0.3090169943749477, &quot;z&quot;: -1.902113032590307}, {&quot;x&quot;: -0.5807619786231574, &quot;y&quot;: 0.2113800734123739, &quot;z&quot;: -1.902113032590307}, {&quot;x&quot;: -0.6086446637459563, &quot;y&quot;: 0.10732047588264333, &quot;z&quot;: -1.902113032590307}, {&quot;x&quot;: -0.6180339887498949, &quot;y&quot;: 7.568733460868301e-17, &quot;z&quot;: -1.902113032590307}, {&quot;x&quot;: -0.6086446637459563, &quot;y&quot;: -0.10732047588264318, &quot;z&quot;: -1.902113032590307}, {&quot;x&quot;: -0.5807619786231574, &quot;y&quot;: -0.21138007341237375, &quot;z&quot;: -1.902113032590307}, {&quot;x&quot;: -0.535233134659635, &quot;y&quot;: -0.3090169943749475, &quot;z&quot;: -1.902113032590307}, {&quot;x&quot;: -0.47344150274051416, &quot;y&quot;: -0.39726459033358225, &quot;z&quot;: -1.902113032590307}, {&quot;x&quot;: -0.3972645903335826, &quot;y&quot;: -0.4734415027405139, &quot;z&quot;: -1.902113032590307}, {&quot;x&quot;: -0.30901699437494773, &quot;y&quot;: -0.5352331346596347, &quot;z&quot;: -1.902113032590307}, {&quot;x&quot;: -0.21138007341237366, &quot;y&quot;: -0.5807619786231574, &quot;z&quot;: -1.902113032590307}, {&quot;x&quot;: -0.10732047588264337, &quot;y&quot;: -0.6086446637459563, &quot;z&quot;: -1.902113032590307}, {&quot;x&quot;: -1.135310019130245e-16, &quot;y&quot;: -0.6180339887498949, &quot;z&quot;: -1.902113032590307}, {&quot;x&quot;: 0.10732047588264315, &quot;y&quot;: -0.6086446637459563, &quot;z&quot;: -1.902113032590307}, {&quot;x&quot;: 0.21138007341237394, &quot;y&quot;: -0.5807619786231574, &quot;z&quot;: -1.902113032590307}, {&quot;x&quot;: 0.30901699437494706, &quot;y&quot;: -0.5352331346596352, &quot;z&quot;: -1.902113032590307}, {&quot;x&quot;: 0.3972645903335824, &quot;y&quot;: -0.47344150274051405, &quot;z&quot;: -1.902113032590307}, {&quot;x&quot;: 0.47344150274051383, &quot;y&quot;: -0.39726459033358263, &quot;z&quot;: -1.902113032590307}, {&quot;x&quot;: 0.5352331346596351, &quot;y&quot;: -0.30901699437494723, &quot;z&quot;: -1.902113032590307}, {&quot;x&quot;: 0.5807619786231574, &quot;y&quot;: -0.21138007341237372, &quot;z&quot;: -1.902113032590307}, {&quot;x&quot;: 0.6086446637459563, &quot;y&quot;: -0.1073204758826434, &quot;z&quot;: -1.902113032590307}, {&quot;x&quot;: 0.894186727874785, &quot;y&quot;: 0.15766924591574263, &quot;z&quot;: -1.7820130483767356}, {&quot;x&quot;: 0.9079809994790936, &quot;y&quot;: 0.0, &quot;z&quot;: -1.7820130483767356}, {&quot;x&quot;: 0.853223045024318, &quot;y&quot;: 0.3105477915788235, &quot;z&quot;: -1.7820130483767356}, {&quot;x&quot;: 0.7863346117024803, &quot;y&quot;: 0.45399049973954675, &quot;z&quot;: -1.7820130483767356}, {&quot;x&quot;: 0.6955537991085753, &quot;y&quot;: 0.5836389362959614, &quot;z&quot;: -1.7820130483767356}, {&quot;x&quot;: 0.5836389362959615, &quot;y&quot;: 0.6955537991085753, &quot;z&quot;: -1.7820130483767356}, {&quot;x&quot;: 0.4539904997395469, &quot;y&quot;: 0.7863346117024802, &quot;z&quot;: -1.7820130483767356}, {&quot;x&quot;: 0.3105477915788236, &quot;y&quot;: 0.8532230450243179, &quot;z&quot;: -1.7820130483767356}, {&quot;x&quot;: 0.1576692459157427, &quot;y&quot;: 0.894186727874785, &quot;z&quot;: -1.7820130483767356}, {&quot;x&quot;: 5.559780123493433e-17, &quot;y&quot;: 0.9079809994790936, &quot;z&quot;: -1.7820130483767356}, {&quot;x&quot;: -0.1576692459157426, &quot;y&quot;: 0.894186727874785, &quot;z&quot;: -1.7820130483767356}, {&quot;x&quot;: -0.31054779157882334, &quot;y&quot;: 0.853223045024318, &quot;z&quot;: -1.7820130483767356}, {&quot;x&quot;: -0.4539904997395466, &quot;y&quot;: 0.7863346117024803, &quot;z&quot;: -1.7820130483767356}, {&quot;x&quot;: -0.5836389362959615, &quot;y&quot;: 0.6955537991085753, &quot;z&quot;: -1.7820130483767356}, {&quot;x&quot;: -0.6955537991085752, &quot;y&quot;: 0.5836389362959616, &quot;z&quot;: -1.7820130483767356}, {&quot;x&quot;: -0.7863346117024801, &quot;y&quot;: 0.4539904997395471, &quot;z&quot;: -1.7820130483767356}, {&quot;x&quot;: -0.8532230450243179, &quot;y&quot;: 0.3105477915788237, &quot;z&quot;: -1.7820130483767356}, {&quot;x&quot;: -0.894186727874785, &quot;y&quot;: 0.15766924591574258, &quot;z&quot;: -1.7820130483767356}, {&quot;x&quot;: -0.9079809994790936, &quot;y&quot;: 1.1119560246986866e-16, &quot;z&quot;: -1.7820130483767356}, {&quot;x&quot;: -0.8941867278747851, &quot;y&quot;: -0.15766924591574236, &quot;z&quot;: -1.7820130483767356}, {&quot;x&quot;: -0.853223045024318, &quot;y&quot;: -0.31054779157882345, &quot;z&quot;: -1.7820130483767356}, {&quot;x&quot;: -0.7863346117024802, &quot;y&quot;: -0.4539904997395469, &quot;z&quot;: -1.7820130483767356}, {&quot;x&quot;: -0.6955537991085756, &quot;y&quot;: -0.5836389362959611, &quot;z&quot;: -1.7820130483767356}, {&quot;x&quot;: -0.5836389362959616, &quot;y&quot;: -0.6955537991085752, &quot;z&quot;: -1.7820130483767356}, {&quot;x&quot;: -0.4539904997395472, &quot;y&quot;: -0.78633461170248, &quot;z&quot;: -1.7820130483767356}, {&quot;x&quot;: -0.3105477915788234, &quot;y&quot;: -0.853223045024318, &quot;z&quot;: -1.7820130483767356}, {&quot;x&quot;: -0.15766924591574263, &quot;y&quot;: -0.894186727874785, &quot;z&quot;: -1.7820130483767356}, {&quot;x&quot;: -1.6679340370480298e-16, &quot;y&quot;: -0.9079809994790936, &quot;z&quot;: -1.7820130483767356}, {&quot;x&quot;: 0.1576692459157423, &quot;y&quot;: -0.8941867278747851, &quot;z&quot;: -1.7820130483767356}, {&quot;x&quot;: 0.3105477915788238, &quot;y&quot;: -0.8532230450243179, &quot;z&quot;: -1.7820130483767356}, {&quot;x&quot;: 0.4539904997395462, &quot;y&quot;: -0.7863346117024805, &quot;z&quot;: -1.7820130483767356}, {&quot;x&quot;: 0.5836389362959614, &quot;y&quot;: -0.6955537991085754, &quot;z&quot;: -1.7820130483767356}, {&quot;x&quot;: 0.6955537991085752, &quot;y&quot;: -0.5836389362959618, &quot;z&quot;: -1.7820130483767356}, {&quot;x&quot;: 0.7863346117024804, &quot;y&quot;: -0.4539904997395465, &quot;z&quot;: -1.7820130483767356}, {&quot;x&quot;: 0.853223045024318, &quot;y&quot;: -0.31054779157882345, &quot;z&quot;: -1.7820130483767356}, {&quot;x&quot;: 0.894186727874785, &quot;y&quot;: -0.15766924591574266, &quot;z&quot;: -1.7820130483767356}, {&quot;x&quot;: 1.1577109471277285, &quot;y&quot;: 0.2041356758401697, &quot;z&quot;: -1.618033988749895}, {&quot;x&quot;: 1.1755705045849463, &quot;y&quot;: 0.0, &quot;z&quot;: -1.618033988749895}, {&quot;x&quot;: 1.104674928372041, &quot;y&quot;: 0.402068792467572, &quot;z&quot;: -1.618033988749895}, {&quot;x&quot;: 1.0180739209102545, &quot;y&quot;: 0.587785252292473, &quot;z&quot;: -1.618033988749895}, {&quot;x&quot;: 0.9005392525318712, &quot;y&quot;: 0.7556421546601565, &quot;z&quot;: -1.618033988749895}, {&quot;x&quot;: 0.7556421546601566, &quot;y&quot;: 0.9005392525318712, &quot;z&quot;: -1.618033988749895}, {&quot;x&quot;: 0.5877852522924732, &quot;y&quot;: 1.0180739209102543, &quot;z&quot;: -1.618033988749895}, {&quot;x&quot;: 0.40206879246757216, &quot;y&quot;: 1.1046749283720407, &quot;z&quot;: -1.618033988749895}, {&quot;x&quot;: 0.20413567584016978, &quot;y&quot;: 1.1577109471277285, &quot;z&quot;: -1.618033988749895}, {&quot;x&quot;: 7.198293278059966e-17, &quot;y&quot;: 1.1755705045849463, &quot;z&quot;: -1.618033988749895}, {&quot;x&quot;: -0.20413567584016964, &quot;y&quot;: 1.1577109471277285, &quot;z&quot;: -1.618033988749895}, {&quot;x&quot;: -0.40206879246757177, &quot;y&quot;: 1.104674928372041, &quot;z&quot;: -1.618033988749895}, {&quot;x&quot;: -0.5877852522924729, &quot;y&quot;: 1.0180739209102545, &quot;z&quot;: -1.618033988749895}, {&quot;x&quot;: -0.7556421546601566, &quot;y&quot;: 0.9005392525318712, &quot;z&quot;: -1.618033988749895}, {&quot;x&quot;: -0.9005392525318711, &quot;y&quot;: 0.7556421546601567, &quot;z&quot;: -1.618033988749895}, {&quot;x&quot;: -1.0180739209102543, &quot;y&quot;: 0.5877852522924736, &quot;z&quot;: -1.618033988749895}, {&quot;x&quot;: -1.1046749283720407, &quot;y&quot;: 0.4020687924675722, &quot;z&quot;: -1.618033988749895}, {&quot;x&quot;: -1.1577109471277285, &quot;y&quot;: 0.20413567584016962, &quot;z&quot;: -1.618033988749895}, {&quot;x&quot;: -1.1755705045849463, &quot;y&quot;: 1.4396586556119933e-16, &quot;z&quot;: -1.618033988749895}, {&quot;x&quot;: -1.1577109471277287, &quot;y&quot;: -0.20413567584016934, &quot;z&quot;: -1.618033988749895}, {&quot;x&quot;: -1.104674928372041, &quot;y&quot;: -0.40206879246757193, &quot;z&quot;: -1.618033988749895}, {&quot;x&quot;: -1.0180739209102543, &quot;y&quot;: -0.5877852522924732, &quot;z&quot;: -1.618033988749895}, {&quot;x&quot;: -0.9005392525318715, &quot;y&quot;: -0.755642154660156, &quot;z&quot;: -1.618033988749895}, {&quot;x&quot;: -0.7556421546601567, &quot;y&quot;: -0.9005392525318711, &quot;z&quot;: -1.618033988749895}, {&quot;x&quot;: -0.5877852522924737, &quot;y&quot;: -1.018073920910254, &quot;z&quot;: -1.618033988749895}, {&quot;x&quot;: -0.4020687924675718, &quot;y&quot;: -1.104674928372041, &quot;z&quot;: -1.618033988749895}, {&quot;x&quot;: -0.2041356758401697, &quot;y&quot;: -1.1577109471277285, &quot;z&quot;: -1.618033988749895}, {&quot;x&quot;: -2.15948798341799e-16, &quot;y&quot;: -1.1755705045849463, &quot;z&quot;: -1.618033988749895}, {&quot;x&quot;: 0.20413567584016926, &quot;y&quot;: -1.1577109471277287, &quot;z&quot;: -1.618033988749895}, {&quot;x&quot;: 0.4020687924675723, &quot;y&quot;: -1.1046749283720407, &quot;z&quot;: -1.618033988749895}, {&quot;x&quot;: 0.5877852522924724, &quot;y&quot;: -1.018073920910255, &quot;z&quot;: -1.618033988749895}, {&quot;x&quot;: 0.7556421546601565, &quot;y&quot;: -0.9005392525318713, &quot;z&quot;: -1.618033988749895}, {&quot;x&quot;: 0.900539252531871, &quot;y&quot;: -0.7556421546601568, &quot;z&quot;: -1.618033988749895}, {&quot;x&quot;: 1.0180739209102545, &quot;y&quot;: -0.5877852522924727, &quot;z&quot;: -1.618033988749895}, {&quot;x&quot;: 1.104674928372041, &quot;y&quot;: -0.4020687924675719, &quot;z&quot;: -1.618033988749895}, {&quot;x&quot;: 1.1577109471277285, &quot;y&quot;: -0.20413567584016976, &quot;z&quot;: -1.618033988749895}, {&quot;x&quot;: 1.392728480640038, &quot;y&quot;: 0.2455756079379457, &quot;z&quot;: -1.414213562373095}, {&quot;x&quot;: 1.4142135623730951, &quot;y&quot;: 0.0, &quot;z&quot;: -1.414213562373095}, {&quot;x&quot;: 1.3289260487773495, &quot;y&quot;: 0.48368952529595055, &quot;z&quot;: -1.414213562373095}, {&quot;x&quot;: 1.2247448713915892, &quot;y&quot;: 0.7071067811865475, &quot;z&quot;: -1.414213562373095}, {&quot;x&quot;: 1.0833504408394037, &quot;y&quot;: 0.9090389553440873, &quot;z&quot;: -1.414213562373095}, {&quot;x&quot;: 0.9090389553440875, &quot;y&quot;: 1.0833504408394037, &quot;z&quot;: -1.414213562373095}, {&quot;x&quot;: 0.7071067811865477, &quot;y&quot;: 1.2247448713915892, &quot;z&quot;: -1.414213562373095}, {&quot;x&quot;: 0.48368952529595066, &quot;y&quot;: 1.3289260487773493, &quot;z&quot;: -1.414213562373095}, {&quot;x&quot;: 0.2455756079379458, &quot;y&quot;: 1.392728480640038, &quot;z&quot;: -1.414213562373095}, {&quot;x&quot;: 8.659560562354934e-17, &quot;y&quot;: 1.4142135623730951, &quot;z&quot;: -1.414213562373095}, {&quot;x&quot;: -0.24557560793794564, &quot;y&quot;: 1.392728480640038, &quot;z&quot;: -1.414213562373095}, {&quot;x&quot;: -0.4836895252959502, &quot;y&quot;: 1.3289260487773495, &quot;z&quot;: -1.414213562373095}, {&quot;x&quot;: -0.7071067811865472, &quot;y&quot;: 1.2247448713915892, &quot;z&quot;: -1.414213562373095}, {&quot;x&quot;: -0.9090389553440875, &quot;y&quot;: 1.0833504408394037, &quot;z&quot;: -1.414213562373095}, {&quot;x&quot;: -1.0833504408394037, &quot;y&quot;: 0.9090389553440876, &quot;z&quot;: -1.414213562373095}, {&quot;x&quot;: -1.224744871391589, &quot;y&quot;: 0.707106781186548, &quot;z&quot;: -1.414213562373095}, {&quot;x&quot;: -1.3289260487773493, &quot;y&quot;: 0.4836895252959508, &quot;z&quot;: -1.414213562373095}, {&quot;x&quot;: -1.392728480640038, &quot;y&quot;: 0.2455756079379456, &quot;z&quot;: -1.414213562373095}, {&quot;x&quot;: -1.4142135623730951, &quot;y&quot;: 1.7319121124709868e-16, &quot;z&quot;: -1.414213562373095}, {&quot;x&quot;: -1.3927284806400382, &quot;y&quot;: -0.24557560793794525, &quot;z&quot;: -1.414213562373095}, {&quot;x&quot;: -1.3289260487773495, &quot;y&quot;: -0.48368952529595044, &quot;z&quot;: -1.414213562373095}, {&quot;x&quot;: -1.2247448713915892, &quot;y&quot;: -0.7071067811865477, &quot;z&quot;: -1.414213562373095}, {&quot;x&quot;: -1.0833504408394041, &quot;y&quot;: -0.9090389553440869, &quot;z&quot;: -1.414213562373095}, {&quot;x&quot;: -0.9090389553440876, &quot;y&quot;: -1.0833504408394037, &quot;z&quot;: -1.414213562373095}, {&quot;x&quot;: -0.7071067811865482, &quot;y&quot;: -1.2247448713915887, &quot;z&quot;: -1.414213562373095}, {&quot;x&quot;: -0.4836895252959503, &quot;y&quot;: -1.3289260487773495, &quot;z&quot;: -1.414213562373095}, {&quot;x&quot;: -0.2455756079379457, &quot;y&quot;: -1.392728480640038, &quot;z&quot;: -1.414213562373095}, {&quot;x&quot;: -2.59786816870648e-16, &quot;y&quot;: -1.4142135623730951, &quot;z&quot;: -1.414213562373095}, {&quot;x&quot;: 0.24557560793794517, &quot;y&quot;: -1.3927284806400382, &quot;z&quot;: -1.414213562373095}, {&quot;x&quot;: 0.48368952529595094, &quot;y&quot;: -1.3289260487773493, &quot;z&quot;: -1.414213562373095}, {&quot;x&quot;: 0.7071067811865467, &quot;y&quot;: -1.2247448713915896, &quot;z&quot;: -1.414213562373095}, {&quot;x&quot;: 0.9090389553440873, &quot;y&quot;: -1.083350440839404, &quot;z&quot;: -1.414213562373095}, {&quot;x&quot;: 1.0833504408394035, &quot;y&quot;: -0.9090389553440877, &quot;z&quot;: -1.414213562373095}, {&quot;x&quot;: 1.2247448713915894, &quot;y&quot;: -0.7071067811865471, &quot;z&quot;: -1.414213562373095}, {&quot;x&quot;: 1.3289260487773495, &quot;y&quot;: -0.4836895252959504, &quot;z&quot;: -1.414213562373095}, {&quot;x&quot;: 1.392728480640038, &quot;y&quot;: -0.24557560793794575, &quot;z&quot;: -1.414213562373095}, {&quot;x&quot;: 1.5934524167581643, &quot;y&quot;: 0.2809686535495737, &quot;z&quot;: -1.1755705045849463}, {&quot;x&quot;: 1.618033988749895, &quot;y&quot;: 0.0, &quot;z&quot;: -1.1755705045849463}, {&quot;x&quot;: 1.520454599409066, &quot;y&quot;: 0.5534002167380425, &quot;z&quot;: -1.1755705045849463}, {&quot;x&quot;: 1.4012585384440737, &quot;y&quot;: 0.8090169943749473, &quot;z&quot;: -1.1755705045849463}, {&quot;x&quot;: 1.239485945859492, &quot;y&quot;: 1.0400522000201218, &quot;z&quot;: -1.1755705045849463}, {&quot;x&quot;: 1.0400522000201218, &quot;y&quot;: 1.239485945859492, &quot;z&quot;: -1.1755705045849463}, {&quot;x&quot;: 0.8090169943749477, &quot;y&quot;: 1.4012585384440734, &quot;z&quot;: -1.1755705045849463}, {&quot;x&quot;: 0.5534002167380426, &quot;y&quot;: 1.5204545994090657, &quot;z&quot;: -1.1755705045849463}, {&quot;x&quot;: 0.28096865354957384, &quot;y&quot;: 1.5934524167581643, &quot;z&quot;: -1.1755705045849463}, {&quot;x&quot;: 9.907600726170916e-17, &quot;y&quot;: 1.618033988749895, &quot;z&quot;: -1.1755705045849463}, {&quot;x&quot;: -0.2809686535495737, &quot;y&quot;: 1.5934524167581643, &quot;z&quot;: -1.1755705045849463}, {&quot;x&quot;: -0.5534002167380422, &quot;y&quot;: 1.520454599409066, &quot;z&quot;: -1.1755705045849463}, {&quot;x&quot;: -0.8090169943749471, &quot;y&quot;: 1.4012585384440737, &quot;z&quot;: -1.1755705045849463}, {&quot;x&quot;: -1.0400522000201218, &quot;y&quot;: 1.239485945859492, &quot;z&quot;: -1.1755705045849463}, {&quot;x&quot;: -1.2394859458594918, &quot;y&quot;: 1.040052200020122, &quot;z&quot;: -1.1755705045849463}, {&quot;x&quot;: -1.4012585384440732, &quot;y&quot;: 0.809016994374948, &quot;z&quot;: -1.1755705045849463}, {&quot;x&quot;: -1.5204545994090657, &quot;y&quot;: 0.5534002167380427, &quot;z&quot;: -1.1755705045849463}, {&quot;x&quot;: -1.5934524167581643, &quot;y&quot;: 0.2809686535495736, &quot;z&quot;: -1.1755705045849463}, {&quot;x&quot;: -1.618033988749895, &quot;y&quot;: 1.9815201452341832e-16, &quot;z&quot;: -1.1755705045849463}, {&quot;x&quot;: -1.5934524167581645, &quot;y&quot;: -0.28096865354957323, &quot;z&quot;: -1.1755705045849463}, {&quot;x&quot;: -1.520454599409066, &quot;y&quot;: -0.5534002167380424, &quot;z&quot;: -1.1755705045849463}, {&quot;x&quot;: -1.4012585384440734, &quot;y&quot;: -0.8090169943749477, &quot;z&quot;: -1.1755705045849463}, {&quot;x&quot;: -1.2394859458594925, &quot;y&quot;: -1.040052200020121, &quot;z&quot;: -1.1755705045849463}, {&quot;x&quot;: -1.040052200020122, &quot;y&quot;: -1.2394859458594918, &quot;z&quot;: -1.1755705045849463}, {&quot;x&quot;: -0.8090169943749481, &quot;y&quot;: -1.4012585384440732, &quot;z&quot;: -1.1755705045849463}, {&quot;x&quot;: -0.5534002167380422, &quot;y&quot;: -1.520454599409066, &quot;z&quot;: -1.1755705045849463}, {&quot;x&quot;: -0.2809686535495737, &quot;y&quot;: -1.5934524167581643, &quot;z&quot;: -1.1755705045849463}, {&quot;x&quot;: -2.9722802178512745e-16, &quot;y&quot;: -1.618033988749895, &quot;z&quot;: -1.1755705045849463}, {&quot;x&quot;: 0.2809686535495731, &quot;y&quot;: -1.5934524167581645, &quot;z&quot;: -1.1755705045849463}, {&quot;x&quot;: 0.553400216738043, &quot;y&quot;: -1.5204545994090657, &quot;z&quot;: -1.1755705045849463}, {&quot;x&quot;: 0.8090169943749463, &quot;y&quot;: -1.4012585384440743, &quot;z&quot;: -1.1755705045849463}, {&quot;x&quot;: 1.0400522000201218, &quot;y&quot;: -1.2394859458594922, &quot;z&quot;: -1.1755705045849463}, {&quot;x&quot;: 1.2394859458594916, &quot;y&quot;: -1.0400522000201222, &quot;z&quot;: -1.1755705045849463}, {&quot;x&quot;: 1.4012585384440739, &quot;y&quot;: -0.8090169943749469, &quot;z&quot;: -1.1755705045849463}, {&quot;x&quot;: 1.520454599409066, &quot;y&quot;: -0.5534002167380423, &quot;z&quot;: -1.1755705045849463}, {&quot;x&quot;: 1.5934524167581643, &quot;y&quot;: -0.2809686535495738, &quot;z&quot;: -1.1755705045849463}, {&quot;x&quot;: 1.7549402660103284, &quot;y&quot;: 0.30944331842931155, &quot;z&quot;: -0.9079809994790935}, {&quot;x&quot;: 1.7820130483767358, &quot;y&quot;: 0.0, &quot;z&quot;: -0.9079809994790935}, {&quot;x&quot;: 1.6745445117038207, &quot;y&quot;: 0.609484358214023, &quot;z&quot;: -0.9079809994790935}, {&quot;x&quot;: 1.5432685697696011, &quot;y&quot;: 0.8910065241883678, &quot;z&quot;: -0.9079809994790935}, {&quot;x&quot;: 1.365101193274509, &quot;y&quot;: 1.1454559077963054, &quot;z&quot;: -0.9079809994790935}, {&quot;x&quot;: 1.1454559077963054, &quot;y&quot;: 1.365101193274509, &quot;z&quot;: -0.9079809994790935}, {&quot;x&quot;: 0.8910065241883681, &quot;y&quot;: 1.543268569769601, &quot;z&quot;: -0.9079809994790935}, {&quot;x&quot;: 0.6094843582140231, &quot;y&quot;: 1.6745445117038205, &quot;z&quot;: -0.9079809994790935}, {&quot;x&quot;: 0.30944331842931166, &quot;y&quot;: 1.7549402660103284, &quot;z&quot;: -0.9079809994790935}, {&quot;x&quot;: 1.0911682878666935e-16, &quot;y&quot;: 1.7820130483767358, &quot;z&quot;: -0.9079809994790935}, {&quot;x&quot;: -0.3094433184293115, &quot;y&quot;: 1.7549402660103284, &quot;z&quot;: -0.9079809994790935}, {&quot;x&quot;: -0.6094843582140226, &quot;y&quot;: 1.6745445117038207, &quot;z&quot;: -0.9079809994790935}, {&quot;x&quot;: -0.8910065241883675, &quot;y&quot;: 1.5432685697696011, &quot;z&quot;: -0.9079809994790935}, {&quot;x&quot;: -1.1454559077963054, &quot;y&quot;: 1.365101193274509, &quot;z&quot;: -0.9079809994790935}, {&quot;x&quot;: -1.3651011932745087, &quot;y&quot;: 1.1454559077963056, &quot;z&quot;: -0.9079809994790935}, {&quot;x&quot;: -1.5432685697696007, &quot;y&quot;: 0.8910065241883685, &quot;z&quot;: -0.9079809994790935}, {&quot;x&quot;: -1.6745445117038205, &quot;y&quot;: 0.6094843582140232, &quot;z&quot;: -0.9079809994790935}, {&quot;x&quot;: -1.7549402660103284, &quot;y&quot;: 0.30944331842931144, &quot;z&quot;: -0.9079809994790935}, {&quot;x&quot;: -1.7820130483767358, &quot;y&quot;: 2.182336575733387e-16, &quot;z&quot;: -0.9079809994790935}, {&quot;x&quot;: -1.7549402660103286, &quot;y&quot;: -0.309443318429311, &quot;z&quot;: -0.9079809994790935}, {&quot;x&quot;: -1.6745445117038207, &quot;y&quot;: -0.6094843582140229, &quot;z&quot;: -0.9079809994790935}, {&quot;x&quot;: -1.543268569769601, &quot;y&quot;: -0.8910065241883681, &quot;z&quot;: -0.9079809994790935}, {&quot;x&quot;: -1.3651011932745096, &quot;y&quot;: -1.1454559077963047, &quot;z&quot;: -0.9079809994790935}, {&quot;x&quot;: -1.1454559077963056, &quot;y&quot;: -1.3651011932745087, &quot;z&quot;: -0.9079809994790935}, {&quot;x&quot;: -0.8910065241883687, &quot;y&quot;: -1.5432685697696005, &quot;z&quot;: -0.9079809994790935}, {&quot;x&quot;: -0.6094843582140227, &quot;y&quot;: -1.6745445117038207, &quot;z&quot;: -0.9079809994790935}, {&quot;x&quot;: -0.30944331842931155, &quot;y&quot;: -1.7549402660103284, &quot;z&quot;: -0.9079809994790935}, {&quot;x&quot;: -3.2735048636000803e-16, &quot;y&quot;: -1.7820130483767358, &quot;z&quot;: -0.9079809994790935}, {&quot;x&quot;: 0.3094433184293109, &quot;y&quot;: -1.7549402660103286, &quot;z&quot;: -0.9079809994790935}, {&quot;x&quot;: 0.6094843582140235, &quot;y&quot;: -1.6745445117038205, &quot;z&quot;: -0.9079809994790935}, {&quot;x&quot;: 0.8910065241883667, &quot;y&quot;: -1.5432685697696018, &quot;z&quot;: -0.9079809994790935}, {&quot;x&quot;: 1.1454559077963054, &quot;y&quot;: -1.3651011932745092, &quot;z&quot;: -0.9079809994790935}, {&quot;x&quot;: 1.3651011932745085, &quot;y&quot;: -1.1454559077963058, &quot;z&quot;: -0.9079809994790935}, {&quot;x&quot;: 1.5432685697696014, &quot;y&quot;: -0.8910065241883673, &quot;z&quot;: -0.9079809994790935}, {&quot;x&quot;: 1.6745445117038207, &quot;y&quot;: -0.6094843582140228, &quot;z&quot;: -0.9079809994790935}, {&quot;x&quot;: 1.7549402660103284, &quot;y&quot;: -0.3094433184293116, &quot;z&quot;: -0.9079809994790935}, {&quot;x&quot;: 1.8732156616004971, &quot;y&quot;: 0.3302984618258253, &quot;z&quot;: -0.6180339887498948}, {&quot;x&quot;: 1.902113032590307, &quot;y&quot;: 0.0, &quot;z&quot;: -0.6180339887498948}, {&quot;x&quot;: 1.7874015806258177, &quot;y&quot;: 0.6505609720281592, &quot;z&quot;: -0.6180339887498948}, {&quot;x&quot;: 1.647278207092664, &quot;y&quot;: 0.9510565162951534, &quot;z&quot;: -0.6180339887498948}, {&quot;x&quot;: 1.4571031187999923, &quot;y&quot;: 1.2226546895723378, &quot;z&quot;: -0.6180339887498948}, {&quot;x&quot;: 1.222654689572338, &quot;y&quot;: 1.4571031187999923, &quot;z&quot;: -0.6180339887498948}, {&quot;x&quot;: 0.9510565162951538, &quot;y&quot;: 1.6472782070926637, &quot;z&quot;: -0.6180339887498948}, {&quot;x&quot;: 0.6505609720281594, &quot;y&quot;: 1.7874015806258174, &quot;z&quot;: -0.6180339887498948}, {&quot;x&quot;: 0.33029846182582545, &quot;y&quot;: 1.8732156616004971, &quot;z&quot;: -0.6180339887498948}, {&quot;x&quot;: 1.1647083184890923e-16, &quot;y&quot;: 1.902113032590307, &quot;z&quot;: -0.6180339887498948}, {&quot;x&quot;: -0.33029846182582523, &quot;y&quot;: 1.8732156616004971, &quot;z&quot;: -0.6180339887498948}, {&quot;x&quot;: -0.6505609720281588, &quot;y&quot;: 1.7874015806258177, &quot;z&quot;: -0.6180339887498948}, {&quot;x&quot;: -0.9510565162951531, &quot;y&quot;: 1.647278207092664, &quot;z&quot;: -0.6180339887498948}, {&quot;x&quot;: -1.222654689572338, &quot;y&quot;: 1.4571031187999923, &quot;z&quot;: -0.6180339887498948}, {&quot;x&quot;: -1.457103118799992, &quot;y&quot;: 1.2226546895723382, &quot;z&quot;: -0.6180339887498948}, {&quot;x&quot;: -1.6472782070926635, &quot;y&quot;: 0.9510565162951542, &quot;z&quot;: -0.6180339887498948}, {&quot;x&quot;: -1.7874015806258174, &quot;y&quot;: 0.6505609720281595, &quot;z&quot;: -0.6180339887498948}, {&quot;x&quot;: -1.8732156616004971, &quot;y&quot;: 0.3302984618258252, &quot;z&quot;: -0.6180339887498948}, {&quot;x&quot;: -1.902113032590307, &quot;y&quot;: 2.3294166369781847e-16, &quot;z&quot;: -0.6180339887498948}, {&quot;x&quot;: -1.8732156616004974, &quot;y&quot;: -0.33029846182582473, &quot;z&quot;: -0.6180339887498948}, {&quot;x&quot;: -1.7874015806258177, &quot;y&quot;: -0.6505609720281591, &quot;z&quot;: -0.6180339887498948}, {&quot;x&quot;: -1.6472782070926637, &quot;y&quot;: -0.9510565162951538, &quot;z&quot;: -0.6180339887498948}, {&quot;x&quot;: -1.457103118799993, &quot;y&quot;: -1.2226546895723371, &quot;z&quot;: -0.6180339887498948}, {&quot;x&quot;: -1.2226546895723382, &quot;y&quot;: -1.457103118799992, &quot;z&quot;: -0.6180339887498948}, {&quot;x&quot;: -0.9510565162951544, &quot;y&quot;: -1.6472782070926633, &quot;z&quot;: -0.6180339887498948}, {&quot;x&quot;: -0.6505609720281589, &quot;y&quot;: -1.7874015806258177, &quot;z&quot;: -0.6180339887498948}, {&quot;x&quot;: -0.3302984618258253, &quot;y&quot;: -1.8732156616004971, &quot;z&quot;: -0.6180339887498948}, {&quot;x&quot;: -3.494124955467277e-16, &quot;y&quot;: -1.902113032590307, &quot;z&quot;: -0.6180339887498948}, {&quot;x&quot;: 0.3302984618258246, &quot;y&quot;: -1.8732156616004974, &quot;z&quot;: -0.6180339887498948}, {&quot;x&quot;: 0.6505609720281598, &quot;y&quot;: -1.7874015806258174, &quot;z&quot;: -0.6180339887498948}, {&quot;x&quot;: 0.9510565162951523, &quot;y&quot;: -1.6472782070926646, &quot;z&quot;: -0.6180339887498948}, {&quot;x&quot;: 1.2226546895723378, &quot;y&quot;: -1.4571031187999925, &quot;z&quot;: -0.6180339887498948}, {&quot;x&quot;: 1.4571031187999919, &quot;y&quot;: -1.2226546895723385, &quot;z&quot;: -0.6180339887498948}, {&quot;x&quot;: 1.6472782070926641, &quot;y&quot;: -0.9510565162951529, &quot;z&quot;: -0.6180339887498948}, {&quot;x&quot;: 1.7874015806258177, &quot;y&quot;: -0.650560972028159, &quot;z&quot;: -0.6180339887498948}, {&quot;x&quot;: 1.8732156616004971, &quot;y&quot;: -0.3302984618258254, &quot;z&quot;: -0.6180339887498948}, {&quot;x&quot;: 1.945366270755708, &quot;y&quot;: 0.34302056089444016, &quot;z&quot;: -0.31286893008046174}, {&quot;x&quot;: 1.9753766811902755, &quot;y&quot;: 0.0, &quot;z&quot;: -0.31286893008046174}, {&quot;x&quot;: 1.85624689058706, &quot;y&quot;: 0.6756186156228818, &quot;z&quot;: -0.31286893008046174}, {&quot;x&quot;: 1.7107263879541728, &quot;y&quot;: 0.9876883405951377, &quot;z&quot;: -0.31286893008046174}, {&quot;x&quot;: 1.5132263296926196, &quot;y&quot;: 1.2697476551328262, &quot;z&quot;: -0.31286893008046174}, {&quot;x&quot;: 1.2697476551328264, &quot;y&quot;: 1.5132263296926196, &quot;z&quot;: -0.31286893008046174}, {&quot;x&quot;: 0.987688340595138, &quot;y&quot;: 1.7107263879541725, &quot;z&quot;: -0.31286893008046174}, {&quot;x&quot;: 0.6756186156228821, &quot;y&quot;: 1.8562468905870597, &quot;z&quot;: -0.31286893008046174}, {&quot;x&quot;: 0.34302056089444033, &quot;y&quot;: 1.945366270755708, &quot;z&quot;: -0.31286893008046174}, {&quot;x&quot;: 1.2095693648649962e-16, &quot;y&quot;: 1.9753766811902755, &quot;z&quot;: -0.31286893008046174}, {&quot;x&quot;: -0.3430205608944401, &quot;y&quot;: 1.945366270755708, &quot;z&quot;: -0.31286893008046174}, {&quot;x&quot;: -0.6756186156228814, &quot;y&quot;: 1.85624689058706, &quot;z&quot;: -0.31286893008046174}, {&quot;x&quot;: -0.9876883405951373, &quot;y&quot;: 1.7107263879541728, &quot;z&quot;: -0.31286893008046174}, {&quot;x&quot;: -1.2697476551328264, &quot;y&quot;: 1.5132263296926196, &quot;z&quot;: -0.31286893008046174}, {&quot;x&quot;: -1.5132263296926194, &quot;y&quot;: 1.2697476551328266, &quot;z&quot;: -0.31286893008046174}, {&quot;x&quot;: -1.7107263879541723, &quot;y&quot;: 0.9876883405951384, &quot;z&quot;: -0.31286893008046174}, {&quot;x&quot;: -1.8562468905870597, &quot;y&quot;: 0.6756186156228822, &quot;z&quot;: -0.31286893008046174}, {&quot;x&quot;: -1.945366270755708, &quot;y&quot;: 0.34302056089444005, &quot;z&quot;: -0.31286893008046174}, {&quot;x&quot;: -1.9753766811902755, &quot;y&quot;: 2.4191387297299924e-16, &quot;z&quot;: -0.31286893008046174}, {&quot;x&quot;: -1.9453662707557082, &quot;y&quot;: -0.34302056089443955, &quot;z&quot;: -0.31286893008046174}, {&quot;x&quot;: -1.85624689058706, &quot;y&quot;: -0.6756186156228817, &quot;z&quot;: -0.31286893008046174}, {&quot;x&quot;: -1.7107263879541725, &quot;y&quot;: -0.987688340595138, &quot;z&quot;: -0.31286893008046174}, {&quot;x&quot;: -1.5132263296926203, &quot;y&quot;: -1.2697476551328255, &quot;z&quot;: -0.31286893008046174}, {&quot;x&quot;: -1.2697476551328266, &quot;y&quot;: -1.5132263296926194, &quot;z&quot;: -0.31286893008046174}, {&quot;x&quot;: -0.9876883405951387, &quot;y&quot;: -1.710726387954172, &quot;z&quot;: -0.31286893008046174}, {&quot;x&quot;: -0.6756186156228815, &quot;y&quot;: -1.85624689058706, &quot;z&quot;: -0.31286893008046174}, {&quot;x&quot;: -0.34302056089444016, &quot;y&quot;: -1.945366270755708, &quot;z&quot;: -0.31286893008046174}, {&quot;x&quot;: -3.6287080945949886e-16, &quot;y&quot;: -1.9753766811902755, &quot;z&quot;: -0.31286893008046174}, {&quot;x&quot;: 0.34302056089443944, &quot;y&quot;: -1.9453662707557082, &quot;z&quot;: -0.31286893008046174}, {&quot;x&quot;: 0.6756186156228824, &quot;y&quot;: -1.8562468905870597, &quot;z&quot;: -0.31286893008046174}, {&quot;x&quot;: 0.9876883405951364, &quot;y&quot;: -1.7107263879541734, &quot;z&quot;: -0.31286893008046174}, {&quot;x&quot;: 1.2697476551328262, &quot;y&quot;: -1.5132263296926198, &quot;z&quot;: -0.31286893008046174}, {&quot;x&quot;: 1.5132263296926192, &quot;y&quot;: -1.2697476551328268, &quot;z&quot;: -0.31286893008046174}, {&quot;x&quot;: 1.710726387954173, &quot;y&quot;: -0.9876883405951371, &quot;z&quot;: -0.31286893008046174}, {&quot;x&quot;: 1.85624689058706, &quot;y&quot;: -0.6756186156228816, &quot;z&quot;: -0.31286893008046174}, {&quot;x&quot;: 1.945366270755708, &quot;y&quot;: -0.3430205608944403, &quot;z&quot;: -0.31286893008046174}, {&quot;x&quot;: 1.969615506024416, &quot;y&quot;: 0.34729635533386066, &quot;z&quot;: 0.0}, {&quot;x&quot;: 2.0, &quot;y&quot;: 0.0, &quot;z&quot;: 0.0}, {&quot;x&quot;: 1.8793852415718169, &quot;y&quot;: 0.6840402866513374, &quot;z&quot;: 0.0}, {&quot;x&quot;: 1.7320508075688774, &quot;y&quot;: 0.9999999999999999, &quot;z&quot;: 0.0}, {&quot;x&quot;: 1.532088886237956, &quot;y&quot;: 1.2855752193730785, &quot;z&quot;: 0.0}, {&quot;x&quot;: 1.2855752193730787, &quot;y&quot;: 1.532088886237956, &quot;z&quot;: 0.0}, {&quot;x&quot;: 1.0000000000000002, &quot;y&quot;: 1.7320508075688772, &quot;z&quot;: 0.0}, {&quot;x&quot;: 0.6840402866513376, &quot;y&quot;: 1.8793852415718166, &quot;z&quot;: 0.0}, {&quot;x&quot;: 0.34729635533386083, &quot;y&quot;: 1.969615506024416, &quot;z&quot;: 0.0}, {&quot;x&quot;: 1.2246467991473532e-16, &quot;y&quot;: 2.0, &quot;z&quot;: 0.0}, {&quot;x&quot;: -0.3472963553338606, &quot;y&quot;: 1.969615506024416, &quot;z&quot;: 0.0}, {&quot;x&quot;: -0.684040286651337, &quot;y&quot;: 1.8793852415718169, &quot;z&quot;: 0.0}, {&quot;x&quot;: -0.9999999999999996, &quot;y&quot;: 1.7320508075688774, &quot;z&quot;: 0.0}, {&quot;x&quot;: -1.2855752193730787, &quot;y&quot;: 1.532088886237956, &quot;z&quot;: 0.0}, {&quot;x&quot;: -1.5320888862379558, &quot;y&quot;: 1.285575219373079, &quot;z&quot;: 0.0}, {&quot;x&quot;: -1.732050807568877, &quot;y&quot;: 1.0000000000000007, &quot;z&quot;: 0.0}, {&quot;x&quot;: -1.8793852415718166, &quot;y&quot;: 0.6840402866513378, &quot;z&quot;: 0.0}, {&quot;x&quot;: -1.969615506024416, &quot;y&quot;: 0.34729635533386055, &quot;z&quot;: 0.0}, {&quot;x&quot;: -2.0, &quot;y&quot;: 2.4492935982947064e-16, &quot;z&quot;: 0.0}, {&quot;x&quot;: -1.9696155060244163, &quot;y&quot;: -0.34729635533386005, &quot;z&quot;: 0.0}, {&quot;x&quot;: -1.8793852415718169, &quot;y&quot;: -0.6840402866513373, &quot;z&quot;: 0.0}, {&quot;x&quot;: -1.7320508075688772, &quot;y&quot;: -1.0000000000000002, &quot;z&quot;: 0.0}, {&quot;x&quot;: -1.5320888862379567, &quot;y&quot;: -1.2855752193730778, &quot;z&quot;: 0.0}, {&quot;x&quot;: -1.285575219373079, &quot;y&quot;: -1.5320888862379558, &quot;z&quot;: 0.0}, {&quot;x&quot;: -1.0000000000000009, &quot;y&quot;: -1.7320508075688767, &quot;z&quot;: 0.0}, {&quot;x&quot;: -0.6840402866513371, &quot;y&quot;: -1.8793852415718169, &quot;z&quot;: 0.0}, {&quot;x&quot;: -0.34729635533386066, &quot;y&quot;: -1.969615506024416, &quot;z&quot;: 0.0}, {&quot;x&quot;: -3.6739403974420594e-16, &quot;y&quot;: -2.0, &quot;z&quot;: 0.0}, {&quot;x&quot;: 0.34729635533385994, &quot;y&quot;: -1.9696155060244163, &quot;z&quot;: 0.0}, {&quot;x&quot;: 0.684040286651338, &quot;y&quot;: -1.8793852415718166, &quot;z&quot;: 0.0}, {&quot;x&quot;: 0.9999999999999987, &quot;y&quot;: -1.732050807568878, &quot;z&quot;: 0.0}, {&quot;x&quot;: 1.2855752193730785, &quot;y&quot;: -1.5320888862379562, &quot;z&quot;: 0.0}, {&quot;x&quot;: 1.5320888862379556, &quot;y&quot;: -1.2855752193730792, &quot;z&quot;: 0.0}, {&quot;x&quot;: 1.7320508075688776, &quot;y&quot;: -0.9999999999999993, &quot;z&quot;: 0.0}, {&quot;x&quot;: 1.8793852415718169, &quot;y&quot;: -0.6840402866513372, &quot;z&quot;: 0.0}, {&quot;x&quot;: 1.969615506024416, &quot;y&quot;: -0.3472963553338608, &quot;z&quot;: 0.0}, {&quot;x&quot;: 1.945366270755708, &quot;y&quot;: 0.34302056089444016, &quot;z&quot;: 0.3128689300804613}, {&quot;x&quot;: 1.9753766811902755, &quot;y&quot;: 0.0, &quot;z&quot;: 0.3128689300804613}, {&quot;x&quot;: 1.85624689058706, &quot;y&quot;: 0.6756186156228818, &quot;z&quot;: 0.3128689300804613}, {&quot;x&quot;: 1.7107263879541728, &quot;y&quot;: 0.9876883405951377, &quot;z&quot;: 0.3128689300804613}, {&quot;x&quot;: 1.5132263296926196, &quot;y&quot;: 1.2697476551328262, &quot;z&quot;: 0.3128689300804613}, {&quot;x&quot;: 1.2697476551328264, &quot;y&quot;: 1.5132263296926196, &quot;z&quot;: 0.3128689300804613}, {&quot;x&quot;: 0.987688340595138, &quot;y&quot;: 1.7107263879541725, &quot;z&quot;: 0.3128689300804613}, {&quot;x&quot;: 0.6756186156228821, &quot;y&quot;: 1.8562468905870597, &quot;z&quot;: 0.3128689300804613}, {&quot;x&quot;: 0.34302056089444033, &quot;y&quot;: 1.945366270755708, &quot;z&quot;: 0.3128689300804613}, {&quot;x&quot;: 1.2095693648649962e-16, &quot;y&quot;: 1.9753766811902755, &quot;z&quot;: 0.3128689300804613}, {&quot;x&quot;: -0.3430205608944401, &quot;y&quot;: 1.945366270755708, &quot;z&quot;: 0.3128689300804613}, {&quot;x&quot;: -0.6756186156228814, &quot;y&quot;: 1.85624689058706, &quot;z&quot;: 0.3128689300804613}, {&quot;x&quot;: -0.9876883405951373, &quot;y&quot;: 1.7107263879541728, &quot;z&quot;: 0.3128689300804613}, {&quot;x&quot;: -1.2697476551328264, &quot;y&quot;: 1.5132263296926196, &quot;z&quot;: 0.3128689300804613}, {&quot;x&quot;: -1.5132263296926194, &quot;y&quot;: 1.2697476551328266, &quot;z&quot;: 0.3128689300804613}, {&quot;x&quot;: -1.7107263879541723, &quot;y&quot;: 0.9876883405951384, &quot;z&quot;: 0.3128689300804613}, {&quot;x&quot;: -1.8562468905870597, &quot;y&quot;: 0.6756186156228822, &quot;z&quot;: 0.3128689300804613}, {&quot;x&quot;: -1.945366270755708, &quot;y&quot;: 0.34302056089444005, &quot;z&quot;: 0.3128689300804613}, {&quot;x&quot;: -1.9753766811902755, &quot;y&quot;: 2.4191387297299924e-16, &quot;z&quot;: 0.3128689300804613}, {&quot;x&quot;: -1.9453662707557082, &quot;y&quot;: -0.34302056089443955, &quot;z&quot;: 0.3128689300804613}, {&quot;x&quot;: -1.85624689058706, &quot;y&quot;: -0.6756186156228817, &quot;z&quot;: 0.3128689300804613}, {&quot;x&quot;: -1.7107263879541725, &quot;y&quot;: -0.987688340595138, &quot;z&quot;: 0.3128689300804613}, {&quot;x&quot;: -1.5132263296926203, &quot;y&quot;: -1.2697476551328255, &quot;z&quot;: 0.3128689300804613}, {&quot;x&quot;: -1.2697476551328266, &quot;y&quot;: -1.5132263296926194, &quot;z&quot;: 0.3128689300804613}, {&quot;x&quot;: -0.9876883405951387, &quot;y&quot;: -1.710726387954172, &quot;z&quot;: 0.3128689300804613}, {&quot;x&quot;: -0.6756186156228815, &quot;y&quot;: -1.85624689058706, &quot;z&quot;: 0.3128689300804613}, {&quot;x&quot;: -0.34302056089444016, &quot;y&quot;: -1.945366270755708, &quot;z&quot;: 0.3128689300804613}, {&quot;x&quot;: -3.6287080945949886e-16, &quot;y&quot;: -1.9753766811902755, &quot;z&quot;: 0.3128689300804613}, {&quot;x&quot;: 0.34302056089443944, &quot;y&quot;: -1.9453662707557082, &quot;z&quot;: 0.3128689300804613}, {&quot;x&quot;: 0.6756186156228824, &quot;y&quot;: -1.8562468905870597, &quot;z&quot;: 0.3128689300804613}, {&quot;x&quot;: 0.9876883405951364, &quot;y&quot;: -1.7107263879541734, &quot;z&quot;: 0.3128689300804613}, {&quot;x&quot;: 1.2697476551328262, &quot;y&quot;: -1.5132263296926198, &quot;z&quot;: 0.3128689300804613}, {&quot;x&quot;: 1.5132263296926192, &quot;y&quot;: -1.2697476551328268, &quot;z&quot;: 0.3128689300804613}, {&quot;x&quot;: 1.710726387954173, &quot;y&quot;: -0.9876883405951371, &quot;z&quot;: 0.3128689300804613}, {&quot;x&quot;: 1.85624689058706, &quot;y&quot;: -0.6756186156228816, &quot;z&quot;: 0.3128689300804613}, {&quot;x&quot;: 1.945366270755708, &quot;y&quot;: -0.3430205608944403, &quot;z&quot;: 0.3128689300804613}, {&quot;x&quot;: 1.8732156616004971, &quot;y&quot;: 0.3302984618258253, &quot;z&quot;: 0.6180339887498948}, {&quot;x&quot;: 1.902113032590307, &quot;y&quot;: 0.0, &quot;z&quot;: 0.6180339887498948}, {&quot;x&quot;: 1.7874015806258177, &quot;y&quot;: 0.6505609720281592, &quot;z&quot;: 0.6180339887498948}, {&quot;x&quot;: 1.647278207092664, &quot;y&quot;: 0.9510565162951534, &quot;z&quot;: 0.6180339887498948}, {&quot;x&quot;: 1.4571031187999923, &quot;y&quot;: 1.2226546895723378, &quot;z&quot;: 0.6180339887498948}, {&quot;x&quot;: 1.222654689572338, &quot;y&quot;: 1.4571031187999923, &quot;z&quot;: 0.6180339887498948}, {&quot;x&quot;: 0.9510565162951538, &quot;y&quot;: 1.6472782070926637, &quot;z&quot;: 0.6180339887498948}, {&quot;x&quot;: 0.6505609720281594, &quot;y&quot;: 1.7874015806258174, &quot;z&quot;: 0.6180339887498948}, {&quot;x&quot;: 0.33029846182582545, &quot;y&quot;: 1.8732156616004971, &quot;z&quot;: 0.6180339887498948}, {&quot;x&quot;: 1.1647083184890923e-16, &quot;y&quot;: 1.902113032590307, &quot;z&quot;: 0.6180339887498948}, {&quot;x&quot;: -0.33029846182582523, &quot;y&quot;: 1.8732156616004971, &quot;z&quot;: 0.6180339887498948}, {&quot;x&quot;: -0.6505609720281588, &quot;y&quot;: 1.7874015806258177, &quot;z&quot;: 0.6180339887498948}, {&quot;x&quot;: -0.9510565162951531, &quot;y&quot;: 1.647278207092664, &quot;z&quot;: 0.6180339887498948}, {&quot;x&quot;: -1.222654689572338, &quot;y&quot;: 1.4571031187999923, &quot;z&quot;: 0.6180339887498948}, {&quot;x&quot;: -1.457103118799992, &quot;y&quot;: 1.2226546895723382, &quot;z&quot;: 0.6180339887498948}, {&quot;x&quot;: -1.6472782070926635, &quot;y&quot;: 0.9510565162951542, &quot;z&quot;: 0.6180339887498948}, {&quot;x&quot;: -1.7874015806258174, &quot;y&quot;: 0.6505609720281595, &quot;z&quot;: 0.6180339887498948}, {&quot;x&quot;: -1.8732156616004971, &quot;y&quot;: 0.3302984618258252, &quot;z&quot;: 0.6180339887498948}, {&quot;x&quot;: -1.902113032590307, &quot;y&quot;: 2.3294166369781847e-16, &quot;z&quot;: 0.6180339887498948}, {&quot;x&quot;: -1.8732156616004974, &quot;y&quot;: -0.33029846182582473, &quot;z&quot;: 0.6180339887498948}, {&quot;x&quot;: -1.7874015806258177, &quot;y&quot;: -0.6505609720281591, &quot;z&quot;: 0.6180339887498948}, {&quot;x&quot;: -1.6472782070926637, &quot;y&quot;: -0.9510565162951538, &quot;z&quot;: 0.6180339887498948}, {&quot;x&quot;: -1.457103118799993, &quot;y&quot;: -1.2226546895723371, &quot;z&quot;: 0.6180339887498948}, {&quot;x&quot;: -1.2226546895723382, &quot;y&quot;: -1.457103118799992, &quot;z&quot;: 0.6180339887498948}, {&quot;x&quot;: -0.9510565162951544, &quot;y&quot;: -1.6472782070926633, &quot;z&quot;: 0.6180339887498948}, {&quot;x&quot;: -0.6505609720281589, &quot;y&quot;: -1.7874015806258177, &quot;z&quot;: 0.6180339887498948}, {&quot;x&quot;: -0.3302984618258253, &quot;y&quot;: -1.8732156616004971, &quot;z&quot;: 0.6180339887498948}, {&quot;x&quot;: -3.494124955467277e-16, &quot;y&quot;: -1.902113032590307, &quot;z&quot;: 0.6180339887498948}, {&quot;x&quot;: 0.3302984618258246, &quot;y&quot;: -1.8732156616004974, &quot;z&quot;: 0.6180339887498948}, {&quot;x&quot;: 0.6505609720281598, &quot;y&quot;: -1.7874015806258174, &quot;z&quot;: 0.6180339887498948}, {&quot;x&quot;: 0.9510565162951523, &quot;y&quot;: -1.6472782070926646, &quot;z&quot;: 0.6180339887498948}, {&quot;x&quot;: 1.2226546895723378, &quot;y&quot;: -1.4571031187999925, &quot;z&quot;: 0.6180339887498948}, {&quot;x&quot;: 1.4571031187999919, &quot;y&quot;: -1.2226546895723385, &quot;z&quot;: 0.6180339887498948}, {&quot;x&quot;: 1.6472782070926641, &quot;y&quot;: -0.9510565162951529, &quot;z&quot;: 0.6180339887498948}, {&quot;x&quot;: 1.7874015806258177, &quot;y&quot;: -0.650560972028159, &quot;z&quot;: 0.6180339887498948}, {&quot;x&quot;: 1.8732156616004971, &quot;y&quot;: -0.3302984618258254, &quot;z&quot;: 0.6180339887498948}, {&quot;x&quot;: 1.7549402660103284, &quot;y&quot;: 0.30944331842931155, &quot;z&quot;: 0.9079809994790935}, {&quot;x&quot;: 1.7820130483767358, &quot;y&quot;: 0.0, &quot;z&quot;: 0.9079809994790935}, {&quot;x&quot;: 1.6745445117038207, &quot;y&quot;: 0.609484358214023, &quot;z&quot;: 0.9079809994790935}, {&quot;x&quot;: 1.5432685697696011, &quot;y&quot;: 0.8910065241883678, &quot;z&quot;: 0.9079809994790935}, {&quot;x&quot;: 1.365101193274509, &quot;y&quot;: 1.1454559077963054, &quot;z&quot;: 0.9079809994790935}, {&quot;x&quot;: 1.1454559077963054, &quot;y&quot;: 1.365101193274509, &quot;z&quot;: 0.9079809994790935}, {&quot;x&quot;: 0.8910065241883681, &quot;y&quot;: 1.543268569769601, &quot;z&quot;: 0.9079809994790935}, {&quot;x&quot;: 0.6094843582140231, &quot;y&quot;: 1.6745445117038205, &quot;z&quot;: 0.9079809994790935}, {&quot;x&quot;: 0.30944331842931166, &quot;y&quot;: 1.7549402660103284, &quot;z&quot;: 0.9079809994790935}, {&quot;x&quot;: 1.0911682878666935e-16, &quot;y&quot;: 1.7820130483767358, &quot;z&quot;: 0.9079809994790935}, {&quot;x&quot;: -0.3094433184293115, &quot;y&quot;: 1.7549402660103284, &quot;z&quot;: 0.9079809994790935}, {&quot;x&quot;: -0.6094843582140226, &quot;y&quot;: 1.6745445117038207, &quot;z&quot;: 0.9079809994790935}, {&quot;x&quot;: -0.8910065241883675, &quot;y&quot;: 1.5432685697696011, &quot;z&quot;: 0.9079809994790935}, {&quot;x&quot;: -1.1454559077963054, &quot;y&quot;: 1.365101193274509, &quot;z&quot;: 0.9079809994790935}, {&quot;x&quot;: -1.3651011932745087, &quot;y&quot;: 1.1454559077963056, &quot;z&quot;: 0.9079809994790935}, {&quot;x&quot;: -1.5432685697696007, &quot;y&quot;: 0.8910065241883685, &quot;z&quot;: 0.9079809994790935}, {&quot;x&quot;: -1.6745445117038205, &quot;y&quot;: 0.6094843582140232, &quot;z&quot;: 0.9079809994790935}, {&quot;x&quot;: -1.7549402660103284, &quot;y&quot;: 0.30944331842931144, &quot;z&quot;: 0.9079809994790935}, {&quot;x&quot;: -1.7820130483767358, &quot;y&quot;: 2.182336575733387e-16, &quot;z&quot;: 0.9079809994790935}, {&quot;x&quot;: -1.7549402660103286, &quot;y&quot;: -0.309443318429311, &quot;z&quot;: 0.9079809994790935}, {&quot;x&quot;: -1.6745445117038207, &quot;y&quot;: -0.6094843582140229, &quot;z&quot;: 0.9079809994790935}, {&quot;x&quot;: -1.543268569769601, &quot;y&quot;: -0.8910065241883681, &quot;z&quot;: 0.9079809994790935}, {&quot;x&quot;: -1.3651011932745096, &quot;y&quot;: -1.1454559077963047, &quot;z&quot;: 0.9079809994790935}, {&quot;x&quot;: -1.1454559077963056, &quot;y&quot;: -1.3651011932745087, &quot;z&quot;: 0.9079809994790935}, {&quot;x&quot;: -0.8910065241883687, &quot;y&quot;: -1.5432685697696005, &quot;z&quot;: 0.9079809994790935}, {&quot;x&quot;: -0.6094843582140227, &quot;y&quot;: -1.6745445117038207, &quot;z&quot;: 0.9079809994790935}, {&quot;x&quot;: -0.30944331842931155, &quot;y&quot;: -1.7549402660103284, &quot;z&quot;: 0.9079809994790935}, {&quot;x&quot;: -3.2735048636000803e-16, &quot;y&quot;: -1.7820130483767358, &quot;z&quot;: 0.9079809994790935}, {&quot;x&quot;: 0.3094433184293109, &quot;y&quot;: -1.7549402660103286, &quot;z&quot;: 0.9079809994790935}, {&quot;x&quot;: 0.6094843582140235, &quot;y&quot;: -1.6745445117038205, &quot;z&quot;: 0.9079809994790935}, {&quot;x&quot;: 0.8910065241883667, &quot;y&quot;: -1.5432685697696018, &quot;z&quot;: 0.9079809994790935}, {&quot;x&quot;: 1.1454559077963054, &quot;y&quot;: -1.3651011932745092, &quot;z&quot;: 0.9079809994790935}, {&quot;x&quot;: 1.3651011932745085, &quot;y&quot;: -1.1454559077963058, &quot;z&quot;: 0.9079809994790935}, {&quot;x&quot;: 1.5432685697696014, &quot;y&quot;: -0.8910065241883673, &quot;z&quot;: 0.9079809994790935}, {&quot;x&quot;: 1.6745445117038207, &quot;y&quot;: -0.6094843582140228, &quot;z&quot;: 0.9079809994790935}, {&quot;x&quot;: 1.7549402660103284, &quot;y&quot;: -0.3094433184293116, &quot;z&quot;: 0.9079809994790935}, {&quot;x&quot;: 1.5934524167581643, &quot;y&quot;: 0.2809686535495737, &quot;z&quot;: 1.1755705045849463}, {&quot;x&quot;: 1.618033988749895, &quot;y&quot;: 0.0, &quot;z&quot;: 1.1755705045849463}, {&quot;x&quot;: 1.520454599409066, &quot;y&quot;: 0.5534002167380425, &quot;z&quot;: 1.1755705045849463}, {&quot;x&quot;: 1.4012585384440737, &quot;y&quot;: 0.8090169943749473, &quot;z&quot;: 1.1755705045849463}, {&quot;x&quot;: 1.239485945859492, &quot;y&quot;: 1.0400522000201218, &quot;z&quot;: 1.1755705045849463}, {&quot;x&quot;: 1.0400522000201218, &quot;y&quot;: 1.239485945859492, &quot;z&quot;: 1.1755705045849463}, {&quot;x&quot;: 0.8090169943749477, &quot;y&quot;: 1.4012585384440734, &quot;z&quot;: 1.1755705045849463}, {&quot;x&quot;: 0.5534002167380426, &quot;y&quot;: 1.5204545994090657, &quot;z&quot;: 1.1755705045849463}, {&quot;x&quot;: 0.28096865354957384, &quot;y&quot;: 1.5934524167581643, &quot;z&quot;: 1.1755705045849463}, {&quot;x&quot;: 9.907600726170916e-17, &quot;y&quot;: 1.618033988749895, &quot;z&quot;: 1.1755705045849463}, {&quot;x&quot;: -0.2809686535495737, &quot;y&quot;: 1.5934524167581643, &quot;z&quot;: 1.1755705045849463}, {&quot;x&quot;: -0.5534002167380422, &quot;y&quot;: 1.520454599409066, &quot;z&quot;: 1.1755705045849463}, {&quot;x&quot;: -0.8090169943749471, &quot;y&quot;: 1.4012585384440737, &quot;z&quot;: 1.1755705045849463}, {&quot;x&quot;: -1.0400522000201218, &quot;y&quot;: 1.239485945859492, &quot;z&quot;: 1.1755705045849463}, {&quot;x&quot;: -1.2394859458594918, &quot;y&quot;: 1.040052200020122, &quot;z&quot;: 1.1755705045849463}, {&quot;x&quot;: -1.4012585384440732, &quot;y&quot;: 0.809016994374948, &quot;z&quot;: 1.1755705045849463}, {&quot;x&quot;: -1.5204545994090657, &quot;y&quot;: 0.5534002167380427, &quot;z&quot;: 1.1755705045849463}, {&quot;x&quot;: -1.5934524167581643, &quot;y&quot;: 0.2809686535495736, &quot;z&quot;: 1.1755705045849463}, {&quot;x&quot;: -1.618033988749895, &quot;y&quot;: 1.9815201452341832e-16, &quot;z&quot;: 1.1755705045849463}, {&quot;x&quot;: -1.5934524167581645, &quot;y&quot;: -0.28096865354957323, &quot;z&quot;: 1.1755705045849463}, {&quot;x&quot;: -1.520454599409066, &quot;y&quot;: -0.5534002167380424, &quot;z&quot;: 1.1755705045849463}, {&quot;x&quot;: -1.4012585384440734, &quot;y&quot;: -0.8090169943749477, &quot;z&quot;: 1.1755705045849463}, {&quot;x&quot;: -1.2394859458594925, &quot;y&quot;: -1.040052200020121, &quot;z&quot;: 1.1755705045849463}, {&quot;x&quot;: -1.040052200020122, &quot;y&quot;: -1.2394859458594918, &quot;z&quot;: 1.1755705045849463}, {&quot;x&quot;: -0.8090169943749481, &quot;y&quot;: -1.4012585384440732, &quot;z&quot;: 1.1755705045849463}, {&quot;x&quot;: -0.5534002167380422, &quot;y&quot;: -1.520454599409066, &quot;z&quot;: 1.1755705045849463}, {&quot;x&quot;: -0.2809686535495737, &quot;y&quot;: -1.5934524167581643, &quot;z&quot;: 1.1755705045849463}, {&quot;x&quot;: -2.9722802178512745e-16, &quot;y&quot;: -1.618033988749895, &quot;z&quot;: 1.1755705045849463}, {&quot;x&quot;: 0.2809686535495731, &quot;y&quot;: -1.5934524167581645, &quot;z&quot;: 1.1755705045849463}, {&quot;x&quot;: 0.553400216738043, &quot;y&quot;: -1.5204545994090657, &quot;z&quot;: 1.1755705045849463}, {&quot;x&quot;: 0.8090169943749463, &quot;y&quot;: -1.4012585384440743, &quot;z&quot;: 1.1755705045849463}, {&quot;x&quot;: 1.0400522000201218, &quot;y&quot;: -1.2394859458594922, &quot;z&quot;: 1.1755705045849463}, {&quot;x&quot;: 1.2394859458594916, &quot;y&quot;: -1.0400522000201222, &quot;z&quot;: 1.1755705045849463}, {&quot;x&quot;: 1.4012585384440739, &quot;y&quot;: -0.8090169943749469, &quot;z&quot;: 1.1755705045849463}, {&quot;x&quot;: 1.520454599409066, &quot;y&quot;: -0.5534002167380423, &quot;z&quot;: 1.1755705045849463}, {&quot;x&quot;: 1.5934524167581643, &quot;y&quot;: -0.2809686535495738, &quot;z&quot;: 1.1755705045849463}, {&quot;x&quot;: 1.392728480640038, &quot;y&quot;: 0.2455756079379457, &quot;z&quot;: 1.414213562373095}, {&quot;x&quot;: 1.4142135623730951, &quot;y&quot;: 0.0, &quot;z&quot;: 1.414213562373095}, {&quot;x&quot;: 1.3289260487773495, &quot;y&quot;: 0.48368952529595055, &quot;z&quot;: 1.414213562373095}, {&quot;x&quot;: 1.2247448713915892, &quot;y&quot;: 0.7071067811865475, &quot;z&quot;: 1.414213562373095}, {&quot;x&quot;: 1.0833504408394037, &quot;y&quot;: 0.9090389553440873, &quot;z&quot;: 1.414213562373095}, {&quot;x&quot;: 0.9090389553440875, &quot;y&quot;: 1.0833504408394037, &quot;z&quot;: 1.414213562373095}, {&quot;x&quot;: 0.7071067811865477, &quot;y&quot;: 1.2247448713915892, &quot;z&quot;: 1.414213562373095}, {&quot;x&quot;: 0.48368952529595066, &quot;y&quot;: 1.3289260487773493, &quot;z&quot;: 1.414213562373095}, {&quot;x&quot;: 0.2455756079379458, &quot;y&quot;: 1.392728480640038, &quot;z&quot;: 1.414213562373095}, {&quot;x&quot;: 8.659560562354934e-17, &quot;y&quot;: 1.4142135623730951, &quot;z&quot;: 1.414213562373095}, {&quot;x&quot;: -0.24557560793794564, &quot;y&quot;: 1.392728480640038, &quot;z&quot;: 1.414213562373095}, {&quot;x&quot;: -0.4836895252959502, &quot;y&quot;: 1.3289260487773495, &quot;z&quot;: 1.414213562373095}, {&quot;x&quot;: -0.7071067811865472, &quot;y&quot;: 1.2247448713915892, &quot;z&quot;: 1.414213562373095}, {&quot;x&quot;: -0.9090389553440875, &quot;y&quot;: 1.0833504408394037, &quot;z&quot;: 1.414213562373095}, {&quot;x&quot;: -1.0833504408394037, &quot;y&quot;: 0.9090389553440876, &quot;z&quot;: 1.414213562373095}, {&quot;x&quot;: -1.224744871391589, &quot;y&quot;: 0.707106781186548, &quot;z&quot;: 1.414213562373095}, {&quot;x&quot;: -1.3289260487773493, &quot;y&quot;: 0.4836895252959508, &quot;z&quot;: 1.414213562373095}, {&quot;x&quot;: -1.392728480640038, &quot;y&quot;: 0.2455756079379456, &quot;z&quot;: 1.414213562373095}, {&quot;x&quot;: -1.4142135623730951, &quot;y&quot;: 1.7319121124709868e-16, &quot;z&quot;: 1.414213562373095}, {&quot;x&quot;: -1.3927284806400382, &quot;y&quot;: -0.24557560793794525, &quot;z&quot;: 1.414213562373095}, {&quot;x&quot;: -1.3289260487773495, &quot;y&quot;: -0.48368952529595044, &quot;z&quot;: 1.414213562373095}, {&quot;x&quot;: -1.2247448713915892, &quot;y&quot;: -0.7071067811865477, &quot;z&quot;: 1.414213562373095}, {&quot;x&quot;: -1.0833504408394041, &quot;y&quot;: -0.9090389553440869, &quot;z&quot;: 1.414213562373095}, {&quot;x&quot;: -0.9090389553440876, &quot;y&quot;: -1.0833504408394037, &quot;z&quot;: 1.414213562373095}, {&quot;x&quot;: -0.7071067811865482, &quot;y&quot;: -1.2247448713915887, &quot;z&quot;: 1.414213562373095}, {&quot;x&quot;: -0.4836895252959503, &quot;y&quot;: -1.3289260487773495, &quot;z&quot;: 1.414213562373095}, {&quot;x&quot;: -0.2455756079379457, &quot;y&quot;: -1.392728480640038, &quot;z&quot;: 1.414213562373095}, {&quot;x&quot;: -2.59786816870648e-16, &quot;y&quot;: -1.4142135623730951, &quot;z&quot;: 1.414213562373095}, {&quot;x&quot;: 0.24557560793794517, &quot;y&quot;: -1.3927284806400382, &quot;z&quot;: 1.414213562373095}, {&quot;x&quot;: 0.48368952529595094, &quot;y&quot;: -1.3289260487773493, &quot;z&quot;: 1.414213562373095}, {&quot;x&quot;: 0.7071067811865467, &quot;y&quot;: -1.2247448713915896, &quot;z&quot;: 1.414213562373095}, {&quot;x&quot;: 0.9090389553440873, &quot;y&quot;: -1.083350440839404, &quot;z&quot;: 1.414213562373095}, {&quot;x&quot;: 1.0833504408394035, &quot;y&quot;: -0.9090389553440877, &quot;z&quot;: 1.414213562373095}, {&quot;x&quot;: 1.2247448713915894, &quot;y&quot;: -0.7071067811865471, &quot;z&quot;: 1.414213562373095}, {&quot;x&quot;: 1.3289260487773495, &quot;y&quot;: -0.4836895252959504, &quot;z&quot;: 1.414213562373095}, {&quot;x&quot;: 1.392728480640038, &quot;y&quot;: -0.24557560793794575, &quot;z&quot;: 1.414213562373095}, {&quot;x&quot;: 1.1577109471277285, &quot;y&quot;: 0.2041356758401697, &quot;z&quot;: 1.618033988749895}, {&quot;x&quot;: 1.1755705045849463, &quot;y&quot;: 0.0, &quot;z&quot;: 1.618033988749895}, {&quot;x&quot;: 1.104674928372041, &quot;y&quot;: 0.402068792467572, &quot;z&quot;: 1.618033988749895}, {&quot;x&quot;: 1.0180739209102545, &quot;y&quot;: 0.587785252292473, &quot;z&quot;: 1.618033988749895}, {&quot;x&quot;: 0.9005392525318712, &quot;y&quot;: 0.7556421546601565, &quot;z&quot;: 1.618033988749895}, {&quot;x&quot;: 0.7556421546601566, &quot;y&quot;: 0.9005392525318712, &quot;z&quot;: 1.618033988749895}, {&quot;x&quot;: 0.5877852522924732, &quot;y&quot;: 1.0180739209102543, &quot;z&quot;: 1.618033988749895}, {&quot;x&quot;: 0.40206879246757216, &quot;y&quot;: 1.1046749283720407, &quot;z&quot;: 1.618033988749895}, {&quot;x&quot;: 0.20413567584016978, &quot;y&quot;: 1.1577109471277285, &quot;z&quot;: 1.618033988749895}, {&quot;x&quot;: 7.198293278059966e-17, &quot;y&quot;: 1.1755705045849463, &quot;z&quot;: 1.618033988749895}, {&quot;x&quot;: -0.20413567584016964, &quot;y&quot;: 1.1577109471277285, &quot;z&quot;: 1.618033988749895}, {&quot;x&quot;: -0.40206879246757177, &quot;y&quot;: 1.104674928372041, &quot;z&quot;: 1.618033988749895}, {&quot;x&quot;: -0.5877852522924729, &quot;y&quot;: 1.0180739209102545, &quot;z&quot;: 1.618033988749895}, {&quot;x&quot;: -0.7556421546601566, &quot;y&quot;: 0.9005392525318712, &quot;z&quot;: 1.618033988749895}, {&quot;x&quot;: -0.9005392525318711, &quot;y&quot;: 0.7556421546601567, &quot;z&quot;: 1.618033988749895}, {&quot;x&quot;: -1.0180739209102543, &quot;y&quot;: 0.5877852522924736, &quot;z&quot;: 1.618033988749895}, {&quot;x&quot;: -1.1046749283720407, &quot;y&quot;: 0.4020687924675722, &quot;z&quot;: 1.618033988749895}, {&quot;x&quot;: -1.1577109471277285, &quot;y&quot;: 0.20413567584016962, &quot;z&quot;: 1.618033988749895}, {&quot;x&quot;: -1.1755705045849463, &quot;y&quot;: 1.4396586556119933e-16, &quot;z&quot;: 1.618033988749895}, {&quot;x&quot;: -1.1577109471277287, &quot;y&quot;: -0.20413567584016934, &quot;z&quot;: 1.618033988749895}, {&quot;x&quot;: -1.104674928372041, &quot;y&quot;: -0.40206879246757193, &quot;z&quot;: 1.618033988749895}, {&quot;x&quot;: -1.0180739209102543, &quot;y&quot;: -0.5877852522924732, &quot;z&quot;: 1.618033988749895}, {&quot;x&quot;: -0.9005392525318715, &quot;y&quot;: -0.755642154660156, &quot;z&quot;: 1.618033988749895}, {&quot;x&quot;: -0.7556421546601567, &quot;y&quot;: -0.9005392525318711, &quot;z&quot;: 1.618033988749895}, {&quot;x&quot;: -0.5877852522924737, &quot;y&quot;: -1.018073920910254, &quot;z&quot;: 1.618033988749895}, {&quot;x&quot;: -0.4020687924675718, &quot;y&quot;: -1.104674928372041, &quot;z&quot;: 1.618033988749895}, {&quot;x&quot;: -0.2041356758401697, &quot;y&quot;: -1.1577109471277285, &quot;z&quot;: 1.618033988749895}, {&quot;x&quot;: -2.15948798341799e-16, &quot;y&quot;: -1.1755705045849463, &quot;z&quot;: 1.618033988749895}, {&quot;x&quot;: 0.20413567584016926, &quot;y&quot;: -1.1577109471277287, &quot;z&quot;: 1.618033988749895}, {&quot;x&quot;: 0.4020687924675723, &quot;y&quot;: -1.1046749283720407, &quot;z&quot;: 1.618033988749895}, {&quot;x&quot;: 0.5877852522924724, &quot;y&quot;: -1.018073920910255, &quot;z&quot;: 1.618033988749895}, {&quot;x&quot;: 0.7556421546601565, &quot;y&quot;: -0.9005392525318713, &quot;z&quot;: 1.618033988749895}, {&quot;x&quot;: 0.900539252531871, &quot;y&quot;: -0.7556421546601568, &quot;z&quot;: 1.618033988749895}, {&quot;x&quot;: 1.0180739209102545, &quot;y&quot;: -0.5877852522924727, &quot;z&quot;: 1.618033988749895}, {&quot;x&quot;: 1.104674928372041, &quot;y&quot;: -0.4020687924675719, &quot;z&quot;: 1.618033988749895}, {&quot;x&quot;: 1.1577109471277285, &quot;y&quot;: -0.20413567584016976, &quot;z&quot;: 1.618033988749895}, {&quot;x&quot;: 0.894186727874785, &quot;y&quot;: 0.15766924591574263, &quot;z&quot;: 1.7820130483767356}, {&quot;x&quot;: 0.9079809994790936, &quot;y&quot;: 0.0, &quot;z&quot;: 1.7820130483767356}, {&quot;x&quot;: 0.853223045024318, &quot;y&quot;: 0.3105477915788235, &quot;z&quot;: 1.7820130483767356}, {&quot;x&quot;: 0.7863346117024803, &quot;y&quot;: 0.45399049973954675, &quot;z&quot;: 1.7820130483767356}, {&quot;x&quot;: 0.6955537991085753, &quot;y&quot;: 0.5836389362959614, &quot;z&quot;: 1.7820130483767356}, {&quot;x&quot;: 0.5836389362959615, &quot;y&quot;: 0.6955537991085753, &quot;z&quot;: 1.7820130483767356}, {&quot;x&quot;: 0.4539904997395469, &quot;y&quot;: 0.7863346117024802, &quot;z&quot;: 1.7820130483767356}, {&quot;x&quot;: 0.3105477915788236, &quot;y&quot;: 0.8532230450243179, &quot;z&quot;: 1.7820130483767356}, {&quot;x&quot;: 0.1576692459157427, &quot;y&quot;: 0.894186727874785, &quot;z&quot;: 1.7820130483767356}, {&quot;x&quot;: 5.559780123493433e-17, &quot;y&quot;: 0.9079809994790936, &quot;z&quot;: 1.7820130483767356}, {&quot;x&quot;: -0.1576692459157426, &quot;y&quot;: 0.894186727874785, &quot;z&quot;: 1.7820130483767356}, {&quot;x&quot;: -0.31054779157882334, &quot;y&quot;: 0.853223045024318, &quot;z&quot;: 1.7820130483767356}, {&quot;x&quot;: -0.4539904997395466, &quot;y&quot;: 0.7863346117024803, &quot;z&quot;: 1.7820130483767356}, {&quot;x&quot;: -0.5836389362959615, &quot;y&quot;: 0.6955537991085753, &quot;z&quot;: 1.7820130483767356}, {&quot;x&quot;: -0.6955537991085752, &quot;y&quot;: 0.5836389362959616, &quot;z&quot;: 1.7820130483767356}, {&quot;x&quot;: -0.7863346117024801, &quot;y&quot;: 0.4539904997395471, &quot;z&quot;: 1.7820130483767356}, {&quot;x&quot;: -0.8532230450243179, &quot;y&quot;: 0.3105477915788237, &quot;z&quot;: 1.7820130483767356}, {&quot;x&quot;: -0.894186727874785, &quot;y&quot;: 0.15766924591574258, &quot;z&quot;: 1.7820130483767356}, {&quot;x&quot;: -0.9079809994790936, &quot;y&quot;: 1.1119560246986866e-16, &quot;z&quot;: 1.7820130483767356}, {&quot;x&quot;: -0.8941867278747851, &quot;y&quot;: -0.15766924591574236, &quot;z&quot;: 1.7820130483767356}, {&quot;x&quot;: -0.853223045024318, &quot;y&quot;: -0.31054779157882345, &quot;z&quot;: 1.7820130483767356}, {&quot;x&quot;: -0.7863346117024802, &quot;y&quot;: -0.4539904997395469, &quot;z&quot;: 1.7820130483767356}, {&quot;x&quot;: -0.6955537991085756, &quot;y&quot;: -0.5836389362959611, &quot;z&quot;: 1.7820130483767356}, {&quot;x&quot;: -0.5836389362959616, &quot;y&quot;: -0.6955537991085752, &quot;z&quot;: 1.7820130483767356}, {&quot;x&quot;: -0.4539904997395472, &quot;y&quot;: -0.78633461170248, &quot;z&quot;: 1.7820130483767356}, {&quot;x&quot;: -0.3105477915788234, &quot;y&quot;: -0.853223045024318, &quot;z&quot;: 1.7820130483767356}, {&quot;x&quot;: -0.15766924591574263, &quot;y&quot;: -0.894186727874785, &quot;z&quot;: 1.7820130483767356}, {&quot;x&quot;: -1.6679340370480298e-16, &quot;y&quot;: -0.9079809994790936, &quot;z&quot;: 1.7820130483767356}, {&quot;x&quot;: 0.1576692459157423, &quot;y&quot;: -0.8941867278747851, &quot;z&quot;: 1.7820130483767356}, {&quot;x&quot;: 0.3105477915788238, &quot;y&quot;: -0.8532230450243179, &quot;z&quot;: 1.7820130483767356}, {&quot;x&quot;: 0.4539904997395462, &quot;y&quot;: -0.7863346117024805, &quot;z&quot;: 1.7820130483767356}, {&quot;x&quot;: 0.5836389362959614, &quot;y&quot;: -0.6955537991085754, &quot;z&quot;: 1.7820130483767356}, {&quot;x&quot;: 0.6955537991085752, &quot;y&quot;: -0.5836389362959618, &quot;z&quot;: 1.7820130483767356}, {&quot;x&quot;: 0.7863346117024804, &quot;y&quot;: -0.4539904997395465, &quot;z&quot;: 1.7820130483767356}, {&quot;x&quot;: 0.853223045024318, &quot;y&quot;: -0.31054779157882345, &quot;z&quot;: 1.7820130483767356}, {&quot;x&quot;: 0.894186727874785, &quot;y&quot;: -0.15766924591574266, &quot;z&quot;: 1.7820130483767356}, {&quot;x&quot;: 0.6086446637459563, &quot;y&quot;: 0.10732047588264337, &quot;z&quot;: 1.902113032590307}, {&quot;x&quot;: 0.6180339887498949, &quot;y&quot;: 0.0, &quot;z&quot;: 1.902113032590307}, {&quot;x&quot;: 0.5807619786231574, &quot;y&quot;: 0.21138007341237378, &quot;z&quot;: 1.902113032590307}, {&quot;x&quot;: 0.535233134659635, &quot;y&quot;: 0.3090169943749474, &quot;z&quot;: 1.902113032590307}, {&quot;x&quot;: 0.47344150274051394, &quot;y&quot;: 0.3972645903335824, &quot;z&quot;: 1.902113032590307}, {&quot;x&quot;: 0.3972645903335825, &quot;y&quot;: 0.47344150274051394, &quot;z&quot;: 1.902113032590307}, {&quot;x&quot;: 0.3090169943749475, &quot;y&quot;: 0.535233134659635, &quot;z&quot;: 1.902113032590307}, {&quot;x&quot;: 0.21138007341237386, &quot;y&quot;: 0.5807619786231574, &quot;z&quot;: 1.902113032590307}, {&quot;x&quot;: 0.10732047588264343, &quot;y&quot;: 0.6086446637459563, &quot;z&quot;: 1.902113032590307}, {&quot;x&quot;: 3.7843667304341506e-17, &quot;y&quot;: 0.6180339887498949, &quot;z&quot;: 1.902113032590307}, {&quot;x&quot;: -0.10732047588264336, &quot;y&quot;: 0.6086446637459563, &quot;z&quot;: 1.902113032590307}, {&quot;x&quot;: -0.21138007341237364, &quot;y&quot;: 0.5807619786231574, &quot;z&quot;: 1.902113032590307}, {&quot;x&quot;: -0.30901699437494734, &quot;y&quot;: 0.535233134659635, &quot;z&quot;: 1.902113032590307}, {&quot;x&quot;: -0.3972645903335825, &quot;y&quot;: 0.47344150274051394, &quot;z&quot;: 1.902113032590307}, {&quot;x&quot;: -0.4734415027405139, &quot;y&quot;: 0.3972645903335826, &quot;z&quot;: 1.902113032590307}, {&quot;x&quot;: -0.5352331346596348, &quot;y&quot;: 0.3090169943749477, &quot;z&quot;: 1.902113032590307}, {&quot;x&quot;: -0.5807619786231574, &quot;y&quot;: 0.2113800734123739, &quot;z&quot;: 1.902113032590307}, {&quot;x&quot;: -0.6086446637459563, &quot;y&quot;: 0.10732047588264333, &quot;z&quot;: 1.902113032590307}, {&quot;x&quot;: -0.6180339887498949, &quot;y&quot;: 7.568733460868301e-17, &quot;z&quot;: 1.902113032590307}, {&quot;x&quot;: -0.6086446637459563, &quot;y&quot;: -0.10732047588264318, &quot;z&quot;: 1.902113032590307}, {&quot;x&quot;: -0.5807619786231574, &quot;y&quot;: -0.21138007341237375, &quot;z&quot;: 1.902113032590307}, {&quot;x&quot;: -0.535233134659635, &quot;y&quot;: -0.3090169943749475, &quot;z&quot;: 1.902113032590307}, {&quot;x&quot;: -0.47344150274051416, &quot;y&quot;: -0.39726459033358225, &quot;z&quot;: 1.902113032590307}, {&quot;x&quot;: -0.3972645903335826, &quot;y&quot;: -0.4734415027405139, &quot;z&quot;: 1.902113032590307}, {&quot;x&quot;: -0.30901699437494773, &quot;y&quot;: -0.5352331346596347, &quot;z&quot;: 1.902113032590307}, {&quot;x&quot;: -0.21138007341237366, &quot;y&quot;: -0.5807619786231574, &quot;z&quot;: 1.902113032590307}, {&quot;x&quot;: -0.10732047588264337, &quot;y&quot;: -0.6086446637459563, &quot;z&quot;: 1.902113032590307}, {&quot;x&quot;: -1.135310019130245e-16, &quot;y&quot;: -0.6180339887498949, &quot;z&quot;: 1.902113032590307}, {&quot;x&quot;: 0.10732047588264315, &quot;y&quot;: -0.6086446637459563, &quot;z&quot;: 1.902113032590307}, {&quot;x&quot;: 0.21138007341237394, &quot;y&quot;: -0.5807619786231574, &quot;z&quot;: 1.902113032590307}, {&quot;x&quot;: 0.30901699437494706, &quot;y&quot;: -0.5352331346596352, &quot;z&quot;: 1.902113032590307}, {&quot;x&quot;: 0.3972645903335824, &quot;y&quot;: -0.47344150274051405, &quot;z&quot;: 1.902113032590307}, {&quot;x&quot;: 0.47344150274051383, &quot;y&quot;: -0.39726459033358263, &quot;z&quot;: 1.902113032590307}, {&quot;x&quot;: 0.5352331346596351, &quot;y&quot;: -0.30901699437494723, &quot;z&quot;: 1.902113032590307}, {&quot;x&quot;: 0.5807619786231574, &quot;y&quot;: -0.21138007341237372, &quot;z&quot;: 1.902113032590307}, {&quot;x&quot;: 0.6086446637459563, &quot;y&quot;: -0.1073204758826434, &quot;z&quot;: 1.902113032590307}, {&quot;x&quot;: 0.30811574801987324, &quot;y&quot;: 0.054329119557074444, &quot;z&quot;: 1.9753766811902755}, {&quot;x&quot;: 0.31286893008046185, &quot;y&quot;: 0.0, &quot;z&quot;: 1.9753766811902755}, {&quot;x&quot;: 0.29400062486979234, &quot;y&quot;: 0.10700747630826818, &quot;z&quot;: 1.9753766811902755}, {&quot;x&quot;: 0.2709524415045373, &quot;y&quot;: 0.1564344650402309, &quot;z&quot;: 1.9753766811902755}, {&quot;x&quot;: 0.23967150531271786, &quot;y&quot;: 0.20110827171160506, &quot;z&quot;: 1.9753766811902755}, {&quot;x&quot;: 0.20110827171160509, &quot;y&quot;: 0.23967150531271786, &quot;z&quot;: 1.9753766811902755}, {&quot;x&quot;: 0.15643446504023095, &quot;y&quot;: 0.27095244150453723, &quot;z&quot;: 1.9753766811902755}, {&quot;x&quot;: 0.10700747630826822, &quot;y&quot;: 0.2940006248697923, &quot;z&quot;: 1.9753766811902755}, {&quot;x&quot;: 0.05432911955707447, &quot;y&quot;: 0.30811574801987324, &quot;z&quot;: 1.9753766811902755}, {&quot;x&quot;: 1.9157696688784732e-17, &quot;y&quot;: 0.31286893008046185, &quot;z&quot;: 1.9753766811902755}, {&quot;x&quot;: -0.05432911955707444, &quot;y&quot;: 0.30811574801987324, &quot;z&quot;: 1.9753766811902755}, {&quot;x&quot;: -0.10700747630826811, &quot;y&quot;: 0.29400062486979234, &quot;z&quot;: 1.9753766811902755}, {&quot;x&quot;: -0.15643446504023084, &quot;y&quot;: 0.2709524415045373, &quot;z&quot;: 1.9753766811902755}, {&quot;x&quot;: -0.20110827171160509, &quot;y&quot;: 0.23967150531271786, &quot;z&quot;: 1.9753766811902755}, {&quot;x&quot;: -0.23967150531271783, &quot;y&quot;: 0.2011082717116051, &quot;z&quot;: 1.9753766811902755}, {&quot;x&quot;: -0.27095244150453723, &quot;y&quot;: 0.15643446504023104, &quot;z&quot;: 1.9753766811902755}, {&quot;x&quot;: -0.2940006248697923, &quot;y&quot;: 0.10700747630826823, &quot;z&quot;: 1.9753766811902755}, {&quot;x&quot;: -0.30811574801987324, &quot;y&quot;: 0.05432911955707442, &quot;z&quot;: 1.9753766811902755}, {&quot;x&quot;: -0.31286893008046185, &quot;y&quot;: 3.8315393377569464e-17, &quot;z&quot;: 1.9753766811902755}, {&quot;x&quot;: -0.3081157480198733, &quot;y&quot;: -0.05432911955707435, &quot;z&quot;: 1.9753766811902755}, {&quot;x&quot;: -0.29400062486979234, &quot;y&quot;: -0.10700747630826817, &quot;z&quot;: 1.9753766811902755}, {&quot;x&quot;: -0.27095244150453723, &quot;y&quot;: -0.15643446504023095, &quot;z&quot;: 1.9753766811902755}, {&quot;x&quot;: -0.23967150531271797, &quot;y&quot;: -0.20110827171160495, &quot;z&quot;: 1.9753766811902755}, {&quot;x&quot;: -0.2011082717116051, &quot;y&quot;: -0.23967150531271783, &quot;z&quot;: 1.9753766811902755}, {&quot;x&quot;: -0.15643446504023106, &quot;y&quot;: -0.2709524415045372, &quot;z&quot;: 1.9753766811902755}, {&quot;x&quot;: -0.10700747630826814, &quot;y&quot;: -0.29400062486979234, &quot;z&quot;: 1.9753766811902755}, {&quot;x&quot;: -0.054329119557074444, &quot;y&quot;: -0.30811574801987324, &quot;z&quot;: 1.9753766811902755}, {&quot;x&quot;: -5.74730900663542e-17, &quot;y&quot;: -0.31286893008046185, &quot;z&quot;: 1.9753766811902755}, {&quot;x&quot;: 0.054329119557074326, &quot;y&quot;: -0.3081157480198733, &quot;z&quot;: 1.9753766811902755}, {&quot;x&quot;: 0.10700747630826828, &quot;y&quot;: -0.2940006248697923, &quot;z&quot;: 1.9753766811902755}, {&quot;x&quot;: 0.1564344650402307, &quot;y&quot;: -0.2709524415045374, &quot;z&quot;: 1.9753766811902755}, {&quot;x&quot;: 0.20110827171160506, &quot;y&quot;: -0.23967150531271791, &quot;z&quot;: 1.9753766811902755}, {&quot;x&quot;: 0.2396715053127178, &quot;y&quot;: -0.20110827171160514, &quot;z&quot;: 1.9753766811902755}, {&quot;x&quot;: 0.27095244150453734, &quot;y&quot;: -0.1564344650402308, &quot;z&quot;: 1.9753766811902755}, {&quot;x&quot;: 0.29400062486979234, &quot;y&quot;: -0.10700747630826815, &quot;z&quot;: 1.9753766811902755}, {&quot;x&quot;: 0.30811574801987324, &quot;y&quot;: -0.05432911955707446, &quot;z&quot;: 1.9753766811902755}, {&quot;x&quot;: 0.0, &quot;y&quot;: 0.0, &quot;z&quot;: 2.0}], &quot;faces&quot;: [[0, 1, 2], [0, 3, 1], [0, 4, 3], [0, 5, 4], [0, 6, 5], [0, 7, 6], [0, 8, 7], [0, 9, 8], [0, 10, 9], [0, 11, 10], [0, 12, 11], [0, 13, 12], [0, 14, 13], [0, 15, 14], [0, 16, 15], [0, 17, 16], [0, 18, 17], [0, 19, 18], [0, 20, 19], [0, 21, 20], [0, 22, 21], [0, 23, 22], [0, 24, 23], [0, 25, 24], [0, 26, 25], [0, 27, 26], [0, 28, 27], [0, 29, 28], [0, 30, 29], [0, 31, 30], [0, 32, 31], [0, 33, 32], [0, 34, 33], [0, 35, 34], [0, 36, 35], [0, 2, 36], [2, 1, 37, 38], [1, 3, 39, 37], [3, 4, 40, 39], [4, 5, 41, 40], [5, 6, 42, 41], [6, 7, 43, 42], [7, 8, 44, 43], [8, 9, 45, 44], [9, 10, 46, 45], [10, 11, 47, 46], [11, 12, 48, 47], [12, 13, 49, 48], [13, 14, 50, 49], [14, 15, 51, 50], [15, 16, 52, 51], [16, 17, 53, 52], [17, 18, 54, 53], [18, 19, 55, 54], [19, 20, 56, 55], [20, 21, 57, 56], [21, 22, 58, 57], [22, 23, 59, 58], [23, 24, 60, 59], [24, 25, 61, 60], [25, 26, 62, 61], [26, 27, 63, 62], [27, 28, 64, 63], [28, 29, 65, 64], [29, 30, 66, 65], [30, 31, 67, 66], [31, 32, 68, 67], [32, 33, 69, 68], [33, 34, 70, 69], [34, 35, 71, 70], [35, 36, 72, 71], [36, 2, 38, 72], [38, 37, 73, 74], [37, 39, 75, 73], [39, 40, 76, 75], [40, 41, 77, 76], [41, 42, 78, 77], [42, 43, 79, 78], [43, 44, 80, 79], [44, 45, 81, 80], [45, 46, 82, 81], [46, 47, 83, 82], [47, 48, 84, 83], [48, 49, 85, 84], [49, 50, 86, 85], [50, 51, 87, 86], [51, 52, 88, 87], [52, 53, 89, 88], [53, 54, 90, 89], [54, 55, 91, 90], [55, 56, 92, 91], [56, 57, 93, 92], [57, 58, 94, 93], [58, 59, 95, 94], [59, 60, 96, 95], [60, 61, 97, 96], [61, 62, 98, 97], [62, 63, 99, 98], [63, 64, 100, 99], [64, 65, 101, 100], [65, 66, 102, 101], [66, 67, 103, 102], [67, 68, 104, 103], [68, 69, 105, 104], [69, 70, 106, 105], [70, 71, 107, 106], [71, 72, 108, 107], [72, 38, 74, 108], [74, 73, 109, 110], [73, 75, 111, 109], [75, 76, 112, 111], [76, 77, 113, 112], [77, 78, 114, 113], [78, 79, 115, 114], [79, 80, 116, 115], [80, 81, 117, 116], [81, 82, 118, 117], [82, 83, 119, 118], [83, 84, 120, 119], [84, 85, 121, 120], [85, 86, 122, 121], [86, 87, 123, 122], [87, 88, 124, 123], [88, 89, 125, 124], [89, 90, 126, 125], [90, 91, 127, 126], [91, 92, 128, 127], [92, 93, 129, 128], [93, 94, 130, 129], [94, 95, 131, 130], [95, 96, 132, 131], [96, 97, 133, 132], [97, 98, 134, 133], [98, 99, 135, 134], [99, 100, 136, 135], [100, 101, 137, 136], [101, 102, 138, 137], [102, 103, 139, 138], [103, 104, 140, 139], [104, 105, 141, 140], [105, 106, 142, 141], [106, 107, 143, 142], [107, 108, 144, 143], [108, 74, 110, 144], [110, 109, 145, 146], [109, 111, 147, 145], [111, 112, 148, 147], [112, 113, 149, 148], [113, 114, 150, 149], [114, 115, 151, 150], [115, 116, 152, 151], [116, 117, 153, 152], [117, 118, 154, 153], [118, 119, 155, 154], [119, 120, 156, 155], [120, 121, 157, 156], [121, 122, 158, 157], [122, 123, 159, 158], [123, 124, 160, 159], [124, 125, 161, 160], [125, 126, 162, 161], [126, 127, 163, 162], [127, 128, 164, 163], [128, 129, 165, 164], [129, 130, 166, 165], [130, 131, 167, 166], [131, 132, 168, 167], [132, 133, 169, 168], [133, 134, 170, 169], [134, 135, 171, 170], [135, 136, 172, 171], [136, 137, 173, 172], [137, 138, 174, 173], [138, 139, 175, 174], [139, 140, 176, 175], [140, 141, 177, 176], [141, 142, 178, 177], [142, 143, 179, 178], [143, 144, 180, 179], [144, 110, 146, 180], [146, 145, 181, 182], [145, 147, 183, 181], [147, 148, 184, 183], [148, 149, 185, 184], [149, 150, 186, 185], [150, 151, 187, 186], [151, 152, 188, 187], [152, 153, 189, 188], [153, 154, 190, 189], [154, 155, 191, 190], [155, 156, 192, 191], [156, 157, 193, 192], [157, 158, 194, 193], [158, 159, 195, 194], [159, 160, 196, 195], [160, 161, 197, 196], [161, 162, 198, 197], [162, 163, 199, 198], [163, 164, 200, 199], [164, 165, 201, 200], [165, 166, 202, 201], [166, 167, 203, 202], [167, 168, 204, 203], [168, 169, 205, 204], [169, 170, 206, 205], [170, 171, 207, 206], [171, 172, 208, 207], [172, 173, 209, 208], [173, 174, 210, 209], [174, 175, 211, 210], [175, 176, 212, 211], [176, 177, 213, 212], [177, 178, 214, 213], [178, 179, 215, 214], [179, 180, 216, 215], [180, 146, 182, 216], [182, 181, 217, 218], [181, 183, 219, 217], [183, 184, 220, 219], [184, 185, 221, 220], [185, 186, 222, 221], [186, 187, 223, 222], [187, 188, 224, 223], [188, 189, 225, 224], [189, 190, 226, 225], [190, 191, 227, 226], [191, 192, 228, 227], [192, 193, 229, 228], [193, 194, 230, 229], [194, 195, 231, 230], [195, 196, 232, 231], [196, 197, 233, 232], [197, 198, 234, 233], [198, 199, 235, 234], [199, 200, 236, 235], [200, 201, 237, 236], [201, 202, 238, 237], [202, 203, 239, 238], [203, 204, 240, 239], [204, 205, 241, 240], [205, 206, 242, 241], [206, 207, 243, 242], [207, 208, 244, 243], [208, 209, 245, 244], [209, 210, 246, 245], [210, 211, 247, 246], [211, 212, 248, 247], [212, 213, 249, 248], [213, 214, 250, 249], [214, 215, 251, 250], [215, 216, 252, 251], [216, 182, 218, 252], [218, 217, 253, 254], [217, 219, 255, 253], [219, 220, 256, 255], [220, 221, 257, 256], [221, 222, 258, 257], [222, 223, 259, 258], [223, 224, 260, 259], [224, 225, 261, 260], [225, 226, 262, 261], [226, 227, 263, 262], [227, 228, 264, 263], [228, 229, 265, 264], [229, 230, 266, 265], [230, 231, 267, 266], [231, 232, 268, 267], [232, 233, 269, 268], [233, 234, 270, 269], [234, 235, 271, 270], [235, 236, 272, 271], [236, 237, 273, 272], [237, 238, 274, 273], [238, 239, 275, 274], [239, 240, 276, 275], [240, 241, 277, 276], [241, 242, 278, 277], [242, 243, 279, 278], [243, 244, 280, 279], [244, 245, 281, 280], [245, 246, 282, 281], [246, 247, 283, 282], [247, 248, 284, 283], [248, 249, 285, 284], [249, 250, 286, 285], [250, 251, 287, 286], [251, 252, 288, 287], [252, 218, 254, 288], [254, 253, 289, 290], [253, 255, 291, 289], [255, 256, 292, 291], [256, 257, 293, 292], [257, 258, 294, 293], [258, 259, 295, 294], [259, 260, 296, 295], [260, 261, 297, 296], [261, 262, 298, 297], [262, 263, 299, 298], [263, 264, 300, 299], [264, 265, 301, 300], [265, 266, 302, 301], [266, 267, 303, 302], [267, 268, 304, 303], [268, 269, 305, 304], [269, 270, 306, 305], [270, 271, 307, 306], [271, 272, 308, 307], [272, 273, 309, 308], [273, 274, 310, 309], [274, 275, 311, 310], [275, 276, 312, 311], [276, 277, 313, 312], [277, 278, 314, 313], [278, 279, 315, 314], [279, 280, 316, 315], [280, 281, 317, 316], [281, 282, 318, 317], [282, 283, 319, 318], [283, 284, 320, 319], [284, 285, 321, 320], [285, 286, 322, 321], [286, 287, 323, 322], [287, 288, 324, 323], [288, 254, 290, 324], [290, 289, 325, 326], [289, 291, 327, 325], [291, 292, 328, 327], [292, 293, 329, 328], [293, 294, 330, 329], [294, 295, 331, 330], [295, 296, 332, 331], [296, 297, 333, 332], [297, 298, 334, 333], [298, 299, 335, 334], [299, 300, 336, 335], [300, 301, 337, 336], [301, 302, 338, 337], [302, 303, 339, 338], [303, 304, 340, 339], [304, 305, 341, 340], [305, 306, 342, 341], [306, 307, 343, 342], [307, 308, 344, 343], [308, 309, 345, 344], [309, 310, 346, 345], [310, 311, 347, 346], [311, 312, 348, 347], [312, 313, 349, 348], [313, 314, 350, 349], [314, 315, 351, 350], [315, 316, 352, 351], [316, 317, 353, 352], [317, 318, 354, 353], [318, 319, 355, 354], [319, 320, 356, 355], [320, 321, 357, 356], [321, 322, 358, 357], [322, 323, 359, 358], [323, 324, 360, 359], [324, 290, 326, 360], [326, 325, 361, 362], [325, 327, 363, 361], [327, 328, 364, 363], [328, 329, 365, 364], [329, 330, 366, 365], [330, 331, 367, 366], [331, 332, 368, 367], [332, 333, 369, 368], [333, 334, 370, 369], [334, 335, 371, 370], [335, 336, 372, 371], [336, 337, 373, 372], [337, 338, 374, 373], [338, 339, 375, 374], [339, 340, 376, 375], [340, 341, 377, 376], [341, 342, 378, 377], [342, 343, 379, 378], [343, 344, 380, 379], [344, 345, 381, 380], [345, 346, 382, 381], [346, 347, 383, 382], [347, 348, 384, 383], [348, 349, 385, 384], [349, 350, 386, 385], [350, 351, 387, 386], [351, 352, 388, 387], [352, 353, 389, 388], [353, 354, 390, 389], [354, 355, 391, 390], [355, 356, 392, 391], [356, 357, 393, 392], [357, 358, 394, 393], [358, 359, 395, 394], [359, 360, 396, 395], [360, 326, 362, 396], [362, 361, 397, 398], [361, 363, 399, 397], [363, 364, 400, 399], [364, 365, 401, 400], [365, 366, 402, 401], [366, 367, 403, 402], [367, 368, 404, 403], [368, 369, 405, 404], [369, 370, 406, 405], [370, 371, 407, 406], [371, 372, 408, 407], [372, 373, 409, 408], [373, 374, 410, 409], [374, 375, 411, 410], [375, 376, 412, 411], [376, 377, 413, 412], [377, 378, 414, 413], [378, 379, 415, 414], [379, 380, 416, 415], [380, 381, 417, 416], [381, 382, 418, 417], [382, 383, 419, 418], [383, 384, 420, 419], [384, 385, 421, 420], [385, 386, 422, 421], [386, 387, 423, 422], [387, 388, 424, 423], [388, 389, 425, 424], [389, 390, 426, 425], [390, 391, 427, 426], [391, 392, 428, 427], [392, 393, 429, 428], [393, 394, 430, 429], [394, 395, 431, 430], [395, 396, 432, 431], [396, 362, 398, 432], [398, 397, 433, 434], [397, 399, 435, 433], [399, 400, 436, 435], [400, 401, 437, 436], [401, 402, 438, 437], [402, 403, 439, 438], [403, 404, 440, 439], [404, 405, 441, 440], [405, 406, 442, 441], [406, 407, 443, 442], [407, 408, 444, 443], [408, 409, 445, 444], [409, 410, 446, 445], [410, 411, 447, 446], [411, 412, 448, 447], [412, 413, 449, 448], [413, 414, 450, 449], [414, 415, 451, 450], [415, 416, 452, 451], [416, 417, 453, 452], [417, 418, 454, 453], [418, 419, 455, 454], [419, 420, 456, 455], [420, 421, 457, 456], [421, 422, 458, 457], [422, 423, 459, 458], [423, 424, 460, 459], [424, 425, 461, 460], [425, 426, 462, 461], [426, 427, 463, 462], [427, 428, 464, 463], [428, 429, 465, 464], [429, 430, 466, 465], [430, 431, 467, 466], [431, 432, 468, 467], [432, 398, 434, 468], [434, 433, 469, 470], [433, 435, 471, 469], [435, 436, 472, 471], [436, 437, 473, 472], [437, 438, 474, 473], [438, 439, 475, 474], [439, 440, 476, 475], [440, 441, 477, 476], [441, 442, 478, 477], [442, 443, 479, 478], [443, 444, 480, 479], [444, 445, 481, 480], [445, 446, 482, 481], [446, 447, 483, 482], [447, 448, 484, 483], [448, 449, 485, 484], [449, 450, 486, 485], [450, 451, 487, 486], [451, 452, 488, 487], [452, 453, 489, 488], [453, 454, 490, 489], [454, 455, 491, 490], [455, 456, 492, 491], [456, 457, 493, 492], [457, 458, 494, 493], [458, 459, 495, 494], [459, 460, 496, 495], [460, 461, 497, 496], [461, 462, 498, 497], [462, 463, 499, 498], [463, 464, 500, 499], [464, 465, 501, 500], [465, 466, 502, 501], [466, 467, 503, 502], [467, 468, 504, 503], [468, 434, 470, 504], [470, 469, 505, 506], [469, 471, 507, 505], [471, 472, 508, 507], [472, 473, 509, 508], [473, 474, 510, 509], [474, 475, 511, 510], [475, 476, 512, 511], [476, 477, 513, 512], [477, 478, 514, 513], [478, 479, 515, 514], [479, 480, 516, 515], [480, 481, 517, 516], [481, 482, 518, 517], [482, 483, 519, 518], [483, 484, 520, 519], [484, 485, 521, 520], [485, 486, 522, 521], [486, 487, 523, 522], [487, 488, 524, 523], [488, 489, 525, 524], [489, 490, 526, 525], [490, 491, 527, 526], [491, 492, 528, 527], [492, 493, 529, 528], [493, 494, 530, 529], [494, 495, 531, 530], [495, 496, 532, 531], [496, 497, 533, 532], [497, 498, 534, 533], [498, 499, 535, 534], [499, 500, 536, 535], [500, 501, 537, 536], [501, 502, 538, 537], [502, 503, 539, 538], [503, 504, 540, 539], [504, 470, 506, 540], [506, 505, 541, 542], [505, 507, 543, 541], [507, 508, 544, 543], [508, 509, 545, 544], [509, 510, 546, 545], [510, 511, 547, 546], [511, 512, 548, 547], [512, 513, 549, 548], [513, 514, 550, 549], [514, 515, 551, 550], [515, 516, 552, 551], [516, 517, 553, 552], [517, 518, 554, 553], [518, 519, 555, 554], [519, 520, 556, 555], [520, 521, 557, 556], [521, 522, 558, 557], [522, 523, 559, 558], [523, 524, 560, 559], [524, 525, 561, 560], [525, 526, 562, 561], [526, 527, 563, 562], [527, 528, 564, 563], [528, 529, 565, 564], [529, 530, 566, 565], [530, 531, 567, 566], [531, 532, 568, 567], [532, 533, 569, 568], [533, 534, 570, 569], [534, 535, 571, 570], [535, 536, 572, 571], [536, 537, 573, 572], [537, 538, 574, 573], [538, 539, 575, 574], [539, 540, 576, 575], [540, 506, 542, 576], [542, 541, 577, 578], [541, 543, 579, 577], [543, 544, 580, 579], [544, 545, 581, 580], [545, 546, 582, 581], [546, 547, 583, 582], [547, 548, 584, 583], [548, 549, 585, 584], [549, 550, 586, 585], [550, 551, 587, 586], [551, 552, 588, 587], [552, 553, 589, 588], [553, 554, 590, 589], [554, 555, 591, 590], [555, 556, 592, 591], [556, 557, 593, 592], [557, 558, 594, 593], [558, 559, 595, 594], [559, 560, 596, 595], [560, 561, 597, 596], [561, 562, 598, 597], [562, 563, 599, 598], [563, 564, 600, 599], [564, 565, 601, 600], [565, 566, 602, 601], [566, 567, 603, 602], [567, 568, 604, 603], [568, 569, 605, 604], [569, 570, 606, 605], [570, 571, 607, 606], [571, 572, 608, 607], [572, 573, 609, 608], [573, 574, 610, 609], [574, 575, 611, 610], [575, 576, 612, 611], [576, 542, 578, 612], [578, 577, 613, 614], [577, 579, 615, 613], [579, 580, 616, 615], [580, 581, 617, 616], [581, 582, 618, 617], [582, 583, 619, 618], [583, 584, 620, 619], [584, 585, 621, 620], [585, 586, 622, 621], [586, 587, 623, 622], [587, 588, 624, 623], [588, 589, 625, 624], [589, 590, 626, 625], [590, 591, 627, 626], [591, 592, 628, 627], [592, 593, 629, 628], [593, 594, 630, 629], [594, 595, 631, 630], [595, 596, 632, 631], [596, 597, 633, 632], [597, 598, 634, 633], [598, 599, 635, 634], [599, 600, 636, 635], [600, 601, 637, 636], [601, 602, 638, 637], [602, 603, 639, 638], [603, 604, 640, 639], [604, 605, 641, 640], [605, 606, 642, 641], [606, 607, 643, 642], [607, 608, 644, 643], [608, 609, 645, 644], [609, 610, 646, 645], [610, 611, 647, 646], [611, 612, 648, 647], [612, 578, 614, 648], [614, 613, 649, 650], [613, 615, 651, 649], [615, 616, 652, 651], [616, 617, 653, 652], [617, 618, 654, 653], [618, 619, 655, 654], [619, 620, 656, 655], [620, 621, 657, 656], [621, 622, 658, 657], [622, 623, 659, 658], [623, 624, 660, 659], [624, 625, 661, 660], [625, 626, 662, 661], [626, 627, 663, 662], [627, 628, 664, 663], [628, 629, 665, 664], [629, 630, 666, 665], [630, 631, 667, 666], [631, 632, 668, 667], [632, 633, 669, 668], [633, 634, 670, 669], [634, 635, 671, 670], [635, 636, 672, 671], [636, 637, 673, 672], [637, 638, 674, 673], [638, 639, 675, 674], [639, 640, 676, 675], [640, 641, 677, 676], [641, 642, 678, 677], [642, 643, 679, 678], [643, 644, 680, 679], [644, 645, 681, 680], [645, 646, 682, 681], [646, 647, 683, 682], [647, 648, 684, 683], [648, 614, 650, 684], [650, 649, 685], [649, 651, 685], [651, 652, 685], [652, 653, 685], [653, 654, 685], [654, 655, 685], [655, 656, 685], [656, 657, 685], [657, 658, 685], [658, 659, 685], [659, 660, 685], [660, 661, 685], [661, 662, 685], [662, 663, 685], [663, 664, 685], [664, 665, 685], [665, 666, 685], [666, 667, 685], [667, 668, 685], [668, 669, 685], [669, 670, 685], [670, 671, 685], [671, 672, 685], [672, 673, 685], [673, 674, 685], [674, 675, 685], [675, 676, 685], [676, 677, 685], [677, 678, 685], [678, 679, 685], [679, 680, 685], [680, 681, 685], [681, 682, 685], [682, 683, 685], [683, 684, 685], [684, 650, 685]], &quot;color&quot;: &quot;#808080&quot;, &quot;opacity&quot;: 1.0}];\n",
       "    for ( var i=0 ; i < surfaces.length ; i++ ) addSurface( surfaces[i] );\n",
       "\n",
       "    function addSurface( json ) {\n",
       "\n",
       "        var useFaceColors = 'faceColors' in json ? true : false;\n",
       "\n",
       "        var geometry = new THREE.Geometry();\n",
       "        for ( var i=0 ; i < json.vertices.length ; i++ ) {\n",
       "            var v = json.vertices[i];\n",
       "            geometry.vertices.push( new THREE.Vector3( a[0]*v.x, a[1]*v.y, a[2]*v.z ) );\n",
       "        }\n",
       "        for ( var i=0 ; i < json.faces.length ; i++ ) {\n",
       "            var f = json.faces[i];\n",
       "            for ( var j=0 ; j < f.length - 2 ; j++ ) {\n",
       "                var face = new THREE.Face3( f[0], f[j+1], f[j+2] );\n",
       "                if ( useFaceColors ) face.color.set( json.faceColors[i] );\n",
       "                geometry.faces.push( face );\n",
       "            }\n",
       "        }\n",
       "        geometry.computeVertexNormals();\n",
       "\n",
       "        var side = json.singleSide ? THREE.FrontSide : THREE.DoubleSide;\n",
       "        var transparent = json.opacity < 1 ? true : false;\n",
       "        var flatShading = json.useFlatShading ? json.useFlatShading : false;\n",
       "\n",
       "        var material = new THREE.MeshPhongMaterial( { side: side,\n",
       "                                     color: useFaceColors ? 'white' : json.color,\n",
       "                                     vertexColors: useFaceColors ? THREE.FaceColors : THREE.NoColors,\n",
       "                                     transparent: transparent, opacity: json.opacity,\n",
       "                                     shininess: 20, flatShading: flatShading } );\n",
       "\n",
       "        var c = new THREE.Vector3();\n",
       "        geometry.computeBoundingBox();\n",
       "        geometry.boundingBox.getCenter( c );\n",
       "        geometry.translate( -c.x, -c.y, -c.z );\n",
       "\n",
       "        var mesh = new THREE.Mesh( geometry, material );\n",
       "        mesh.position.set( c.x, c.y, c.z );\n",
       "        if ( transparent && json.renderOrder ) mesh.renderOrder = json.renderOrder;\n",
       "        mesh.userData = json;\n",
       "        scene.add( mesh );\n",
       "\n",
       "        if ( json.showMeshGrid ) {\n",
       "\n",
       "            var geometry = new THREE.Geometry();\n",
       "\n",
       "            for ( var i=0 ; i < json.faces.length ; i++ ) {\n",
       "                var f = json.faces[i];\n",
       "                for ( var j=0 ; j < f.length ; j++ ) {\n",
       "                    var k = j === f.length-1 ? 0 : j+1;\n",
       "                    var v1 = json.vertices[f[j]];\n",
       "                    var v2 = json.vertices[f[k]];\n",
       "                    // vertices in opposite directions on neighboring faces\n",
       "                    var nudge = f[j] < f[k] ? .0005*zRange : -.0005*zRange;\n",
       "                    geometry.vertices.push( new THREE.Vector3( a[0]*v1.x, a[1]*v1.y, a[2]*(v1.z+nudge) ) );\n",
       "                    geometry.vertices.push( new THREE.Vector3( a[0]*v2.x, a[1]*v2.y, a[2]*(v2.z+nudge) ) );\n",
       "                }\n",
       "            }\n",
       "\n",
       "            var material = new THREE.LineBasicMaterial( { color: 'black', linewidth: 1 } );\n",
       "\n",
       "            var c = new THREE.Vector3();\n",
       "            geometry.computeBoundingBox();\n",
       "            geometry.boundingBox.getCenter( c );\n",
       "            geometry.translate( -c.x, -c.y, -c.z );\n",
       "\n",
       "            var mesh = new THREE.LineSegments( geometry, material );\n",
       "            mesh.position.set( c.x, c.y, c.z );\n",
       "            mesh.userData = json;\n",
       "            scene.add( mesh );\n",
       "\n",
       "        }\n",
       "\n",
       "    }\n",
       "\n",
       "    function render() {\n",
       "\n",
       "        if ( window.updateAnimation ) animate = updateAnimation();\n",
       "        if ( animate ) requestAnimationFrame( render );\n",
       "\n",
       "        renderer.render( scene, camera );\n",
       "\n",
       "    }\n",
       "\n",
       "    render();\n",
       "    controls.update();\n",
       "    if ( !animate ) render();\n",
       "\n",
       "\n",
       "    // menu functions\n",
       "\n",
       "    function toggleMenu() {\n",
       "\n",
       "        var m = document.getElementById( 'menu-content' );\n",
       "        if ( m.style.display === 'block' ) m.style.display = 'none'\n",
       "        else m.style.display = 'block';\n",
       "\n",
       "    }\n",
       "\n",
       "\n",
       "    function saveAsPNG() {\n",
       "\n",
       "        var a = document.body.appendChild( document.createElement( 'a' ) );\n",
       "        a.href = renderer.domElement.toDataURL( 'image/png' );\n",
       "        a.download = 'screenshot';\n",
       "        a.click();\n",
       "\n",
       "    }\n",
       "\n",
       "    function saveAsHTML() {\n",
       "\n",
       "        toggleMenu(); // otherwise visible in output\n",
       "        event.stopPropagation();\n",
       "\n",
       "        var blob = new Blob( [ '<!DOCTYPE html>\\n' + document.documentElement.outerHTML ] );\n",
       "        var a = document.body.appendChild( document.createElement( 'a' ) );\n",
       "        a.href = window.URL.createObjectURL( blob );\n",
       "        a.download = 'graphic.html';\n",
       "        a.click();\n",
       "\n",
       "    }\n",
       "\n",
       "    function getViewpoint() {\n",
       "\n",
       "        function roundTo( x, n ) { return +x.toFixed(n); }\n",
       "\n",
       "        var v = camera.quaternion.inverse();\n",
       "        var r = Math.sqrt( v.x*v.x + v.y*v.y + v.z*v.z );\n",
       "        var axis = [ roundTo( v.x / r, 4 ), roundTo( v.y / r, 4 ), roundTo( v.z / r, 4 ) ];\n",
       "        var angle = roundTo( 2 * Math.atan2( r, v.w ) * 180 / Math.PI, 2 );\n",
       "\n",
       "        var textArea = document.createElement( 'textarea' );\n",
       "        textArea.textContent = JSON.stringify( axis ) + ',' + angle;\n",
       "        textArea.style.csstext = 'position: absolute; top: -100%';\n",
       "        document.body.append( textArea );\n",
       "        textArea.select();\n",
       "        document.execCommand( 'copy' );\n",
       "\n",
       "        var m = document.getElementById( 'menu-message' );\n",
       "        m.innerHTML = 'Viewpoint copied to clipboard';\n",
       "        m.style.display = 'block';\n",
       "        setTimeout( function() { m.style.display = 'none'; }, 2000 );\n",
       "\n",
       "    }\n",
       "\n",
       "</script>\n",
       "\n",
       "<div id=&quot;menu-container&quot; onclick=&quot;toggleMenu()&quot;>&#x24d8;\n",
       "<div id=&quot;menu-message&quot;></div>\n",
       "<div id=&quot;menu-content&quot;>\n",
       "<div onclick=&quot;saveAsPNG()&quot;>Save as PNG</div>\n",
       "<div onclick=&quot;saveAsHTML()&quot;>Save as HTML</div>\n",
       "<div onclick=&quot;getViewpoint()&quot;>Get Viewpoint</div>\n",
       "<div>Close Menu</div>\n",
       "</div></div>\n",
       "\n",
       "\n",
       "</body>\n",
       "</html>\n",
       "\"\n",
       "        width=\"100%\"\n",
       "        height=\"400\"\n",
       "        style=\"border: 0;\">\n",
       "</iframe>\n"
      ],
      "text/plain": [
       "Graphics3d Object"
      ]
     },
     "execution_count": 108,
     "metadata": {},
     "output_type": "execute_result"
    }
   ],
   "source": [
    "geod.plot_integrated(chart=X3, mapping=to_E3, plot_points=1000, \n",
    "                     thickness=2, label_axes=False) \\\n",
    "+ p.plot(chart=X3, mapping=to_E3, size=4, parameters={m: 1}) \\\n",
    "+ sphere(size=2, color='grey')"
   ]
  },
  {
   "cell_type": "markdown",
   "metadata": {},
   "source": [
    "A 2D view by suppressing $z$ from the ambient coordinates:"
   ]
  },
  {
   "cell_type": "code",
   "execution_count": 109,
   "metadata": {},
   "outputs": [
    {
     "data": {
      "image/png": "[encoded data removed]",
      "text/plain": [
       "Graphics object consisting of 4 graphics primitives"
      ]
     },
     "execution_count": 109,
     "metadata": {},
     "output_type": "execute_result"
    }
   ],
   "source": [
    "bh_plot = circle((0, 0), 2, edgecolor='black', fill=True, facecolor='grey', alpha=0.5)\n",
    "geod.plot_integrated(chart=X3, mapping=to_E3, ambient_coords=(x,y), plot_points=1000, \n",
    "                     thickness=2) \\\n",
    "+ p.plot(chart=X3, mapping=to_E3, ambient_coords=(x,y), size=4, parameters={m: 1}) \\\n",
    "+ bh_plot"
   ]
  },
  {
   "cell_type": "markdown",
   "metadata": {},
   "source": [
    "## Null geodesics"
   ]
  },
  {
   "cell_type": "code",
   "execution_count": 110,
   "metadata": {},
   "outputs": [
    {
     "data": {
      "text/html": [
       "<html><script type=\"math/tex; mode=display\">\\newcommand{\\Bold}[1]{\\mathbf{#1}}1.25000000000000 \\frac{\\partial}{\\partial t } -0.774597000000000 \\frac{\\partial}{\\partial r } + \\frac{0.0707110000000000}{m} \\frac{\\partial}{\\partial {\\phi} }</script></html>"
      ],
      "text/latex": [
       "\\begin{math}\n",
       "\\newcommand{\\Bold}[1]{\\mathbf{#1}}1.25000000000000 \\frac{\\partial}{\\partial t } -0.774597000000000 \\frac{\\partial}{\\partial r } + \\frac{0.0707110000000000}{m} \\frac{\\partial}{\\partial {\\phi} }\n",
       "\\end{math}"
      ],
      "text/plain": [
       "1.25000000000000 d/dt - 0.774597000000000 d/dr + 0.0707110000000000/m d/dph"
      ]
     },
     "execution_count": 110,
     "metadata": {},
     "output_type": "execute_result"
    }
   ],
   "source": [
    "p0 = M((0, 10*m, pi/2, 0))\n",
    "v0 = M.tangent_space(p0)((1.25, -0.774597, 0, 0.070711/m))\n",
    "v0.display()"
   ]
  },
  {
   "cell_type": "code",
   "execution_count": 111,
   "metadata": {},
   "outputs": [
    {
     "data": {
      "text/html": [
       "<html><script type=\"math/tex; mode=display\">\\newcommand{\\Bold}[1]{\\mathbf{#1}}5.19261124987125 \\times 10^{-6}</script></html>"
      ],
      "text/latex": [
       "\\begin{math}\n",
       "\\newcommand{\\Bold}[1]{\\mathbf{#1}}5.19261124987125 \\times 10^{-6}\n",
       "\\end{math}"
      ],
      "text/plain": [
       "5.19261124987125e-6"
      ]
     },
     "execution_count": 111,
     "metadata": {},
     "output_type": "execute_result"
    }
   ],
   "source": [
    "g.at(p0)(v0, v0)"
   ]
  },
  {
   "cell_type": "code",
   "execution_count": 112,
   "metadata": {},
   "outputs": [
    {
     "data": {
      "image/png": "[encoded data removed]",
      "text/plain": [
       "Graphics object consisting of 6 graphics primitives"
      ]
     },
     "execution_count": 112,
     "metadata": {},
     "output_type": "execute_result"
    }
   ],
   "source": [
    "geod = M.integrated_geodesic(g, (s, 0, 40), v0)\n",
    "sol = geod.solve(step=0.01, parameters_values={m: 1}) \n",
    "interp = geod.interpolate()   \n",
    "plot2 = geod.plot_integrated(chart=X3, mapping=to_E3, ambient_coords=(x,y), \n",
    "                             plot_points=500, color='green', thickness=1.5, display_tangent=True, \n",
    "                             color_tangent='green', plot_points_tangent=4, scale=1) \n",
    "plot2 += bh_plot\n",
    "plot2"
   ]
  },
  {
   "cell_type": "code",
   "execution_count": 113,
   "metadata": {},
   "outputs": [
    {
     "data": {
      "text/html": [
       "<html><script type=\"math/tex; mode=display\">\\newcommand{\\Bold}[1]{\\mathbf{#1}}-4.27088750032389 \\times 10^{-7}</script></html>"
      ],
      "text/latex": [
       "\\begin{math}\n",
       "\\newcommand{\\Bold}[1]{\\mathbf{#1}}-4.27088750032389 \\times 10^{-7}\n",
       "\\end{math}"
      ],
      "text/plain": [
       "-4.27088750032389e-7"
      ]
     },
     "execution_count": 113,
     "metadata": {},
     "output_type": "execute_result"
    }
   ],
   "source": [
    "v0 = M.tangent_space(p0)((1.25, -0.894427, 0, 0.05/m))\n",
    "g.at(p0)(v0, v0)"
   ]
  },
  {
   "cell_type": "code",
   "execution_count": 114,
   "metadata": {},
   "outputs": [
    {
     "data": {
      "image/png": "[encoded data removed]",
      "text/plain": [
       "Graphics object consisting of 10 graphics primitives"
      ]
     },
     "execution_count": 114,
     "metadata": {},
     "output_type": "execute_result"
    }
   ],
   "source": [
    "geod = M.integrated_geodesic(g, (s, 0, 13.25), v0)\n",
    "sol = geod.solve(step=0.01, parameters_values={m: 1}) \n",
    "interp = geod.interpolate()   \n",
    "plot2 += geod.plot_integrated(chart=X3, mapping=to_E3, ambient_coords=(x,y), \n",
    "                              plot_points=500, color='green', thickness=1.5, display_tangent=True, \n",
    "                              color_tangent='green', plot_points_tangent=3, scale=0.2)\n",
    "plot2"
   ]
  },
  {
   "cell_type": "markdown",
   "metadata": {},
   "source": [
    "### The photon orbit"
   ]
  },
  {
   "cell_type": "code",
   "execution_count": 115,
   "metadata": {},
   "outputs": [
    {
     "data": {
      "text/html": [
       "<html><script type=\"math/tex; mode=display\">\\newcommand{\\Bold}[1]{\\mathbf{#1}}3 \\frac{\\partial}{\\partial t } + \\frac{\\sqrt{3}}{3 \\, m} \\frac{\\partial}{\\partial {\\phi} }</script></html>"
      ],
      "text/latex": [
       "\\begin{math}\n",
       "\\newcommand{\\Bold}[1]{\\mathbf{#1}}3 \\frac{\\partial}{\\partial t } + \\frac{\\sqrt{3}}{3 \\, m} \\frac{\\partial}{\\partial {\\phi} }\n",
       "\\end{math}"
      ],
      "text/plain": [
       "3 d/dt + 1/3*sqrt(3)/m d/dph"
      ]
     },
     "execution_count": 115,
     "metadata": {},
     "output_type": "execute_result"
    }
   ],
   "source": [
    "p0 = M((0, 3*m, pi/2, 0))\n",
    "v0 = M.tangent_space(p0)((3, 0, 0, 1/(sqrt(3)*m)))\n",
    "v0.display()"
   ]
  },
  {
   "cell_type": "code",
   "execution_count": 116,
   "metadata": {},
   "outputs": [
    {
     "data": {
      "text/html": [
       "<html><script type=\"math/tex; mode=display\">\\newcommand{\\Bold}[1]{\\mathbf{#1}}0</script></html>"
      ],
      "text/latex": [
       "\\begin{math}\n",
       "\\newcommand{\\Bold}[1]{\\mathbf{#1}}0\n",
       "\\end{math}"
      ],
      "text/plain": [
       "0"
      ]
     },
     "execution_count": 116,
     "metadata": {},
     "output_type": "execute_result"
    }
   ],
   "source": [
    "g.at(p0)(v0, v0)"
   ]
  },
  {
   "cell_type": "code",
   "execution_count": 117,
   "metadata": {},
   "outputs": [
    {
     "data": {
      "image/png": "[encoded data removed]",
      "text/plain": [
       "Graphics object consisting of 11 graphics primitives"
      ]
     },
     "execution_count": 117,
     "metadata": {},
     "output_type": "execute_result"
    }
   ],
   "source": [
    "geod = M.integrated_geodesic(g, (s, 0, 100), v0)\n",
    "sol = geod.solve(step=0.01, parameters_values={m: 1}) \n",
    "interp = geod.interpolate()   \n",
    "plot2 += geod.plot_integrated(chart=X3, mapping=to_E3, ambient_coords=(x,y), \n",
    "                              plot_points=500, color='green', thickness=1.5)\n",
    "plot2"
   ]
  },
  {
   "cell_type": "markdown",
   "metadata": {},
   "source": [
    "## Using SymPy as the symbolic backend\n",
    "\n",
    "By default, the symbolic backend used in tensor calculus is SageMath's one (Pynac + Maxima), implemented via the symbolic ring `SR`. We can choose to use SymPy instead:"
   ]
  },
  {
   "cell_type": "code",
   "execution_count": 118,
   "metadata": {},
   "outputs": [],
   "source": [
    "M.set_calculus_method('sympy')"
   ]
  },
  {
   "cell_type": "code",
   "execution_count": 119,
   "metadata": {},
   "outputs": [],
   "source": [
    "v = 2*k"
   ]
  },
  {
   "cell_type": "code",
   "execution_count": 120,
   "metadata": {},
   "outputs": [
    {
     "data": {
      "text/html": [
       "<html><script type=\"math/tex; mode=display\">\\newcommand{\\Bold}[1]{\\mathbf{#1}}\\left( \\frac{2 r}{- 2 m + r} \\right) \\frac{\\partial}{\\partial t } -2 \\frac{\\partial}{\\partial r }</script></html>"
      ],
      "text/latex": [
       "\\begin{math}\n",
       "\\newcommand{\\Bold}[1]{\\mathbf{#1}}\\left( \\frac{2 r}{- 2 m + r} \\right) \\frac{\\partial}{\\partial t } -2 \\frac{\\partial}{\\partial r }\n",
       "\\end{math}"
      ],
      "text/plain": [
       "2*r/(-2*m + r) d/dt - 2 d/dr"
      ]
     },
     "execution_count": 120,
     "metadata": {},
     "output_type": "execute_result"
    }
   ],
   "source": [
    "v.display()"
   ]
  },
  {
   "cell_type": "code",
   "execution_count": 121,
   "metadata": {},
   "outputs": [
    {
     "data": {
      "text/html": [
       "<html><script type=\"math/tex; mode=display\">\\newcommand{\\Bold}[1]{\\mathbf{#1}}\\frac{2 r}{- 2 m + r}</script></html>"
      ],
      "text/latex": [
       "\\begin{math}\n",
       "\\newcommand{\\Bold}[1]{\\mathbf{#1}}\\frac{2 r}{- 2 m + r}\n",
       "\\end{math}"
      ],
      "text/plain": [
       "2*r/(-2*m + r)"
      ]
     },
     "execution_count": 121,
     "metadata": {},
     "output_type": "execute_result"
    }
   ],
   "source": [
    "v[0]"
   ]
  },
  {
   "cell_type": "code",
   "execution_count": 122,
   "metadata": {},
   "outputs": [
    {
     "data": {
      "text/html": [
       "<html><script type=\"math/tex; mode=display\">\\newcommand{\\Bold}[1]{\\mathbf{#1}}\\verb|2*r/(-2*m|\\phantom{\\verb!x!}\\verb|+|\\phantom{\\verb!x!}\\verb|r)|</script></html>"
      ],
      "text/latex": [
       "\\begin{math}\n",
       "\\newcommand{\\Bold}[1]{\\mathbf{#1}}\\verb|2*r/(-2*m|\\phantom{\\verb!x!}\\verb|+|\\phantom{\\verb!x!}\\verb|r)|\n",
       "\\end{math}"
      ],
      "text/plain": [
       "2*r/(-2*m + r)"
      ]
     },
     "execution_count": 122,
     "metadata": {},
     "output_type": "execute_result"
    }
   ],
   "source": [
    "v[0].expr()"
   ]
  },
  {
   "cell_type": "code",
   "execution_count": 123,
   "metadata": {},
   "outputs": [
    {
     "data": {
      "text/html": [
       "<html><script type=\"math/tex; mode=display\">\\newcommand{\\Bold}[1]{\\mathbf{#1}}\\verb|<class|\\phantom{\\verb!x!}\\verb|'sympy.core.mul.Mul'>|</script></html>"
      ],
      "text/latex": [
       "\\begin{math}\n",
       "\\newcommand{\\Bold}[1]{\\mathbf{#1}}\\verb|<class|\\phantom{\\verb!x!}\\verb|'sympy.core.mul.Mul'>|\n",
       "\\end{math}"
      ],
      "text/plain": [
       "<class 'sympy.core.mul.Mul'>"
      ]
     },
     "execution_count": 123,
     "metadata": {},
     "output_type": "execute_result"
    }
   ],
   "source": [
    "type(v[0].expr())"
   ]
  },
  {
   "cell_type": "code",
   "execution_count": 124,
   "metadata": {},
   "outputs": [],
   "source": [
    "M.set_calculus_method('SR')"
   ]
  },
  {
   "cell_type": "code",
   "execution_count": 125,
   "metadata": {},
   "outputs": [
    {
     "data": {
      "text/html": [
       "<html><script type=\"math/tex; mode=display\">\\newcommand{\\Bold}[1]{\\mathbf{#1}}\\verb|<class|\\phantom{\\verb!x!}\\verb|'sage.symbolic.expression.Expression'>|</script></html>"
      ],
      "text/latex": [
       "\\begin{math}\n",
       "\\newcommand{\\Bold}[1]{\\mathbf{#1}}\\verb|<class|\\phantom{\\verb!x!}\\verb|'sage.symbolic.expression.Expression'>|\n",
       "\\end{math}"
      ],
      "text/plain": [
       "<class 'sage.symbolic.expression.Expression'>"
      ]
     },
     "execution_count": 125,
     "metadata": {},
     "output_type": "execute_result"
    }
   ],
   "source": [
    "type(v[0].expr())"
   ]
  },
  {
   "cell_type": "markdown",
   "metadata": {},
   "source": [
    "# Going further\n",
    "\n",
    "\n",
    "Visit the [SageManifolds examples](http://sagemanifolds.obspm.fr/examples.html). "
   ]
  },
  {
   "cell_type": "code",
   "execution_count": null,
   "metadata": {},
   "outputs": [],
   "source": []
  }
 ],
 "metadata": {
  "kernelspec": {
   "display_name": "SageMath 9.2",
   "language": "sage",
   "name": "sagemath"
  },
  "language_info": {
   "codemirror_mode": {
    "name": "ipython",
    "version": 3
   },
   "file_extension": ".py",
   "mimetype": "text/x-python",
   "name": "python",
   "nbconvert_exporter": "python",
   "pygments_lexer": "ipython3",
   "version": "3.8.5"
  }
 },
 "nbformat": 4,
 "nbformat_minor": 4
}
