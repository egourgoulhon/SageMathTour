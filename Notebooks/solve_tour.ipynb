{
 "cells": [
  {
   "cell_type": "markdown",
   "metadata": {},
   "source": [
    "# Solving equations with SageMath"
   ]
  },
  {
   "cell_type": "code",
   "execution_count": 1,
   "metadata": {},
   "outputs": [],
   "source": [
    "%display latex"
   ]
  },
  {
   "cell_type": "markdown",
   "metadata": {},
   "source": [
    "## Exact solutions : `solve`"
   ]
  },
  {
   "cell_type": "markdown",
   "metadata": {},
   "source": [
    "Let us start with a simple example: solving $x^2-x-1=0$ for $x$:"
   ]
  },
  {
   "cell_type": "code",
   "execution_count": 2,
   "metadata": {},
   "outputs": [
    {
     "data": {
      "text/html": [
       "<html>\\(\\displaystyle \\left[x = -\\frac{1}{2} \\, \\sqrt{5} + \\frac{1}{2}, x = \\frac{1}{2} \\, \\sqrt{5} + \\frac{1}{2}\\right]\\)</html>"
      ],
      "text/latex": [
       "$\\displaystyle \\left[x = -\\frac{1}{2} \\, \\sqrt{5} + \\frac{1}{2}, x = \\frac{1}{2} \\, \\sqrt{5} + \\frac{1}{2}\\right]$"
      ],
      "text/plain": [
       "[x == -1/2*sqrt(5) + 1/2, x == 1/2*sqrt(5) + 1/2]"
      ]
     },
     "execution_count": 2,
     "metadata": {},
     "output_type": "execute_result"
    }
   ],
   "source": [
    "solve(x^2-x-1 == 0, x)"
   ]
  },
  {
   "cell_type": "markdown",
   "metadata": {},
   "source": [
    "Note that the equation is formed with the operator `==`. \n",
    "\n",
    "The equation itself can be stored in a Python variable:"
   ]
  },
  {
   "cell_type": "code",
   "execution_count": 3,
   "metadata": {},
   "outputs": [],
   "source": [
    "eq = x^2-x-1 == 0"
   ]
  },
  {
   "cell_type": "code",
   "execution_count": 4,
   "metadata": {},
   "outputs": [
    {
     "data": {
      "text/html": [
       "<html>\\(\\displaystyle x^{2} - x - 1 = 0\\)</html>"
      ],
      "text/latex": [
       "$\\displaystyle x^{2} - x - 1 = 0$"
      ],
      "text/plain": [
       "x^2 - x - 1 == 0"
      ]
     },
     "execution_count": 4,
     "metadata": {},
     "output_type": "execute_result"
    }
   ],
   "source": [
    "eq"
   ]
  },
  {
   "cell_type": "code",
   "execution_count": 5,
   "metadata": {},
   "outputs": [
    {
     "data": {
      "text/html": [
       "<html>\\(\\displaystyle x^{2} - x - 1\\)</html>"
      ],
      "text/latex": [
       "$\\displaystyle x^{2} - x - 1$"
      ],
      "text/plain": [
       "x^2 - x - 1"
      ]
     },
     "execution_count": 5,
     "metadata": {},
     "output_type": "execute_result"
    }
   ],
   "source": [
    "eq.lhs()"
   ]
  },
  {
   "cell_type": "code",
   "execution_count": 6,
   "metadata": {},
   "outputs": [
    {
     "data": {
      "text/html": [
       "<html>\\(\\displaystyle 0\\)</html>"
      ],
      "text/latex": [
       "$\\displaystyle 0$"
      ],
      "text/plain": [
       "0"
      ]
     },
     "execution_count": 6,
     "metadata": {},
     "output_type": "execute_result"
    }
   ],
   "source": [
    "eq.rhs()"
   ]
  },
  {
   "cell_type": "code",
   "execution_count": 7,
   "metadata": {},
   "outputs": [
    {
     "data": {
      "text/html": [
       "<html>\\(\\displaystyle \\left[x = -\\frac{1}{2} \\, \\sqrt{5} + \\frac{1}{2}, x = \\frac{1}{2} \\, \\sqrt{5} + \\frac{1}{2}\\right]\\)</html>"
      ],
      "text/latex": [
       "$\\displaystyle \\left[x = -\\frac{1}{2} \\, \\sqrt{5} + \\frac{1}{2}, x = \\frac{1}{2} \\, \\sqrt{5} + \\frac{1}{2}\\right]$"
      ],
      "text/plain": [
       "[x == -1/2*sqrt(5) + 1/2, x == 1/2*sqrt(5) + 1/2]"
      ]
     },
     "execution_count": 7,
     "metadata": {},
     "output_type": "execute_result"
    }
   ],
   "source": [
    "solve(eq, x)"
   ]
  },
  {
   "cell_type": "markdown",
   "metadata": {},
   "source": [
    "The solutions are returned as a list:"
   ]
  },
  {
   "cell_type": "code",
   "execution_count": 8,
   "metadata": {},
   "outputs": [
    {
     "data": {
      "text/html": [
       "<html>\\(\\displaystyle \\left[x = -\\frac{1}{2} \\, \\sqrt{5} + \\frac{1}{2}, x = \\frac{1}{2} \\, \\sqrt{5} + \\frac{1}{2}\\right]\\)</html>"
      ],
      "text/latex": [
       "$\\displaystyle \\left[x = -\\frac{1}{2} \\, \\sqrt{5} + \\frac{1}{2}, x = \\frac{1}{2} \\, \\sqrt{5} + \\frac{1}{2}\\right]$"
      ],
      "text/plain": [
       "[x == -1/2*sqrt(5) + 1/2, x == 1/2*sqrt(5) + 1/2]"
      ]
     },
     "execution_count": 8,
     "metadata": {},
     "output_type": "execute_result"
    }
   ],
   "source": [
    "sol = solve(eq, x)\n",
    "sol"
   ]
  },
  {
   "cell_type": "code",
   "execution_count": 9,
   "metadata": {},
   "outputs": [
    {
     "data": {
      "text/html": [
       "<html>\\(\\displaystyle x = \\frac{1}{2} \\, \\sqrt{5} + \\frac{1}{2}\\)</html>"
      ],
      "text/latex": [
       "$\\displaystyle x = \\frac{1}{2} \\, \\sqrt{5} + \\frac{1}{2}$"
      ],
      "text/plain": [
       "x == 1/2*sqrt(5) + 1/2"
      ]
     },
     "execution_count": 9,
     "metadata": {},
     "output_type": "execute_result"
    }
   ],
   "source": [
    "sol[1]"
   ]
  },
  {
   "cell_type": "markdown",
   "metadata": {},
   "source": [
    "Each element of the solution list is itself an equation, albeit a trivial one. This can be seen by using the `print` function instead of the default LaTeX display:"
   ]
  },
  {
   "cell_type": "code",
   "execution_count": 10,
   "metadata": {},
   "outputs": [
    {
     "name": "stdout",
     "output_type": "stream",
     "text": [
      "x == 1/2*sqrt(5) + 1/2\n"
     ]
    }
   ],
   "source": [
    "print(sol[1])"
   ]
  },
  {
   "cell_type": "markdown",
   "metadata": {},
   "source": [
    "The access to the value of the solution is via the `rhs()` method:"
   ]
  },
  {
   "cell_type": "code",
   "execution_count": 11,
   "metadata": {},
   "outputs": [
    {
     "data": {
      "text/html": [
       "<html>\\(\\displaystyle \\frac{1}{2} \\, \\sqrt{5} + \\frac{1}{2}\\)</html>"
      ],
      "text/latex": [
       "$\\displaystyle \\frac{1}{2} \\, \\sqrt{5} + \\frac{1}{2}$"
      ],
      "text/plain": [
       "1/2*sqrt(5) + 1/2"
      ]
     },
     "execution_count": 11,
     "metadata": {},
     "output_type": "execute_result"
    }
   ],
   "source": [
    "sol[1].rhs()"
   ]
  },
  {
   "cell_type": "markdown",
   "metadata": {},
   "source": [
    "A numerical approximation (recall that `n` is a shortcut alias for `numerical_approx`):"
   ]
  },
  {
   "cell_type": "code",
   "execution_count": 12,
   "metadata": {},
   "outputs": [
    {
     "data": {
      "text/html": [
       "<html>\\(\\displaystyle 1.61803398874989\\)</html>"
      ],
      "text/latex": [
       "$\\displaystyle 1.61803398874989$"
      ],
      "text/plain": [
       "1.61803398874989"
      ]
     },
     "execution_count": 12,
     "metadata": {},
     "output_type": "execute_result"
    }
   ],
   "source": [
    "n(sol[1].rhs())"
   ]
  },
  {
   "cell_type": "code",
   "execution_count": 13,
   "metadata": {},
   "outputs": [
    {
     "data": {
      "text/html": [
       "<html>\\(\\displaystyle 1.6180339887498948482045868343656381177203091798058\\)</html>"
      ],
      "text/latex": [
       "$\\displaystyle 1.6180339887498948482045868343656381177203091798058$"
      ],
      "text/plain": [
       "1.6180339887498948482045868343656381177203091798058"
      ]
     },
     "execution_count": 13,
     "metadata": {},
     "output_type": "execute_result"
    }
   ],
   "source": [
    "n(sol[1].rhs(), digits=50)"
   ]
  },
  {
   "cell_type": "markdown",
   "metadata": {},
   "source": [
    "A new equation involving the above solution:"
   ]
  },
  {
   "cell_type": "code",
   "execution_count": 14,
   "metadata": {},
   "outputs": [
    {
     "data": {
      "text/html": [
       "<html>\\(\\displaystyle \\frac{1}{2} \\, \\sqrt{5} + \\frac{1}{2} = \\phi\\)</html>"
      ],
      "text/latex": [
       "$\\displaystyle \\frac{1}{2} \\, \\sqrt{5} + \\frac{1}{2} = \\phi$"
      ],
      "text/plain": [
       "1/2*sqrt(5) + 1/2 == golden_ratio"
      ]
     },
     "execution_count": 14,
     "metadata": {},
     "output_type": "execute_result"
    }
   ],
   "source": [
    "sol[1].rhs() == golden_ratio()"
   ]
  },
  {
   "cell_type": "markdown",
   "metadata": {},
   "source": [
    "Asking Sage whether this equation always holds:"
   ]
  },
  {
   "cell_type": "code",
   "execution_count": 15,
   "metadata": {},
   "outputs": [
    {
     "data": {
      "text/html": [
       "<html>\\(\\displaystyle \\mathrm{True}\\)</html>"
      ],
      "text/latex": [
       "$\\displaystyle \\mathrm{True}$"
      ],
      "text/plain": [
       "True"
      ]
     },
     "execution_count": 15,
     "metadata": {},
     "output_type": "execute_result"
    }
   ],
   "source": [
    "bool(_)"
   ]
  },
  {
   "cell_type": "markdown",
   "metadata": {},
   "source": [
    "### A system with various unknowns\n",
    "\n",
    "Since `x` is the only predefined symbolic variable in Sage, we need to declare the other symbolic variables denoting the unknowns, here `y`:"
   ]
  },
  {
   "cell_type": "code",
   "execution_count": 16,
   "metadata": {},
   "outputs": [],
   "source": [
    "y = var('y')"
   ]
  },
  {
   "cell_type": "markdown",
   "metadata": {},
   "source": [
    "Then we may form the system:"
   ]
  },
  {
   "cell_type": "code",
   "execution_count": 17,
   "metadata": {},
   "outputs": [
    {
     "data": {
      "text/html": [
       "<html>\\(\\displaystyle \\left(x^{2} + x y + 2 = 0, y^{2} = {\\left(x + y\\right)} x\\right)\\)</html>"
      ],
      "text/latex": [
       "$\\displaystyle \\left(x^{2} + x y + 2 = 0, y^{2} = {\\left(x + y\\right)} x\\right)$"
      ],
      "text/plain": [
       "(x^2 + x*y + 2 == 0, y^2 == (x + y)*x)"
      ]
     },
     "execution_count": 17,
     "metadata": {},
     "output_type": "execute_result"
    }
   ],
   "source": [
    "eq1 = x^2 + x*y + 2 == 0\n",
    "eq2 = y^2 == x*(x+y)\n",
    "(eq1, eq2)"
   ]
  },
  {
   "cell_type": "code",
   "execution_count": 18,
   "metadata": {},
   "outputs": [
    {
     "data": {
      "text/html": [
       "<html>\\(\\displaystyle \\left[\\left[x = -\\frac{1}{2} i \\, \\sqrt{10} + \\frac{1}{2} i \\, \\sqrt{2}, y = -i \\, \\sqrt{2}\\right], \\left[x = \\frac{1}{2} i \\, \\sqrt{10} + \\frac{1}{2} i \\, \\sqrt{2}, y = -i \\, \\sqrt{2}\\right], \\left[x = -\\frac{1}{2} i \\, \\sqrt{10} - \\frac{1}{2} i \\, \\sqrt{2}, y = i \\, \\sqrt{2}\\right], \\left[x = \\frac{1}{2} i \\, \\sqrt{10} - \\frac{1}{2} i \\, \\sqrt{2}, y = i \\, \\sqrt{2}\\right]\\right]\\)</html>"
      ],
      "text/latex": [
       "$\\displaystyle \\left[\\left[x = -\\frac{1}{2} i \\, \\sqrt{10} + \\frac{1}{2} i \\, \\sqrt{2}, y = -i \\, \\sqrt{2}\\right], \\left[x = \\frac{1}{2} i \\, \\sqrt{10} + \\frac{1}{2} i \\, \\sqrt{2}, y = -i \\, \\sqrt{2}\\right], \\left[x = -\\frac{1}{2} i \\, \\sqrt{10} - \\frac{1}{2} i \\, \\sqrt{2}, y = i \\, \\sqrt{2}\\right], \\left[x = \\frac{1}{2} i \\, \\sqrt{10} - \\frac{1}{2} i \\, \\sqrt{2}, y = i \\, \\sqrt{2}\\right]\\right]$"
      ],
      "text/plain": [
       "[[x == -1/2*I*sqrt(10) + 1/2*I*sqrt(2), y == -I*sqrt(2)], [x == 1/2*I*sqrt(10) + 1/2*I*sqrt(2), y == -I*sqrt(2)], [x == -1/2*I*sqrt(10) - 1/2*I*sqrt(2), y == I*sqrt(2)], [x == 1/2*I*sqrt(10) - 1/2*I*sqrt(2), y == I*sqrt(2)]]"
      ]
     },
     "execution_count": 18,
     "metadata": {},
     "output_type": "execute_result"
    }
   ],
   "source": [
    "sol = solve((eq1, eq2), x, y)\n",
    "sol"
   ]
  },
  {
   "cell_type": "markdown",
   "metadata": {},
   "source": [
    "Here again the solutions are returned as a list; but now, each item of the list is itself a list, containing the values for `x` and `y`:"
   ]
  },
  {
   "cell_type": "code",
   "execution_count": 19,
   "metadata": {},
   "outputs": [
    {
     "data": {
      "text/html": [
       "<html>\\(\\displaystyle \\left[x = -\\frac{1}{2} i \\, \\sqrt{10} + \\frac{1}{2} i \\, \\sqrt{2}, y = -i \\, \\sqrt{2}\\right]\\)</html>"
      ],
      "text/latex": [
       "$\\displaystyle \\left[x = -\\frac{1}{2} i \\, \\sqrt{10} + \\frac{1}{2} i \\, \\sqrt{2}, y = -i \\, \\sqrt{2}\\right]$"
      ],
      "text/plain": [
       "[x == -1/2*I*sqrt(10) + 1/2*I*sqrt(2), y == -I*sqrt(2)]"
      ]
     },
     "execution_count": 19,
     "metadata": {},
     "output_type": "execute_result"
    }
   ],
   "source": [
    "sol[0]"
   ]
  },
  {
   "cell_type": "code",
   "execution_count": 20,
   "metadata": {},
   "outputs": [
    {
     "data": {
      "text/html": [
       "<html>\\(\\displaystyle y = -i \\, \\sqrt{2}\\)</html>"
      ],
      "text/latex": [
       "$\\displaystyle y = -i \\, \\sqrt{2}$"
      ],
      "text/plain": [
       "y == -I*sqrt(2)"
      ]
     },
     "execution_count": 20,
     "metadata": {},
     "output_type": "execute_result"
    }
   ],
   "source": [
    "sol[0][1]"
   ]
  },
  {
   "cell_type": "code",
   "execution_count": 21,
   "metadata": {},
   "outputs": [
    {
     "data": {
      "text/html": [
       "<html>\\(\\displaystyle -i \\, \\sqrt{2}\\)</html>"
      ],
      "text/latex": [
       "$\\displaystyle -i \\, \\sqrt{2}$"
      ],
      "text/plain": [
       "-I*sqrt(2)"
      ]
     },
     "execution_count": 21,
     "metadata": {},
     "output_type": "execute_result"
    }
   ],
   "source": [
    "sol[0][1].rhs()"
   ]
  },
  {
   "cell_type": "code",
   "execution_count": 22,
   "metadata": {},
   "outputs": [
    {
     "data": {
      "text/html": [
       "<html>\\(\\displaystyle -1.41421356237310i\\)</html>"
      ],
      "text/latex": [
       "$\\displaystyle -1.41421356237310i$"
      ],
      "text/plain": [
       "-1.41421356237310*I"
      ]
     },
     "execution_count": 22,
     "metadata": {},
     "output_type": "execute_result"
    }
   ],
   "source": [
    "n(sol[0][1].rhs())"
   ]
  },
  {
   "cell_type": "markdown",
   "metadata": {},
   "source": [
    "## Approximate solution: `find_root`"
   ]
  },
  {
   "cell_type": "markdown",
   "metadata": {},
   "source": [
    "Let us consider the following transcendental equation:"
   ]
  },
  {
   "cell_type": "code",
   "execution_count": 23,
   "metadata": {},
   "outputs": [
    {
     "data": {
      "text/html": [
       "<html>\\(\\displaystyle x \\sin\\left(x\\right) = 4\\)</html>"
      ],
      "text/latex": [
       "$\\displaystyle x \\sin\\left(x\\right) = 4$"
      ],
      "text/plain": [
       "x*sin(x) == 4"
      ]
     },
     "execution_count": 23,
     "metadata": {},
     "output_type": "execute_result"
    }
   ],
   "source": [
    "eq = x*sin(x) == 4\n",
    "eq"
   ]
  },
  {
   "cell_type": "markdown",
   "metadata": {},
   "source": [
    "`solve` returns a non-trivial equation equivalent to its input, meaning it could not find a solution:"
   ]
  },
  {
   "cell_type": "code",
   "execution_count": 24,
   "metadata": {},
   "outputs": [
    {
     "data": {
      "text/html": [
       "<html>\\(\\displaystyle \\left[x = \\frac{4}{\\sin\\left(x\\right)}\\right]\\)</html>"
      ],
      "text/latex": [
       "$\\displaystyle \\left[x = \\frac{4}{\\sin\\left(x\\right)}\\right]$"
      ],
      "text/plain": [
       "[x == 4/sin(x)]"
      ]
     },
     "execution_count": 24,
     "metadata": {},
     "output_type": "execute_result"
    }
   ],
   "source": [
    "solve(eq, x)"
   ]
  },
  {
   "cell_type": "markdown",
   "metadata": {},
   "source": [
    "We use then `find_root` to get an approximate solution in a given interval, here $[0, 10]$:"
   ]
  },
  {
   "cell_type": "code",
   "execution_count": 25,
   "metadata": {},
   "outputs": [
    {
     "data": {
      "text/html": [
       "<html>\\(\\displaystyle 8.962126200824814\\)</html>"
      ],
      "text/latex": [
       "$\\displaystyle 8.962126200824814$"
      ],
      "text/plain": [
       "8.962126200824814"
      ]
     },
     "execution_count": 25,
     "metadata": {},
     "output_type": "execute_result"
    }
   ],
   "source": [
    "find_root(eq, 0, 10)"
   ]
  },
  {
   "cell_type": "markdown",
   "metadata": {},
   "source": [
    "Actually `find_root` always return a single solution, even if there are more than one in the  prescribed interval. In the current case, there is a second solution, as we can see graphically:"
   ]
  },
  {
   "cell_type": "code",
   "execution_count": 26,
   "metadata": {},
   "outputs": [
    {
     "data": {
      "image/png": "[encoded data removed]",
      "text/plain": [
       "Graphics object consisting of 1 graphics primitive"
      ]
     },
     "execution_count": 26,
     "metadata": {},
     "output_type": "execute_result"
    }
   ],
   "source": [
    "plot(x*sin(x)-4, (x, 0, 10))"
   ]
  },
  {
   "cell_type": "markdown",
   "metadata": {},
   "source": [
    "We can get it by forcing the search in the interval $[6,8]$:"
   ]
  },
  {
   "cell_type": "code",
   "execution_count": 27,
   "metadata": {},
   "outputs": [
    {
     "data": {
      "text/html": [
       "<html>\\(\\displaystyle 6.901412609021304\\)</html>"
      ],
      "text/latex": [
       "$\\displaystyle 6.901412609021304$"
      ],
      "text/plain": [
       "6.901412609021304"
      ]
     },
     "execution_count": 27,
     "metadata": {},
     "output_type": "execute_result"
    }
   ],
   "source": [
    "find_root(eq, 6, 8)"
   ]
  },
  {
   "cell_type": "code",
   "execution_count": 28,
   "metadata": {},
   "outputs": [
    {
     "data": {
      "text/html": [
       "<html>\\(\\displaystyle \\left(6.901412609021304, \\begin{array}{l}\n",
       "\\verb|      |\\verb|converged:|\\verb| |\\verb|True|\\\\\n",
       "\\verb|           |\\verb|flag:|\\verb| |\\verb|'converged'|\\\\\n",
       "\\verb| |\\verb|function_calls:|\\verb| |\\verb|10|\\\\\n",
       "\\verb|     |\\verb|iterations:|\\verb| |\\verb|9|\\\\\n",
       "\\verb|           |\\verb|root:|\\verb| |\\verb|6.901412609021304|\n",
       "\\end{array}\\right)\\)</html>"
      ],
      "text/latex": [
       "$\\displaystyle \\left(6.901412609021304, \\begin{array}{l}\n",
       "\\verb|      |\\verb|converged:|\\verb| |\\verb|True|\\\\\n",
       "\\verb|           |\\verb|flag:|\\verb| |\\verb|'converged'|\\\\\n",
       "\\verb| |\\verb|function_calls:|\\verb| |\\verb|10|\\\\\n",
       "\\verb|     |\\verb|iterations:|\\verb| |\\verb|9|\\\\\n",
       "\\verb|           |\\verb|root:|\\verb| |\\verb|6.901412609021304|\n",
       "\\end{array}\\right)$"
      ],
      "text/plain": [
       "(6.901412609021304,\n",
       "       converged: True\n",
       "            flag: 'converged'\n",
       "  function_calls: 10\n",
       "      iterations: 9\n",
       "            root: 6.901412609021304)"
      ]
     },
     "execution_count": 28,
     "metadata": {},
     "output_type": "execute_result"
    }
   ],
   "source": [
    "find_root(eq, 6, 8, full_output=True)"
   ]
  },
  {
   "cell_type": "markdown",
   "metadata": {},
   "source": [
    "## Approximate solution to a system: `mpmath.findroot`"
   ]
  },
  {
   "cell_type": "code",
   "execution_count": 29,
   "metadata": {},
   "outputs": [
    {
     "data": {
      "text/html": [
       "<html>\\(\\displaystyle x \\sin\\left(x\\right) - y = 0\\)</html>"
      ],
      "text/latex": [
       "$\\displaystyle x \\sin\\left(x\\right) - y = 0$"
      ],
      "text/plain": [
       "x*sin(x) - y == 0"
      ]
     },
     "metadata": {},
     "output_type": "display_data"
    },
    {
     "data": {
      "text/html": [
       "<html>\\(\\displaystyle y \\cos\\left(y\\right) - x - 1 = 0\\)</html>"
      ],
      "text/latex": [
       "$\\displaystyle y \\cos\\left(y\\right) - x - 1 = 0$"
      ],
      "text/plain": [
       "y*cos(y) - x - 1 == 0"
      ]
     },
     "metadata": {},
     "output_type": "display_data"
    }
   ],
   "source": [
    "eq1 = x*sin(x) - y == 0\n",
    "eq2 = y*cos(y) - x - 1 == 0\n",
    "for eq in [eq1, eq2]:\n",
    "    show(eq)"
   ]
  },
  {
   "cell_type": "code",
   "execution_count": 30,
   "metadata": {},
   "outputs": [
    {
     "data": {
      "text/html": [
       "<html>\\(\\displaystyle \\left( x, y \\right) \\ {\\mapsto} \\ x \\sin\\left(x\\right) - y\\)</html>"
      ],
      "text/latex": [
       "$\\displaystyle \\left( x, y \\right) \\ {\\mapsto} \\ x \\sin\\left(x\\right) - y$"
      ],
      "text/plain": [
       "(x, y) |--> x*sin(x) - y"
      ]
     },
     "execution_count": 30,
     "metadata": {},
     "output_type": "execute_result"
    }
   ],
   "source": [
    "f1(x,y) = eq1.lhs()\n",
    "f1"
   ]
  },
  {
   "cell_type": "code",
   "execution_count": 31,
   "metadata": {},
   "outputs": [
    {
     "data": {
      "text/html": [
       "<html>\\(\\displaystyle \\left( x, y \\right) \\ {\\mapsto} \\ y \\cos\\left(y\\right) - x - 1\\)</html>"
      ],
      "text/latex": [
       "$\\displaystyle \\left( x, y \\right) \\ {\\mapsto} \\ y \\cos\\left(y\\right) - x - 1$"
      ],
      "text/plain": [
       "(x, y) |--> y*cos(y) - x - 1"
      ]
     },
     "execution_count": 31,
     "metadata": {},
     "output_type": "execute_result"
    }
   ],
   "source": [
    "f2(x,y) = eq2.lhs()\n",
    "f2"
   ]
  },
  {
   "cell_type": "markdown",
   "metadata": {},
   "source": [
    "For solving a system, we use the [mpmath](http://mpmath.org/) toolbox:"
   ]
  },
  {
   "cell_type": "code",
   "execution_count": 32,
   "metadata": {},
   "outputs": [],
   "source": [
    "import mpmath"
   ]
  },
  {
   "cell_type": "code",
   "execution_count": 33,
   "metadata": {},
   "outputs": [
    {
     "data": {
      "text/html": [
       "<html>\\(\\displaystyle \\begin{array}{l}\n",
       "\\verb|[-0.642871006593746]|\\\\\n",
       "\\verb|[|\\verb| |\\verb|0.385398467857987]|\n",
       "\\end{array}\\)</html>"
      ],
      "text/latex": [
       "$\\displaystyle \\begin{array}{l}\n",
       "\\verb|[-0.642871006593746]|\\\\\n",
       "\\verb|[|\\verb| |\\verb|0.385398467857987]|\n",
       "\\end{array}$"
      ],
      "text/plain": [
       "matrix(\n",
       "[['-0.642871006593746'],\n",
       " ['0.385398467857987']])"
      ]
     },
     "execution_count": 33,
     "metadata": {},
     "output_type": "execute_result"
    }
   ],
   "source": [
    "f = [lambda a,b: f1(RR(a), RR(b)), lambda a,b: f2(RR(a), RR(b))]\n",
    "sol = mpmath.findroot(f, (0, 0))\n",
    "sol"
   ]
  },
  {
   "cell_type": "code",
   "execution_count": 34,
   "metadata": {},
   "outputs": [
    {
     "data": {
      "text/html": [
       "<html>\\(\\displaystyle \\left[\\left[-0.642871006593746\\right], \\left[0.385398467857987\\right]\\right]\\)</html>"
      ],
      "text/latex": [
       "$\\displaystyle \\left[\\left[-0.642871006593746\\right], \\left[0.385398467857987\\right]\\right]$"
      ],
      "text/plain": [
       "[[mpf('-0.64287100659374617')], [mpf('0.38539846785798665')]]"
      ]
     },
     "execution_count": 34,
     "metadata": {},
     "output_type": "execute_result"
    }
   ],
   "source": [
    "sol.tolist()"
   ]
  },
  {
   "cell_type": "code",
   "execution_count": 35,
   "metadata": {},
   "outputs": [
    {
     "data": {
      "text/html": [
       "<html>\\(\\displaystyle \\left(-0.642871006593746, 0.385398467857987\\right)\\)</html>"
      ],
      "text/latex": [
       "$\\displaystyle \\left(-0.642871006593746, 0.385398467857987\\right)$"
      ],
      "text/plain": [
       "(-0.642871006593746, 0.385398467857987)"
      ]
     },
     "execution_count": 35,
     "metadata": {},
     "output_type": "execute_result"
    }
   ],
   "source": [
    "x1 = RR(sol.tolist()[0][0])\n",
    "y1 = RR(sol.tolist()[1][0])\n",
    "x1, y1"
   ]
  },
  {
   "cell_type": "code",
   "execution_count": 36,
   "metadata": {},
   "outputs": [
    {
     "data": {
      "text/html": [
       "<html>\\(\\displaystyle -5.55111512312578 \\times 10^{-16}\\)</html>"
      ],
      "text/latex": [
       "$\\displaystyle -5.55111512312578 \\times 10^{-16}$"
      ],
      "text/plain": [
       "-5.55111512312578e-16"
      ]
     },
     "execution_count": 36,
     "metadata": {},
     "output_type": "execute_result"
    }
   ],
   "source": [
    "f1(x1,y1)"
   ]
  },
  {
   "cell_type": "code",
   "execution_count": 37,
   "metadata": {},
   "outputs": [
    {
     "data": {
      "text/html": [
       "<html>\\(\\displaystyle 1.11022302462516 \\times 10^{-16}\\)</html>"
      ],
      "text/latex": [
       "$\\displaystyle 1.11022302462516 \\times 10^{-16}$"
      ],
      "text/plain": [
       "1.11022302462516e-16"
      ]
     },
     "execution_count": 37,
     "metadata": {},
     "output_type": "execute_result"
    }
   ],
   "source": [
    "f2(x1,y1)"
   ]
  },
  {
   "cell_type": "code",
   "execution_count": 38,
   "metadata": {},
   "outputs": [
    {
     "data": {
      "text/html": [
       "<html>\\(\\displaystyle \\left(-0.6428708247411281,\\,0.38539856760460756\\right)\\)</html>"
      ],
      "text/latex": [
       "$\\displaystyle \\left(-0.6428708247411281,\\,0.38539856760460756\\right)$"
      ],
      "text/plain": [
       "(-0.6428708247411281, 0.38539856760460756)"
      ]
     },
     "execution_count": 38,
     "metadata": {},
     "output_type": "execute_result"
    }
   ],
   "source": [
    "sol2 = minimize(eq1.lhs()^2 + eq2.lhs()^2, (-0.6,0.4))\n",
    "sol2"
   ]
  },
  {
   "cell_type": "code",
   "execution_count": 39,
   "metadata": {},
   "outputs": [
    {
     "data": {
      "text/html": [
       "<html>\\(\\displaystyle \\left(-0.6428708247411281, 0.38539856760460756\\right)\\)</html>"
      ],
      "text/latex": [
       "$\\displaystyle \\left(-0.6428708247411281, 0.38539856760460756\\right)$"
      ],
      "text/plain": [
       "(-0.6428708247411281, 0.38539856760460756)"
      ]
     },
     "execution_count": 39,
     "metadata": {},
     "output_type": "execute_result"
    }
   ],
   "source": [
    "x2, y2 = sol2[0], sol2[1]\n",
    "x2, y2"
   ]
  },
  {
   "cell_type": "code",
   "execution_count": 40,
   "metadata": {},
   "outputs": [
    {
     "data": {
      "text/html": [
       "<html>\\(\\displaystyle \\left(-3.0233688164127415 \\times 10^{-07}, -1.0387405890988077 \\times 10^{-07}\\right)\\)</html>"
      ],
      "text/latex": [
       "$\\displaystyle \\left(-3.0233688164127415 \\times 10^{-07}, -1.0387405890988077 \\times 10^{-07}\\right)$"
      ],
      "text/plain": [
       "(-3.0233688164127415e-07, -1.0387405890988077e-07)"
      ]
     },
     "execution_count": 40,
     "metadata": {},
     "output_type": "execute_result"
    }
   ],
   "source": [
    "f1(x2,y2), f2(x2,y2)"
   ]
  },
  {
   "cell_type": "code",
   "execution_count": 41,
   "metadata": {},
   "outputs": [
    {
     "data": {
      "text/html": [
       "<html>\\(\\displaystyle \\left(-1.81852617853195 \\times 10^{-7}, -9.97466205743258 \\times 10^{-8}\\right)\\)</html>"
      ],
      "text/latex": [
       "$\\displaystyle \\left(-1.81852617853195 \\times 10^{-7}, -9.97466205743258 \\times 10^{-8}\\right)$"
      ],
      "text/plain": [
       "(-1.81852617853195e-7, -9.97466205743258e-8)"
      ]
     },
     "execution_count": 41,
     "metadata": {},
     "output_type": "execute_result"
    }
   ],
   "source": [
    "x1 - x2, y1 - y2"
   ]
  }
 ],
 "metadata": {
  "kernelspec": {
   "display_name": "SageMath 9.6.beta4",
   "language": "sage",
   "name": "sagemath"
  },
  "language_info": {
   "codemirror_mode": {
    "name": "ipython",
    "version": 3
   },
   "file_extension": ".py",
   "mimetype": "text/x-python",
   "name": "python",
   "nbconvert_exporter": "python",
   "pygments_lexer": "ipython3",
   "version": "3.8.10"
  }
 },
 "nbformat": 4,
 "nbformat_minor": 4
}
