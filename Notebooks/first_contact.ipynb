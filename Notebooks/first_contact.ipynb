{
 "cells": [
  {
   "cell_type": "markdown",
   "metadata": {},
   "source": [
    "# First contact with SageMath\n",
    "\n",
    "This Jupyter notebook illustrates a few elementary features of [SageMath](https://www.sagemath.org/).\n",
    "\n",
    "First we set up the display to have LaTeX outputs:"
   ]
  },
  {
   "cell_type": "code",
   "execution_count": 1,
   "metadata": {
    "tags": []
   },
   "outputs": [],
   "source": [
    "%display latex"
   ]
  },
  {
   "cell_type": "markdown",
   "metadata": {},
   "source": [
    "## Starting with numbers...\n",
    "\n",
    "SageMath knows about $\\pi$, $e$ and $i$ (well, it's mathematical software, isn't it ?):"
   ]
  },
  {
   "cell_type": "code",
   "execution_count": 2,
   "metadata": {
    "tags": []
   },
   "outputs": [
    {
     "data": {
      "text/html": [
       "<html>\\(\\displaystyle 0\\)</html>"
      ],
      "text/latex": [
       "$\\displaystyle 0$"
      ],
      "text/plain": [
       "0"
      ]
     },
     "execution_count": 2,
     "metadata": {},
     "output_type": "execute_result"
    }
   ],
   "source": [
    "e^(i*pi) + 1"
   ]
  },
  {
   "cell_type": "markdown",
   "metadata": {},
   "source": [
    "*--- It's nice, but I thought SageMath was based on Python: shouldn't the above be written `e**(i*pi) + 1`, given that `^` is the bitwise XOR operator in Python?*\n",
    "\n",
    "Actually, the input cells are **preparsed** by SageMath before being sent to the Python interpreter. The action of the preparser is revealed by the function `preparse`:"
   ]
  },
  {
   "cell_type": "code",
   "execution_count": 3,
   "metadata": {
    "tags": []
   },
   "outputs": [
    {
     "data": {
      "text/html": [
       "<html>\\(\\displaystyle \\verb|e**(i*pi)|\\verb| |\\verb|+|\\verb| |\\verb|Integer(1)|\\)</html>"
      ],
      "text/latex": [
       "$\\displaystyle \\verb|e**(i*pi)|\\verb| |\\verb|+|\\verb| |\\verb|Integer(1)|$"
      ],
      "text/plain": [
       "'e**(i*pi) + Integer(1)'"
      ]
     },
     "execution_count": 3,
     "metadata": {},
     "output_type": "execute_result"
    }
   ],
   "source": [
    "preparse(\"e^(i*pi) + 1\")"
   ]
  },
  {
   "cell_type": "markdown",
   "metadata": {},
   "source": [
    "We see that indeed, the character `^` has been changed to `**`.\n",
    "\n",
    "Another noticable change is `1` $\\to$ `Integer(1)`. This means that the preparser is turning integers into SageMath integers, which belong to the class `Integer`:"
   ]
  },
  {
   "cell_type": "code",
   "execution_count": 4,
   "metadata": {
    "tags": []
   },
   "outputs": [
    {
     "data": {
      "text/html": [
       "<html>\\(\\displaystyle \\verb|&lt;class|\\verb| |\\verb|'sage.rings.integer.Integer'>|\\)</html>"
      ],
      "text/latex": [
       "$\\displaystyle \\verb|<class|\\verb| |\\verb|'sage.rings.integer.Integer'>|$"
      ],
      "text/plain": [
       "<class 'sage.rings.integer.Integer'>"
      ]
     },
     "execution_count": 4,
     "metadata": {},
     "output_type": "execute_result"
    }
   ],
   "source": [
    "type(1)"
   ]
  },
  {
   "cell_type": "markdown",
   "metadata": {},
   "source": [
    "This type of integer is much more sophisticated than a mere Python integer (`int`). In particular, it knows to which mathematical set it belongs. The latter is returned by the function `parent`:"
   ]
  },
  {
   "cell_type": "code",
   "execution_count": 5,
   "metadata": {
    "tags": []
   },
   "outputs": [
    {
     "data": {
      "text/html": [
       "<html>\\(\\displaystyle \\newcommand{\\Bold}[1]{\\mathbf{#1}}\\Bold{Z}\\)</html>"
      ],
      "text/latex": [
       "$\\displaystyle \\newcommand{\\Bold}[1]{\\mathbf{#1}}\\Bold{Z}$"
      ],
      "text/plain": [
       "Integer Ring"
      ]
     },
     "execution_count": 5,
     "metadata": {},
     "output_type": "execute_result"
    }
   ],
   "source": [
    "parent(1)"
   ]
  },
  {
   "cell_type": "markdown",
   "metadata": {},
   "source": [
    "To have more information than just the symbol of the parent, one can use the `print` function:"
   ]
  },
  {
   "cell_type": "code",
   "execution_count": 6,
   "metadata": {
    "tags": []
   },
   "outputs": [
    {
     "name": "stdout",
     "output_type": "stream",
     "text": [
      "Integer Ring\n"
     ]
    }
   ],
   "source": [
    "print(parent(1))"
   ]
  },
  {
   "cell_type": "markdown",
   "metadata": {},
   "source": [
    "Let us denote this object by the Python variable `Z`:"
   ]
  },
  {
   "cell_type": "code",
   "execution_count": 7,
   "metadata": {
    "tags": []
   },
   "outputs": [
    {
     "data": {
      "text/html": [
       "<html>\\(\\displaystyle \\newcommand{\\Bold}[1]{\\mathbf{#1}}\\Bold{Z}\\)</html>"
      ],
      "text/latex": [
       "$\\displaystyle \\newcommand{\\Bold}[1]{\\mathbf{#1}}\\Bold{Z}$"
      ],
      "text/plain": [
       "Integer Ring"
      ]
     },
     "execution_count": 7,
     "metadata": {},
     "output_type": "execute_result"
    }
   ],
   "source": [
    "Z = parent(1)\n",
    "Z"
   ]
  },
  {
   "cell_type": "markdown",
   "metadata": {},
   "source": [
    "`Z` is endowed with many methods, which can be discovered via the **TAB key**:\n",
    "```\n",
    "    Z.<TAB>\n",
    "```\n",
    "Once a method has been selected, one can get some **documentation** about it via `?`:"
   ]
  },
  {
   "cell_type": "code",
   "execution_count": 8,
   "metadata": {
    "tags": []
   },
   "outputs": [
    {
     "data": {
      "text/plain": [
       "\u001b[1;31mSignature:\u001b[0m      \u001b[0mZ\u001b[0m\u001b[1;33m.\u001b[0m\u001b[0mcardinality\u001b[0m\u001b[1;33m(\u001b[0m\u001b[1;33m)\u001b[0m\u001b[1;33m\u001b[0m\u001b[1;33m\u001b[0m\u001b[0m\n",
       "\u001b[1;31mDocstring:\u001b[0m     \n",
       "   Count the elements of the enumerated set.\n",
       "\n",
       "   EXAMPLES:\n",
       "\n",
       "      sage: NN = InfiniteEnumeratedSets().example()\n",
       "      sage: NN.cardinality()\n",
       "      +Infinity\n",
       "\u001b[1;31mInit docstring:\u001b[0m Initialize self.  See help(type(self)) for accurate signature.\n",
       "\u001b[1;31mFile:\u001b[0m           ~/sage/9.6.develop/local/var/lib/sage/venv-python3.8/lib/python3.8/site-packages/sage/categories/sets_cat.py\n",
       "\u001b[1;31mType:\u001b[0m           method\n"
      ]
     },
     "metadata": {},
     "output_type": "display_data"
    }
   ],
   "source": [
    "Z.cardinality?"
   ]
  },
  {
   "cell_type": "markdown",
   "metadata": {},
   "source": [
    "A double question mark leads directly to the **source code** (recall that SageMath is a free software!):"
   ]
  },
  {
   "cell_type": "code",
   "execution_count": 9,
   "metadata": {
    "tags": []
   },
   "outputs": [
    {
     "data": {
      "text/plain": [
       "\u001b[1;31mSignature:\u001b[0m \u001b[0mZ\u001b[0m\u001b[1;33m.\u001b[0m\u001b[0mcardinality\u001b[0m\u001b[1;33m(\u001b[0m\u001b[1;33m)\u001b[0m\u001b[1;33m\u001b[0m\u001b[1;33m\u001b[0m\u001b[0m\n",
       "\u001b[1;31mDocstring:\u001b[0m\n",
       "   Count the elements of the enumerated set.\n",
       "\n",
       "   EXAMPLES:\n",
       "\n",
       "      sage: NN = InfiniteEnumeratedSets().example()\n",
       "      sage: NN.cardinality()\n",
       "      +Infinity\n",
       "\u001b[1;31mSource:\u001b[0m   \n",
       "            \u001b[1;32mdef\u001b[0m \u001b[0mcardinality\u001b[0m\u001b[1;33m(\u001b[0m\u001b[0mself\u001b[0m\u001b[1;33m)\u001b[0m\u001b[1;33m:\u001b[0m\u001b[1;33m\u001b[0m\n",
       "\u001b[1;33m\u001b[0m                \u001b[1;34m\"\"\"\u001b[0m\n",
       "\u001b[1;34m                Count the elements of the enumerated set.\u001b[0m\n",
       "\u001b[1;34m\u001b[0m\n",
       "\u001b[1;34m                EXAMPLES::\u001b[0m\n",
       "\u001b[1;34m\u001b[0m\n",
       "\u001b[1;34m                    sage: NN = InfiniteEnumeratedSets().example()\u001b[0m\n",
       "\u001b[1;34m                    sage: NN.cardinality()\u001b[0m\n",
       "\u001b[1;34m                    +Infinity\u001b[0m\n",
       "\u001b[1;34m                \"\"\"\u001b[0m\u001b[1;33m\u001b[0m\n",
       "\u001b[1;33m\u001b[0m                \u001b[1;32mfrom\u001b[0m \u001b[0msage\u001b[0m\u001b[1;33m.\u001b[0m\u001b[0mrings\u001b[0m\u001b[1;33m.\u001b[0m\u001b[0minfinity\u001b[0m \u001b[1;32mimport\u001b[0m \u001b[0minfinity\u001b[0m\u001b[1;33m\u001b[0m\n",
       "\u001b[1;33m\u001b[0m                \u001b[1;32mreturn\u001b[0m \u001b[0minfinity\u001b[0m\u001b[1;33m\u001b[0m\u001b[1;33m\u001b[0m\u001b[0m\n",
       "\u001b[1;31mFile:\u001b[0m      ~/sage/9.6.develop/local/var/lib/sage/venv-python3.8/lib/python3.8/site-packages/sage/categories/sets_cat.py\n",
       "\u001b[1;31mType:\u001b[0m      method\n"
      ]
     },
     "metadata": {},
     "output_type": "display_data"
    }
   ],
   "source": [
    "Z.cardinality??"
   ]
  },
  {
   "cell_type": "markdown",
   "metadata": {},
   "source": [
    "More documentation is available in the online [reference manual](https://doc.sagemath.org/html/en/reference/) as well as in various [tutorials and guides](https://doc.sagemath.org/html/en/)."
   ]
  },
  {
   "cell_type": "code",
   "execution_count": 10,
   "metadata": {
    "tags": []
   },
   "outputs": [
    {
     "data": {
      "text/html": [
       "<html>\\(\\displaystyle +\\infty\\)</html>"
      ],
      "text/latex": [
       "$\\displaystyle +\\infty$"
      ],
      "text/plain": [
       "+Infinity"
      ]
     },
     "execution_count": 10,
     "metadata": {},
     "output_type": "execute_result"
    }
   ],
   "source": [
    "Z.cardinality()"
   ]
  },
  {
   "cell_type": "markdown",
   "metadata": {},
   "source": [
    "Other methods:"
   ]
  },
  {
   "cell_type": "code",
   "execution_count": 11,
   "metadata": {
    "tags": []
   },
   "outputs": [
    {
     "data": {
      "text/html": [
       "<html>\\(\\displaystyle \\mathrm{True}\\)</html>"
      ],
      "text/latex": [
       "$\\displaystyle \\mathrm{True}$"
      ],
      "text/plain": [
       "True"
      ]
     },
     "execution_count": 11,
     "metadata": {},
     "output_type": "execute_result"
    }
   ],
   "source": [
    "Z.is_ring()"
   ]
  },
  {
   "cell_type": "code",
   "execution_count": 12,
   "metadata": {
    "tags": []
   },
   "outputs": [
    {
     "data": {
      "text/html": [
       "<html>\\(\\displaystyle \\mathrm{False}\\)</html>"
      ],
      "text/latex": [
       "$\\displaystyle \\mathrm{False}$"
      ],
      "text/plain": [
       "False"
      ]
     },
     "execution_count": 12,
     "metadata": {},
     "output_type": "execute_result"
    }
   ],
   "source": [
    "Z.is_field()"
   ]
  },
  {
   "cell_type": "code",
   "execution_count": 13,
   "metadata": {
    "tags": []
   },
   "outputs": [
    {
     "data": {
      "text/html": [
       "<html>\\(\\displaystyle \\left(0, 1\\right)\\)</html>"
      ],
      "text/latex": [
       "$\\displaystyle \\left(0, 1\\right)$"
      ],
      "text/plain": [
       "(0, 1)"
      ]
     },
     "execution_count": 13,
     "metadata": {},
     "output_type": "execute_result"
    }
   ],
   "source": [
    "Z.zero(), Z.one()  # the ring zero and unit elements"
   ]
  },
  {
   "cell_type": "markdown",
   "metadata": {},
   "source": [
    "Expressing $1\\in \\mathbb{Z}$ in SageMath:"
   ]
  },
  {
   "cell_type": "code",
   "execution_count": 14,
   "metadata": {
    "tags": []
   },
   "outputs": [
    {
     "data": {
      "text/html": [
       "<html>\\(\\displaystyle \\mathrm{True}\\)</html>"
      ],
      "text/latex": [
       "$\\displaystyle \\mathrm{True}$"
      ],
      "text/plain": [
       "True"
      ]
     },
     "execution_count": 14,
     "metadata": {},
     "output_type": "execute_result"
    }
   ],
   "source": [
    "1 in Z"
   ]
  },
  {
   "cell_type": "markdown",
   "metadata": {},
   "source": [
    "1 is actually the unit element of the ring $\\mathbb{Z}$:"
   ]
  },
  {
   "cell_type": "code",
   "execution_count": 15,
   "metadata": {
    "tags": []
   },
   "outputs": [
    {
     "data": {
      "text/html": [
       "<html>\\(\\displaystyle \\mathrm{True}\\)</html>"
      ],
      "text/latex": [
       "$\\displaystyle \\mathrm{True}$"
      ],
      "text/plain": [
       "True"
      ]
     },
     "execution_count": 15,
     "metadata": {},
     "output_type": "execute_result"
    }
   ],
   "source": [
    "1 == Z.one()"
   ]
  },
  {
   "cell_type": "markdown",
   "metadata": {},
   "source": [
    "Note that there exits a predefined variable, `ZZ`, for $\\mathbb{Z}$:"
   ]
  },
  {
   "cell_type": "code",
   "execution_count": 16,
   "metadata": {
    "tags": []
   },
   "outputs": [
    {
     "data": {
      "text/html": [
       "<html>\\(\\displaystyle \\mathrm{True}\\)</html>"
      ],
      "text/latex": [
       "$\\displaystyle \\mathrm{True}$"
      ],
      "text/plain": [
       "True"
      ]
     },
     "execution_count": 16,
     "metadata": {},
     "output_type": "execute_result"
    }
   ],
   "source": [
    "Z is ZZ"
   ]
  },
  {
   "cell_type": "markdown",
   "metadata": {},
   "source": [
    "SageMath integers can be arbitrarily large (up to the limit of the computer memory):"
   ]
  },
  {
   "cell_type": "code",
   "execution_count": 17,
   "metadata": {
    "tags": []
   },
   "outputs": [
    {
     "data": {
      "text/html": [
       "<html>\\(\\displaystyle 170141183460469231731687303715884105727\\)</html>"
      ],
      "text/latex": [
       "$\\displaystyle 170141183460469231731687303715884105727$"
      ],
      "text/plain": [
       "170141183460469231731687303715884105727"
      ]
     },
     "execution_count": 17,
     "metadata": {},
     "output_type": "execute_result"
    }
   ],
   "source": [
    "m = 2^127 - 1\n",
    "m"
   ]
  },
  {
   "cell_type": "code",
   "execution_count": 18,
   "metadata": {
    "tags": []
   },
   "outputs": [
    {
     "data": {
      "text/html": [
       "<html>\\(\\displaystyle \\mathrm{True}\\)</html>"
      ],
      "text/latex": [
       "$\\displaystyle \\mathrm{True}$"
      ],
      "text/plain": [
       "True"
      ]
     },
     "execution_count": 18,
     "metadata": {},
     "output_type": "execute_result"
    }
   ],
   "source": [
    "m.is_prime()"
   ]
  },
  {
   "cell_type": "markdown",
   "metadata": {},
   "source": [
    "Note that one has still access to the Python integers, via `int`:"
   ]
  },
  {
   "cell_type": "code",
   "execution_count": 19,
   "metadata": {},
   "outputs": [
    {
     "data": {
      "text/html": [
       "<html>\\(\\displaystyle 1\\)</html>"
      ],
      "text/latex": [
       "$\\displaystyle 1$"
      ],
      "text/plain": [
       "1"
      ]
     },
     "execution_count": 19,
     "metadata": {},
     "output_type": "execute_result"
    }
   ],
   "source": [
    "int(1)"
   ]
  },
  {
   "cell_type": "code",
   "execution_count": 20,
   "metadata": {},
   "outputs": [
    {
     "data": {
      "text/html": [
       "<html>\\(\\displaystyle \\verb|&lt;class|\\verb| |\\verb|'int'>|\\)</html>"
      ],
      "text/latex": [
       "$\\displaystyle \\verb|<class|\\verb| |\\verb|'int'>|$"
      ],
      "text/plain": [
       "<class 'int'>"
      ]
     },
     "execution_count": 20,
     "metadata": {},
     "output_type": "execute_result"
    }
   ],
   "source": [
    "type(_)"
   ]
  },
  {
   "cell_type": "markdown",
   "metadata": {},
   "source": [
    "They are automatically converted (coerced) into SageMath integers if necessary, for instance if they are\n",
    "added to some SageMath integer:"
   ]
  },
  {
   "cell_type": "code",
   "execution_count": 21,
   "metadata": {},
   "outputs": [
    {
     "data": {
      "text/html": [
       "<html>\\(\\displaystyle 3\\)</html>"
      ],
      "text/latex": [
       "$\\displaystyle 3$"
      ],
      "text/plain": [
       "3"
      ]
     },
     "execution_count": 21,
     "metadata": {},
     "output_type": "execute_result"
    }
   ],
   "source": [
    "int(1) + 2"
   ]
  },
  {
   "cell_type": "code",
   "execution_count": 22,
   "metadata": {},
   "outputs": [
    {
     "data": {
      "text/html": [
       "<html>\\(\\displaystyle \\verb|&lt;class|\\verb| |\\verb|'sage.rings.integer.Integer'>|\\)</html>"
      ],
      "text/latex": [
       "$\\displaystyle \\verb|<class|\\verb| |\\verb|'sage.rings.integer.Integer'>|$"
      ],
      "text/plain": [
       "<class 'sage.rings.integer.Integer'>"
      ]
     },
     "execution_count": 22,
     "metadata": {},
     "output_type": "execute_result"
    }
   ],
   "source": [
    "type(_)"
   ]
  },
  {
   "cell_type": "markdown",
   "metadata": {},
   "source": [
    "Of course, SageMath also knows about **rational numbers**:"
   ]
  },
  {
   "cell_type": "code",
   "execution_count": 23,
   "metadata": {
    "tags": []
   },
   "outputs": [
    {
     "data": {
      "text/html": [
       "<html>\\(\\displaystyle \\frac{2}{3}\\)</html>"
      ],
      "text/latex": [
       "$\\displaystyle \\frac{2}{3}$"
      ],
      "text/plain": [
       "2/3"
      ]
     },
     "execution_count": 23,
     "metadata": {},
     "output_type": "execute_result"
    }
   ],
   "source": [
    "2/3"
   ]
  },
  {
   "cell_type": "markdown",
   "metadata": {},
   "source": [
    "Python would have returned 0.6666666666666666. This is not the case here because"
   ]
  },
  {
   "cell_type": "code",
   "execution_count": 24,
   "metadata": {
    "tags": []
   },
   "outputs": [
    {
     "data": {
      "text/html": [
       "<html>\\(\\displaystyle \\verb|Integer(2)/Integer(3)|\\)</html>"
      ],
      "text/latex": [
       "$\\displaystyle \\verb|Integer(2)/Integer(3)|$"
      ],
      "text/plain": [
       "'Integer(2)/Integer(3)'"
      ]
     },
     "execution_count": 24,
     "metadata": {},
     "output_type": "execute_result"
    }
   ],
   "source": [
    "preparse('2/3')"
   ]
  },
  {
   "cell_type": "markdown",
   "metadata": {},
   "source": [
    "and the division of the (Sage) integer 2 by the (Sage) integer 3 is the (Sage) rational number $2/3$: "
   ]
  },
  {
   "cell_type": "code",
   "execution_count": 25,
   "metadata": {
    "tags": []
   },
   "outputs": [
    {
     "data": {
      "text/html": [
       "<html>\\(\\displaystyle \\newcommand{\\Bold}[1]{\\mathbf{#1}}\\Bold{Q}\\)</html>"
      ],
      "text/latex": [
       "$\\displaystyle \\newcommand{\\Bold}[1]{\\mathbf{#1}}\\Bold{Q}$"
      ],
      "text/plain": [
       "Rational Field"
      ]
     },
     "execution_count": 25,
     "metadata": {},
     "output_type": "execute_result"
    }
   ],
   "source": [
    "parent(2/3)"
   ]
  },
  {
   "cell_type": "code",
   "execution_count": 26,
   "metadata": {
    "tags": []
   },
   "outputs": [
    {
     "name": "stdout",
     "output_type": "stream",
     "text": [
      "Rational Field\n"
     ]
    }
   ],
   "source": [
    "print(_)   #  the underscore returns the latest output"
   ]
  },
  {
   "cell_type": "markdown",
   "metadata": {},
   "source": [
    "As the above examples illustrate, SageMath is based on a **Parent/Element scheme**: `parent(a)` is the algebraic or topological/differential structure to which `a` belongs. \n",
    "\n",
    "SageMath has also the concept of **mathematical categories**:"
   ]
  },
  {
   "cell_type": "code",
   "execution_count": 27,
   "metadata": {
    "tags": []
   },
   "outputs": [
    {
     "name": "stdout",
     "output_type": "stream",
     "text": [
      "Join of Category of euclidean domains and Category of infinite enumerated sets and Category of metric spaces\n"
     ]
    }
   ],
   "source": [
    "print(category(Z))"
   ]
  },
  {
   "cell_type": "markdown",
   "metadata": {},
   "source": [
    "### Real numbers\n",
    "\n",
    "SageMath can compute numerical values with an arbitrary number of digits:"
   ]
  },
  {
   "cell_type": "code",
   "execution_count": 28,
   "metadata": {
    "tags": []
   },
   "outputs": [
    {
     "data": {
      "text/html": [
       "<html>\\(\\displaystyle 3.141592653589793238462643383279502884197169399375105820974944592307816406286208998628034825342117067982148086513282306647093844609550582231725359408128481117450284102701938521105559644622948954930381964428810975665933446128475648233786783165271201909145648566923460348610454326648213393607260249141273724587006606315588174881520920962829254091715364367892590360011330530548820466521384146951941511609433057270365759591953092186117381932611793105118548074462379962749567351885752724891227938183011949129833673362440656643086021394946395224737190702179860943702770539217176293176752384674818467669405132000568127145263560827785771342757789609173637178721468440901224953430146549585371050792279689258923542019956112129021960864034418159813629774771309960518707211349999998372978049951059731732816096318595024459455346908302642522308253344685035261931188171010003137838752886587533208381420617177669147303598253490428755468731159562863882353787593751957781857780532171226806613001927876611195909216420199\\)</html>"
      ],
      "text/latex": [
       "$\\displaystyle 3.141592653589793238462643383279502884197169399375105820974944592307816406286208998628034825342117067982148086513282306647093844609550582231725359408128481117450284102701938521105559644622948954930381964428810975665933446128475648233786783165271201909145648566923460348610454326648213393607260249141273724587006606315588174881520920962829254091715364367892590360011330530548820466521384146951941511609433057270365759591953092186117381932611793105118548074462379962749567351885752724891227938183011949129833673362440656643086021394946395224737190702179860943702770539217176293176752384674818467669405132000568127145263560827785771342757789609173637178721468440901224953430146549585371050792279689258923542019956112129021960864034418159813629774771309960518707211349999998372978049951059731732816096318595024459455346908302642522308253344685035261931188171010003137838752886587533208381420617177669147303598253490428755468731159562863882353787593751957781857780532171226806613001927876611195909216420199$"
      ],
      "text/plain": [
       "3.141592653589793238462643383279502884197169399375105820974944592307816406286208998628034825342117067982148086513282306647093844609550582231725359408128481117450284102701938521105559644622948954930381964428810975665933446128475648233786783165271201909145648566923460348610454326648213393607260249141273724587006606315588174881520920962829254091715364367892590360011330530548820466521384146951941511609433057270365759591953092186117381932611793105118548074462379962749567351885752724891227938183011949129833673362440656643086021394946395224737190702179860943702770539217176293176752384674818467669405132000568127145263560827785771342757789609173637178721468440901224953430146549585371050792279689258923542019956112129021960864034418159813629774771309960518707211349999998372978049951059731732816096318595024459455346908302642522308253344685035261931188171010003137838752886587533208381420617177669147303598253490428755468731159562863882353787593751957781857780532171226806613001927876611195909216420199"
      ]
     },
     "execution_count": 28,
     "metadata": {},
     "output_type": "execute_result"
    }
   ],
   "source": [
    "n(pi, digits=1000)"
   ]
  },
  {
   "cell_type": "markdown",
   "metadata": {},
   "source": [
    "`n` is the shortcut alias for `numerical_approx`."
   ]
  },
  {
   "cell_type": "markdown",
   "metadata": {},
   "source": [
    "Another interesting computation regards the *Hermite-Ramanujan constant*:"
   ]
  },
  {
   "cell_type": "code",
   "execution_count": 29,
   "metadata": {
    "tags": []
   },
   "outputs": [
    {
     "data": {
      "text/html": [
       "<html>\\(\\displaystyle e^{\\left(\\sqrt{163} \\pi\\right)}\\)</html>"
      ],
      "text/latex": [
       "$\\displaystyle e^{\\left(\\sqrt{163} \\pi\\right)}$"
      ],
      "text/plain": [
       "e^(sqrt(163)*pi)"
      ]
     },
     "execution_count": 29,
     "metadata": {},
     "output_type": "execute_result"
    }
   ],
   "source": [
    "a = exp(pi*sqrt(163))\n",
    "a"
   ]
  },
  {
   "cell_type": "markdown",
   "metadata": {},
   "source": [
    "Actually, this number is very close to an integer, as announced by Charles Hermite in 1859 (probably without using SageMath...):"
   ]
  },
  {
   "cell_type": "code",
   "execution_count": 30,
   "metadata": {
    "tags": []
   },
   "outputs": [
    {
     "data": {
      "text/html": [
       "<html>\\(\\displaystyle 2.6253741264076874399999999999925007259719818568889 \\times 10^{17}\\)</html>"
      ],
      "text/latex": [
       "$\\displaystyle 2.6253741264076874399999999999925007259719818568889 \\times 10^{17}$"
      ],
      "text/plain": [
       "2.6253741264076874399999999999925007259719818568889e17"
      ]
     },
     "execution_count": 30,
     "metadata": {},
     "output_type": "execute_result"
    }
   ],
   "source": [
    "n(a, digits=50)"
   ]
  },
  {
   "cell_type": "markdown",
   "metadata": {},
   "source": [
    "That's clear if we turn off scientific notation:"
   ]
  },
  {
   "cell_type": "code",
   "execution_count": 31,
   "metadata": {
    "tags": []
   },
   "outputs": [
    {
     "data": {
      "text/html": [
       "<html>\\(\\displaystyle 262537412640768743.99999999999925007259719818568888661\\)</html>"
      ],
      "text/latex": [
       "$\\displaystyle 262537412640768743.99999999999925007259719818568888661$"
      ],
      "text/plain": [
       "'262537412640768743.99999999999925007259719818568888661'"
      ]
     },
     "execution_count": 31,
     "metadata": {},
     "output_type": "execute_result"
    }
   ],
   "source": [
    "n(a, digits=50).str(no_sci=2)"
   ]
  },
  {
   "cell_type": "markdown",
   "metadata": {},
   "source": [
    "## Symbolic computations\n",
    "\n",
    "Beside numerical computations, SageMath can perform symbolic ones. For instance, it can compute a **derivative**:"
   ]
  },
  {
   "cell_type": "code",
   "execution_count": 32,
   "metadata": {},
   "outputs": [
    {
     "data": {
      "text/html": [
       "<html>\\(\\displaystyle 2 \\, x \\cos\\left(x^{2}\\right)\\)</html>"
      ],
      "text/latex": [
       "$\\displaystyle 2 \\, x \\cos\\left(x^{2}\\right)$"
      ],
      "text/plain": [
       "2*x*cos(x^2)"
      ]
     },
     "execution_count": 32,
     "metadata": {},
     "output_type": "execute_result"
    }
   ],
   "source": [
    "f = diff(sin(x^2), x)\n",
    "f"
   ]
  },
  {
   "cell_type": "markdown",
   "metadata": {},
   "source": [
    "Due to the command `%display latex` in the first cell of this notebook, SageMath displays all results, such as the one above, in LaTeX format. To get them in console mode, use the function `print`:"
   ]
  },
  {
   "cell_type": "code",
   "execution_count": 33,
   "metadata": {},
   "outputs": [
    {
     "name": "stdout",
     "output_type": "stream",
     "text": [
      "2*x*cos(x^2)\n"
     ]
    }
   ],
   "source": [
    "print(f)"
   ]
  },
  {
   "cell_type": "markdown",
   "metadata": {},
   "source": [
    "The explicit LaTeX code can be obtained:"
   ]
  },
  {
   "cell_type": "code",
   "execution_count": 34,
   "metadata": {},
   "outputs": [
    {
     "name": "stdout",
     "output_type": "stream",
     "text": [
      "2 \\, x \\cos\\left(x^{2}\\right)\n"
     ]
    }
   ],
   "source": [
    "print(latex(f))"
   ]
  },
  {
   "cell_type": "markdown",
   "metadata": {},
   "source": [
    "A pdf file with the LaTeX display is generated by the function `view`:"
   ]
  },
  {
   "cell_type": "code",
   "execution_count": 35,
   "metadata": {},
   "outputs": [],
   "source": [
    "view(f)"
   ]
  },
  {
   "cell_type": "markdown",
   "metadata": {},
   "source": [
    "`x` is the only generic symbolic variable predefined in a SageMath session. All other symbolic variables must be declared explicitly, via the function `var`:"
   ]
  },
  {
   "cell_type": "code",
   "execution_count": 36,
   "metadata": {},
   "outputs": [],
   "source": [
    "y = var('y')\n",
    "\n",
    "alp = var('alp', latex_name=r'\\alpha')"
   ]
  },
  {
   "cell_type": "code",
   "execution_count": 37,
   "metadata": {},
   "outputs": [
    {
     "data": {
      "text/html": [
       "<html>\\(\\displaystyle {\\alpha} y + x\\)</html>"
      ],
      "text/latex": [
       "$\\displaystyle {\\alpha} y + x$"
      ],
      "text/plain": [
       "alp*y + x"
      ]
     },
     "execution_count": 37,
     "metadata": {},
     "output_type": "execute_result"
    }
   ],
   "source": [
    "f = alp*y + x\n",
    "f"
   ]
  },
  {
   "cell_type": "code",
   "execution_count": 38,
   "metadata": {},
   "outputs": [
    {
     "data": {
      "text/html": [
       "<html>\\(\\displaystyle y\\)</html>"
      ],
      "text/latex": [
       "$\\displaystyle y$"
      ],
      "text/plain": [
       "y"
      ]
     },
     "execution_count": 38,
     "metadata": {},
     "output_type": "execute_result"
    }
   ],
   "source": [
    "diff(f, alp)"
   ]
  },
  {
   "cell_type": "markdown",
   "metadata": {},
   "source": [
    "SageMath can also compute a **primitive**:"
   ]
  },
  {
   "cell_type": "code",
   "execution_count": 39,
   "metadata": {},
   "outputs": [
    {
     "data": {
      "text/html": [
       "<html>\\(\\displaystyle \\int \\frac{x^{5}}{x^{3} - 2 \\, x + 1}\\,{d x}\\)</html>"
      ],
      "text/latex": [
       "$\\displaystyle \\int \\frac{x^{5}}{x^{3} - 2 \\, x + 1}\\,{d x}$"
      ],
      "text/plain": [
       "integrate(x^5/(x^3 - 2*x + 1), x)"
      ]
     },
     "execution_count": 39,
     "metadata": {},
     "output_type": "execute_result"
    }
   ],
   "source": [
    "integrate(x^5/(x^3 - 2*x +1), x, hold=True) "
   ]
  },
  {
   "cell_type": "code",
   "execution_count": 40,
   "metadata": {},
   "outputs": [
    {
     "data": {
      "text/html": [
       "<html>\\(\\displaystyle \\frac{1}{3} \\, x^{3} + \\frac{2}{5} \\, \\sqrt{5} \\log\\left(\\frac{2 \\, x - \\sqrt{5} + 1}{2 \\, x + \\sqrt{5} + 1}\\right) + 2 \\, x - \\log\\left(x^{2} + x - 1\\right) + \\log\\left(x - 1\\right)\\)</html>"
      ],
      "text/latex": [
       "$\\displaystyle \\frac{1}{3} \\, x^{3} + \\frac{2}{5} \\, \\sqrt{5} \\log\\left(\\frac{2 \\, x - \\sqrt{5} + 1}{2 \\, x + \\sqrt{5} + 1}\\right) + 2 \\, x - \\log\\left(x^{2} + x - 1\\right) + \\log\\left(x - 1\\right)$"
      ],
      "text/plain": [
       "1/3*x^3 + 2/5*sqrt(5)*log((2*x - sqrt(5) + 1)/(2*x + sqrt(5) + 1)) + 2*x - log(x^2 + x - 1) + log(x - 1)"
      ]
     },
     "execution_count": 40,
     "metadata": {},
     "output_type": "execute_result"
    }
   ],
   "source": [
    "integrate(x^5/(x^3 - 2*x + 1), x) "
   ]
  },
  {
   "cell_type": "markdown",
   "metadata": {},
   "source": [
    "and of course definite integrals: it suffices to provide the two boundaries after the argument `x`. A first attempt with 0 and 1 fails:"
   ]
  },
  {
   "cell_type": "code",
   "execution_count": 41,
   "metadata": {},
   "outputs": [],
   "source": [
    "# integrate(x^5/(x^3 - 2*x + 1), x, 0, 1)"
   ]
  },
  {
   "cell_type": "markdown",
   "metadata": {},
   "source": [
    "**Don't panic:** error messages are usually long because they display the whole call stack. The important information lies at the end:\n",
    "```\n",
    "ValueError: Integral is divergent\n",
    "```"
   ]
  },
  {
   "cell_type": "markdown",
   "metadata": {},
   "source": [
    "Choosing the boundaries to be 2 and 3 yields a convergent integral:"
   ]
  },
  {
   "cell_type": "code",
   "execution_count": 42,
   "metadata": {},
   "outputs": [
    {
     "data": {
      "text/html": [
       "<html>\\(\\displaystyle \\frac{2}{5} \\, \\sqrt{5} \\log\\left(-\\frac{7}{22} \\, \\sqrt{5} + \\frac{27}{22}\\right) - \\frac{2}{5} \\, \\sqrt{5} \\log\\left(-\\frac{1}{2} \\, \\sqrt{5} + \\frac{3}{2}\\right) - \\log\\left(11\\right) + \\log\\left(5\\right) + \\log\\left(2\\right) + \\frac{25}{3}\\)</html>"
      ],
      "text/latex": [
       "$\\displaystyle \\frac{2}{5} \\, \\sqrt{5} \\log\\left(-\\frac{7}{22} \\, \\sqrt{5} + \\frac{27}{22}\\right) - \\frac{2}{5} \\, \\sqrt{5} \\log\\left(-\\frac{1}{2} \\, \\sqrt{5} + \\frac{3}{2}\\right) - \\log\\left(11\\right) + \\log\\left(5\\right) + \\log\\left(2\\right) + \\frac{25}{3}$"
      ],
      "text/plain": [
       "2/5*sqrt(5)*log(-7/22*sqrt(5) + 27/22) - 2/5*sqrt(5)*log(-1/2*sqrt(5) + 3/2) - log(11) + log(5) + log(2) + 25/3"
      ]
     },
     "execution_count": 42,
     "metadata": {},
     "output_type": "execute_result"
    }
   ],
   "source": [
    "integrate(x^5/(x^3 - 2*x + 1), x, 2, 3)"
   ]
  },
  {
   "cell_type": "code",
   "execution_count": 43,
   "metadata": {},
   "outputs": [
    {
     "data": {
      "text/html": [
       "<html>\\(\\displaystyle 8.50669189170048\\)</html>"
      ],
      "text/latex": [
       "$\\displaystyle 8.50669189170048$"
      ],
      "text/plain": [
       "8.50669189170048"
      ]
     },
     "execution_count": 43,
     "metadata": {},
     "output_type": "execute_result"
    }
   ],
   "source": [
    "n(_)  # numerical approximation of the above result"
   ]
  },
  {
   "cell_type": "markdown",
   "metadata": {},
   "source": [
    "SageMath proposes various symbolic engines to evaluate a primitive. The default one is [Maxima](https://maxima.sourceforge.io/):"
   ]
  },
  {
   "cell_type": "code",
   "execution_count": 44,
   "metadata": {},
   "outputs": [
    {
     "data": {
      "text/html": [
       "<html>\\(\\displaystyle \\frac{1}{3} \\, x^{3} + \\frac{2}{5} \\, \\sqrt{5} \\log\\left(\\frac{2 \\, x - \\sqrt{5} + 1}{2 \\, x + \\sqrt{5} + 1}\\right) + 2 \\, x - \\log\\left(x^{2} + x - 1\\right) + \\log\\left(x - 1\\right)\\)</html>"
      ],
      "text/latex": [
       "$\\displaystyle \\frac{1}{3} \\, x^{3} + \\frac{2}{5} \\, \\sqrt{5} \\log\\left(\\frac{2 \\, x - \\sqrt{5} + 1}{2 \\, x + \\sqrt{5} + 1}\\right) + 2 \\, x - \\log\\left(x^{2} + x - 1\\right) + \\log\\left(x - 1\\right)$"
      ],
      "text/plain": [
       "1/3*x^3 + 2/5*sqrt(5)*log((2*x - sqrt(5) + 1)/(2*x + sqrt(5) + 1)) + 2*x - log(x^2 + x - 1) + log(x - 1)"
      ]
     },
     "execution_count": 44,
     "metadata": {},
     "output_type": "execute_result"
    }
   ],
   "source": [
    "integrate(x^5/(x^3 - 2*x + 1), x, algorithm='maxima')  # same result as above"
   ]
  },
  {
   "cell_type": "markdown",
   "metadata": {},
   "source": [
    "but [SymPy](https://www.sympy.org) is also available:"
   ]
  },
  {
   "cell_type": "code",
   "execution_count": 45,
   "metadata": {},
   "outputs": [
    {
     "data": {
      "text/html": [
       "<html>\\(\\displaystyle \\frac{1}{3} \\, x^{3} - \\frac{1}{5} \\, {\\left(2 \\, \\sqrt{5} + 5\\right)} \\log\\left(\\frac{1}{80} \\, {\\left(2 \\, \\sqrt{5} + 5\\right)}^{2} + x + \\frac{1}{4} \\, \\sqrt{5} - \\frac{1}{16}\\right) + \\frac{1}{5} \\, {\\left(2 \\, \\sqrt{5} - 5\\right)} \\log\\left(\\frac{1}{80} \\, {\\left(2 \\, \\sqrt{5} - 5\\right)}^{2} + x - \\frac{1}{4} \\, \\sqrt{5} - \\frac{1}{16}\\right) + 2 \\, x + \\log\\left(x - 1\\right)\\)</html>"
      ],
      "text/latex": [
       "$\\displaystyle \\frac{1}{3} \\, x^{3} - \\frac{1}{5} \\, {\\left(2 \\, \\sqrt{5} + 5\\right)} \\log\\left(\\frac{1}{80} \\, {\\left(2 \\, \\sqrt{5} + 5\\right)}^{2} + x + \\frac{1}{4} \\, \\sqrt{5} - \\frac{1}{16}\\right) + \\frac{1}{5} \\, {\\left(2 \\, \\sqrt{5} - 5\\right)} \\log\\left(\\frac{1}{80} \\, {\\left(2 \\, \\sqrt{5} - 5\\right)}^{2} + x - \\frac{1}{4} \\, \\sqrt{5} - \\frac{1}{16}\\right) + 2 \\, x + \\log\\left(x - 1\\right)$"
      ],
      "text/plain": [
       "1/3*x^3 - 1/5*(2*sqrt(5) + 5)*log(1/80*(2*sqrt(5) + 5)^2 + x + 1/4*sqrt(5) - 1/16) + 1/5*(2*sqrt(5) - 5)*log(1/80*(2*sqrt(5) - 5)^2 + x - 1/4*sqrt(5) - 1/16) + 2*x + log(x - 1)"
      ]
     },
     "execution_count": 45,
     "metadata": {},
     "output_type": "execute_result"
    }
   ],
   "source": [
    "integrate(x^5/(x^3 - 2*x + 1), x, algorithm='sympy')"
   ]
  },
  {
   "cell_type": "markdown",
   "metadata": {},
   "source": [
    "as well as [Giac](https://www-fourier.ujf-grenoble.fr/~parisse/giac.html): "
   ]
  },
  {
   "cell_type": "code",
   "execution_count": 46,
   "metadata": {},
   "outputs": [
    {
     "data": {
      "text/html": [
       "<html>\\(\\displaystyle \\frac{1}{3} \\, x^{3} + \\frac{2}{5} \\, \\sqrt{5} \\log\\left(\\frac{{\\left| 2 \\, x - \\sqrt{5} + 1 \\right|}}{{\\left| 2 \\, x + \\sqrt{5} + 1 \\right|}}\\right) + 2 \\, x - \\log\\left({\\left| x^{2} + x - 1 \\right|}\\right) + \\log\\left({\\left| x - 1 \\right|}\\right)\\)</html>"
      ],
      "text/latex": [
       "$\\displaystyle \\frac{1}{3} \\, x^{3} + \\frac{2}{5} \\, \\sqrt{5} \\log\\left(\\frac{{\\left| 2 \\, x - \\sqrt{5} + 1 \\right|}}{{\\left| 2 \\, x + \\sqrt{5} + 1 \\right|}}\\right) + 2 \\, x - \\log\\left({\\left| x^{2} + x - 1 \\right|}\\right) + \\log\\left({\\left| x - 1 \\right|}\\right)$"
      ],
      "text/plain": [
       "1/3*x^3 + 2/5*sqrt(5)*log(abs(2*x - sqrt(5) + 1)/abs(2*x + sqrt(5) + 1)) + 2*x - log(abs(x^2 + x - 1)) + log(abs(x - 1))"
      ]
     },
     "execution_count": 46,
     "metadata": {},
     "output_type": "execute_result"
    }
   ],
   "source": [
    "integrate(x^5/(x^3-2*x+1), x, algorithm='giac')"
   ]
  },
  {
   "cell_type": "markdown",
   "metadata": {},
   "source": [
    "One can even use [WolframAlpha](https://www.wolframalpha.com/calculators/integral-calculator/) via some internet connection:"
   ]
  },
  {
   "cell_type": "code",
   "execution_count": 47,
   "metadata": {},
   "outputs": [
    {
     "data": {
      "text/html": [
       "<html>\\(\\displaystyle \\frac{1}{3} \\, x^{3} - \\frac{1}{5} \\, {\\left(2 \\, \\sqrt{5} + 5\\right)} \\log\\left(2 \\, x + \\sqrt{5} + 1\\right) + \\frac{1}{5} \\, {\\left(2 \\, \\sqrt{5} - 5\\right)} \\log\\left(-2 \\, x + \\sqrt{5} - 1\\right) + 2 \\, x + \\log\\left(-x + 1\\right)\\)</html>"
      ],
      "text/latex": [
       "$\\displaystyle \\frac{1}{3} \\, x^{3} - \\frac{1}{5} \\, {\\left(2 \\, \\sqrt{5} + 5\\right)} \\log\\left(2 \\, x + \\sqrt{5} + 1\\right) + \\frac{1}{5} \\, {\\left(2 \\, \\sqrt{5} - 5\\right)} \\log\\left(-2 \\, x + \\sqrt{5} - 1\\right) + 2 \\, x + \\log\\left(-x + 1\\right)$"
      ],
      "text/plain": [
       "1/3*x^3 - 1/5*(2*sqrt(5) + 5)*log(2*x + sqrt(5) + 1) + 1/5*(2*sqrt(5) - 5)*log(-2*x + sqrt(5) - 1) + 2*x + log(-x + 1)"
      ]
     },
     "execution_count": 47,
     "metadata": {},
     "output_type": "execute_result"
    }
   ],
   "source": [
    "integrate(x^5/(x^3-2*x+1), x, algorithm='mathematica_free')"
   ]
  },
  {
   "cell_type": "markdown",
   "metadata": {},
   "source": [
    "Actually SageMath has some interface to Mathematica:"
   ]
  },
  {
   "cell_type": "code",
   "execution_count": 48,
   "metadata": {},
   "outputs": [
    {
     "data": {
      "text/html": [
       "<html>\\(\\displaystyle \\verb|Cos[(x)^(2)]|\\)</html>"
      ],
      "text/latex": [
       "$\\displaystyle \\verb|Cos[(x)^(2)]|$"
      ],
      "text/plain": [
       "'Cos[(x)^(2)]'"
      ]
     },
     "execution_count": 48,
     "metadata": {},
     "output_type": "execute_result"
    }
   ],
   "source": [
    "cos(x^2)._mathematica_init_()"
   ]
  },
  {
   "cell_type": "markdown",
   "metadata": {},
   "source": [
    "as well as to SymPy, Maxima and Giac:"
   ]
  },
  {
   "cell_type": "code",
   "execution_count": 49,
   "metadata": {},
   "outputs": [
    {
     "data": {
      "text/html": [
       "<html>\\(\\displaystyle \\verb|cos(x**2)|\\)</html>"
      ],
      "text/latex": [
       "$\\displaystyle \\verb|cos(x**2)|$"
      ],
      "text/plain": [
       "cos(x**2)"
      ]
     },
     "execution_count": 49,
     "metadata": {},
     "output_type": "execute_result"
    }
   ],
   "source": [
    "cos(x^2)._sympy_()"
   ]
  },
  {
   "cell_type": "code",
   "execution_count": 50,
   "metadata": {},
   "outputs": [
    {
     "name": "stdout",
     "output_type": "stream",
     "text": [
      "                                              2\n",
      "                               cos(_SAGE_VAR_x )\n"
     ]
    }
   ],
   "source": [
    "print(cos(x^2)._maxima_())"
   ]
  },
  {
   "cell_type": "code",
   "execution_count": 51,
   "metadata": {},
   "outputs": [
    {
     "data": {
      "text/html": [
       "<html>\\(\\displaystyle \\cos \\left(\\mathrm{sageVARx}^{2}\\right)\\)</html>"
      ],
      "text/latex": [
       "$\\displaystyle \\cos \\left(\\mathrm{sageVARx}^{2}\\right)$"
      ],
      "text/plain": [
       "cos(sageVARx^2)"
      ]
     },
     "execution_count": 51,
     "metadata": {},
     "output_type": "execute_result"
    }
   ],
   "source": [
    "cos(x^2)._giac_()"
   ]
  },
  {
   "cell_type": "markdown",
   "metadata": {},
   "source": [
    "Let us check the primitive computation:"
   ]
  },
  {
   "cell_type": "code",
   "execution_count": 52,
   "metadata": {},
   "outputs": [
    {
     "data": {
      "text/html": [
       "<html>\\(\\displaystyle \\frac{1}{3} \\, x^{3} + \\frac{2}{5} \\, \\sqrt{5} \\log\\left(\\frac{2 \\, x - \\sqrt{5} + 1}{2 \\, x + \\sqrt{5} + 1}\\right) + 2 \\, x - \\log\\left(x^{2} + x - 1\\right) + \\log\\left(x - 1\\right)\\)</html>"
      ],
      "text/latex": [
       "$\\displaystyle \\frac{1}{3} \\, x^{3} + \\frac{2}{5} \\, \\sqrt{5} \\log\\left(\\frac{2 \\, x - \\sqrt{5} + 1}{2 \\, x + \\sqrt{5} + 1}\\right) + 2 \\, x - \\log\\left(x^{2} + x - 1\\right) + \\log\\left(x - 1\\right)$"
      ],
      "text/plain": [
       "1/3*x^3 + 2/5*sqrt(5)*log((2*x - sqrt(5) + 1)/(2*x + sqrt(5) + 1)) + 2*x - log(x^2 + x - 1) + log(x - 1)"
      ]
     },
     "execution_count": 52,
     "metadata": {},
     "output_type": "execute_result"
    }
   ],
   "source": [
    "f = integrate(x^5/(x^3-2*x+1), x) \n",
    "f"
   ]
  },
  {
   "cell_type": "code",
   "execution_count": 53,
   "metadata": {},
   "outputs": [
    {
     "data": {
      "text/html": [
       "<html>\\(\\displaystyle x^{2} + \\frac{4 \\, \\sqrt{5} {\\left(2 \\, x + \\sqrt{5} + 1\\right)} {\\left(\\frac{1}{2 \\, x + \\sqrt{5} + 1} - \\frac{2 \\, x - \\sqrt{5} + 1}{{\\left(2 \\, x + \\sqrt{5} + 1\\right)}^{2}}\\right)}}{5 \\, {\\left(2 \\, x - \\sqrt{5} + 1\\right)}} - \\frac{2 \\, x + 1}{x^{2} + x - 1} + \\frac{1}{x - 1} + 2\\)</html>"
      ],
      "text/latex": [
       "$\\displaystyle x^{2} + \\frac{4 \\, \\sqrt{5} {\\left(2 \\, x + \\sqrt{5} + 1\\right)} {\\left(\\frac{1}{2 \\, x + \\sqrt{5} + 1} - \\frac{2 \\, x - \\sqrt{5} + 1}{{\\left(2 \\, x + \\sqrt{5} + 1\\right)}^{2}}\\right)}}{5 \\, {\\left(2 \\, x - \\sqrt{5} + 1\\right)}} - \\frac{2 \\, x + 1}{x^{2} + x - 1} + \\frac{1}{x - 1} + 2$"
      ],
      "text/plain": [
       "x^2 + 4/5*sqrt(5)*(2*x + sqrt(5) + 1)*(1/(2*x + sqrt(5) + 1) - (2*x - sqrt(5) + 1)/(2*x + sqrt(5) + 1)^2)/(2*x - sqrt(5) + 1) - (2*x + 1)/(x^2 + x - 1) + 1/(x - 1) + 2"
      ]
     },
     "execution_count": 53,
     "metadata": {},
     "output_type": "execute_result"
    }
   ],
   "source": [
    "diff(f, x)"
   ]
  },
  {
   "cell_type": "code",
   "execution_count": 54,
   "metadata": {},
   "outputs": [
    {
     "data": {
      "text/html": [
       "<html>\\(\\displaystyle \\frac{x^{5}}{x^{3} - 2 \\, x + 1}\\)</html>"
      ],
      "text/latex": [
       "$\\displaystyle \\frac{x^{5}}{x^{3} - 2 \\, x + 1}$"
      ],
      "text/plain": [
       "x^5/(x^3 - 2*x + 1)"
      ]
     },
     "execution_count": 54,
     "metadata": {},
     "output_type": "execute_result"
    }
   ],
   "source": [
    "_.simplify_full()"
   ]
  },
  {
   "cell_type": "markdown",
   "metadata": {},
   "source": [
    "Indefinite integrals can also be computed:"
   ]
  },
  {
   "cell_type": "code",
   "execution_count": 55,
   "metadata": {},
   "outputs": [
    {
     "data": {
      "text/html": [
       "<html>\\(\\displaystyle \\sqrt{\\pi}\\)</html>"
      ],
      "text/latex": [
       "$\\displaystyle \\sqrt{\\pi}$"
      ],
      "text/plain": [
       "sqrt(pi)"
      ]
     },
     "execution_count": 55,
     "metadata": {},
     "output_type": "execute_result"
    }
   ],
   "source": [
    "integrate(exp(-x^2), x, -oo, +oo)"
   ]
  },
  {
   "cell_type": "markdown",
   "metadata": {},
   "source": [
    "### Other examples of symbolic computations: \n",
    "\n",
    "- Taylor expansions:"
   ]
  },
  {
   "cell_type": "code",
   "execution_count": 56,
   "metadata": {},
   "outputs": [
    {
     "data": {
      "text/html": [
       "<html>\\(\\displaystyle \\frac{1}{40320} \\, x^{8} + \\frac{1}{5040} \\, x^{7} + \\frac{1}{720} \\, x^{6} + \\frac{1}{120} \\, x^{5} + \\frac{1}{24} \\, x^{4} + \\frac{1}{6} \\, x^{3} + \\frac{1}{2} \\, x^{2} + x + 1\\)</html>"
      ],
      "text/latex": [
       "$\\displaystyle \\frac{1}{40320} \\, x^{8} + \\frac{1}{5040} \\, x^{7} + \\frac{1}{720} \\, x^{6} + \\frac{1}{120} \\, x^{5} + \\frac{1}{24} \\, x^{4} + \\frac{1}{6} \\, x^{3} + \\frac{1}{2} \\, x^{2} + x + 1$"
      ],
      "text/plain": [
       "1/40320*x^8 + 1/5040*x^7 + 1/720*x^6 + 1/120*x^5 + 1/24*x^4 + 1/6*x^3 + 1/2*x^2 + x + 1"
      ]
     },
     "execution_count": 56,
     "metadata": {},
     "output_type": "execute_result"
    }
   ],
   "source": [
    "exp(x).taylor(x, 0, 8)"
   ]
  },
  {
   "cell_type": "markdown",
   "metadata": {},
   "source": [
    "- limits:"
   ]
  },
  {
   "cell_type": "code",
   "execution_count": 57,
   "metadata": {},
   "outputs": [
    {
     "data": {
      "text/html": [
       "<html>\\(\\displaystyle 1\\)</html>"
      ],
      "text/latex": [
       "$\\displaystyle 1$"
      ],
      "text/plain": [
       "1"
      ]
     },
     "execution_count": 57,
     "metadata": {},
     "output_type": "execute_result"
    }
   ],
   "source": [
    "lim(sin(x)/x, x=0)"
   ]
  },
  {
   "cell_type": "markdown",
   "metadata": {},
   "source": [
    "- series: Riemann's zeta function $\\zeta(s)$ for $s=2$ and $s=3$ (Apéry's constant):"
   ]
  },
  {
   "cell_type": "code",
   "execution_count": 58,
   "metadata": {},
   "outputs": [
    {
     "data": {
      "text/html": [
       "<html>\\(\\displaystyle {\\sum_{n=1}^{+\\infty} \\frac{1}{n^{2}}} = \\frac{1}{6} \\, \\pi^{2}\\)</html>"
      ],
      "text/latex": [
       "$\\displaystyle {\\sum_{n=1}^{+\\infty} \\frac{1}{n^{2}}} = \\frac{1}{6} \\, \\pi^{2}$"
      ],
      "text/plain": [
       "sum(n^(-2), n, 1, +Infinity) == 1/6*pi^2"
      ]
     },
     "execution_count": 58,
     "metadata": {},
     "output_type": "execute_result"
    }
   ],
   "source": [
    "n = var('n')  # declaring n as a symbolic variable\n",
    "sum(1/n^2, n, 1, +oo, hold=True) == sum(1/n^2, n, 1, +oo)"
   ]
  },
  {
   "cell_type": "code",
   "execution_count": 59,
   "metadata": {},
   "outputs": [
    {
     "data": {
      "text/html": [
       "<html>\\(\\displaystyle \\zeta(3)\\)</html>"
      ],
      "text/latex": [
       "$\\displaystyle \\zeta(3)$"
      ],
      "text/plain": [
       "zeta(3)"
      ]
     },
     "execution_count": 59,
     "metadata": {},
     "output_type": "execute_result"
    }
   ],
   "source": [
    "sum(1/n^3, n, 1, +oo)"
   ]
  },
  {
   "cell_type": "code",
   "execution_count": 60,
   "metadata": {
    "tags": []
   },
   "outputs": [
    {
     "data": {
      "text/html": [
       "<html>\\(\\displaystyle 1.20205690315959\\)</html>"
      ],
      "text/latex": [
       "$\\displaystyle 1.20205690315959$"
      ],
      "text/plain": [
       "1.20205690315959"
      ]
     },
     "execution_count": 60,
     "metadata": {},
     "output_type": "execute_result"
    }
   ],
   "source": [
    "numerical_approx(_)"
   ]
  },
  {
   "cell_type": "markdown",
   "metadata": {},
   "source": [
    "Of course, as many standard functions, Riemann's zeta function is already implemented in SageMath:"
   ]
  },
  {
   "cell_type": "code",
   "execution_count": 61,
   "metadata": {},
   "outputs": [],
   "source": [
    "#zeta?"
   ]
  },
  {
   "cell_type": "code",
   "execution_count": 62,
   "metadata": {},
   "outputs": [
    {
     "data": {
      "text/html": [
       "<html>\\(\\displaystyle \\frac{1}{6} \\, \\pi^{2}\\)</html>"
      ],
      "text/latex": [
       "$\\displaystyle \\frac{1}{6} \\, \\pi^{2}$"
      ],
      "text/plain": [
       "1/6*pi^2"
      ]
     },
     "execution_count": 62,
     "metadata": {},
     "output_type": "execute_result"
    }
   ],
   "source": [
    "zeta(2)"
   ]
  },
  {
   "cell_type": "markdown",
   "metadata": {},
   "source": [
    "- Solving an equation:"
   ]
  },
  {
   "cell_type": "code",
   "execution_count": 63,
   "metadata": {},
   "outputs": [
    {
     "data": {
      "text/html": [
       "<html>\\(\\displaystyle \\left[x = -\\frac{1}{2} \\, \\sqrt{5} + \\frac{1}{2}, x = \\frac{1}{2} \\, \\sqrt{5} + \\frac{1}{2}\\right]\\)</html>"
      ],
      "text/latex": [
       "$\\displaystyle \\left[x = -\\frac{1}{2} \\, \\sqrt{5} + \\frac{1}{2}, x = \\frac{1}{2} \\, \\sqrt{5} + \\frac{1}{2}\\right]$"
      ],
      "text/plain": [
       "[x == -1/2*sqrt(5) + 1/2, x == 1/2*sqrt(5) + 1/2]"
      ]
     },
     "execution_count": 63,
     "metadata": {},
     "output_type": "execute_result"
    }
   ],
   "source": [
    "solve(x^2 == x + 1, x)"
   ]
  },
  {
   "cell_type": "markdown",
   "metadata": {},
   "source": [
    "- Solving a differential equation:"
   ]
  },
  {
   "cell_type": "code",
   "execution_count": 64,
   "metadata": {},
   "outputs": [
    {
     "data": {
      "text/html": [
       "<html>\\(\\displaystyle -y\\left(x\\right) + \\frac{\\partial}{\\partial x}y\\left(x\\right) = x y\\left(x\\right)^{4}\\)</html>"
      ],
      "text/latex": [
       "$\\displaystyle -y\\left(x\\right) + \\frac{\\partial}{\\partial x}y\\left(x\\right) = x y\\left(x\\right)^{4}$"
      ],
      "text/plain": [
       "-y(x) + diff(y(x), x) == x*y(x)^4"
      ]
     },
     "execution_count": 64,
     "metadata": {},
     "output_type": "execute_result"
    }
   ],
   "source": [
    "y = function('y')\n",
    "eq = diff(y(x), x) - y(x) == x*y(x)^4\n",
    "eq"
   ]
  },
  {
   "cell_type": "code",
   "execution_count": 65,
   "metadata": {},
   "outputs": [
    {
     "data": {
      "text/html": [
       "<html>\\(\\displaystyle \\frac{e^{x}}{{\\left(-\\frac{1}{3} \\, {\\left(3 \\, x - 1\\right)} e^{\\left(3 \\, x\\right)} + C\\right)}^{\\frac{1}{3}}}\\)</html>"
      ],
      "text/latex": [
       "$\\displaystyle \\frac{e^{x}}{{\\left(-\\frac{1}{3} \\, {\\left(3 \\, x - 1\\right)} e^{\\left(3 \\, x\\right)} + C\\right)}^{\\frac{1}{3}}}$"
      ],
      "text/plain": [
       "e^x/(-1/3*(3*x - 1)*e^(3*x) + _C)^(1/3)"
      ]
     },
     "execution_count": 65,
     "metadata": {},
     "output_type": "execute_result"
    }
   ],
   "source": [
    "desolve(eq, y(x))"
   ]
  },
  {
   "cell_type": "markdown",
   "metadata": {},
   "source": [
    "## The power of Python"
   ]
  },
  {
   "cell_type": "markdown",
   "metadata": {},
   "source": [
    "Finally, to illustrate the advantage of being built atop of Python, here is a loop for displaying Pascal's triangle with only two instruction lines:"
   ]
  },
  {
   "cell_type": "code",
   "execution_count": 66,
   "metadata": {
    "tags": []
   },
   "outputs": [
    {
     "name": "stdout",
     "output_type": "stream",
     "text": [
      "[1]\n",
      "[1, 1]\n",
      "[1, 2, 1]\n",
      "[1, 3, 3, 1]\n",
      "[1, 4, 6, 4, 1]\n",
      "[1, 5, 10, 10, 5, 1]\n",
      "[1, 6, 15, 20, 15, 6, 1]\n",
      "[1, 7, 21, 35, 35, 21, 7, 1]\n",
      "[1, 8, 28, 56, 70, 56, 28, 8, 1]\n",
      "[1, 9, 36, 84, 126, 126, 84, 36, 9, 1]\n"
     ]
    }
   ],
   "source": [
    "for n in range(10): \n",
    "    print([binomial(n, p) for p in range(n+1)])"
   ]
  },
  {
   "cell_type": "markdown",
   "metadata": {},
   "source": [
    "## Next step:\n",
    "\n",
    "### Plots and functions in SageMath"
   ]
  },
  {
   "cell_type": "code",
   "execution_count": 67,
   "metadata": {},
   "outputs": [
    {
     "data": {
      "image/png": "[encoded data removed]",
      "text/plain": [
       "Graphics object consisting of 1 graphics primitive"
      ]
     },
     "execution_count": 67,
     "metadata": {},
     "output_type": "execute_result"
    }
   ],
   "source": [
    "plot(sin(x^2), (x, 0, 4), axes_labels=['$x$', '$y$'])"
   ]
  },
  {
   "cell_type": "markdown",
   "metadata": {},
   "source": [
    "See the dedicated [notebook](https://nbviewer.org/github/egourgoulhon/SageMathTour/blob/master/Notebooks/plot_tour_2D.ipynb)."
   ]
  }
 ],
 "metadata": {
  "kernelspec": {
   "display_name": "SageMath 9.6.beta4",
   "language": "sage",
   "name": "sagemath"
  },
  "language": "python",
  "language_info": {
   "codemirror_mode": {
    "name": "ipython",
    "version": 3
   },
   "file_extension": ".py",
   "mimetype": "text/x-python",
   "name": "python",
   "nbconvert_exporter": "python",
   "pygments_lexer": "ipython3",
   "version": "3.8.10"
  },
  "widgets": {
   "state": {},
   "version": "1.1.2"
  }
 },
 "nbformat": 4,
 "nbformat_minor": 4
}
